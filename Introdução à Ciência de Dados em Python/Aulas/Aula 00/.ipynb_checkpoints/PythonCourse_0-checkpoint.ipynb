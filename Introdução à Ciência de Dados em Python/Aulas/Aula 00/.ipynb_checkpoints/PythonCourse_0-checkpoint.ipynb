{
 "cells": [
  {
   "cell_type": "markdown",
   "id": "2069470b-c336-411f-a8f4-f02535ce8c67",
   "metadata": {},
   "source": [
    "## Data Types\n",
    "### Numbers"
   ]
  },
  {
   "cell_type": "code",
   "execution_count": 1,
   "id": "8f7bbba1-b01b-4f94-95f4-48a862bdd8cd",
   "metadata": {},
   "outputs": [
    {
     "data": {
      "text/plain": [
       "2"
      ]
     },
     "execution_count": 1,
     "metadata": {},
     "output_type": "execute_result"
    }
   ],
   "source": [
    "1 + 1"
   ]
  },
  {
   "cell_type": "code",
   "execution_count": 2,
   "id": "9bd357aa-90d7-42cd-a2c7-9d0fb707df4c",
   "metadata": {},
   "outputs": [
    {
     "data": {
      "text/plain": [
       "6"
      ]
     },
     "execution_count": 2,
     "metadata": {},
     "output_type": "execute_result"
    }
   ],
   "source": [
    "2 * 3"
   ]
  },
  {
   "cell_type": "code",
   "execution_count": 3,
   "id": "3b93c188-baad-4478-8715-9587e71e1f54",
   "metadata": {},
   "outputs": [
    {
     "data": {
      "text/plain": [
       "0.5"
      ]
     },
     "execution_count": 3,
     "metadata": {},
     "output_type": "execute_result"
    }
   ],
   "source": [
    "1 / 2"
   ]
  },
  {
   "cell_type": "code",
   "execution_count": 5,
   "id": "7b2b465c-cd2d-4d0c-b51f-848eba73fc09",
   "metadata": {},
   "outputs": [
    {
     "data": {
      "text/plain": [
       "32"
      ]
     },
     "execution_count": 5,
     "metadata": {},
     "output_type": "execute_result"
    }
   ],
   "source": [
    "2 ** 4"
   ]
  },
  {
   "cell_type": "code",
   "execution_count": 6,
   "id": "ce28ecca-44fe-4912-9c56-44f8bd97a896",
   "metadata": {},
   "outputs": [
    {
     "data": {
      "text/plain": [
       "1"
      ]
     },
     "execution_count": 6,
     "metadata": {},
     "output_type": "execute_result"
    }
   ],
   "source": [
    "4 % 3"
   ]
  },
  {
   "cell_type": "code",
   "execution_count": 7,
   "id": "1b600228-ea37-450d-bc12-8d3eda4b0f55",
   "metadata": {},
   "outputs": [
    {
     "data": {
      "text/plain": [
       "0"
      ]
     },
     "execution_count": 7,
     "metadata": {},
     "output_type": "execute_result"
    }
   ],
   "source": [
    "4 % 2"
   ]
  },
  {
   "cell_type": "code",
   "execution_count": 8,
   "id": "bab800d9-a6af-4b14-9786-11e369abb99d",
   "metadata": {},
   "outputs": [
    {
     "data": {
      "text/plain": [
       "50"
      ]
     },
     "execution_count": 8,
     "metadata": {},
     "output_type": "execute_result"
    }
   ],
   "source": [
    "(2 + 3) * (5+5)"
   ]
  },
  {
   "cell_type": "markdown",
   "id": "bf52a52d-655b-4963-aeea-80d01d624c30",
   "metadata": {},
   "source": [
    "### Variable Assignment"
   ]
  },
  {
   "cell_type": "code",
   "execution_count": 13,
   "id": "eb73ed7c-ddba-4337-b1f8-9072557ad89d",
   "metadata": {},
   "outputs": [],
   "source": [
    "# Can not star with nomber of sprecial characters\n",
    "name_of_var = 2"
   ]
  },
  {
   "cell_type": "code",
   "execution_count": 16,
   "id": "c7245a60-14ed-4255-893f-7f11eb4f74c7",
   "metadata": {},
   "outputs": [],
   "source": [
    "x = 2\n",
    "y = 3"
   ]
  },
  {
   "cell_type": "code",
   "execution_count": 17,
   "id": "6ad3f8ff-ac0e-4dff-92c8-527b8e27cb25",
   "metadata": {},
   "outputs": [],
   "source": [
    "z = x + y"
   ]
  },
  {
   "cell_type": "code",
   "execution_count": 18,
   "id": "104545d8-0910-4da1-9f3f-574404e9350b",
   "metadata": {},
   "outputs": [
    {
     "data": {
      "text/plain": [
       "5"
      ]
     },
     "execution_count": 18,
     "metadata": {},
     "output_type": "execute_result"
    }
   ],
   "source": [
    "z"
   ]
  },
  {
   "cell_type": "markdown",
   "id": "05aa9b62-54c4-4126-9b36-4ad7b1aab027",
   "metadata": {},
   "source": [
    "### Strings"
   ]
  },
  {
   "cell_type": "code",
   "execution_count": 19,
   "id": "ac21f017-44ca-40e3-8788-98e92e15a0a0",
   "metadata": {},
   "outputs": [
    {
     "data": {
      "text/plain": [
       "'single quotes'"
      ]
     },
     "execution_count": 19,
     "metadata": {},
     "output_type": "execute_result"
    }
   ],
   "source": [
    "'single quotes'"
   ]
  },
  {
   "cell_type": "code",
   "execution_count": 23,
   "id": "1cdbaf2d-c101-4923-b1ef-270fa674679e",
   "metadata": {},
   "outputs": [
    {
     "data": {
      "text/plain": [
       "\" 'double quotes' \""
      ]
     },
     "execution_count": 23,
     "metadata": {},
     "output_type": "execute_result"
    }
   ],
   "source": [
    "\" 'double quotes' \""
   ]
  },
  {
   "cell_type": "code",
   "execution_count": 21,
   "id": "b8cbc1bb-f420-4111-8f9c-5397b7a01798",
   "metadata": {},
   "outputs": [
    {
     "data": {
      "text/plain": [
       "\"wrap lot's of other quotes\""
      ]
     },
     "execution_count": 21,
     "metadata": {},
     "output_type": "execute_result"
    }
   ],
   "source": [
    "\"wrap lot's of other quotes\""
   ]
  },
  {
   "cell_type": "markdown",
   "id": "7ec12d86-7b7c-482d-bd52-17441daf9b90",
   "metadata": {},
   "source": [
    "### Printing"
   ]
  },
  {
   "cell_type": "code",
   "execution_count": 24,
   "id": "c41a9c75-f939-4829-aaa5-76217c5021ba",
   "metadata": {},
   "outputs": [],
   "source": [
    "x = 'hello world'"
   ]
  },
  {
   "cell_type": "code",
   "execution_count": 25,
   "id": "ac796634-f43b-41e1-a842-df0b25d68aab",
   "metadata": {},
   "outputs": [
    {
     "data": {
      "text/plain": [
       "'hello world'"
      ]
     },
     "execution_count": 25,
     "metadata": {},
     "output_type": "execute_result"
    }
   ],
   "source": [
    "x"
   ]
  },
  {
   "cell_type": "code",
   "execution_count": 26,
   "id": "9832d924-bb00-463d-8126-47062da8c9a2",
   "metadata": {},
   "outputs": [
    {
     "name": "stdout",
     "output_type": "stream",
     "text": [
      "hello world\n"
     ]
    }
   ],
   "source": [
    "print(x)"
   ]
  },
  {
   "cell_type": "code",
   "execution_count": 79,
   "id": "5b46b3f8-49dd-4a1e-b4ae-117463a89cb7",
   "metadata": {},
   "outputs": [],
   "source": [
    "num = 12\n",
    "\n",
    "name='chloe'"
   ]
  },
  {
   "cell_type": "code",
   "execution_count": 83,
   "id": "032cae68-2c80-490f-931b-a8ce9a2a0285",
   "metadata": {},
   "outputs": [
    {
     "data": {
      "text/plain": [
       "'chloe'"
      ]
     },
     "execution_count": 83,
     "metadata": {},
     "output_type": "execute_result"
    }
   ],
   "source": [
    "name"
   ]
  },
  {
   "cell_type": "code",
   "execution_count": 86,
   "id": "d1c4c6e1-a730-492d-a077-2b2f2b61e268",
   "metadata": {},
   "outputs": [
    {
     "name": "stdout",
     "output_type": "stream",
     "text": [
      "My number is: 12, and my name is: chloe\n"
     ]
    }
   ],
   "source": [
    "print('My number is: {}, and my name is: {}'.format(num,name))"
   ]
  },
  {
   "cell_type": "markdown",
   "id": "a0f6f541-9c7b-43ba-a1ae-40775d569491",
   "metadata": {},
   "source": [
    "### Lists\n"
   ]
  },
  {
   "cell_type": "code",
   "execution_count": 36,
   "id": "fccc1c8d-1584-4553-95c5-19f988445014",
   "metadata": {},
   "outputs": [
    {
     "data": {
      "text/plain": [
       "[1, 2, 3]"
      ]
     },
     "execution_count": 36,
     "metadata": {},
     "output_type": "execute_result"
    }
   ],
   "source": [
    "[1,2,3]"
   ]
  },
  {
   "cell_type": "code",
   "execution_count": 37,
   "id": "1ecbfc4c-20ae-483e-a299-e62eb2f9af62",
   "metadata": {},
   "outputs": [
    {
     "data": {
      "text/plain": [
       "['hi', 2, 3]"
      ]
     },
     "execution_count": 37,
     "metadata": {},
     "output_type": "execute_result"
    }
   ],
   "source": [
    "['hi',2,3]"
   ]
  },
  {
   "cell_type": "code",
   "execution_count": 38,
   "id": "ba64d55a-e113-457a-a38e-cec1fb19e5ee",
   "metadata": {},
   "outputs": [],
   "source": [
    "my_list = ['a','b','c']"
   ]
  },
  {
   "cell_type": "code",
   "execution_count": 39,
   "id": "6bfaf1f6-b737-4824-83e7-32a5cd6d203b",
   "metadata": {},
   "outputs": [],
   "source": [
    "my_list.append('d')"
   ]
  },
  {
   "cell_type": "code",
   "execution_count": 40,
   "id": "924e8da4-80ae-4ac0-a92e-4889d9f950fc",
   "metadata": {},
   "outputs": [
    {
     "data": {
      "text/plain": [
       "['a', 'b', 'c', 'd']"
      ]
     },
     "execution_count": 40,
     "metadata": {},
     "output_type": "execute_result"
    }
   ],
   "source": [
    "my_list"
   ]
  },
  {
   "cell_type": "code",
   "execution_count": 41,
   "id": "54571750-ab6b-4127-bf8d-3a1e24739cd5",
   "metadata": {},
   "outputs": [
    {
     "data": {
      "text/plain": [
       "'a'"
      ]
     },
     "execution_count": 41,
     "metadata": {},
     "output_type": "execute_result"
    }
   ],
   "source": [
    "my_list[0]"
   ]
  },
  {
   "cell_type": "code",
   "execution_count": 43,
   "id": "382e9199-6a19-4460-9fab-117f8a0da2fe",
   "metadata": {},
   "outputs": [
    {
     "data": {
      "text/plain": [
       "['b', 'c', 'd']"
      ]
     },
     "execution_count": 43,
     "metadata": {},
     "output_type": "execute_result"
    }
   ],
   "source": [
    "my_list[1:]"
   ]
  },
  {
   "cell_type": "code",
   "execution_count": 44,
   "id": "3d41c6a3-565e-4956-bd50-592e3a995b4e",
   "metadata": {},
   "outputs": [
    {
     "data": {
      "text/plain": [
       "'d'"
      ]
     },
     "execution_count": 44,
     "metadata": {},
     "output_type": "execute_result"
    }
   ],
   "source": [
    "my_list[-1]"
   ]
  },
  {
   "cell_type": "code",
   "execution_count": 45,
   "id": "764e5ac0-a478-4e64-9828-60657801dc90",
   "metadata": {},
   "outputs": [
    {
     "data": {
      "text/plain": [
       "'d'"
      ]
     },
     "execution_count": 45,
     "metadata": {},
     "output_type": "execute_result"
    }
   ],
   "source": [
    "my_list[3]"
   ]
  },
  {
   "cell_type": "code",
   "execution_count": 51,
   "id": "0d77d335-f093-488c-bbe5-ec00956f86ee",
   "metadata": {},
   "outputs": [
    {
     "data": {
      "text/plain": [
       "['a']"
      ]
     },
     "execution_count": 51,
     "metadata": {},
     "output_type": "execute_result"
    }
   ],
   "source": [
    "my_list[:1]"
   ]
  },
  {
   "cell_type": "code",
   "execution_count": 52,
   "id": "0b1dabf8-3af6-4116-873c-aca9681b42b1",
   "metadata": {},
   "outputs": [],
   "source": [
    "my_list[0] = 'NEW'"
   ]
  },
  {
   "cell_type": "code",
   "execution_count": 53,
   "id": "afaa641c-addd-4ca3-9054-007e9b22e996",
   "metadata": {},
   "outputs": [
    {
     "data": {
      "text/plain": [
       "['NEW', 'b', 'c', 'd']"
      ]
     },
     "execution_count": 53,
     "metadata": {},
     "output_type": "execute_result"
    }
   ],
   "source": [
    "my_list"
   ]
  },
  {
   "cell_type": "code",
   "execution_count": 54,
   "id": "6b7851a0-6145-42bf-ab13-3d771ec04c48",
   "metadata": {},
   "outputs": [],
   "source": [
    "nest = [1,2,3,[4,5,['target']]]"
   ]
  },
  {
   "cell_type": "code",
   "execution_count": 55,
   "id": "94637fec-b613-4293-aebc-faf605e59669",
   "metadata": {},
   "outputs": [
    {
     "data": {
      "text/plain": [
       "[4, 5, ['target']]"
      ]
     },
     "execution_count": 55,
     "metadata": {},
     "output_type": "execute_result"
    }
   ],
   "source": [
    "nest[3]"
   ]
  },
  {
   "cell_type": "code",
   "execution_count": 67,
   "id": "5393cd75-1e06-4923-b2b7-0f292bb1005e",
   "metadata": {},
   "outputs": [
    {
     "data": {
      "text/plain": [
       "['target']"
      ]
     },
     "execution_count": 67,
     "metadata": {},
     "output_type": "execute_result"
    }
   ],
   "source": [
    "nest[3][2]"
   ]
  },
  {
   "cell_type": "code",
   "execution_count": 68,
   "id": "becc4ab6-9b21-40fd-9dba-4f5d41d49119",
   "metadata": {},
   "outputs": [
    {
     "data": {
      "text/plain": [
       "'target'"
      ]
     },
     "execution_count": 68,
     "metadata": {},
     "output_type": "execute_result"
    }
   ],
   "source": [
    "nest[3][2][0]"
   ]
  },
  {
   "cell_type": "markdown",
   "id": "74513afd-9f17-464d-8d0c-0bb7cc26fb46",
   "metadata": {},
   "source": [
    "### Dictionaries"
   ]
  },
  {
   "cell_type": "code",
   "execution_count": 69,
   "id": "390dc2f2-3749-4104-a297-f1f2cf1b05e8",
   "metadata": {},
   "outputs": [],
   "source": [
    "d = {'key1':'item1','key2':'item2'}"
   ]
  },
  {
   "cell_type": "code",
   "execution_count": 70,
   "id": "20f11882-ae0f-40f0-b8fc-b7908318c95b",
   "metadata": {},
   "outputs": [
    {
     "data": {
      "text/plain": [
       "{'key1': 'item1', 'key2': 'item2'}"
      ]
     },
     "execution_count": 70,
     "metadata": {},
     "output_type": "execute_result"
    }
   ],
   "source": [
    "d"
   ]
  },
  {
   "cell_type": "code",
   "execution_count": 71,
   "id": "5156feab-b5af-41e3-8c7d-7677afa589f0",
   "metadata": {},
   "outputs": [
    {
     "data": {
      "text/plain": [
       "'item1'"
      ]
     },
     "execution_count": 71,
     "metadata": {},
     "output_type": "execute_result"
    }
   ],
   "source": [
    "d['key1']"
   ]
  },
  {
   "cell_type": "markdown",
   "id": "32bf85e9-b407-4d20-aabb-cdb3ee288280",
   "metadata": {},
   "source": [
    "### Booleans"
   ]
  },
  {
   "cell_type": "code",
   "execution_count": 72,
   "id": "4d698eb7-d32f-49ce-b750-cc3bb8dafa9b",
   "metadata": {},
   "outputs": [
    {
     "data": {
      "text/plain": [
       "True"
      ]
     },
     "execution_count": 72,
     "metadata": {},
     "output_type": "execute_result"
    }
   ],
   "source": [
    "True"
   ]
  },
  {
   "cell_type": "code",
   "execution_count": 73,
   "id": "df4dfde7-09d9-422a-8cac-25939de80d31",
   "metadata": {},
   "outputs": [
    {
     "data": {
      "text/plain": [
       "False"
      ]
     },
     "execution_count": 73,
     "metadata": {},
     "output_type": "execute_result"
    }
   ],
   "source": [
    "False"
   ]
  },
  {
   "cell_type": "markdown",
   "id": "cdb196d4-6730-459b-bfbb-5eebaf14630c",
   "metadata": {},
   "source": [
    "### Tuples"
   ]
  },
  {
   "cell_type": "code",
   "execution_count": 74,
   "id": "598305e4-4efc-4f23-8a3b-d8a36aad0d19",
   "metadata": {},
   "outputs": [],
   "source": [
    "t = (1,2,3)"
   ]
  },
  {
   "cell_type": "code",
   "execution_count": 75,
   "id": "8ece8274-fe9f-4e91-9e7a-044f70e8a475",
   "metadata": {},
   "outputs": [
    {
     "data": {
      "text/plain": [
       "(1, 2, 3)"
      ]
     },
     "execution_count": 75,
     "metadata": {},
     "output_type": "execute_result"
    }
   ],
   "source": [
    "t"
   ]
  },
  {
   "cell_type": "code",
   "execution_count": 76,
   "id": "19cfa469-d355-41cf-be39-f96736f7bd61",
   "metadata": {},
   "outputs": [
    {
     "ename": "TypeError",
     "evalue": "'tuple' object does not support item assignment",
     "output_type": "error",
     "traceback": [
      "\u001b[1;31m---------------------------------------------------------------------------\u001b[0m",
      "\u001b[1;31mTypeError\u001b[0m                                 Traceback (most recent call last)",
      "Cell \u001b[1;32mIn[76], line 1\u001b[0m\n\u001b[1;32m----> 1\u001b[0m t[\u001b[38;5;241m0\u001b[39m] \u001b[38;5;241m=\u001b[39m \u001b[38;5;124m\"\u001b[39m\u001b[38;5;124mNEW\u001b[39m\u001b[38;5;124m\"\u001b[39m\n",
      "\u001b[1;31mTypeError\u001b[0m: 'tuple' object does not support item assignment"
     ]
    }
   ],
   "source": [
    "t[0] = \"NEW\""
   ]
  },
  {
   "cell_type": "markdown",
   "id": "24275546-1fbd-4c69-83b3-be07b599efa3",
   "metadata": {},
   "source": [
    "### Sets"
   ]
  },
  {
   "cell_type": "code",
   "execution_count": 87,
   "id": "f695ae75-3576-4e17-b60a-68fcd260e513",
   "metadata": {},
   "outputs": [
    {
     "data": {
      "text/plain": [
       "{1, 2, 3}"
      ]
     },
     "execution_count": 87,
     "metadata": {},
     "output_type": "execute_result"
    }
   ],
   "source": [
    "{1,2,3}"
   ]
  },
  {
   "cell_type": "code",
   "execution_count": 88,
   "id": "5f1246d8-2979-46f3-a4d7-7e121a5a60e5",
   "metadata": {},
   "outputs": [
    {
     "data": {
      "text/plain": [
       "{1, 2, 3}"
      ]
     },
     "execution_count": 88,
     "metadata": {},
     "output_type": "execute_result"
    }
   ],
   "source": [
    "{1,2,3,1,2,1,2,3,3,3,3,3,3,3,3}"
   ]
  },
  {
   "cell_type": "markdown",
   "id": "f884250b-643d-4d3a-a21a-f028481cc7fb",
   "metadata": {},
   "source": [
    "### Comparisons Operators"
   ]
  },
  {
   "cell_type": "code",
   "execution_count": 89,
   "id": "d232efae-c4d6-4de8-802f-038dab4b72d7",
   "metadata": {},
   "outputs": [
    {
     "data": {
      "text/plain": [
       "False"
      ]
     },
     "execution_count": 89,
     "metadata": {},
     "output_type": "execute_result"
    }
   ],
   "source": [
    "1 > 2"
   ]
  },
  {
   "cell_type": "code",
   "execution_count": 90,
   "id": "04fb0bd2-d858-4a08-b436-356d69fb98fe",
   "metadata": {},
   "outputs": [
    {
     "data": {
      "text/plain": [
       "True"
      ]
     },
     "execution_count": 90,
     "metadata": {},
     "output_type": "execute_result"
    }
   ],
   "source": [
    "1 < 2"
   ]
  },
  {
   "cell_type": "code",
   "execution_count": 91,
   "id": "0f7ed76d-c546-4dc0-b003-7c7ea5dd9afb",
   "metadata": {},
   "outputs": [
    {
     "data": {
      "text/plain": [
       "True"
      ]
     },
     "execution_count": 91,
     "metadata": {},
     "output_type": "execute_result"
    }
   ],
   "source": [
    "1 <= 2"
   ]
  },
  {
   "cell_type": "code",
   "execution_count": 92,
   "id": "7669a08a-2966-4463-bb4a-3821c8b3890d",
   "metadata": {},
   "outputs": [
    {
     "data": {
      "text/plain": [
       "False"
      ]
     },
     "execution_count": 92,
     "metadata": {},
     "output_type": "execute_result"
    }
   ],
   "source": [
    "1 >= 2"
   ]
  },
  {
   "cell_type": "code",
   "execution_count": 93,
   "id": "914b8a30-d004-42ef-8d9f-3e29f32aec81",
   "metadata": {},
   "outputs": [
    {
     "data": {
      "text/plain": [
       "True"
      ]
     },
     "execution_count": 93,
     "metadata": {},
     "output_type": "execute_result"
    }
   ],
   "source": [
    "3 == 3"
   ]
  },
  {
   "cell_type": "code",
   "execution_count": 94,
   "id": "7508e916-5e65-4e27-a8de-71318db24c06",
   "metadata": {},
   "outputs": [
    {
     "data": {
      "text/plain": [
       "False"
      ]
     },
     "execution_count": 94,
     "metadata": {},
     "output_type": "execute_result"
    }
   ],
   "source": [
    "2 == 1"
   ]
  },
  {
   "cell_type": "code",
   "execution_count": 95,
   "id": "f4ee3738-2274-4bed-bd8e-774b2f6b6f3f",
   "metadata": {},
   "outputs": [
    {
     "data": {
      "text/plain": [
       "False"
      ]
     },
     "execution_count": 95,
     "metadata": {},
     "output_type": "execute_result"
    }
   ],
   "source": [
    "'hi' == 'bye'"
   ]
  },
  {
   "cell_type": "code",
   "execution_count": 96,
   "id": "122834f1-894f-4b90-ad93-2bc1e78f181b",
   "metadata": {},
   "outputs": [
    {
     "data": {
      "text/plain": [
       "True"
      ]
     },
     "execution_count": 96,
     "metadata": {},
     "output_type": "execute_result"
    }
   ],
   "source": [
    "'hi' == 'hi'"
   ]
  },
  {
   "cell_type": "markdown",
   "id": "3659cb9a-5ddd-4bcf-b0c1-ee8b6f83f346",
   "metadata": {},
   "source": [
    "### Logic Operators"
   ]
  },
  {
   "cell_type": "code",
   "execution_count": 97,
   "id": "a12c115c-d145-45de-a204-a8d7860c2fd2",
   "metadata": {
    "jp-MarkdownHeadingCollapsed": true
   },
   "outputs": [
    {
     "data": {
      "text/plain": [
       "False"
      ]
     },
     "execution_count": 97,
     "metadata": {},
     "output_type": "execute_result"
    }
   ],
   "source": [
    "(1 > 2) and (2 < 3)\n"
   ]
  },
  {
   "cell_type": "code",
   "execution_count": 99,
   "id": "65c67bc8-149d-4df3-8cb9-14ccd8970902",
   "metadata": {},
   "outputs": [
    {
     "data": {
      "text/plain": [
       "True"
      ]
     },
     "execution_count": 99,
     "metadata": {},
     "output_type": "execute_result"
    }
   ],
   "source": [
    "(1 > 2) or (2 < 3)"
   ]
  },
  {
   "cell_type": "code",
   "execution_count": 101,
   "id": "2860c8ba-0d7a-4f75-a4ff-8aee7eda5f1e",
   "metadata": {},
   "outputs": [
    {
     "data": {
      "text/plain": [
       "True"
      ]
     },
     "execution_count": 101,
     "metadata": {},
     "output_type": "execute_result"
    }
   ],
   "source": [
    "(1 == 2) or (2 == 3) or (4 == 4)"
   ]
  },
  {
   "cell_type": "markdown",
   "id": "c40b08c0-2644-4bed-b59f-f86876bc05b3",
   "metadata": {},
   "source": [
    " ### if,elif, else Statements"
   ]
  },
  {
   "cell_type": "code",
   "execution_count": 104,
   "id": "8478f229-4492-4b4a-97e0-14aa8ac7ddd4",
   "metadata": {},
   "outputs": [
    {
     "name": "stdout",
     "output_type": "stream",
     "text": [
      "yep!\n"
     ]
    }
   ],
   "source": [
    "if 1 < 2:\n",
    "    print ('yep!')"
   ]
  },
  {
   "cell_type": "code",
   "execution_count": 108,
   "id": "92ff8e8f-b8fd-499c-8933-e4d881bcefd6",
   "metadata": {},
   "outputs": [
    {
     "name": "stdout",
     "output_type": "stream",
     "text": [
      "first\n"
     ]
    }
   ],
   "source": [
    "if 1 < 2:\n",
    "    print ('first')\n",
    "else:\n",
    "    print('last')"
   ]
  },
  {
   "cell_type": "code",
   "execution_count": 110,
   "id": "01948ab1-ddc7-43a6-8e31-4713e18b83d9",
   "metadata": {},
   "outputs": [
    {
     "name": "stdout",
     "output_type": "stream",
     "text": [
      "last\n"
     ]
    }
   ],
   "source": [
    "if 1 > 2:\n",
    "    print ('first')\n",
    "else:\n",
    "    print('last')"
   ]
  },
  {
   "cell_type": "code",
   "execution_count": 111,
   "id": "d38e7442-5bdd-471b-9ae5-bb750b37e122",
   "metadata": {},
   "outputs": [
    {
     "name": "stdout",
     "output_type": "stream",
     "text": [
      "middle\n"
     ]
    }
   ],
   "source": [
    "if 1 == 2:\n",
    "    print ('first')\n",
    "elif 3 == 3:\n",
    "    print ('middle')\n",
    "else:\n",
    "    print('last')"
   ]
  },
  {
   "cell_type": "markdown",
   "id": "3bdb0a0d-7126-46c1-a4e5-135d2262eacc",
   "metadata": {},
   "source": [
    "### for Loops"
   ]
  },
  {
   "cell_type": "code",
   "execution_count": 116,
   "id": "69319ec3-8a53-4bbb-8610-61639194831b",
   "metadata": {},
   "outputs": [],
   "source": [
    "seq = [1,2,3,4,5]"
   ]
  },
  {
   "cell_type": "code",
   "execution_count": 117,
   "id": "5f47029f-36d4-4bd1-b08a-2f928c7e74bc",
   "metadata": {},
   "outputs": [
    {
     "name": "stdout",
     "output_type": "stream",
     "text": [
      "1\n",
      "2\n",
      "3\n",
      "4\n",
      "5\n"
     ]
    }
   ],
   "source": [
    "for item in seq:\n",
    "    print (item)"
   ]
  },
  {
   "cell_type": "code",
   "execution_count": 121,
   "id": "ee3f2414-29f6-4c64-8785-a70cd4b41dfb",
   "metadata": {},
   "outputs": [],
   "source": [
    "seq = [1,2,3,4,5,'sadho']"
   ]
  },
  {
   "cell_type": "code",
   "execution_count": 122,
   "id": "abacc897-2797-4ce4-91b5-2484a4443923",
   "metadata": {},
   "outputs": [],
   "source": [
    "seq.append ('enzo')"
   ]
  },
  {
   "cell_type": "code",
   "execution_count": 123,
   "id": "6fb9ad16-799f-4ed5-8aba-f85705296874",
   "metadata": {},
   "outputs": [
    {
     "name": "stdout",
     "output_type": "stream",
     "text": [
      "1\n",
      "2\n",
      "3\n",
      "4\n",
      "5\n",
      "sadho\n",
      "enzo\n"
     ]
    }
   ],
   "source": [
    "for item in seq:\n",
    "    print (item)\n"
   ]
  },
  {
   "cell_type": "code",
   "execution_count": 124,
   "id": "4a2f43c9-f9c8-4a2e-96e4-a7909bee4f12",
   "metadata": {},
   "outputs": [
    {
     "name": "stdout",
     "output_type": "stream",
     "text": [
      "yep\n",
      "yep\n",
      "yep\n",
      "yep\n",
      "yep\n",
      "yep\n",
      "yep\n"
     ]
    }
   ],
   "source": [
    "for jelly in seq:\n",
    "    print('yep')\n"
   ]
  },
  {
   "cell_type": "code",
   "execution_count": 125,
   "id": "510c92eb-388d-48fc-ad57-cd90328adeda",
   "metadata": {},
   "outputs": [
    {
     "name": "stdout",
     "output_type": "stream",
     "text": [
      "2\n",
      "4\n",
      "6\n",
      "8\n",
      "10\n",
      "sadhosadho\n",
      "enzoenzo\n"
     ]
    }
   ],
   "source": [
    "for sponge in seq:\n",
    "    print ( sponge+sponge )\n"
   ]
  },
  {
   "cell_type": "markdown",
   "id": "35079339-7fbf-4bbb-a29d-6129d5991a1c",
   "metadata": {},
   "source": [
    "### while Loops"
   ]
  },
  {
   "cell_type": "code",
   "execution_count": null,
   "id": "0e62f950-5c09-4e3d-b9da-ee369b81bd6c",
   "metadata": {},
   "outputs": [],
   "source": [
    "i = 1\n",
    "while i < 5:\n",
    "    print ('i is : {}'.format(i))\n",
    "    i = 1+1"
   ]
  },
  {
   "cell_type": "markdown",
   "id": "0407bef4-58c1-44e1-9bde-83337a77be63",
   "metadata": {},
   "source": [
    "### Range ()"
   ]
  },
  {
   "cell_type": "code",
   "execution_count": null,
   "id": "8aebd195-5d2a-4736-93b6-cfe0bf0ebbf4",
   "metadata": {},
   "outputs": [],
   "source": [
    "range(5)"
   ]
  },
  {
   "cell_type": "code",
   "execution_count": null,
   "id": "21cd10f0-01f6-4313-a143-bdec68ff9901",
   "metadata": {},
   "outputs": [],
   "source": [
    "for i in range(5):\n",
    "print(i)"
   ]
  },
  {
   "cell_type": "code",
   "execution_count": null,
   "id": "f5c527c1-8309-491e-855c-17b0d95f9c7b",
   "metadata": {},
   "outputs": [],
   "source": [
    " list(range(5))"
   ]
  },
  {
   "cell_type": "code",
   "execution_count": null,
   "id": "ce308ad0-4d28-4323-aedf-403de1e5e5e7",
   "metadata": {},
   "outputs": [],
   "source": []
  }
 ],
 "metadata": {
  "kernelspec": {
   "display_name": "Python 3 (ipykernel)",
   "language": "python",
   "name": "python3"
  },
  "language_info": {
   "codemirror_mode": {
    "name": "ipython",
    "version": 3
   },
   "file_extension": ".py",
   "mimetype": "text/x-python",
   "name": "python",
   "nbconvert_exporter": "python",
   "pygments_lexer": "ipython3",
   "version": "3.11.7"
  }
 },
 "nbformat": 4,
 "nbformat_minor": 5
}
