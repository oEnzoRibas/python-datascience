{
 "cells": [
  {
   "cell_type": "markdown",
   "metadata": {},
   "source": [
    "Plotly is a library that allows you to create interactive plots that you can use in dashboards or websites (you can save them as html files or static images).\n",
    "\n",
    "## Installation\n",
    "\n",
    "In order for this all to work, you'll need to install plotly and cufflinks to call plots directly off of a pandas dataframe. These libraries are not currently available through **conda** but are available through **pip**. Install the libraries at your command line/terminal using:\n",
    "\n",
    "    pip install plotly\n",
    "    pip install cufflinks\n",
    "\n",
    "** NOTE: Make sure you only have one installation of Python on your computer when you do this, otherwise the installation may not work. **\n",
    "\n",
    "## Imports and Set-up"
   ]
  },
  {
   "cell_type": "code",
   "execution_count": 1,
   "metadata": {},
   "outputs": [
    {
     "name": "stdout",
     "output_type": "stream",
     "text": [
      "Requirement already satisfied: plotly in c:\\users\\enzo\\appdata\\local\\programs\\python\\python312\\lib\\site-packages (5.22.0)\n",
      "Requirement already satisfied: tenacity>=6.2.0 in c:\\users\\enzo\\appdata\\local\\programs\\python\\python312\\lib\\site-packages (from plotly) (8.4.1)\n",
      "Requirement already satisfied: packaging in c:\\users\\enzo\\appdata\\roaming\\python\\python312\\site-packages (from plotly) (24.0)\n",
      "Note: you may need to restart the kernel to use updated packages.\n"
     ]
    }
   ],
   "source": [
    "pip install plotly"
   ]
  },
  {
   "cell_type": "code",
   "execution_count": 2,
   "metadata": {},
   "outputs": [
    {
     "name": "stdout",
     "output_type": "stream",
     "text": [
      "Requirement already satisfied: cufflinks in c:\\users\\enzo\\appdata\\local\\programs\\python\\python312\\lib\\site-packages (0.17.3)Note: you may need to restart the kernel to use updated packages.\n",
      "\n",
      "Requirement already satisfied: numpy>=1.9.2 in c:\\users\\enzo\\appdata\\local\\programs\\python\\python312\\lib\\site-packages (from cufflinks) (1.26.4)\n",
      "Requirement already satisfied: pandas>=0.19.2 in c:\\users\\enzo\\appdata\\local\\programs\\python\\python312\\lib\\site-packages (from cufflinks) (2.2.2)\n",
      "Requirement already satisfied: plotly>=4.1.1 in c:\\users\\enzo\\appdata\\local\\programs\\python\\python312\\lib\\site-packages (from cufflinks) (5.22.0)\n",
      "Requirement already satisfied: six>=1.9.0 in c:\\users\\enzo\\appdata\\roaming\\python\\python312\\site-packages (from cufflinks) (1.16.0)\n",
      "Requirement already satisfied: colorlover>=0.2.1 in c:\\users\\enzo\\appdata\\local\\programs\\python\\python312\\lib\\site-packages (from cufflinks) (0.3.0)\n",
      "Requirement already satisfied: setuptools>=34.4.1 in c:\\users\\enzo\\appdata\\local\\programs\\python\\python312\\lib\\site-packages (from cufflinks) (70.1.0)\n",
      "Requirement already satisfied: ipython>=5.3.0 in c:\\users\\enzo\\appdata\\roaming\\python\\python312\\site-packages (from cufflinks) (8.24.0)\n",
      "Requirement already satisfied: ipywidgets>=7.0.0 in c:\\users\\enzo\\appdata\\local\\programs\\python\\python312\\lib\\site-packages (from cufflinks) (8.1.3)\n",
      "Requirement already satisfied: decorator in c:\\users\\enzo\\appdata\\roaming\\python\\python312\\site-packages (from ipython>=5.3.0->cufflinks) (5.1.1)\n",
      "Requirement already satisfied: jedi>=0.16 in c:\\users\\enzo\\appdata\\roaming\\python\\python312\\site-packages (from ipython>=5.3.0->cufflinks) (0.19.1)\n",
      "Requirement already satisfied: matplotlib-inline in c:\\users\\enzo\\appdata\\roaming\\python\\python312\\site-packages (from ipython>=5.3.0->cufflinks) (0.1.7)\n",
      "Requirement already satisfied: prompt-toolkit<3.1.0,>=3.0.41 in c:\\users\\enzo\\appdata\\roaming\\python\\python312\\site-packages (from ipython>=5.3.0->cufflinks) (3.0.43)\n",
      "Requirement already satisfied: pygments>=2.4.0 in c:\\users\\enzo\\appdata\\roaming\\python\\python312\\site-packages (from ipython>=5.3.0->cufflinks) (2.17.2)\n",
      "Requirement already satisfied: stack-data in c:\\users\\enzo\\appdata\\roaming\\python\\python312\\site-packages (from ipython>=5.3.0->cufflinks) (0.6.3)\n",
      "Requirement already satisfied: traitlets>=5.13.0 in c:\\users\\enzo\\appdata\\roaming\\python\\python312\\site-packages (from ipython>=5.3.0->cufflinks) (5.14.3)\n",
      "Requirement already satisfied: colorama in c:\\users\\enzo\\appdata\\roaming\\python\\python312\\site-packages (from ipython>=5.3.0->cufflinks) (0.4.6)\n",
      "Requirement already satisfied: comm>=0.1.3 in c:\\users\\enzo\\appdata\\roaming\\python\\python312\\site-packages (from ipywidgets>=7.0.0->cufflinks) (0.2.2)\n",
      "Requirement already satisfied: widgetsnbextension~=4.0.11 in c:\\users\\enzo\\appdata\\local\\programs\\python\\python312\\lib\\site-packages (from ipywidgets>=7.0.0->cufflinks) (4.0.11)\n",
      "Requirement already satisfied: jupyterlab-widgets~=3.0.11 in c:\\users\\enzo\\appdata\\local\\programs\\python\\python312\\lib\\site-packages (from ipywidgets>=7.0.0->cufflinks) (3.0.11)\n",
      "Requirement already satisfied: python-dateutil>=2.8.2 in c:\\users\\enzo\\appdata\\roaming\\python\\python312\\site-packages (from pandas>=0.19.2->cufflinks) (2.9.0.post0)\n",
      "Requirement already satisfied: pytz>=2020.1 in c:\\users\\enzo\\appdata\\local\\programs\\python\\python312\\lib\\site-packages (from pandas>=0.19.2->cufflinks) (2024.1)\n",
      "Requirement already satisfied: tzdata>=2022.7 in c:\\users\\enzo\\appdata\\local\\programs\\python\\python312\\lib\\site-packages (from pandas>=0.19.2->cufflinks) (2024.1)\n",
      "Requirement already satisfied: tenacity>=6.2.0 in c:\\users\\enzo\\appdata\\local\\programs\\python\\python312\\lib\\site-packages (from plotly>=4.1.1->cufflinks) (8.4.1)\n",
      "Requirement already satisfied: packaging in c:\\users\\enzo\\appdata\\roaming\\python\\python312\\site-packages (from plotly>=4.1.1->cufflinks) (24.0)\n",
      "Requirement already satisfied: parso<0.9.0,>=0.8.3 in c:\\users\\enzo\\appdata\\roaming\\python\\python312\\site-packages (from jedi>=0.16->ipython>=5.3.0->cufflinks) (0.8.4)\n",
      "Requirement already satisfied: wcwidth in c:\\users\\enzo\\appdata\\roaming\\python\\python312\\site-packages (from prompt-toolkit<3.1.0,>=3.0.41->ipython>=5.3.0->cufflinks) (0.2.13)\n",
      "Requirement already satisfied: executing>=1.2.0 in c:\\users\\enzo\\appdata\\roaming\\python\\python312\\site-packages (from stack-data->ipython>=5.3.0->cufflinks) (2.0.1)\n",
      "Requirement already satisfied: asttokens>=2.1.0 in c:\\users\\enzo\\appdata\\roaming\\python\\python312\\site-packages (from stack-data->ipython>=5.3.0->cufflinks) (2.4.1)\n",
      "Requirement already satisfied: pure-eval in c:\\users\\enzo\\appdata\\roaming\\python\\python312\\site-packages (from stack-data->ipython>=5.3.0->cufflinks) (0.2.2)\n"
     ]
    }
   ],
   "source": [
    "pip install cufflinks"
   ]
  },
  {
   "cell_type": "code",
   "execution_count": 3,
   "metadata": {},
   "outputs": [
    {
     "name": "stdout",
     "output_type": "stream",
     "text": [
      "Requirement already satisfied: pandas in c:\\users\\enzo\\appdata\\local\\programs\\python\\python312\\lib\\site-packages (2.2.2)\n",
      "Requirement already satisfied: numpy>=1.26.0 in c:\\users\\enzo\\appdata\\local\\programs\\python\\python312\\lib\\site-packages (from pandas) (1.26.4)\n",
      "Requirement already satisfied: python-dateutil>=2.8.2 in c:\\users\\enzo\\appdata\\roaming\\python\\python312\\site-packages (from pandas) (2.9.0.post0)\n",
      "Requirement already satisfied: pytz>=2020.1 in c:\\users\\enzo\\appdata\\local\\programs\\python\\python312\\lib\\site-packages (from pandas) (2024.1)\n",
      "Requirement already satisfied: tzdata>=2022.7 in c:\\users\\enzo\\appdata\\local\\programs\\python\\python312\\lib\\site-packages (from pandas) (2024.1)\n",
      "Requirement already satisfied: six>=1.5 in c:\\users\\enzo\\appdata\\roaming\\python\\python312\\site-packages (from python-dateutil>=2.8.2->pandas) (1.16.0)\n"
     ]
    },
    {
     "name": "stderr",
     "output_type": "stream",
     "text": [
      "\n",
      "[notice] A new release of pip is available: 24.0 -> 24.1\n",
      "[notice] To update, run: python.exe -m pip install --upgrade pip\n"
     ]
    }
   ],
   "source": [
    "!pip install --upgrade pandas"
   ]
  },
  {
   "cell_type": "code",
   "execution_count": 4,
   "metadata": {},
   "outputs": [],
   "source": [
    "import pandas as pd\n",
    "import numpy as np\n",
    "import matplotlib.pyplot as plt\n",
    "import pandas as pd\n",
    "%matplotlib inline"
   ]
  },
  {
   "cell_type": "code",
   "execution_count": 5,
   "metadata": {},
   "outputs": [
    {
     "name": "stdout",
     "output_type": "stream",
     "text": [
      "Requirement already satisfied: bottleneck in c:\\users\\enzo\\appdata\\local\\programs\\python\\python312\\lib\\site-packages (1.4.0)\n",
      "Requirement already satisfied: numpy in c:\\users\\enzo\\appdata\\local\\programs\\python\\python312\\lib\\site-packages (from bottleneck) (1.26.4)\n",
      "Note: you may need to restart the kernel to use updated packages.\n"
     ]
    }
   ],
   "source": [
    "pip install --upgrade bottleneck"
   ]
  },
  {
   "cell_type": "code",
   "execution_count": 6,
   "metadata": {},
   "outputs": [
    {
     "name": "stdout",
     "output_type": "stream",
     "text": [
      "c:\\Users\\Enzo\\AppData\\Local\\Programs\\Python\\Python312\\python.exe\n"
     ]
    }
   ],
   "source": [
    "import sys\n",
    "print(sys.executable)\n"
   ]
  },
  {
   "cell_type": "code",
   "execution_count": 7,
   "metadata": {},
   "outputs": [
    {
     "name": "stdout",
     "output_type": "stream",
     "text": [
      "5.22.0\n"
     ]
    }
   ],
   "source": [
    "from plotly import __version__\n",
    "from plotly.offline import download_plotlyjs, init_notebook_mode, plot, iplot\n",
    "\n",
    "print(__version__) # requires version >= 1.9.0"
   ]
  },
  {
   "cell_type": "code",
   "execution_count": 8,
   "metadata": {},
   "outputs": [],
   "source": [
    "import cufflinks as cf"
   ]
  },
  {
   "cell_type": "code",
   "execution_count": 9,
   "metadata": {},
   "outputs": [
    {
     "data": {
      "text/html": [
       "        <script type=\"text/javascript\">\n",
       "        window.PlotlyConfig = {MathJaxConfig: 'local'};\n",
       "        if (window.MathJax && window.MathJax.Hub && window.MathJax.Hub.Config) {window.MathJax.Hub.Config({SVG: {font: \"STIX-Web\"}});}\n",
       "        if (typeof require !== 'undefined') {\n",
       "        require.undef(\"plotly\");\n",
       "        requirejs.config({\n",
       "            paths: {\n",
       "                'plotly': ['https://cdn.plot.ly/plotly-2.32.0.min']\n",
       "            }\n",
       "        });\n",
       "        require(['plotly'], function(Plotly) {\n",
       "            window._Plotly = Plotly;\n",
       "        });\n",
       "        }\n",
       "        </script>\n",
       "        "
      ]
     },
     "metadata": {},
     "output_type": "display_data"
    }
   ],
   "source": [
    "import plotly.offline as py\n",
    "import plotly.graph_objs as go\n",
    "py.init_notebook_mode(connected=True)"
   ]
  },
  {
   "cell_type": "code",
   "execution_count": 10,
   "metadata": {},
   "outputs": [
    {
     "data": {
      "text/html": [
       "        <script type=\"text/javascript\">\n",
       "        window.PlotlyConfig = {MathJaxConfig: 'local'};\n",
       "        if (window.MathJax && window.MathJax.Hub && window.MathJax.Hub.Config) {window.MathJax.Hub.Config({SVG: {font: \"STIX-Web\"}});}\n",
       "        if (typeof require !== 'undefined') {\n",
       "        require.undef(\"plotly\");\n",
       "        requirejs.config({\n",
       "            paths: {\n",
       "                'plotly': ['https://cdn.plot.ly/plotly-2.32.0.min']\n",
       "            }\n",
       "        });\n",
       "        require(['plotly'], function(Plotly) {\n",
       "            window._Plotly = Plotly;\n",
       "        });\n",
       "        }\n",
       "        </script>\n",
       "        "
      ]
     },
     "metadata": {},
     "output_type": "display_data"
    }
   ],
   "source": [
    "# For offline use\n",
    "cf.go_offline()"
   ]
  },
  {
   "cell_type": "markdown",
   "metadata": {},
   "source": [
    "### Fake Data"
   ]
  },
  {
   "cell_type": "code",
   "execution_count": 11,
   "metadata": {},
   "outputs": [],
   "source": [
    "df = pd.DataFrame(np.random.randn(100,4),columns='A B C D'.split())"
   ]
  },
  {
   "cell_type": "code",
   "execution_count": 12,
   "metadata": {},
   "outputs": [
    {
     "data": {
      "text/html": [
       "<div>\n",
       "<style scoped>\n",
       "    .dataframe tbody tr th:only-of-type {\n",
       "        vertical-align: middle;\n",
       "    }\n",
       "\n",
       "    .dataframe tbody tr th {\n",
       "        vertical-align: top;\n",
       "    }\n",
       "\n",
       "    .dataframe thead th {\n",
       "        text-align: right;\n",
       "    }\n",
       "</style>\n",
       "<table border=\"1\" class=\"dataframe\">\n",
       "  <thead>\n",
       "    <tr style=\"text-align: right;\">\n",
       "      <th></th>\n",
       "      <th>A</th>\n",
       "      <th>B</th>\n",
       "      <th>C</th>\n",
       "      <th>D</th>\n",
       "    </tr>\n",
       "  </thead>\n",
       "  <tbody>\n",
       "    <tr>\n",
       "      <th>0</th>\n",
       "      <td>-1.102157</td>\n",
       "      <td>-0.997339</td>\n",
       "      <td>1.086405</td>\n",
       "      <td>-1.684549</td>\n",
       "    </tr>\n",
       "    <tr>\n",
       "      <th>1</th>\n",
       "      <td>2.286579</td>\n",
       "      <td>0.783791</td>\n",
       "      <td>-2.117707</td>\n",
       "      <td>-1.483581</td>\n",
       "    </tr>\n",
       "    <tr>\n",
       "      <th>2</th>\n",
       "      <td>0.456643</td>\n",
       "      <td>0.411420</td>\n",
       "      <td>-1.265703</td>\n",
       "      <td>-1.351769</td>\n",
       "    </tr>\n",
       "    <tr>\n",
       "      <th>3</th>\n",
       "      <td>-0.489233</td>\n",
       "      <td>-1.382519</td>\n",
       "      <td>2.593281</td>\n",
       "      <td>-0.016702</td>\n",
       "    </tr>\n",
       "    <tr>\n",
       "      <th>4</th>\n",
       "      <td>-2.130815</td>\n",
       "      <td>-0.025446</td>\n",
       "      <td>2.344148</td>\n",
       "      <td>-0.649827</td>\n",
       "    </tr>\n",
       "  </tbody>\n",
       "</table>\n",
       "</div>"
      ],
      "text/plain": [
       "          A         B         C         D\n",
       "0 -1.102157 -0.997339  1.086405 -1.684549\n",
       "1  2.286579  0.783791 -2.117707 -1.483581\n",
       "2  0.456643  0.411420 -1.265703 -1.351769\n",
       "3 -0.489233 -1.382519  2.593281 -0.016702\n",
       "4 -2.130815 -0.025446  2.344148 -0.649827"
      ]
     },
     "execution_count": 12,
     "metadata": {},
     "output_type": "execute_result"
    }
   ],
   "source": [
    "df.head()"
   ]
  },
  {
   "cell_type": "code",
   "execution_count": 13,
   "metadata": {},
   "outputs": [],
   "source": [
    "df2 = pd.DataFrame({'Category':['A','B','C'],'Values':[32,43,50]})"
   ]
  },
  {
   "cell_type": "code",
   "execution_count": 14,
   "metadata": {},
   "outputs": [
    {
     "data": {
      "text/html": [
       "<div>\n",
       "<style scoped>\n",
       "    .dataframe tbody tr th:only-of-type {\n",
       "        vertical-align: middle;\n",
       "    }\n",
       "\n",
       "    .dataframe tbody tr th {\n",
       "        vertical-align: top;\n",
       "    }\n",
       "\n",
       "    .dataframe thead th {\n",
       "        text-align: right;\n",
       "    }\n",
       "</style>\n",
       "<table border=\"1\" class=\"dataframe\">\n",
       "  <thead>\n",
       "    <tr style=\"text-align: right;\">\n",
       "      <th></th>\n",
       "      <th>Category</th>\n",
       "      <th>Values</th>\n",
       "    </tr>\n",
       "  </thead>\n",
       "  <tbody>\n",
       "    <tr>\n",
       "      <th>0</th>\n",
       "      <td>A</td>\n",
       "      <td>32</td>\n",
       "    </tr>\n",
       "    <tr>\n",
       "      <th>1</th>\n",
       "      <td>B</td>\n",
       "      <td>43</td>\n",
       "    </tr>\n",
       "    <tr>\n",
       "      <th>2</th>\n",
       "      <td>C</td>\n",
       "      <td>50</td>\n",
       "    </tr>\n",
       "  </tbody>\n",
       "</table>\n",
       "</div>"
      ],
      "text/plain": [
       "  Category  Values\n",
       "0        A      32\n",
       "1        B      43\n",
       "2        C      50"
      ]
     },
     "execution_count": 14,
     "metadata": {},
     "output_type": "execute_result"
    }
   ],
   "source": [
    "df2.head()"
   ]
  },
  {
   "cell_type": "markdown",
   "metadata": {},
   "source": [
    "## Using Cufflinks and iplot()\n",
    "\n",
    "* scatter\n",
    "* bar\n",
    "* box\n",
    "* spread\n",
    "* ratio\n",
    "* heatmap\n",
    "* surface\n",
    "* histogram\n",
    "* bubble"
   ]
  },
  {
   "cell_type": "markdown",
   "metadata": {},
   "source": [
    "## Scatter"
   ]
  },
  {
   "cell_type": "code",
   "execution_count": 15,
   "metadata": {},
   "outputs": [
    {
     "name": "stdout",
     "output_type": "stream",
     "text": [
      "Requirement already satisfied: nbformat in c:\\users\\enzo\\appdata\\local\\programs\\python\\python312\\lib\\site-packages (5.10.4)\n",
      "Requirement already satisfied: fastjsonschema>=2.15 in c:\\users\\enzo\\appdata\\local\\programs\\python\\python312\\lib\\site-packages (from nbformat) (2.20.0)\n",
      "Requirement already satisfied: jsonschema>=2.6 in c:\\users\\enzo\\appdata\\local\\programs\\python\\python312\\lib\\site-packages (from nbformat) (4.22.0)\n",
      "Requirement already satisfied: jupyter-core!=5.0.*,>=4.12 in c:\\users\\enzo\\appdata\\roaming\\python\\python312\\site-packages (from nbformat) (5.7.2)\n",
      "Requirement already satisfied: traitlets>=5.1 in c:\\users\\enzo\\appdata\\roaming\\python\\python312\\site-packages (from nbformat) (5.14.3)\n",
      "Requirement already satisfied: attrs>=22.2.0 in c:\\users\\enzo\\appdata\\local\\programs\\python\\python312\\lib\\site-packages (from jsonschema>=2.6->nbformat) (23.2.0)\n",
      "Requirement already satisfied: jsonschema-specifications>=2023.03.6 in c:\\users\\enzo\\appdata\\local\\programs\\python\\python312\\lib\\site-packages (from jsonschema>=2.6->nbformat) (2023.12.1)\n",
      "Requirement already satisfied: referencing>=0.28.4 in c:\\users\\enzo\\appdata\\local\\programs\\python\\python312\\lib\\site-packages (from jsonschema>=2.6->nbformat) (0.35.1)\n",
      "Requirement already satisfied: rpds-py>=0.7.1 in c:\\users\\enzo\\appdata\\local\\programs\\python\\python312\\lib\\site-packages (from jsonschema>=2.6->nbformat) (0.18.1)\n",
      "Requirement already satisfied: platformdirs>=2.5 in c:\\users\\enzo\\appdata\\roaming\\python\\python312\\site-packages (from jupyter-core!=5.0.*,>=4.12->nbformat) (4.2.1)\n",
      "Requirement already satisfied: pywin32>=300 in c:\\users\\enzo\\appdata\\roaming\\python\\python312\\site-packages (from jupyter-core!=5.0.*,>=4.12->nbformat) (306)\n",
      "Note: you may need to restart the kernel to use updated packages.\n"
     ]
    }
   ],
   "source": [
    "pip install --upgrade nbformat\n"
   ]
  },
  {
   "cell_type": "code",
   "execution_count": 16,
   "metadata": {},
   "outputs": [
    {
     "name": "stdout",
     "output_type": "stream",
     "text": [
      "Requirement already satisfied: nbformat in c:\\users\\enzo\\appdata\\local\\programs\\python\\python312\\lib\\site-packages (5.10.4)\n",
      "Requirement already satisfied: fastjsonschema>=2.15 in c:\\users\\enzo\\appdata\\local\\programs\\python\\python312\\lib\\site-packages (from nbformat) (2.20.0)\n",
      "Requirement already satisfied: jsonschema>=2.6 in c:\\users\\enzo\\appdata\\local\\programs\\python\\python312\\lib\\site-packages (from nbformat) (4.22.0)\n",
      "Requirement already satisfied: jupyter-core!=5.0.*,>=4.12 in c:\\users\\enzo\\appdata\\roaming\\python\\python312\\site-packages (from nbformat) (5.7.2)\n",
      "Requirement already satisfied: traitlets>=5.1 in c:\\users\\enzo\\appdata\\roaming\\python\\python312\\site-packages (from nbformat) (5.14.3)\n",
      "Requirement already satisfied: attrs>=22.2.0 in c:\\users\\enzo\\appdata\\local\\programs\\python\\python312\\lib\\site-packages (from jsonschema>=2.6->nbformat) (23.2.0)\n",
      "Requirement already satisfied: jsonschema-specifications>=2023.03.6 in c:\\users\\enzo\\appdata\\local\\programs\\python\\python312\\lib\\site-packages (from jsonschema>=2.6->nbformat) (2023.12.1)\n",
      "Requirement already satisfied: referencing>=0.28.4 in c:\\users\\enzo\\appdata\\local\\programs\\python\\python312\\lib\\site-packages (from jsonschema>=2.6->nbformat) (0.35.1)\n",
      "Requirement already satisfied: rpds-py>=0.7.1 in c:\\users\\enzo\\appdata\\local\\programs\\python\\python312\\lib\\site-packages (from jsonschema>=2.6->nbformat) (0.18.1)\n",
      "Requirement already satisfied: platformdirs>=2.5 in c:\\users\\enzo\\appdata\\roaming\\python\\python312\\site-packages (from jupyter-core!=5.0.*,>=4.12->nbformat) (4.2.1)\n",
      "Requirement already satisfied: pywin32>=300 in c:\\users\\enzo\\appdata\\roaming\\python\\python312\\site-packages (from jupyter-core!=5.0.*,>=4.12->nbformat) (306)\n"
     ]
    },
    {
     "name": "stderr",
     "output_type": "stream",
     "text": [
      "\n",
      "[notice] A new release of pip is available: 24.0 -> 24.1\n",
      "[notice] To update, run: python.exe -m pip install --upgrade pip\n"
     ]
    },
    {
     "data": {
      "application/vnd.plotly.v1+json": {
       "config": {
        "linkText": "Export to plot.ly",
        "plotlyServerURL": "https://plot.ly",
        "showLink": true
       },
       "data": [
        {
         "line": {
          "color": "rgba(255, 153, 51, 1.0)",
          "dash": "solid",
          "shape": "linear",
          "width": 1.3
         },
         "marker": {
          "size": 10,
          "symbol": "circle"
         },
         "mode": "markers",
         "name": "B",
         "text": "",
         "type": "scatter",
         "x": [
          -1.102157375614898,
          2.2865785896451056,
          0.4566434341878121,
          -0.4892334021311478,
          -2.130815216314164,
          0.34465161154860385,
          -0.49941355380787994,
          -0.07831088917902136,
          0.602111357449041,
          1.836312051939149,
          0.68653066400194,
          0.7272723288016878,
          -0.561985964001304,
          0.4749032085110548,
          -0.3943567537206873,
          -1.7812394531296598,
          -1.55016940753543,
          -0.8961215905737038,
          1.0396020876583527,
          -0.37499036096735866,
          -0.6078496437501864,
          -0.6540352795879921,
          1.5427968616244505,
          -0.7479992770240803,
          1.7736972039880796,
          -1.4616429884856508,
          0.3784126846667629,
          -1.2081394791450908,
          0.7602952072803093,
          0.43055980891856077,
          -0.3374320242569034,
          0.7706767098237173,
          -0.5463347726811589,
          0.033762295791289997,
          0.4990878712300638,
          1.1825854932025412,
          0.015844384267101563,
          -1.129231072418561,
          -2.7533196079610387,
          0.22159763708817423,
          -1.2118605238189528,
          1.2440218907966467,
          0.8870437340948487,
          -1.7602496137961745,
          -0.8038441161106656,
          0.43123877184878656,
          -0.6856111512549908,
          -0.14699128767403657,
          -2.2514927775466202,
          0.3810256579120371,
          -0.33399073703812215,
          0.8568310968852303,
          -1.7591695315282843,
          0.07139481710721052,
          -1.4989835427890368,
          -1.323758692382063,
          -1.275742543750863,
          0.511986491292987,
          -0.16147259749940288,
          -0.1400937674342753,
          0.24969654201492142,
          -0.43518197142108034,
          -1.3506570771227986,
          -1.5001516208144998,
          -0.25444948192148775,
          -0.6355008883387203,
          -0.9058493729728965,
          -0.016032752088665357,
          0.9103607278606926,
          0.18871594428745314,
          1.1671677613599445,
          1.4371250285751684,
          0.8337283933215233,
          0.33254422193403543,
          0.2537912153759133,
          -0.8145160628787136,
          -0.33293900872633314,
          1.7928098015898093,
          -0.11558511994838473,
          -0.5036239283403839,
          -0.34024420316716014,
          1.270442607496094,
          -1.9521088354455611,
          0.5721799161997925,
          -0.32676088375004936,
          0.23829216361816088,
          -0.6638810319586461,
          0.6261001378621326,
          -0.9532031426639209,
          -0.3028686448220451,
          -0.03323881015307786,
          -2.2163813272149397,
          1.2248574758896162,
          -1.8261008669183256,
          0.9927307241686352,
          -0.4144905926853598,
          0.7644577521814288,
          3.3897490150859912,
          0.9981217162595685,
          0.2925472587199806
         ],
         "y": [
          -0.9973385497255842,
          0.7837905097733299,
          0.4114202226020897,
          -1.382519415517844,
          -0.02544616448446813,
          1.0186393009420072,
          0.8558566196560897,
          -0.42531885825941645,
          -0.9864996976021687,
          -0.31840672611245,
          0.8916014391327218,
          0.09513064008948738,
          0.14918112600259187,
          0.7532993749218637,
          -0.4276448581127374,
          -0.07818602716472968,
          0.9817795497961357,
          0.5064226646157375,
          0.4449416714969202,
          -0.1941305620600468,
          -1.137333836757778,
          -0.728364472625442,
          0.4034551322996591,
          1.1872038136253862,
          1.072600861716576,
          0.876639868363512,
          0.7988727597172739,
          0.17336187404735537,
          -0.9097532082084129,
          0.012533433013292253,
          -0.9104096422704079,
          -2.929051044968031,
          -1.5106886534736783,
          -0.7430555641032094,
          -1.4288854189909295,
          1.510197624220518,
          -0.6236299601792391,
          -1.6305903851678578,
          1.4970753518573583,
          -0.6801286472206881,
          -0.979692810847835,
          -3.918868670448135,
          -0.06330189856562465,
          -0.47566846234842475,
          -0.9748506827222614,
          -1.4239641353896577,
          0.8518918795735684,
          -0.20012233219710165,
          1.3231285909537631,
          -0.20398723136228153,
          1.7077088102632907,
          0.8657554903375352,
          1.5481392063415123,
          -0.6105570758624655,
          1.0654680017823588,
          -1.0570752290932843,
          -0.6838031775909165,
          1.2275931051344096,
          0.04526621790472486,
          -1.554941047418443,
          -0.1492809321534578,
          -1.8643687527914203,
          1.3024373203496495,
          0.7601856921246877,
          -0.4462509524860536,
          0.48042464024541787,
          -1.6502678369241321,
          -0.14019041774634128,
          0.8566240306940461,
          0.43174665495270187,
          0.3556317639900785,
          -0.40977523162979523,
          0.08712426831847198,
          -0.7085711753892611,
          -0.2033454347552216,
          -0.4073598964847509,
          0.6744578923123841,
          -1.1400810189635784,
          2.789963286808077,
          0.7151297181599133,
          -0.1850065927724431,
          -0.08078798544387067,
          0.2943397056056416,
          -0.4663434080260867,
          0.4482366769986187,
          0.47513966341491815,
          0.5414854165226178,
          0.26065911224187877,
          -2.812297320953207,
          -1.1255949120105435,
          -2.505700444917874,
          -0.46977512258405213,
          1.740423220809751,
          -1.5441909687392934,
          -0.3290211676343685,
          1.2341058228228599,
          1.4116520784909827,
          -0.15889216025557068,
          0.3652472845120724,
          -0.9506594561815944
         ]
        }
       ],
       "layout": {
        "legend": {
         "bgcolor": "#F5F6F9",
         "font": {
          "color": "#4D5663"
         }
        },
        "paper_bgcolor": "#F5F6F9",
        "plot_bgcolor": "#F5F6F9",
        "template": {
         "data": {
          "bar": [
           {
            "error_x": {
             "color": "#2a3f5f"
            },
            "error_y": {
             "color": "#2a3f5f"
            },
            "marker": {
             "line": {
              "color": "#E5ECF6",
              "width": 0.5
             },
             "pattern": {
              "fillmode": "overlay",
              "size": 10,
              "solidity": 0.2
             }
            },
            "type": "bar"
           }
          ],
          "barpolar": [
           {
            "marker": {
             "line": {
              "color": "#E5ECF6",
              "width": 0.5
             },
             "pattern": {
              "fillmode": "overlay",
              "size": 10,
              "solidity": 0.2
             }
            },
            "type": "barpolar"
           }
          ],
          "carpet": [
           {
            "aaxis": {
             "endlinecolor": "#2a3f5f",
             "gridcolor": "white",
             "linecolor": "white",
             "minorgridcolor": "white",
             "startlinecolor": "#2a3f5f"
            },
            "baxis": {
             "endlinecolor": "#2a3f5f",
             "gridcolor": "white",
             "linecolor": "white",
             "minorgridcolor": "white",
             "startlinecolor": "#2a3f5f"
            },
            "type": "carpet"
           }
          ],
          "choropleth": [
           {
            "colorbar": {
             "outlinewidth": 0,
             "ticks": ""
            },
            "type": "choropleth"
           }
          ],
          "contour": [
           {
            "colorbar": {
             "outlinewidth": 0,
             "ticks": ""
            },
            "colorscale": [
             [
              0,
              "#0d0887"
             ],
             [
              0.1111111111111111,
              "#46039f"
             ],
             [
              0.2222222222222222,
              "#7201a8"
             ],
             [
              0.3333333333333333,
              "#9c179e"
             ],
             [
              0.4444444444444444,
              "#bd3786"
             ],
             [
              0.5555555555555556,
              "#d8576b"
             ],
             [
              0.6666666666666666,
              "#ed7953"
             ],
             [
              0.7777777777777778,
              "#fb9f3a"
             ],
             [
              0.8888888888888888,
              "#fdca26"
             ],
             [
              1,
              "#f0f921"
             ]
            ],
            "type": "contour"
           }
          ],
          "contourcarpet": [
           {
            "colorbar": {
             "outlinewidth": 0,
             "ticks": ""
            },
            "type": "contourcarpet"
           }
          ],
          "heatmap": [
           {
            "colorbar": {
             "outlinewidth": 0,
             "ticks": ""
            },
            "colorscale": [
             [
              0,
              "#0d0887"
             ],
             [
              0.1111111111111111,
              "#46039f"
             ],
             [
              0.2222222222222222,
              "#7201a8"
             ],
             [
              0.3333333333333333,
              "#9c179e"
             ],
             [
              0.4444444444444444,
              "#bd3786"
             ],
             [
              0.5555555555555556,
              "#d8576b"
             ],
             [
              0.6666666666666666,
              "#ed7953"
             ],
             [
              0.7777777777777778,
              "#fb9f3a"
             ],
             [
              0.8888888888888888,
              "#fdca26"
             ],
             [
              1,
              "#f0f921"
             ]
            ],
            "type": "heatmap"
           }
          ],
          "heatmapgl": [
           {
            "colorbar": {
             "outlinewidth": 0,
             "ticks": ""
            },
            "colorscale": [
             [
              0,
              "#0d0887"
             ],
             [
              0.1111111111111111,
              "#46039f"
             ],
             [
              0.2222222222222222,
              "#7201a8"
             ],
             [
              0.3333333333333333,
              "#9c179e"
             ],
             [
              0.4444444444444444,
              "#bd3786"
             ],
             [
              0.5555555555555556,
              "#d8576b"
             ],
             [
              0.6666666666666666,
              "#ed7953"
             ],
             [
              0.7777777777777778,
              "#fb9f3a"
             ],
             [
              0.8888888888888888,
              "#fdca26"
             ],
             [
              1,
              "#f0f921"
             ]
            ],
            "type": "heatmapgl"
           }
          ],
          "histogram": [
           {
            "marker": {
             "pattern": {
              "fillmode": "overlay",
              "size": 10,
              "solidity": 0.2
             }
            },
            "type": "histogram"
           }
          ],
          "histogram2d": [
           {
            "colorbar": {
             "outlinewidth": 0,
             "ticks": ""
            },
            "colorscale": [
             [
              0,
              "#0d0887"
             ],
             [
              0.1111111111111111,
              "#46039f"
             ],
             [
              0.2222222222222222,
              "#7201a8"
             ],
             [
              0.3333333333333333,
              "#9c179e"
             ],
             [
              0.4444444444444444,
              "#bd3786"
             ],
             [
              0.5555555555555556,
              "#d8576b"
             ],
             [
              0.6666666666666666,
              "#ed7953"
             ],
             [
              0.7777777777777778,
              "#fb9f3a"
             ],
             [
              0.8888888888888888,
              "#fdca26"
             ],
             [
              1,
              "#f0f921"
             ]
            ],
            "type": "histogram2d"
           }
          ],
          "histogram2dcontour": [
           {
            "colorbar": {
             "outlinewidth": 0,
             "ticks": ""
            },
            "colorscale": [
             [
              0,
              "#0d0887"
             ],
             [
              0.1111111111111111,
              "#46039f"
             ],
             [
              0.2222222222222222,
              "#7201a8"
             ],
             [
              0.3333333333333333,
              "#9c179e"
             ],
             [
              0.4444444444444444,
              "#bd3786"
             ],
             [
              0.5555555555555556,
              "#d8576b"
             ],
             [
              0.6666666666666666,
              "#ed7953"
             ],
             [
              0.7777777777777778,
              "#fb9f3a"
             ],
             [
              0.8888888888888888,
              "#fdca26"
             ],
             [
              1,
              "#f0f921"
             ]
            ],
            "type": "histogram2dcontour"
           }
          ],
          "mesh3d": [
           {
            "colorbar": {
             "outlinewidth": 0,
             "ticks": ""
            },
            "type": "mesh3d"
           }
          ],
          "parcoords": [
           {
            "line": {
             "colorbar": {
              "outlinewidth": 0,
              "ticks": ""
             }
            },
            "type": "parcoords"
           }
          ],
          "pie": [
           {
            "automargin": true,
            "type": "pie"
           }
          ],
          "scatter": [
           {
            "fillpattern": {
             "fillmode": "overlay",
             "size": 10,
             "solidity": 0.2
            },
            "type": "scatter"
           }
          ],
          "scatter3d": [
           {
            "line": {
             "colorbar": {
              "outlinewidth": 0,
              "ticks": ""
             }
            },
            "marker": {
             "colorbar": {
              "outlinewidth": 0,
              "ticks": ""
             }
            },
            "type": "scatter3d"
           }
          ],
          "scattercarpet": [
           {
            "marker": {
             "colorbar": {
              "outlinewidth": 0,
              "ticks": ""
             }
            },
            "type": "scattercarpet"
           }
          ],
          "scattergeo": [
           {
            "marker": {
             "colorbar": {
              "outlinewidth": 0,
              "ticks": ""
             }
            },
            "type": "scattergeo"
           }
          ],
          "scattergl": [
           {
            "marker": {
             "colorbar": {
              "outlinewidth": 0,
              "ticks": ""
             }
            },
            "type": "scattergl"
           }
          ],
          "scattermapbox": [
           {
            "marker": {
             "colorbar": {
              "outlinewidth": 0,
              "ticks": ""
             }
            },
            "type": "scattermapbox"
           }
          ],
          "scatterpolar": [
           {
            "marker": {
             "colorbar": {
              "outlinewidth": 0,
              "ticks": ""
             }
            },
            "type": "scatterpolar"
           }
          ],
          "scatterpolargl": [
           {
            "marker": {
             "colorbar": {
              "outlinewidth": 0,
              "ticks": ""
             }
            },
            "type": "scatterpolargl"
           }
          ],
          "scatterternary": [
           {
            "marker": {
             "colorbar": {
              "outlinewidth": 0,
              "ticks": ""
             }
            },
            "type": "scatterternary"
           }
          ],
          "surface": [
           {
            "colorbar": {
             "outlinewidth": 0,
             "ticks": ""
            },
            "colorscale": [
             [
              0,
              "#0d0887"
             ],
             [
              0.1111111111111111,
              "#46039f"
             ],
             [
              0.2222222222222222,
              "#7201a8"
             ],
             [
              0.3333333333333333,
              "#9c179e"
             ],
             [
              0.4444444444444444,
              "#bd3786"
             ],
             [
              0.5555555555555556,
              "#d8576b"
             ],
             [
              0.6666666666666666,
              "#ed7953"
             ],
             [
              0.7777777777777778,
              "#fb9f3a"
             ],
             [
              0.8888888888888888,
              "#fdca26"
             ],
             [
              1,
              "#f0f921"
             ]
            ],
            "type": "surface"
           }
          ],
          "table": [
           {
            "cells": {
             "fill": {
              "color": "#EBF0F8"
             },
             "line": {
              "color": "white"
             }
            },
            "header": {
             "fill": {
              "color": "#C8D4E3"
             },
             "line": {
              "color": "white"
             }
            },
            "type": "table"
           }
          ]
         },
         "layout": {
          "annotationdefaults": {
           "arrowcolor": "#2a3f5f",
           "arrowhead": 0,
           "arrowwidth": 1
          },
          "autotypenumbers": "strict",
          "coloraxis": {
           "colorbar": {
            "outlinewidth": 0,
            "ticks": ""
           }
          },
          "colorscale": {
           "diverging": [
            [
             0,
             "#8e0152"
            ],
            [
             0.1,
             "#c51b7d"
            ],
            [
             0.2,
             "#de77ae"
            ],
            [
             0.3,
             "#f1b6da"
            ],
            [
             0.4,
             "#fde0ef"
            ],
            [
             0.5,
             "#f7f7f7"
            ],
            [
             0.6,
             "#e6f5d0"
            ],
            [
             0.7,
             "#b8e186"
            ],
            [
             0.8,
             "#7fbc41"
            ],
            [
             0.9,
             "#4d9221"
            ],
            [
             1,
             "#276419"
            ]
           ],
           "sequential": [
            [
             0,
             "#0d0887"
            ],
            [
             0.1111111111111111,
             "#46039f"
            ],
            [
             0.2222222222222222,
             "#7201a8"
            ],
            [
             0.3333333333333333,
             "#9c179e"
            ],
            [
             0.4444444444444444,
             "#bd3786"
            ],
            [
             0.5555555555555556,
             "#d8576b"
            ],
            [
             0.6666666666666666,
             "#ed7953"
            ],
            [
             0.7777777777777778,
             "#fb9f3a"
            ],
            [
             0.8888888888888888,
             "#fdca26"
            ],
            [
             1,
             "#f0f921"
            ]
           ],
           "sequentialminus": [
            [
             0,
             "#0d0887"
            ],
            [
             0.1111111111111111,
             "#46039f"
            ],
            [
             0.2222222222222222,
             "#7201a8"
            ],
            [
             0.3333333333333333,
             "#9c179e"
            ],
            [
             0.4444444444444444,
             "#bd3786"
            ],
            [
             0.5555555555555556,
             "#d8576b"
            ],
            [
             0.6666666666666666,
             "#ed7953"
            ],
            [
             0.7777777777777778,
             "#fb9f3a"
            ],
            [
             0.8888888888888888,
             "#fdca26"
            ],
            [
             1,
             "#f0f921"
            ]
           ]
          },
          "colorway": [
           "#636efa",
           "#EF553B",
           "#00cc96",
           "#ab63fa",
           "#FFA15A",
           "#19d3f3",
           "#FF6692",
           "#B6E880",
           "#FF97FF",
           "#FECB52"
          ],
          "font": {
           "color": "#2a3f5f"
          },
          "geo": {
           "bgcolor": "white",
           "lakecolor": "white",
           "landcolor": "#E5ECF6",
           "showlakes": true,
           "showland": true,
           "subunitcolor": "white"
          },
          "hoverlabel": {
           "align": "left"
          },
          "hovermode": "closest",
          "mapbox": {
           "style": "light"
          },
          "paper_bgcolor": "white",
          "plot_bgcolor": "#E5ECF6",
          "polar": {
           "angularaxis": {
            "gridcolor": "white",
            "linecolor": "white",
            "ticks": ""
           },
           "bgcolor": "#E5ECF6",
           "radialaxis": {
            "gridcolor": "white",
            "linecolor": "white",
            "ticks": ""
           }
          },
          "scene": {
           "xaxis": {
            "backgroundcolor": "#E5ECF6",
            "gridcolor": "white",
            "gridwidth": 2,
            "linecolor": "white",
            "showbackground": true,
            "ticks": "",
            "zerolinecolor": "white"
           },
           "yaxis": {
            "backgroundcolor": "#E5ECF6",
            "gridcolor": "white",
            "gridwidth": 2,
            "linecolor": "white",
            "showbackground": true,
            "ticks": "",
            "zerolinecolor": "white"
           },
           "zaxis": {
            "backgroundcolor": "#E5ECF6",
            "gridcolor": "white",
            "gridwidth": 2,
            "linecolor": "white",
            "showbackground": true,
            "ticks": "",
            "zerolinecolor": "white"
           }
          },
          "shapedefaults": {
           "line": {
            "color": "#2a3f5f"
           }
          },
          "ternary": {
           "aaxis": {
            "gridcolor": "white",
            "linecolor": "white",
            "ticks": ""
           },
           "baxis": {
            "gridcolor": "white",
            "linecolor": "white",
            "ticks": ""
           },
           "bgcolor": "#E5ECF6",
           "caxis": {
            "gridcolor": "white",
            "linecolor": "white",
            "ticks": ""
           }
          },
          "title": {
           "x": 0.05
          },
          "xaxis": {
           "automargin": true,
           "gridcolor": "white",
           "linecolor": "white",
           "ticks": "",
           "title": {
            "standoff": 15
           },
           "zerolinecolor": "white",
           "zerolinewidth": 2
          },
          "yaxis": {
           "automargin": true,
           "gridcolor": "white",
           "linecolor": "white",
           "ticks": "",
           "title": {
            "standoff": 15
           },
           "zerolinecolor": "white",
           "zerolinewidth": 2
          }
         }
        },
        "title": {
         "font": {
          "color": "#4D5663"
         }
        },
        "xaxis": {
         "gridcolor": "#E1E5ED",
         "showgrid": true,
         "tickfont": {
          "color": "#4D5663"
         },
         "title": {
          "font": {
           "color": "#4D5663"
          },
          "text": ""
         },
         "zerolinecolor": "#E1E5ED"
        },
        "yaxis": {
         "gridcolor": "#E1E5ED",
         "showgrid": true,
         "tickfont": {
          "color": "#4D5663"
         },
         "title": {
          "font": {
           "color": "#4D5663"
          },
          "text": ""
         },
         "zerolinecolor": "#E1E5ED"
        }
       }
      },
      "text/html": [
       "<div>                            <div id=\"adb281a4-9389-4e42-a53d-4e3b72163e20\" class=\"plotly-graph-div\" style=\"height:525px; width:100%;\"></div>            <script type=\"text/javascript\">                require([\"plotly\"], function(Plotly) {                    window.PLOTLYENV=window.PLOTLYENV || {};\n",
       "                    window.PLOTLYENV.BASE_URL='https://plot.ly';                                    if (document.getElementById(\"adb281a4-9389-4e42-a53d-4e3b72163e20\")) {                    Plotly.newPlot(                        \"adb281a4-9389-4e42-a53d-4e3b72163e20\",                        [{\"line\":{\"color\":\"rgba(255, 153, 51, 1.0)\",\"dash\":\"solid\",\"shape\":\"linear\",\"width\":1.3},\"marker\":{\"size\":10,\"symbol\":\"circle\"},\"mode\":\"markers\",\"name\":\"B\",\"text\":\"\",\"x\":[-1.102157375614898,2.2865785896451056,0.4566434341878121,-0.4892334021311478,-2.130815216314164,0.34465161154860385,-0.49941355380787994,-0.07831088917902136,0.602111357449041,1.836312051939149,0.68653066400194,0.7272723288016878,-0.561985964001304,0.4749032085110548,-0.3943567537206873,-1.7812394531296598,-1.55016940753543,-0.8961215905737038,1.0396020876583527,-0.37499036096735866,-0.6078496437501864,-0.6540352795879921,1.5427968616244505,-0.7479992770240803,1.7736972039880796,-1.4616429884856508,0.3784126846667629,-1.2081394791450908,0.7602952072803093,0.43055980891856077,-0.3374320242569034,0.7706767098237173,-0.5463347726811589,0.033762295791289997,0.4990878712300638,1.1825854932025412,0.015844384267101563,-1.129231072418561,-2.7533196079610387,0.22159763708817423,-1.2118605238189528,1.2440218907966467,0.8870437340948487,-1.7602496137961745,-0.8038441161106656,0.43123877184878656,-0.6856111512549908,-0.14699128767403657,-2.2514927775466202,0.3810256579120371,-0.33399073703812215,0.8568310968852303,-1.7591695315282843,0.07139481710721052,-1.4989835427890368,-1.323758692382063,-1.275742543750863,0.511986491292987,-0.16147259749940288,-0.1400937674342753,0.24969654201492142,-0.43518197142108034,-1.3506570771227986,-1.5001516208144998,-0.25444948192148775,-0.6355008883387203,-0.9058493729728965,-0.016032752088665357,0.9103607278606926,0.18871594428745314,1.1671677613599445,1.4371250285751684,0.8337283933215233,0.33254422193403543,0.2537912153759133,-0.8145160628787136,-0.33293900872633314,1.7928098015898093,-0.11558511994838473,-0.5036239283403839,-0.34024420316716014,1.270442607496094,-1.9521088354455611,0.5721799161997925,-0.32676088375004936,0.23829216361816088,-0.6638810319586461,0.6261001378621326,-0.9532031426639209,-0.3028686448220451,-0.03323881015307786,-2.2163813272149397,1.2248574758896162,-1.8261008669183256,0.9927307241686352,-0.4144905926853598,0.7644577521814288,3.3897490150859912,0.9981217162595685,0.2925472587199806],\"y\":[-0.9973385497255842,0.7837905097733299,0.4114202226020897,-1.382519415517844,-0.02544616448446813,1.0186393009420072,0.8558566196560897,-0.42531885825941645,-0.9864996976021687,-0.31840672611245,0.8916014391327218,0.09513064008948738,0.14918112600259187,0.7532993749218637,-0.4276448581127374,-0.07818602716472968,0.9817795497961357,0.5064226646157375,0.4449416714969202,-0.1941305620600468,-1.137333836757778,-0.728364472625442,0.4034551322996591,1.1872038136253862,1.072600861716576,0.876639868363512,0.7988727597172739,0.17336187404735537,-0.9097532082084129,0.012533433013292253,-0.9104096422704079,-2.929051044968031,-1.5106886534736783,-0.7430555641032094,-1.4288854189909295,1.510197624220518,-0.6236299601792391,-1.6305903851678578,1.4970753518573583,-0.6801286472206881,-0.979692810847835,-3.918868670448135,-0.06330189856562465,-0.47566846234842475,-0.9748506827222614,-1.4239641353896577,0.8518918795735684,-0.20012233219710165,1.3231285909537631,-0.20398723136228153,1.7077088102632907,0.8657554903375352,1.5481392063415123,-0.6105570758624655,1.0654680017823588,-1.0570752290932843,-0.6838031775909165,1.2275931051344096,0.04526621790472486,-1.554941047418443,-0.1492809321534578,-1.8643687527914203,1.3024373203496495,0.7601856921246877,-0.4462509524860536,0.48042464024541787,-1.6502678369241321,-0.14019041774634128,0.8566240306940461,0.43174665495270187,0.3556317639900785,-0.40977523162979523,0.08712426831847198,-0.7085711753892611,-0.2033454347552216,-0.4073598964847509,0.6744578923123841,-1.1400810189635784,2.789963286808077,0.7151297181599133,-0.1850065927724431,-0.08078798544387067,0.2943397056056416,-0.4663434080260867,0.4482366769986187,0.47513966341491815,0.5414854165226178,0.26065911224187877,-2.812297320953207,-1.1255949120105435,-2.505700444917874,-0.46977512258405213,1.740423220809751,-1.5441909687392934,-0.3290211676343685,1.2341058228228599,1.4116520784909827,-0.15889216025557068,0.3652472845120724,-0.9506594561815944],\"type\":\"scatter\"}],                        {\"legend\":{\"bgcolor\":\"#F5F6F9\",\"font\":{\"color\":\"#4D5663\"}},\"paper_bgcolor\":\"#F5F6F9\",\"plot_bgcolor\":\"#F5F6F9\",\"template\":{\"data\":{\"barpolar\":[{\"marker\":{\"line\":{\"color\":\"#E5ECF6\",\"width\":0.5},\"pattern\":{\"fillmode\":\"overlay\",\"size\":10,\"solidity\":0.2}},\"type\":\"barpolar\"}],\"bar\":[{\"error_x\":{\"color\":\"#2a3f5f\"},\"error_y\":{\"color\":\"#2a3f5f\"},\"marker\":{\"line\":{\"color\":\"#E5ECF6\",\"width\":0.5},\"pattern\":{\"fillmode\":\"overlay\",\"size\":10,\"solidity\":0.2}},\"type\":\"bar\"}],\"carpet\":[{\"aaxis\":{\"endlinecolor\":\"#2a3f5f\",\"gridcolor\":\"white\",\"linecolor\":\"white\",\"minorgridcolor\":\"white\",\"startlinecolor\":\"#2a3f5f\"},\"baxis\":{\"endlinecolor\":\"#2a3f5f\",\"gridcolor\":\"white\",\"linecolor\":\"white\",\"minorgridcolor\":\"white\",\"startlinecolor\":\"#2a3f5f\"},\"type\":\"carpet\"}],\"choropleth\":[{\"colorbar\":{\"outlinewidth\":0,\"ticks\":\"\"},\"type\":\"choropleth\"}],\"contourcarpet\":[{\"colorbar\":{\"outlinewidth\":0,\"ticks\":\"\"},\"type\":\"contourcarpet\"}],\"contour\":[{\"colorbar\":{\"outlinewidth\":0,\"ticks\":\"\"},\"colorscale\":[[0.0,\"#0d0887\"],[0.1111111111111111,\"#46039f\"],[0.2222222222222222,\"#7201a8\"],[0.3333333333333333,\"#9c179e\"],[0.4444444444444444,\"#bd3786\"],[0.5555555555555556,\"#d8576b\"],[0.6666666666666666,\"#ed7953\"],[0.7777777777777778,\"#fb9f3a\"],[0.8888888888888888,\"#fdca26\"],[1.0,\"#f0f921\"]],\"type\":\"contour\"}],\"heatmapgl\":[{\"colorbar\":{\"outlinewidth\":0,\"ticks\":\"\"},\"colorscale\":[[0.0,\"#0d0887\"],[0.1111111111111111,\"#46039f\"],[0.2222222222222222,\"#7201a8\"],[0.3333333333333333,\"#9c179e\"],[0.4444444444444444,\"#bd3786\"],[0.5555555555555556,\"#d8576b\"],[0.6666666666666666,\"#ed7953\"],[0.7777777777777778,\"#fb9f3a\"],[0.8888888888888888,\"#fdca26\"],[1.0,\"#f0f921\"]],\"type\":\"heatmapgl\"}],\"heatmap\":[{\"colorbar\":{\"outlinewidth\":0,\"ticks\":\"\"},\"colorscale\":[[0.0,\"#0d0887\"],[0.1111111111111111,\"#46039f\"],[0.2222222222222222,\"#7201a8\"],[0.3333333333333333,\"#9c179e\"],[0.4444444444444444,\"#bd3786\"],[0.5555555555555556,\"#d8576b\"],[0.6666666666666666,\"#ed7953\"],[0.7777777777777778,\"#fb9f3a\"],[0.8888888888888888,\"#fdca26\"],[1.0,\"#f0f921\"]],\"type\":\"heatmap\"}],\"histogram2dcontour\":[{\"colorbar\":{\"outlinewidth\":0,\"ticks\":\"\"},\"colorscale\":[[0.0,\"#0d0887\"],[0.1111111111111111,\"#46039f\"],[0.2222222222222222,\"#7201a8\"],[0.3333333333333333,\"#9c179e\"],[0.4444444444444444,\"#bd3786\"],[0.5555555555555556,\"#d8576b\"],[0.6666666666666666,\"#ed7953\"],[0.7777777777777778,\"#fb9f3a\"],[0.8888888888888888,\"#fdca26\"],[1.0,\"#f0f921\"]],\"type\":\"histogram2dcontour\"}],\"histogram2d\":[{\"colorbar\":{\"outlinewidth\":0,\"ticks\":\"\"},\"colorscale\":[[0.0,\"#0d0887\"],[0.1111111111111111,\"#46039f\"],[0.2222222222222222,\"#7201a8\"],[0.3333333333333333,\"#9c179e\"],[0.4444444444444444,\"#bd3786\"],[0.5555555555555556,\"#d8576b\"],[0.6666666666666666,\"#ed7953\"],[0.7777777777777778,\"#fb9f3a\"],[0.8888888888888888,\"#fdca26\"],[1.0,\"#f0f921\"]],\"type\":\"histogram2d\"}],\"histogram\":[{\"marker\":{\"pattern\":{\"fillmode\":\"overlay\",\"size\":10,\"solidity\":0.2}},\"type\":\"histogram\"}],\"mesh3d\":[{\"colorbar\":{\"outlinewidth\":0,\"ticks\":\"\"},\"type\":\"mesh3d\"}],\"parcoords\":[{\"line\":{\"colorbar\":{\"outlinewidth\":0,\"ticks\":\"\"}},\"type\":\"parcoords\"}],\"pie\":[{\"automargin\":true,\"type\":\"pie\"}],\"scatter3d\":[{\"line\":{\"colorbar\":{\"outlinewidth\":0,\"ticks\":\"\"}},\"marker\":{\"colorbar\":{\"outlinewidth\":0,\"ticks\":\"\"}},\"type\":\"scatter3d\"}],\"scattercarpet\":[{\"marker\":{\"colorbar\":{\"outlinewidth\":0,\"ticks\":\"\"}},\"type\":\"scattercarpet\"}],\"scattergeo\":[{\"marker\":{\"colorbar\":{\"outlinewidth\":0,\"ticks\":\"\"}},\"type\":\"scattergeo\"}],\"scattergl\":[{\"marker\":{\"colorbar\":{\"outlinewidth\":0,\"ticks\":\"\"}},\"type\":\"scattergl\"}],\"scattermapbox\":[{\"marker\":{\"colorbar\":{\"outlinewidth\":0,\"ticks\":\"\"}},\"type\":\"scattermapbox\"}],\"scatterpolargl\":[{\"marker\":{\"colorbar\":{\"outlinewidth\":0,\"ticks\":\"\"}},\"type\":\"scatterpolargl\"}],\"scatterpolar\":[{\"marker\":{\"colorbar\":{\"outlinewidth\":0,\"ticks\":\"\"}},\"type\":\"scatterpolar\"}],\"scatter\":[{\"fillpattern\":{\"fillmode\":\"overlay\",\"size\":10,\"solidity\":0.2},\"type\":\"scatter\"}],\"scatterternary\":[{\"marker\":{\"colorbar\":{\"outlinewidth\":0,\"ticks\":\"\"}},\"type\":\"scatterternary\"}],\"surface\":[{\"colorbar\":{\"outlinewidth\":0,\"ticks\":\"\"},\"colorscale\":[[0.0,\"#0d0887\"],[0.1111111111111111,\"#46039f\"],[0.2222222222222222,\"#7201a8\"],[0.3333333333333333,\"#9c179e\"],[0.4444444444444444,\"#bd3786\"],[0.5555555555555556,\"#d8576b\"],[0.6666666666666666,\"#ed7953\"],[0.7777777777777778,\"#fb9f3a\"],[0.8888888888888888,\"#fdca26\"],[1.0,\"#f0f921\"]],\"type\":\"surface\"}],\"table\":[{\"cells\":{\"fill\":{\"color\":\"#EBF0F8\"},\"line\":{\"color\":\"white\"}},\"header\":{\"fill\":{\"color\":\"#C8D4E3\"},\"line\":{\"color\":\"white\"}},\"type\":\"table\"}]},\"layout\":{\"annotationdefaults\":{\"arrowcolor\":\"#2a3f5f\",\"arrowhead\":0,\"arrowwidth\":1},\"autotypenumbers\":\"strict\",\"coloraxis\":{\"colorbar\":{\"outlinewidth\":0,\"ticks\":\"\"}},\"colorscale\":{\"diverging\":[[0,\"#8e0152\"],[0.1,\"#c51b7d\"],[0.2,\"#de77ae\"],[0.3,\"#f1b6da\"],[0.4,\"#fde0ef\"],[0.5,\"#f7f7f7\"],[0.6,\"#e6f5d0\"],[0.7,\"#b8e186\"],[0.8,\"#7fbc41\"],[0.9,\"#4d9221\"],[1,\"#276419\"]],\"sequential\":[[0.0,\"#0d0887\"],[0.1111111111111111,\"#46039f\"],[0.2222222222222222,\"#7201a8\"],[0.3333333333333333,\"#9c179e\"],[0.4444444444444444,\"#bd3786\"],[0.5555555555555556,\"#d8576b\"],[0.6666666666666666,\"#ed7953\"],[0.7777777777777778,\"#fb9f3a\"],[0.8888888888888888,\"#fdca26\"],[1.0,\"#f0f921\"]],\"sequentialminus\":[[0.0,\"#0d0887\"],[0.1111111111111111,\"#46039f\"],[0.2222222222222222,\"#7201a8\"],[0.3333333333333333,\"#9c179e\"],[0.4444444444444444,\"#bd3786\"],[0.5555555555555556,\"#d8576b\"],[0.6666666666666666,\"#ed7953\"],[0.7777777777777778,\"#fb9f3a\"],[0.8888888888888888,\"#fdca26\"],[1.0,\"#f0f921\"]]},\"colorway\":[\"#636efa\",\"#EF553B\",\"#00cc96\",\"#ab63fa\",\"#FFA15A\",\"#19d3f3\",\"#FF6692\",\"#B6E880\",\"#FF97FF\",\"#FECB52\"],\"font\":{\"color\":\"#2a3f5f\"},\"geo\":{\"bgcolor\":\"white\",\"lakecolor\":\"white\",\"landcolor\":\"#E5ECF6\",\"showlakes\":true,\"showland\":true,\"subunitcolor\":\"white\"},\"hoverlabel\":{\"align\":\"left\"},\"hovermode\":\"closest\",\"mapbox\":{\"style\":\"light\"},\"paper_bgcolor\":\"white\",\"plot_bgcolor\":\"#E5ECF6\",\"polar\":{\"angularaxis\":{\"gridcolor\":\"white\",\"linecolor\":\"white\",\"ticks\":\"\"},\"bgcolor\":\"#E5ECF6\",\"radialaxis\":{\"gridcolor\":\"white\",\"linecolor\":\"white\",\"ticks\":\"\"}},\"scene\":{\"xaxis\":{\"backgroundcolor\":\"#E5ECF6\",\"gridcolor\":\"white\",\"gridwidth\":2,\"linecolor\":\"white\",\"showbackground\":true,\"ticks\":\"\",\"zerolinecolor\":\"white\"},\"yaxis\":{\"backgroundcolor\":\"#E5ECF6\",\"gridcolor\":\"white\",\"gridwidth\":2,\"linecolor\":\"white\",\"showbackground\":true,\"ticks\":\"\",\"zerolinecolor\":\"white\"},\"zaxis\":{\"backgroundcolor\":\"#E5ECF6\",\"gridcolor\":\"white\",\"gridwidth\":2,\"linecolor\":\"white\",\"showbackground\":true,\"ticks\":\"\",\"zerolinecolor\":\"white\"}},\"shapedefaults\":{\"line\":{\"color\":\"#2a3f5f\"}},\"ternary\":{\"aaxis\":{\"gridcolor\":\"white\",\"linecolor\":\"white\",\"ticks\":\"\"},\"baxis\":{\"gridcolor\":\"white\",\"linecolor\":\"white\",\"ticks\":\"\"},\"bgcolor\":\"#E5ECF6\",\"caxis\":{\"gridcolor\":\"white\",\"linecolor\":\"white\",\"ticks\":\"\"}},\"title\":{\"x\":0.05},\"xaxis\":{\"automargin\":true,\"gridcolor\":\"white\",\"linecolor\":\"white\",\"ticks\":\"\",\"title\":{\"standoff\":15},\"zerolinecolor\":\"white\",\"zerolinewidth\":2},\"yaxis\":{\"automargin\":true,\"gridcolor\":\"white\",\"linecolor\":\"white\",\"ticks\":\"\",\"title\":{\"standoff\":15},\"zerolinecolor\":\"white\",\"zerolinewidth\":2}}},\"title\":{\"font\":{\"color\":\"#4D5663\"}},\"xaxis\":{\"gridcolor\":\"#E1E5ED\",\"showgrid\":true,\"tickfont\":{\"color\":\"#4D5663\"},\"title\":{\"font\":{\"color\":\"#4D5663\"},\"text\":\"\"},\"zerolinecolor\":\"#E1E5ED\"},\"yaxis\":{\"gridcolor\":\"#E1E5ED\",\"showgrid\":true,\"tickfont\":{\"color\":\"#4D5663\"},\"title\":{\"font\":{\"color\":\"#4D5663\"},\"text\":\"\"},\"zerolinecolor\":\"#E1E5ED\"}},                        {\"showLink\": true, \"linkText\": \"Export to plot.ly\", \"plotlyServerURL\": \"https://plot.ly\", \"responsive\": true}                    ).then(function(){\n",
       "                            \n",
       "var gd = document.getElementById('adb281a4-9389-4e42-a53d-4e3b72163e20');\n",
       "var x = new MutationObserver(function (mutations, observer) {{\n",
       "        var display = window.getComputedStyle(gd).display;\n",
       "        if (!display || display === 'none') {{\n",
       "            console.log([gd, 'removed!']);\n",
       "            Plotly.purge(gd);\n",
       "            observer.disconnect();\n",
       "        }}\n",
       "}});\n",
       "\n",
       "// Listen for the removal of the full notebook cells\n",
       "var notebookContainer = gd.closest('#notebook-container');\n",
       "if (notebookContainer) {{\n",
       "    x.observe(notebookContainer, {childList: true});\n",
       "}}\n",
       "\n",
       "// Listen for the clearing of the current output cell\n",
       "var outputEl = gd.closest('.output');\n",
       "if (outputEl) {{\n",
       "    x.observe(outputEl, {childList: true});\n",
       "}}\n",
       "\n",
       "                        })                };                });            </script>        </div>"
      ]
     },
     "metadata": {},
     "output_type": "display_data"
    }
   ],
   "source": [
    "!pip install --upgrade nbformat\n",
    "df.iplot(kind='scatter',x='A',y='B',mode='markers',size=10)"
   ]
  },
  {
   "cell_type": "markdown",
   "metadata": {},
   "source": [
    "## Bar Plots"
   ]
  },
  {
   "cell_type": "code",
   "execution_count": 17,
   "metadata": {},
   "outputs": [
    {
     "name": "stdout",
     "output_type": "stream",
     "text": [
      "Requirement already satisfied: nbformat in c:\\users\\enzo\\appdata\\local\\programs\\python\\python312\\lib\\site-packages (5.10.4)\n",
      "Requirement already satisfied: fastjsonschema>=2.15 in c:\\users\\enzo\\appdata\\local\\programs\\python\\python312\\lib\\site-packages (from nbformat) (2.20.0)\n",
      "Requirement already satisfied: jsonschema>=2.6 in c:\\users\\enzo\\appdata\\local\\programs\\python\\python312\\lib\\site-packages (from nbformat) (4.22.0)\n",
      "Requirement already satisfied: jupyter-core!=5.0.*,>=4.12 in c:\\users\\enzo\\appdata\\roaming\\python\\python312\\site-packages (from nbformat) (5.7.2)\n",
      "Requirement already satisfied: traitlets>=5.1 in c:\\users\\enzo\\appdata\\roaming\\python\\python312\\site-packages (from nbformat) (5.14.3)\n",
      "Requirement already satisfied: attrs>=22.2.0 in c:\\users\\enzo\\appdata\\local\\programs\\python\\python312\\lib\\site-packages (from jsonschema>=2.6->nbformat) (23.2.0)\n",
      "Requirement already satisfied: jsonschema-specifications>=2023.03.6 in c:\\users\\enzo\\appdata\\local\\programs\\python\\python312\\lib\\site-packages (from jsonschema>=2.6->nbformat) (2023.12.1)\n",
      "Requirement already satisfied: referencing>=0.28.4 in c:\\users\\enzo\\appdata\\local\\programs\\python\\python312\\lib\\site-packages (from jsonschema>=2.6->nbformat) (0.35.1)\n",
      "Requirement already satisfied: rpds-py>=0.7.1 in c:\\users\\enzo\\appdata\\local\\programs\\python\\python312\\lib\\site-packages (from jsonschema>=2.6->nbformat) (0.18.1)\n",
      "Requirement already satisfied: platformdirs>=2.5 in c:\\users\\enzo\\appdata\\roaming\\python\\python312\\site-packages (from jupyter-core!=5.0.*,>=4.12->nbformat) (4.2.1)\n",
      "Requirement already satisfied: pywin32>=300 in c:\\users\\enzo\\appdata\\roaming\\python\\python312\\site-packages (from jupyter-core!=5.0.*,>=4.12->nbformat) (306)\n",
      "Note: you may need to restart the kernel to use updated packages.\n"
     ]
    },
    {
     "data": {
      "application/vnd.plotly.v1+json": {
       "config": {
        "linkText": "Export to plot.ly",
        "plotlyServerURL": "https://plot.ly",
        "showLink": true
       },
       "data": [
        {
         "marker": {
          "color": "rgba(255, 153, 51, 0.6)",
          "line": {
           "color": "rgba(255, 153, 51, 1.0)",
           "width": 1
          }
         },
         "name": "Values",
         "orientation": "v",
         "text": "",
         "type": "bar",
         "x": [
          "A",
          "B",
          "C"
         ],
         "y": [
          32,
          43,
          50
         ]
        }
       ],
       "layout": {
        "legend": {
         "bgcolor": "#F5F6F9",
         "font": {
          "color": "#4D5663"
         }
        },
        "paper_bgcolor": "#F5F6F9",
        "plot_bgcolor": "#F5F6F9",
        "template": {
         "data": {
          "bar": [
           {
            "error_x": {
             "color": "#2a3f5f"
            },
            "error_y": {
             "color": "#2a3f5f"
            },
            "marker": {
             "line": {
              "color": "#E5ECF6",
              "width": 0.5
             },
             "pattern": {
              "fillmode": "overlay",
              "size": 10,
              "solidity": 0.2
             }
            },
            "type": "bar"
           }
          ],
          "barpolar": [
           {
            "marker": {
             "line": {
              "color": "#E5ECF6",
              "width": 0.5
             },
             "pattern": {
              "fillmode": "overlay",
              "size": 10,
              "solidity": 0.2
             }
            },
            "type": "barpolar"
           }
          ],
          "carpet": [
           {
            "aaxis": {
             "endlinecolor": "#2a3f5f",
             "gridcolor": "white",
             "linecolor": "white",
             "minorgridcolor": "white",
             "startlinecolor": "#2a3f5f"
            },
            "baxis": {
             "endlinecolor": "#2a3f5f",
             "gridcolor": "white",
             "linecolor": "white",
             "minorgridcolor": "white",
             "startlinecolor": "#2a3f5f"
            },
            "type": "carpet"
           }
          ],
          "choropleth": [
           {
            "colorbar": {
             "outlinewidth": 0,
             "ticks": ""
            },
            "type": "choropleth"
           }
          ],
          "contour": [
           {
            "colorbar": {
             "outlinewidth": 0,
             "ticks": ""
            },
            "colorscale": [
             [
              0,
              "#0d0887"
             ],
             [
              0.1111111111111111,
              "#46039f"
             ],
             [
              0.2222222222222222,
              "#7201a8"
             ],
             [
              0.3333333333333333,
              "#9c179e"
             ],
             [
              0.4444444444444444,
              "#bd3786"
             ],
             [
              0.5555555555555556,
              "#d8576b"
             ],
             [
              0.6666666666666666,
              "#ed7953"
             ],
             [
              0.7777777777777778,
              "#fb9f3a"
             ],
             [
              0.8888888888888888,
              "#fdca26"
             ],
             [
              1,
              "#f0f921"
             ]
            ],
            "type": "contour"
           }
          ],
          "contourcarpet": [
           {
            "colorbar": {
             "outlinewidth": 0,
             "ticks": ""
            },
            "type": "contourcarpet"
           }
          ],
          "heatmap": [
           {
            "colorbar": {
             "outlinewidth": 0,
             "ticks": ""
            },
            "colorscale": [
             [
              0,
              "#0d0887"
             ],
             [
              0.1111111111111111,
              "#46039f"
             ],
             [
              0.2222222222222222,
              "#7201a8"
             ],
             [
              0.3333333333333333,
              "#9c179e"
             ],
             [
              0.4444444444444444,
              "#bd3786"
             ],
             [
              0.5555555555555556,
              "#d8576b"
             ],
             [
              0.6666666666666666,
              "#ed7953"
             ],
             [
              0.7777777777777778,
              "#fb9f3a"
             ],
             [
              0.8888888888888888,
              "#fdca26"
             ],
             [
              1,
              "#f0f921"
             ]
            ],
            "type": "heatmap"
           }
          ],
          "heatmapgl": [
           {
            "colorbar": {
             "outlinewidth": 0,
             "ticks": ""
            },
            "colorscale": [
             [
              0,
              "#0d0887"
             ],
             [
              0.1111111111111111,
              "#46039f"
             ],
             [
              0.2222222222222222,
              "#7201a8"
             ],
             [
              0.3333333333333333,
              "#9c179e"
             ],
             [
              0.4444444444444444,
              "#bd3786"
             ],
             [
              0.5555555555555556,
              "#d8576b"
             ],
             [
              0.6666666666666666,
              "#ed7953"
             ],
             [
              0.7777777777777778,
              "#fb9f3a"
             ],
             [
              0.8888888888888888,
              "#fdca26"
             ],
             [
              1,
              "#f0f921"
             ]
            ],
            "type": "heatmapgl"
           }
          ],
          "histogram": [
           {
            "marker": {
             "pattern": {
              "fillmode": "overlay",
              "size": 10,
              "solidity": 0.2
             }
            },
            "type": "histogram"
           }
          ],
          "histogram2d": [
           {
            "colorbar": {
             "outlinewidth": 0,
             "ticks": ""
            },
            "colorscale": [
             [
              0,
              "#0d0887"
             ],
             [
              0.1111111111111111,
              "#46039f"
             ],
             [
              0.2222222222222222,
              "#7201a8"
             ],
             [
              0.3333333333333333,
              "#9c179e"
             ],
             [
              0.4444444444444444,
              "#bd3786"
             ],
             [
              0.5555555555555556,
              "#d8576b"
             ],
             [
              0.6666666666666666,
              "#ed7953"
             ],
             [
              0.7777777777777778,
              "#fb9f3a"
             ],
             [
              0.8888888888888888,
              "#fdca26"
             ],
             [
              1,
              "#f0f921"
             ]
            ],
            "type": "histogram2d"
           }
          ],
          "histogram2dcontour": [
           {
            "colorbar": {
             "outlinewidth": 0,
             "ticks": ""
            },
            "colorscale": [
             [
              0,
              "#0d0887"
             ],
             [
              0.1111111111111111,
              "#46039f"
             ],
             [
              0.2222222222222222,
              "#7201a8"
             ],
             [
              0.3333333333333333,
              "#9c179e"
             ],
             [
              0.4444444444444444,
              "#bd3786"
             ],
             [
              0.5555555555555556,
              "#d8576b"
             ],
             [
              0.6666666666666666,
              "#ed7953"
             ],
             [
              0.7777777777777778,
              "#fb9f3a"
             ],
             [
              0.8888888888888888,
              "#fdca26"
             ],
             [
              1,
              "#f0f921"
             ]
            ],
            "type": "histogram2dcontour"
           }
          ],
          "mesh3d": [
           {
            "colorbar": {
             "outlinewidth": 0,
             "ticks": ""
            },
            "type": "mesh3d"
           }
          ],
          "parcoords": [
           {
            "line": {
             "colorbar": {
              "outlinewidth": 0,
              "ticks": ""
             }
            },
            "type": "parcoords"
           }
          ],
          "pie": [
           {
            "automargin": true,
            "type": "pie"
           }
          ],
          "scatter": [
           {
            "fillpattern": {
             "fillmode": "overlay",
             "size": 10,
             "solidity": 0.2
            },
            "type": "scatter"
           }
          ],
          "scatter3d": [
           {
            "line": {
             "colorbar": {
              "outlinewidth": 0,
              "ticks": ""
             }
            },
            "marker": {
             "colorbar": {
              "outlinewidth": 0,
              "ticks": ""
             }
            },
            "type": "scatter3d"
           }
          ],
          "scattercarpet": [
           {
            "marker": {
             "colorbar": {
              "outlinewidth": 0,
              "ticks": ""
             }
            },
            "type": "scattercarpet"
           }
          ],
          "scattergeo": [
           {
            "marker": {
             "colorbar": {
              "outlinewidth": 0,
              "ticks": ""
             }
            },
            "type": "scattergeo"
           }
          ],
          "scattergl": [
           {
            "marker": {
             "colorbar": {
              "outlinewidth": 0,
              "ticks": ""
             }
            },
            "type": "scattergl"
           }
          ],
          "scattermapbox": [
           {
            "marker": {
             "colorbar": {
              "outlinewidth": 0,
              "ticks": ""
             }
            },
            "type": "scattermapbox"
           }
          ],
          "scatterpolar": [
           {
            "marker": {
             "colorbar": {
              "outlinewidth": 0,
              "ticks": ""
             }
            },
            "type": "scatterpolar"
           }
          ],
          "scatterpolargl": [
           {
            "marker": {
             "colorbar": {
              "outlinewidth": 0,
              "ticks": ""
             }
            },
            "type": "scatterpolargl"
           }
          ],
          "scatterternary": [
           {
            "marker": {
             "colorbar": {
              "outlinewidth": 0,
              "ticks": ""
             }
            },
            "type": "scatterternary"
           }
          ],
          "surface": [
           {
            "colorbar": {
             "outlinewidth": 0,
             "ticks": ""
            },
            "colorscale": [
             [
              0,
              "#0d0887"
             ],
             [
              0.1111111111111111,
              "#46039f"
             ],
             [
              0.2222222222222222,
              "#7201a8"
             ],
             [
              0.3333333333333333,
              "#9c179e"
             ],
             [
              0.4444444444444444,
              "#bd3786"
             ],
             [
              0.5555555555555556,
              "#d8576b"
             ],
             [
              0.6666666666666666,
              "#ed7953"
             ],
             [
              0.7777777777777778,
              "#fb9f3a"
             ],
             [
              0.8888888888888888,
              "#fdca26"
             ],
             [
              1,
              "#f0f921"
             ]
            ],
            "type": "surface"
           }
          ],
          "table": [
           {
            "cells": {
             "fill": {
              "color": "#EBF0F8"
             },
             "line": {
              "color": "white"
             }
            },
            "header": {
             "fill": {
              "color": "#C8D4E3"
             },
             "line": {
              "color": "white"
             }
            },
            "type": "table"
           }
          ]
         },
         "layout": {
          "annotationdefaults": {
           "arrowcolor": "#2a3f5f",
           "arrowhead": 0,
           "arrowwidth": 1
          },
          "autotypenumbers": "strict",
          "coloraxis": {
           "colorbar": {
            "outlinewidth": 0,
            "ticks": ""
           }
          },
          "colorscale": {
           "diverging": [
            [
             0,
             "#8e0152"
            ],
            [
             0.1,
             "#c51b7d"
            ],
            [
             0.2,
             "#de77ae"
            ],
            [
             0.3,
             "#f1b6da"
            ],
            [
             0.4,
             "#fde0ef"
            ],
            [
             0.5,
             "#f7f7f7"
            ],
            [
             0.6,
             "#e6f5d0"
            ],
            [
             0.7,
             "#b8e186"
            ],
            [
             0.8,
             "#7fbc41"
            ],
            [
             0.9,
             "#4d9221"
            ],
            [
             1,
             "#276419"
            ]
           ],
           "sequential": [
            [
             0,
             "#0d0887"
            ],
            [
             0.1111111111111111,
             "#46039f"
            ],
            [
             0.2222222222222222,
             "#7201a8"
            ],
            [
             0.3333333333333333,
             "#9c179e"
            ],
            [
             0.4444444444444444,
             "#bd3786"
            ],
            [
             0.5555555555555556,
             "#d8576b"
            ],
            [
             0.6666666666666666,
             "#ed7953"
            ],
            [
             0.7777777777777778,
             "#fb9f3a"
            ],
            [
             0.8888888888888888,
             "#fdca26"
            ],
            [
             1,
             "#f0f921"
            ]
           ],
           "sequentialminus": [
            [
             0,
             "#0d0887"
            ],
            [
             0.1111111111111111,
             "#46039f"
            ],
            [
             0.2222222222222222,
             "#7201a8"
            ],
            [
             0.3333333333333333,
             "#9c179e"
            ],
            [
             0.4444444444444444,
             "#bd3786"
            ],
            [
             0.5555555555555556,
             "#d8576b"
            ],
            [
             0.6666666666666666,
             "#ed7953"
            ],
            [
             0.7777777777777778,
             "#fb9f3a"
            ],
            [
             0.8888888888888888,
             "#fdca26"
            ],
            [
             1,
             "#f0f921"
            ]
           ]
          },
          "colorway": [
           "#636efa",
           "#EF553B",
           "#00cc96",
           "#ab63fa",
           "#FFA15A",
           "#19d3f3",
           "#FF6692",
           "#B6E880",
           "#FF97FF",
           "#FECB52"
          ],
          "font": {
           "color": "#2a3f5f"
          },
          "geo": {
           "bgcolor": "white",
           "lakecolor": "white",
           "landcolor": "#E5ECF6",
           "showlakes": true,
           "showland": true,
           "subunitcolor": "white"
          },
          "hoverlabel": {
           "align": "left"
          },
          "hovermode": "closest",
          "mapbox": {
           "style": "light"
          },
          "paper_bgcolor": "white",
          "plot_bgcolor": "#E5ECF6",
          "polar": {
           "angularaxis": {
            "gridcolor": "white",
            "linecolor": "white",
            "ticks": ""
           },
           "bgcolor": "#E5ECF6",
           "radialaxis": {
            "gridcolor": "white",
            "linecolor": "white",
            "ticks": ""
           }
          },
          "scene": {
           "xaxis": {
            "backgroundcolor": "#E5ECF6",
            "gridcolor": "white",
            "gridwidth": 2,
            "linecolor": "white",
            "showbackground": true,
            "ticks": "",
            "zerolinecolor": "white"
           },
           "yaxis": {
            "backgroundcolor": "#E5ECF6",
            "gridcolor": "white",
            "gridwidth": 2,
            "linecolor": "white",
            "showbackground": true,
            "ticks": "",
            "zerolinecolor": "white"
           },
           "zaxis": {
            "backgroundcolor": "#E5ECF6",
            "gridcolor": "white",
            "gridwidth": 2,
            "linecolor": "white",
            "showbackground": true,
            "ticks": "",
            "zerolinecolor": "white"
           }
          },
          "shapedefaults": {
           "line": {
            "color": "#2a3f5f"
           }
          },
          "ternary": {
           "aaxis": {
            "gridcolor": "white",
            "linecolor": "white",
            "ticks": ""
           },
           "baxis": {
            "gridcolor": "white",
            "linecolor": "white",
            "ticks": ""
           },
           "bgcolor": "#E5ECF6",
           "caxis": {
            "gridcolor": "white",
            "linecolor": "white",
            "ticks": ""
           }
          },
          "title": {
           "x": 0.05
          },
          "xaxis": {
           "automargin": true,
           "gridcolor": "white",
           "linecolor": "white",
           "ticks": "",
           "title": {
            "standoff": 15
           },
           "zerolinecolor": "white",
           "zerolinewidth": 2
          },
          "yaxis": {
           "automargin": true,
           "gridcolor": "white",
           "linecolor": "white",
           "ticks": "",
           "title": {
            "standoff": 15
           },
           "zerolinecolor": "white",
           "zerolinewidth": 2
          }
         }
        },
        "title": {
         "font": {
          "color": "#4D5663"
         }
        },
        "xaxis": {
         "gridcolor": "#E1E5ED",
         "showgrid": true,
         "tickfont": {
          "color": "#4D5663"
         },
         "title": {
          "font": {
           "color": "#4D5663"
          },
          "text": ""
         },
         "zerolinecolor": "#E1E5ED"
        },
        "yaxis": {
         "gridcolor": "#E1E5ED",
         "showgrid": true,
         "tickfont": {
          "color": "#4D5663"
         },
         "title": {
          "font": {
           "color": "#4D5663"
          },
          "text": ""
         },
         "zerolinecolor": "#E1E5ED"
        }
       }
      },
      "text/html": [
       "<div>                            <div id=\"f581b7ff-e4f8-48ed-8599-e8373efec82b\" class=\"plotly-graph-div\" style=\"height:525px; width:100%;\"></div>            <script type=\"text/javascript\">                require([\"plotly\"], function(Plotly) {                    window.PLOTLYENV=window.PLOTLYENV || {};\n",
       "                    window.PLOTLYENV.BASE_URL='https://plot.ly';                                    if (document.getElementById(\"f581b7ff-e4f8-48ed-8599-e8373efec82b\")) {                    Plotly.newPlot(                        \"f581b7ff-e4f8-48ed-8599-e8373efec82b\",                        [{\"marker\":{\"color\":\"rgba(255, 153, 51, 0.6)\",\"line\":{\"color\":\"rgba(255, 153, 51, 1.0)\",\"width\":1}},\"name\":\"Values\",\"orientation\":\"v\",\"text\":\"\",\"x\":[\"A\",\"B\",\"C\"],\"y\":[32,43,50],\"type\":\"bar\"}],                        {\"legend\":{\"bgcolor\":\"#F5F6F9\",\"font\":{\"color\":\"#4D5663\"}},\"paper_bgcolor\":\"#F5F6F9\",\"plot_bgcolor\":\"#F5F6F9\",\"template\":{\"data\":{\"barpolar\":[{\"marker\":{\"line\":{\"color\":\"#E5ECF6\",\"width\":0.5},\"pattern\":{\"fillmode\":\"overlay\",\"size\":10,\"solidity\":0.2}},\"type\":\"barpolar\"}],\"bar\":[{\"error_x\":{\"color\":\"#2a3f5f\"},\"error_y\":{\"color\":\"#2a3f5f\"},\"marker\":{\"line\":{\"color\":\"#E5ECF6\",\"width\":0.5},\"pattern\":{\"fillmode\":\"overlay\",\"size\":10,\"solidity\":0.2}},\"type\":\"bar\"}],\"carpet\":[{\"aaxis\":{\"endlinecolor\":\"#2a3f5f\",\"gridcolor\":\"white\",\"linecolor\":\"white\",\"minorgridcolor\":\"white\",\"startlinecolor\":\"#2a3f5f\"},\"baxis\":{\"endlinecolor\":\"#2a3f5f\",\"gridcolor\":\"white\",\"linecolor\":\"white\",\"minorgridcolor\":\"white\",\"startlinecolor\":\"#2a3f5f\"},\"type\":\"carpet\"}],\"choropleth\":[{\"colorbar\":{\"outlinewidth\":0,\"ticks\":\"\"},\"type\":\"choropleth\"}],\"contourcarpet\":[{\"colorbar\":{\"outlinewidth\":0,\"ticks\":\"\"},\"type\":\"contourcarpet\"}],\"contour\":[{\"colorbar\":{\"outlinewidth\":0,\"ticks\":\"\"},\"colorscale\":[[0.0,\"#0d0887\"],[0.1111111111111111,\"#46039f\"],[0.2222222222222222,\"#7201a8\"],[0.3333333333333333,\"#9c179e\"],[0.4444444444444444,\"#bd3786\"],[0.5555555555555556,\"#d8576b\"],[0.6666666666666666,\"#ed7953\"],[0.7777777777777778,\"#fb9f3a\"],[0.8888888888888888,\"#fdca26\"],[1.0,\"#f0f921\"]],\"type\":\"contour\"}],\"heatmapgl\":[{\"colorbar\":{\"outlinewidth\":0,\"ticks\":\"\"},\"colorscale\":[[0.0,\"#0d0887\"],[0.1111111111111111,\"#46039f\"],[0.2222222222222222,\"#7201a8\"],[0.3333333333333333,\"#9c179e\"],[0.4444444444444444,\"#bd3786\"],[0.5555555555555556,\"#d8576b\"],[0.6666666666666666,\"#ed7953\"],[0.7777777777777778,\"#fb9f3a\"],[0.8888888888888888,\"#fdca26\"],[1.0,\"#f0f921\"]],\"type\":\"heatmapgl\"}],\"heatmap\":[{\"colorbar\":{\"outlinewidth\":0,\"ticks\":\"\"},\"colorscale\":[[0.0,\"#0d0887\"],[0.1111111111111111,\"#46039f\"],[0.2222222222222222,\"#7201a8\"],[0.3333333333333333,\"#9c179e\"],[0.4444444444444444,\"#bd3786\"],[0.5555555555555556,\"#d8576b\"],[0.6666666666666666,\"#ed7953\"],[0.7777777777777778,\"#fb9f3a\"],[0.8888888888888888,\"#fdca26\"],[1.0,\"#f0f921\"]],\"type\":\"heatmap\"}],\"histogram2dcontour\":[{\"colorbar\":{\"outlinewidth\":0,\"ticks\":\"\"},\"colorscale\":[[0.0,\"#0d0887\"],[0.1111111111111111,\"#46039f\"],[0.2222222222222222,\"#7201a8\"],[0.3333333333333333,\"#9c179e\"],[0.4444444444444444,\"#bd3786\"],[0.5555555555555556,\"#d8576b\"],[0.6666666666666666,\"#ed7953\"],[0.7777777777777778,\"#fb9f3a\"],[0.8888888888888888,\"#fdca26\"],[1.0,\"#f0f921\"]],\"type\":\"histogram2dcontour\"}],\"histogram2d\":[{\"colorbar\":{\"outlinewidth\":0,\"ticks\":\"\"},\"colorscale\":[[0.0,\"#0d0887\"],[0.1111111111111111,\"#46039f\"],[0.2222222222222222,\"#7201a8\"],[0.3333333333333333,\"#9c179e\"],[0.4444444444444444,\"#bd3786\"],[0.5555555555555556,\"#d8576b\"],[0.6666666666666666,\"#ed7953\"],[0.7777777777777778,\"#fb9f3a\"],[0.8888888888888888,\"#fdca26\"],[1.0,\"#f0f921\"]],\"type\":\"histogram2d\"}],\"histogram\":[{\"marker\":{\"pattern\":{\"fillmode\":\"overlay\",\"size\":10,\"solidity\":0.2}},\"type\":\"histogram\"}],\"mesh3d\":[{\"colorbar\":{\"outlinewidth\":0,\"ticks\":\"\"},\"type\":\"mesh3d\"}],\"parcoords\":[{\"line\":{\"colorbar\":{\"outlinewidth\":0,\"ticks\":\"\"}},\"type\":\"parcoords\"}],\"pie\":[{\"automargin\":true,\"type\":\"pie\"}],\"scatter3d\":[{\"line\":{\"colorbar\":{\"outlinewidth\":0,\"ticks\":\"\"}},\"marker\":{\"colorbar\":{\"outlinewidth\":0,\"ticks\":\"\"}},\"type\":\"scatter3d\"}],\"scattercarpet\":[{\"marker\":{\"colorbar\":{\"outlinewidth\":0,\"ticks\":\"\"}},\"type\":\"scattercarpet\"}],\"scattergeo\":[{\"marker\":{\"colorbar\":{\"outlinewidth\":0,\"ticks\":\"\"}},\"type\":\"scattergeo\"}],\"scattergl\":[{\"marker\":{\"colorbar\":{\"outlinewidth\":0,\"ticks\":\"\"}},\"type\":\"scattergl\"}],\"scattermapbox\":[{\"marker\":{\"colorbar\":{\"outlinewidth\":0,\"ticks\":\"\"}},\"type\":\"scattermapbox\"}],\"scatterpolargl\":[{\"marker\":{\"colorbar\":{\"outlinewidth\":0,\"ticks\":\"\"}},\"type\":\"scatterpolargl\"}],\"scatterpolar\":[{\"marker\":{\"colorbar\":{\"outlinewidth\":0,\"ticks\":\"\"}},\"type\":\"scatterpolar\"}],\"scatter\":[{\"fillpattern\":{\"fillmode\":\"overlay\",\"size\":10,\"solidity\":0.2},\"type\":\"scatter\"}],\"scatterternary\":[{\"marker\":{\"colorbar\":{\"outlinewidth\":0,\"ticks\":\"\"}},\"type\":\"scatterternary\"}],\"surface\":[{\"colorbar\":{\"outlinewidth\":0,\"ticks\":\"\"},\"colorscale\":[[0.0,\"#0d0887\"],[0.1111111111111111,\"#46039f\"],[0.2222222222222222,\"#7201a8\"],[0.3333333333333333,\"#9c179e\"],[0.4444444444444444,\"#bd3786\"],[0.5555555555555556,\"#d8576b\"],[0.6666666666666666,\"#ed7953\"],[0.7777777777777778,\"#fb9f3a\"],[0.8888888888888888,\"#fdca26\"],[1.0,\"#f0f921\"]],\"type\":\"surface\"}],\"table\":[{\"cells\":{\"fill\":{\"color\":\"#EBF0F8\"},\"line\":{\"color\":\"white\"}},\"header\":{\"fill\":{\"color\":\"#C8D4E3\"},\"line\":{\"color\":\"white\"}},\"type\":\"table\"}]},\"layout\":{\"annotationdefaults\":{\"arrowcolor\":\"#2a3f5f\",\"arrowhead\":0,\"arrowwidth\":1},\"autotypenumbers\":\"strict\",\"coloraxis\":{\"colorbar\":{\"outlinewidth\":0,\"ticks\":\"\"}},\"colorscale\":{\"diverging\":[[0,\"#8e0152\"],[0.1,\"#c51b7d\"],[0.2,\"#de77ae\"],[0.3,\"#f1b6da\"],[0.4,\"#fde0ef\"],[0.5,\"#f7f7f7\"],[0.6,\"#e6f5d0\"],[0.7,\"#b8e186\"],[0.8,\"#7fbc41\"],[0.9,\"#4d9221\"],[1,\"#276419\"]],\"sequential\":[[0.0,\"#0d0887\"],[0.1111111111111111,\"#46039f\"],[0.2222222222222222,\"#7201a8\"],[0.3333333333333333,\"#9c179e\"],[0.4444444444444444,\"#bd3786\"],[0.5555555555555556,\"#d8576b\"],[0.6666666666666666,\"#ed7953\"],[0.7777777777777778,\"#fb9f3a\"],[0.8888888888888888,\"#fdca26\"],[1.0,\"#f0f921\"]],\"sequentialminus\":[[0.0,\"#0d0887\"],[0.1111111111111111,\"#46039f\"],[0.2222222222222222,\"#7201a8\"],[0.3333333333333333,\"#9c179e\"],[0.4444444444444444,\"#bd3786\"],[0.5555555555555556,\"#d8576b\"],[0.6666666666666666,\"#ed7953\"],[0.7777777777777778,\"#fb9f3a\"],[0.8888888888888888,\"#fdca26\"],[1.0,\"#f0f921\"]]},\"colorway\":[\"#636efa\",\"#EF553B\",\"#00cc96\",\"#ab63fa\",\"#FFA15A\",\"#19d3f3\",\"#FF6692\",\"#B6E880\",\"#FF97FF\",\"#FECB52\"],\"font\":{\"color\":\"#2a3f5f\"},\"geo\":{\"bgcolor\":\"white\",\"lakecolor\":\"white\",\"landcolor\":\"#E5ECF6\",\"showlakes\":true,\"showland\":true,\"subunitcolor\":\"white\"},\"hoverlabel\":{\"align\":\"left\"},\"hovermode\":\"closest\",\"mapbox\":{\"style\":\"light\"},\"paper_bgcolor\":\"white\",\"plot_bgcolor\":\"#E5ECF6\",\"polar\":{\"angularaxis\":{\"gridcolor\":\"white\",\"linecolor\":\"white\",\"ticks\":\"\"},\"bgcolor\":\"#E5ECF6\",\"radialaxis\":{\"gridcolor\":\"white\",\"linecolor\":\"white\",\"ticks\":\"\"}},\"scene\":{\"xaxis\":{\"backgroundcolor\":\"#E5ECF6\",\"gridcolor\":\"white\",\"gridwidth\":2,\"linecolor\":\"white\",\"showbackground\":true,\"ticks\":\"\",\"zerolinecolor\":\"white\"},\"yaxis\":{\"backgroundcolor\":\"#E5ECF6\",\"gridcolor\":\"white\",\"gridwidth\":2,\"linecolor\":\"white\",\"showbackground\":true,\"ticks\":\"\",\"zerolinecolor\":\"white\"},\"zaxis\":{\"backgroundcolor\":\"#E5ECF6\",\"gridcolor\":\"white\",\"gridwidth\":2,\"linecolor\":\"white\",\"showbackground\":true,\"ticks\":\"\",\"zerolinecolor\":\"white\"}},\"shapedefaults\":{\"line\":{\"color\":\"#2a3f5f\"}},\"ternary\":{\"aaxis\":{\"gridcolor\":\"white\",\"linecolor\":\"white\",\"ticks\":\"\"},\"baxis\":{\"gridcolor\":\"white\",\"linecolor\":\"white\",\"ticks\":\"\"},\"bgcolor\":\"#E5ECF6\",\"caxis\":{\"gridcolor\":\"white\",\"linecolor\":\"white\",\"ticks\":\"\"}},\"title\":{\"x\":0.05},\"xaxis\":{\"automargin\":true,\"gridcolor\":\"white\",\"linecolor\":\"white\",\"ticks\":\"\",\"title\":{\"standoff\":15},\"zerolinecolor\":\"white\",\"zerolinewidth\":2},\"yaxis\":{\"automargin\":true,\"gridcolor\":\"white\",\"linecolor\":\"white\",\"ticks\":\"\",\"title\":{\"standoff\":15},\"zerolinecolor\":\"white\",\"zerolinewidth\":2}}},\"title\":{\"font\":{\"color\":\"#4D5663\"}},\"xaxis\":{\"gridcolor\":\"#E1E5ED\",\"showgrid\":true,\"tickfont\":{\"color\":\"#4D5663\"},\"title\":{\"font\":{\"color\":\"#4D5663\"},\"text\":\"\"},\"zerolinecolor\":\"#E1E5ED\"},\"yaxis\":{\"gridcolor\":\"#E1E5ED\",\"showgrid\":true,\"tickfont\":{\"color\":\"#4D5663\"},\"title\":{\"font\":{\"color\":\"#4D5663\"},\"text\":\"\"},\"zerolinecolor\":\"#E1E5ED\"}},                        {\"showLink\": true, \"linkText\": \"Export to plot.ly\", \"plotlyServerURL\": \"https://plot.ly\", \"responsive\": true}                    ).then(function(){\n",
       "                            \n",
       "var gd = document.getElementById('f581b7ff-e4f8-48ed-8599-e8373efec82b');\n",
       "var x = new MutationObserver(function (mutations, observer) {{\n",
       "        var display = window.getComputedStyle(gd).display;\n",
       "        if (!display || display === 'none') {{\n",
       "            console.log([gd, 'removed!']);\n",
       "            Plotly.purge(gd);\n",
       "            observer.disconnect();\n",
       "        }}\n",
       "}});\n",
       "\n",
       "// Listen for the removal of the full notebook cells\n",
       "var notebookContainer = gd.closest('#notebook-container');\n",
       "if (notebookContainer) {{\n",
       "    x.observe(notebookContainer, {childList: true});\n",
       "}}\n",
       "\n",
       "// Listen for the clearing of the current output cell\n",
       "var outputEl = gd.closest('.output');\n",
       "if (outputEl) {{\n",
       "    x.observe(outputEl, {childList: true});\n",
       "}}\n",
       "\n",
       "                        })                };                });            </script>        </div>"
      ]
     },
     "metadata": {},
     "output_type": "display_data"
    }
   ],
   "source": [
    "%pip install --upgrade nbformat\n",
    "df2.iplot(kind='bar',x='Category',y='Values')"
   ]
  },
  {
   "cell_type": "code",
   "execution_count": 18,
   "metadata": {},
   "outputs": [
    {
     "data": {
      "application/vnd.plotly.v1+json": {
       "config": {
        "linkText": "Export to plot.ly",
        "plotlyServerURL": "https://plot.ly",
        "showLink": true
       },
       "data": [
        {
         "marker": {
          "color": "rgba(255, 153, 51, 0.6)",
          "line": {
           "color": "rgba(255, 153, 51, 1.0)",
           "width": 1
          }
         },
         "name": "None",
         "orientation": "v",
         "text": "",
         "type": "bar",
         "x": [
          "A",
          "B",
          "C",
          "D"
         ],
         "y": [
          100,
          100,
          100,
          100
         ]
        }
       ],
       "layout": {
        "legend": {
         "bgcolor": "#F5F6F9",
         "font": {
          "color": "#4D5663"
         }
        },
        "paper_bgcolor": "#F5F6F9",
        "plot_bgcolor": "#F5F6F9",
        "template": {
         "data": {
          "bar": [
           {
            "error_x": {
             "color": "#2a3f5f"
            },
            "error_y": {
             "color": "#2a3f5f"
            },
            "marker": {
             "line": {
              "color": "#E5ECF6",
              "width": 0.5
             },
             "pattern": {
              "fillmode": "overlay",
              "size": 10,
              "solidity": 0.2
             }
            },
            "type": "bar"
           }
          ],
          "barpolar": [
           {
            "marker": {
             "line": {
              "color": "#E5ECF6",
              "width": 0.5
             },
             "pattern": {
              "fillmode": "overlay",
              "size": 10,
              "solidity": 0.2
             }
            },
            "type": "barpolar"
           }
          ],
          "carpet": [
           {
            "aaxis": {
             "endlinecolor": "#2a3f5f",
             "gridcolor": "white",
             "linecolor": "white",
             "minorgridcolor": "white",
             "startlinecolor": "#2a3f5f"
            },
            "baxis": {
             "endlinecolor": "#2a3f5f",
             "gridcolor": "white",
             "linecolor": "white",
             "minorgridcolor": "white",
             "startlinecolor": "#2a3f5f"
            },
            "type": "carpet"
           }
          ],
          "choropleth": [
           {
            "colorbar": {
             "outlinewidth": 0,
             "ticks": ""
            },
            "type": "choropleth"
           }
          ],
          "contour": [
           {
            "colorbar": {
             "outlinewidth": 0,
             "ticks": ""
            },
            "colorscale": [
             [
              0,
              "#0d0887"
             ],
             [
              0.1111111111111111,
              "#46039f"
             ],
             [
              0.2222222222222222,
              "#7201a8"
             ],
             [
              0.3333333333333333,
              "#9c179e"
             ],
             [
              0.4444444444444444,
              "#bd3786"
             ],
             [
              0.5555555555555556,
              "#d8576b"
             ],
             [
              0.6666666666666666,
              "#ed7953"
             ],
             [
              0.7777777777777778,
              "#fb9f3a"
             ],
             [
              0.8888888888888888,
              "#fdca26"
             ],
             [
              1,
              "#f0f921"
             ]
            ],
            "type": "contour"
           }
          ],
          "contourcarpet": [
           {
            "colorbar": {
             "outlinewidth": 0,
             "ticks": ""
            },
            "type": "contourcarpet"
           }
          ],
          "heatmap": [
           {
            "colorbar": {
             "outlinewidth": 0,
             "ticks": ""
            },
            "colorscale": [
             [
              0,
              "#0d0887"
             ],
             [
              0.1111111111111111,
              "#46039f"
             ],
             [
              0.2222222222222222,
              "#7201a8"
             ],
             [
              0.3333333333333333,
              "#9c179e"
             ],
             [
              0.4444444444444444,
              "#bd3786"
             ],
             [
              0.5555555555555556,
              "#d8576b"
             ],
             [
              0.6666666666666666,
              "#ed7953"
             ],
             [
              0.7777777777777778,
              "#fb9f3a"
             ],
             [
              0.8888888888888888,
              "#fdca26"
             ],
             [
              1,
              "#f0f921"
             ]
            ],
            "type": "heatmap"
           }
          ],
          "heatmapgl": [
           {
            "colorbar": {
             "outlinewidth": 0,
             "ticks": ""
            },
            "colorscale": [
             [
              0,
              "#0d0887"
             ],
             [
              0.1111111111111111,
              "#46039f"
             ],
             [
              0.2222222222222222,
              "#7201a8"
             ],
             [
              0.3333333333333333,
              "#9c179e"
             ],
             [
              0.4444444444444444,
              "#bd3786"
             ],
             [
              0.5555555555555556,
              "#d8576b"
             ],
             [
              0.6666666666666666,
              "#ed7953"
             ],
             [
              0.7777777777777778,
              "#fb9f3a"
             ],
             [
              0.8888888888888888,
              "#fdca26"
             ],
             [
              1,
              "#f0f921"
             ]
            ],
            "type": "heatmapgl"
           }
          ],
          "histogram": [
           {
            "marker": {
             "pattern": {
              "fillmode": "overlay",
              "size": 10,
              "solidity": 0.2
             }
            },
            "type": "histogram"
           }
          ],
          "histogram2d": [
           {
            "colorbar": {
             "outlinewidth": 0,
             "ticks": ""
            },
            "colorscale": [
             [
              0,
              "#0d0887"
             ],
             [
              0.1111111111111111,
              "#46039f"
             ],
             [
              0.2222222222222222,
              "#7201a8"
             ],
             [
              0.3333333333333333,
              "#9c179e"
             ],
             [
              0.4444444444444444,
              "#bd3786"
             ],
             [
              0.5555555555555556,
              "#d8576b"
             ],
             [
              0.6666666666666666,
              "#ed7953"
             ],
             [
              0.7777777777777778,
              "#fb9f3a"
             ],
             [
              0.8888888888888888,
              "#fdca26"
             ],
             [
              1,
              "#f0f921"
             ]
            ],
            "type": "histogram2d"
           }
          ],
          "histogram2dcontour": [
           {
            "colorbar": {
             "outlinewidth": 0,
             "ticks": ""
            },
            "colorscale": [
             [
              0,
              "#0d0887"
             ],
             [
              0.1111111111111111,
              "#46039f"
             ],
             [
              0.2222222222222222,
              "#7201a8"
             ],
             [
              0.3333333333333333,
              "#9c179e"
             ],
             [
              0.4444444444444444,
              "#bd3786"
             ],
             [
              0.5555555555555556,
              "#d8576b"
             ],
             [
              0.6666666666666666,
              "#ed7953"
             ],
             [
              0.7777777777777778,
              "#fb9f3a"
             ],
             [
              0.8888888888888888,
              "#fdca26"
             ],
             [
              1,
              "#f0f921"
             ]
            ],
            "type": "histogram2dcontour"
           }
          ],
          "mesh3d": [
           {
            "colorbar": {
             "outlinewidth": 0,
             "ticks": ""
            },
            "type": "mesh3d"
           }
          ],
          "parcoords": [
           {
            "line": {
             "colorbar": {
              "outlinewidth": 0,
              "ticks": ""
             }
            },
            "type": "parcoords"
           }
          ],
          "pie": [
           {
            "automargin": true,
            "type": "pie"
           }
          ],
          "scatter": [
           {
            "fillpattern": {
             "fillmode": "overlay",
             "size": 10,
             "solidity": 0.2
            },
            "type": "scatter"
           }
          ],
          "scatter3d": [
           {
            "line": {
             "colorbar": {
              "outlinewidth": 0,
              "ticks": ""
             }
            },
            "marker": {
             "colorbar": {
              "outlinewidth": 0,
              "ticks": ""
             }
            },
            "type": "scatter3d"
           }
          ],
          "scattercarpet": [
           {
            "marker": {
             "colorbar": {
              "outlinewidth": 0,
              "ticks": ""
             }
            },
            "type": "scattercarpet"
           }
          ],
          "scattergeo": [
           {
            "marker": {
             "colorbar": {
              "outlinewidth": 0,
              "ticks": ""
             }
            },
            "type": "scattergeo"
           }
          ],
          "scattergl": [
           {
            "marker": {
             "colorbar": {
              "outlinewidth": 0,
              "ticks": ""
             }
            },
            "type": "scattergl"
           }
          ],
          "scattermapbox": [
           {
            "marker": {
             "colorbar": {
              "outlinewidth": 0,
              "ticks": ""
             }
            },
            "type": "scattermapbox"
           }
          ],
          "scatterpolar": [
           {
            "marker": {
             "colorbar": {
              "outlinewidth": 0,
              "ticks": ""
             }
            },
            "type": "scatterpolar"
           }
          ],
          "scatterpolargl": [
           {
            "marker": {
             "colorbar": {
              "outlinewidth": 0,
              "ticks": ""
             }
            },
            "type": "scatterpolargl"
           }
          ],
          "scatterternary": [
           {
            "marker": {
             "colorbar": {
              "outlinewidth": 0,
              "ticks": ""
             }
            },
            "type": "scatterternary"
           }
          ],
          "surface": [
           {
            "colorbar": {
             "outlinewidth": 0,
             "ticks": ""
            },
            "colorscale": [
             [
              0,
              "#0d0887"
             ],
             [
              0.1111111111111111,
              "#46039f"
             ],
             [
              0.2222222222222222,
              "#7201a8"
             ],
             [
              0.3333333333333333,
              "#9c179e"
             ],
             [
              0.4444444444444444,
              "#bd3786"
             ],
             [
              0.5555555555555556,
              "#d8576b"
             ],
             [
              0.6666666666666666,
              "#ed7953"
             ],
             [
              0.7777777777777778,
              "#fb9f3a"
             ],
             [
              0.8888888888888888,
              "#fdca26"
             ],
             [
              1,
              "#f0f921"
             ]
            ],
            "type": "surface"
           }
          ],
          "table": [
           {
            "cells": {
             "fill": {
              "color": "#EBF0F8"
             },
             "line": {
              "color": "white"
             }
            },
            "header": {
             "fill": {
              "color": "#C8D4E3"
             },
             "line": {
              "color": "white"
             }
            },
            "type": "table"
           }
          ]
         },
         "layout": {
          "annotationdefaults": {
           "arrowcolor": "#2a3f5f",
           "arrowhead": 0,
           "arrowwidth": 1
          },
          "autotypenumbers": "strict",
          "coloraxis": {
           "colorbar": {
            "outlinewidth": 0,
            "ticks": ""
           }
          },
          "colorscale": {
           "diverging": [
            [
             0,
             "#8e0152"
            ],
            [
             0.1,
             "#c51b7d"
            ],
            [
             0.2,
             "#de77ae"
            ],
            [
             0.3,
             "#f1b6da"
            ],
            [
             0.4,
             "#fde0ef"
            ],
            [
             0.5,
             "#f7f7f7"
            ],
            [
             0.6,
             "#e6f5d0"
            ],
            [
             0.7,
             "#b8e186"
            ],
            [
             0.8,
             "#7fbc41"
            ],
            [
             0.9,
             "#4d9221"
            ],
            [
             1,
             "#276419"
            ]
           ],
           "sequential": [
            [
             0,
             "#0d0887"
            ],
            [
             0.1111111111111111,
             "#46039f"
            ],
            [
             0.2222222222222222,
             "#7201a8"
            ],
            [
             0.3333333333333333,
             "#9c179e"
            ],
            [
             0.4444444444444444,
             "#bd3786"
            ],
            [
             0.5555555555555556,
             "#d8576b"
            ],
            [
             0.6666666666666666,
             "#ed7953"
            ],
            [
             0.7777777777777778,
             "#fb9f3a"
            ],
            [
             0.8888888888888888,
             "#fdca26"
            ],
            [
             1,
             "#f0f921"
            ]
           ],
           "sequentialminus": [
            [
             0,
             "#0d0887"
            ],
            [
             0.1111111111111111,
             "#46039f"
            ],
            [
             0.2222222222222222,
             "#7201a8"
            ],
            [
             0.3333333333333333,
             "#9c179e"
            ],
            [
             0.4444444444444444,
             "#bd3786"
            ],
            [
             0.5555555555555556,
             "#d8576b"
            ],
            [
             0.6666666666666666,
             "#ed7953"
            ],
            [
             0.7777777777777778,
             "#fb9f3a"
            ],
            [
             0.8888888888888888,
             "#fdca26"
            ],
            [
             1,
             "#f0f921"
            ]
           ]
          },
          "colorway": [
           "#636efa",
           "#EF553B",
           "#00cc96",
           "#ab63fa",
           "#FFA15A",
           "#19d3f3",
           "#FF6692",
           "#B6E880",
           "#FF97FF",
           "#FECB52"
          ],
          "font": {
           "color": "#2a3f5f"
          },
          "geo": {
           "bgcolor": "white",
           "lakecolor": "white",
           "landcolor": "#E5ECF6",
           "showlakes": true,
           "showland": true,
           "subunitcolor": "white"
          },
          "hoverlabel": {
           "align": "left"
          },
          "hovermode": "closest",
          "mapbox": {
           "style": "light"
          },
          "paper_bgcolor": "white",
          "plot_bgcolor": "#E5ECF6",
          "polar": {
           "angularaxis": {
            "gridcolor": "white",
            "linecolor": "white",
            "ticks": ""
           },
           "bgcolor": "#E5ECF6",
           "radialaxis": {
            "gridcolor": "white",
            "linecolor": "white",
            "ticks": ""
           }
          },
          "scene": {
           "xaxis": {
            "backgroundcolor": "#E5ECF6",
            "gridcolor": "white",
            "gridwidth": 2,
            "linecolor": "white",
            "showbackground": true,
            "ticks": "",
            "zerolinecolor": "white"
           },
           "yaxis": {
            "backgroundcolor": "#E5ECF6",
            "gridcolor": "white",
            "gridwidth": 2,
            "linecolor": "white",
            "showbackground": true,
            "ticks": "",
            "zerolinecolor": "white"
           },
           "zaxis": {
            "backgroundcolor": "#E5ECF6",
            "gridcolor": "white",
            "gridwidth": 2,
            "linecolor": "white",
            "showbackground": true,
            "ticks": "",
            "zerolinecolor": "white"
           }
          },
          "shapedefaults": {
           "line": {
            "color": "#2a3f5f"
           }
          },
          "ternary": {
           "aaxis": {
            "gridcolor": "white",
            "linecolor": "white",
            "ticks": ""
           },
           "baxis": {
            "gridcolor": "white",
            "linecolor": "white",
            "ticks": ""
           },
           "bgcolor": "#E5ECF6",
           "caxis": {
            "gridcolor": "white",
            "linecolor": "white",
            "ticks": ""
           }
          },
          "title": {
           "x": 0.05
          },
          "xaxis": {
           "automargin": true,
           "gridcolor": "white",
           "linecolor": "white",
           "ticks": "",
           "title": {
            "standoff": 15
           },
           "zerolinecolor": "white",
           "zerolinewidth": 2
          },
          "yaxis": {
           "automargin": true,
           "gridcolor": "white",
           "linecolor": "white",
           "ticks": "",
           "title": {
            "standoff": 15
           },
           "zerolinecolor": "white",
           "zerolinewidth": 2
          }
         }
        },
        "title": {
         "font": {
          "color": "#4D5663"
         }
        },
        "xaxis": {
         "gridcolor": "#E1E5ED",
         "showgrid": true,
         "tickfont": {
          "color": "#4D5663"
         },
         "title": {
          "font": {
           "color": "#4D5663"
          },
          "text": ""
         },
         "zerolinecolor": "#E1E5ED"
        },
        "yaxis": {
         "gridcolor": "#E1E5ED",
         "showgrid": true,
         "tickfont": {
          "color": "#4D5663"
         },
         "title": {
          "font": {
           "color": "#4D5663"
          },
          "text": ""
         },
         "zerolinecolor": "#E1E5ED"
        }
       }
      },
      "text/html": [
       "<div>                            <div id=\"f8afb0b6-4d8e-4879-8bb8-10bf43b60970\" class=\"plotly-graph-div\" style=\"height:525px; width:100%;\"></div>            <script type=\"text/javascript\">                require([\"plotly\"], function(Plotly) {                    window.PLOTLYENV=window.PLOTLYENV || {};\n",
       "                    window.PLOTLYENV.BASE_URL='https://plot.ly';                                    if (document.getElementById(\"f8afb0b6-4d8e-4879-8bb8-10bf43b60970\")) {                    Plotly.newPlot(                        \"f8afb0b6-4d8e-4879-8bb8-10bf43b60970\",                        [{\"marker\":{\"color\":\"rgba(255, 153, 51, 0.6)\",\"line\":{\"color\":\"rgba(255, 153, 51, 1.0)\",\"width\":1}},\"name\":\"None\",\"orientation\":\"v\",\"text\":\"\",\"x\":[\"A\",\"B\",\"C\",\"D\"],\"y\":[100,100,100,100],\"type\":\"bar\"}],                        {\"legend\":{\"bgcolor\":\"#F5F6F9\",\"font\":{\"color\":\"#4D5663\"}},\"paper_bgcolor\":\"#F5F6F9\",\"plot_bgcolor\":\"#F5F6F9\",\"template\":{\"data\":{\"barpolar\":[{\"marker\":{\"line\":{\"color\":\"#E5ECF6\",\"width\":0.5},\"pattern\":{\"fillmode\":\"overlay\",\"size\":10,\"solidity\":0.2}},\"type\":\"barpolar\"}],\"bar\":[{\"error_x\":{\"color\":\"#2a3f5f\"},\"error_y\":{\"color\":\"#2a3f5f\"},\"marker\":{\"line\":{\"color\":\"#E5ECF6\",\"width\":0.5},\"pattern\":{\"fillmode\":\"overlay\",\"size\":10,\"solidity\":0.2}},\"type\":\"bar\"}],\"carpet\":[{\"aaxis\":{\"endlinecolor\":\"#2a3f5f\",\"gridcolor\":\"white\",\"linecolor\":\"white\",\"minorgridcolor\":\"white\",\"startlinecolor\":\"#2a3f5f\"},\"baxis\":{\"endlinecolor\":\"#2a3f5f\",\"gridcolor\":\"white\",\"linecolor\":\"white\",\"minorgridcolor\":\"white\",\"startlinecolor\":\"#2a3f5f\"},\"type\":\"carpet\"}],\"choropleth\":[{\"colorbar\":{\"outlinewidth\":0,\"ticks\":\"\"},\"type\":\"choropleth\"}],\"contourcarpet\":[{\"colorbar\":{\"outlinewidth\":0,\"ticks\":\"\"},\"type\":\"contourcarpet\"}],\"contour\":[{\"colorbar\":{\"outlinewidth\":0,\"ticks\":\"\"},\"colorscale\":[[0.0,\"#0d0887\"],[0.1111111111111111,\"#46039f\"],[0.2222222222222222,\"#7201a8\"],[0.3333333333333333,\"#9c179e\"],[0.4444444444444444,\"#bd3786\"],[0.5555555555555556,\"#d8576b\"],[0.6666666666666666,\"#ed7953\"],[0.7777777777777778,\"#fb9f3a\"],[0.8888888888888888,\"#fdca26\"],[1.0,\"#f0f921\"]],\"type\":\"contour\"}],\"heatmapgl\":[{\"colorbar\":{\"outlinewidth\":0,\"ticks\":\"\"},\"colorscale\":[[0.0,\"#0d0887\"],[0.1111111111111111,\"#46039f\"],[0.2222222222222222,\"#7201a8\"],[0.3333333333333333,\"#9c179e\"],[0.4444444444444444,\"#bd3786\"],[0.5555555555555556,\"#d8576b\"],[0.6666666666666666,\"#ed7953\"],[0.7777777777777778,\"#fb9f3a\"],[0.8888888888888888,\"#fdca26\"],[1.0,\"#f0f921\"]],\"type\":\"heatmapgl\"}],\"heatmap\":[{\"colorbar\":{\"outlinewidth\":0,\"ticks\":\"\"},\"colorscale\":[[0.0,\"#0d0887\"],[0.1111111111111111,\"#46039f\"],[0.2222222222222222,\"#7201a8\"],[0.3333333333333333,\"#9c179e\"],[0.4444444444444444,\"#bd3786\"],[0.5555555555555556,\"#d8576b\"],[0.6666666666666666,\"#ed7953\"],[0.7777777777777778,\"#fb9f3a\"],[0.8888888888888888,\"#fdca26\"],[1.0,\"#f0f921\"]],\"type\":\"heatmap\"}],\"histogram2dcontour\":[{\"colorbar\":{\"outlinewidth\":0,\"ticks\":\"\"},\"colorscale\":[[0.0,\"#0d0887\"],[0.1111111111111111,\"#46039f\"],[0.2222222222222222,\"#7201a8\"],[0.3333333333333333,\"#9c179e\"],[0.4444444444444444,\"#bd3786\"],[0.5555555555555556,\"#d8576b\"],[0.6666666666666666,\"#ed7953\"],[0.7777777777777778,\"#fb9f3a\"],[0.8888888888888888,\"#fdca26\"],[1.0,\"#f0f921\"]],\"type\":\"histogram2dcontour\"}],\"histogram2d\":[{\"colorbar\":{\"outlinewidth\":0,\"ticks\":\"\"},\"colorscale\":[[0.0,\"#0d0887\"],[0.1111111111111111,\"#46039f\"],[0.2222222222222222,\"#7201a8\"],[0.3333333333333333,\"#9c179e\"],[0.4444444444444444,\"#bd3786\"],[0.5555555555555556,\"#d8576b\"],[0.6666666666666666,\"#ed7953\"],[0.7777777777777778,\"#fb9f3a\"],[0.8888888888888888,\"#fdca26\"],[1.0,\"#f0f921\"]],\"type\":\"histogram2d\"}],\"histogram\":[{\"marker\":{\"pattern\":{\"fillmode\":\"overlay\",\"size\":10,\"solidity\":0.2}},\"type\":\"histogram\"}],\"mesh3d\":[{\"colorbar\":{\"outlinewidth\":0,\"ticks\":\"\"},\"type\":\"mesh3d\"}],\"parcoords\":[{\"line\":{\"colorbar\":{\"outlinewidth\":0,\"ticks\":\"\"}},\"type\":\"parcoords\"}],\"pie\":[{\"automargin\":true,\"type\":\"pie\"}],\"scatter3d\":[{\"line\":{\"colorbar\":{\"outlinewidth\":0,\"ticks\":\"\"}},\"marker\":{\"colorbar\":{\"outlinewidth\":0,\"ticks\":\"\"}},\"type\":\"scatter3d\"}],\"scattercarpet\":[{\"marker\":{\"colorbar\":{\"outlinewidth\":0,\"ticks\":\"\"}},\"type\":\"scattercarpet\"}],\"scattergeo\":[{\"marker\":{\"colorbar\":{\"outlinewidth\":0,\"ticks\":\"\"}},\"type\":\"scattergeo\"}],\"scattergl\":[{\"marker\":{\"colorbar\":{\"outlinewidth\":0,\"ticks\":\"\"}},\"type\":\"scattergl\"}],\"scattermapbox\":[{\"marker\":{\"colorbar\":{\"outlinewidth\":0,\"ticks\":\"\"}},\"type\":\"scattermapbox\"}],\"scatterpolargl\":[{\"marker\":{\"colorbar\":{\"outlinewidth\":0,\"ticks\":\"\"}},\"type\":\"scatterpolargl\"}],\"scatterpolar\":[{\"marker\":{\"colorbar\":{\"outlinewidth\":0,\"ticks\":\"\"}},\"type\":\"scatterpolar\"}],\"scatter\":[{\"fillpattern\":{\"fillmode\":\"overlay\",\"size\":10,\"solidity\":0.2},\"type\":\"scatter\"}],\"scatterternary\":[{\"marker\":{\"colorbar\":{\"outlinewidth\":0,\"ticks\":\"\"}},\"type\":\"scatterternary\"}],\"surface\":[{\"colorbar\":{\"outlinewidth\":0,\"ticks\":\"\"},\"colorscale\":[[0.0,\"#0d0887\"],[0.1111111111111111,\"#46039f\"],[0.2222222222222222,\"#7201a8\"],[0.3333333333333333,\"#9c179e\"],[0.4444444444444444,\"#bd3786\"],[0.5555555555555556,\"#d8576b\"],[0.6666666666666666,\"#ed7953\"],[0.7777777777777778,\"#fb9f3a\"],[0.8888888888888888,\"#fdca26\"],[1.0,\"#f0f921\"]],\"type\":\"surface\"}],\"table\":[{\"cells\":{\"fill\":{\"color\":\"#EBF0F8\"},\"line\":{\"color\":\"white\"}},\"header\":{\"fill\":{\"color\":\"#C8D4E3\"},\"line\":{\"color\":\"white\"}},\"type\":\"table\"}]},\"layout\":{\"annotationdefaults\":{\"arrowcolor\":\"#2a3f5f\",\"arrowhead\":0,\"arrowwidth\":1},\"autotypenumbers\":\"strict\",\"coloraxis\":{\"colorbar\":{\"outlinewidth\":0,\"ticks\":\"\"}},\"colorscale\":{\"diverging\":[[0,\"#8e0152\"],[0.1,\"#c51b7d\"],[0.2,\"#de77ae\"],[0.3,\"#f1b6da\"],[0.4,\"#fde0ef\"],[0.5,\"#f7f7f7\"],[0.6,\"#e6f5d0\"],[0.7,\"#b8e186\"],[0.8,\"#7fbc41\"],[0.9,\"#4d9221\"],[1,\"#276419\"]],\"sequential\":[[0.0,\"#0d0887\"],[0.1111111111111111,\"#46039f\"],[0.2222222222222222,\"#7201a8\"],[0.3333333333333333,\"#9c179e\"],[0.4444444444444444,\"#bd3786\"],[0.5555555555555556,\"#d8576b\"],[0.6666666666666666,\"#ed7953\"],[0.7777777777777778,\"#fb9f3a\"],[0.8888888888888888,\"#fdca26\"],[1.0,\"#f0f921\"]],\"sequentialminus\":[[0.0,\"#0d0887\"],[0.1111111111111111,\"#46039f\"],[0.2222222222222222,\"#7201a8\"],[0.3333333333333333,\"#9c179e\"],[0.4444444444444444,\"#bd3786\"],[0.5555555555555556,\"#d8576b\"],[0.6666666666666666,\"#ed7953\"],[0.7777777777777778,\"#fb9f3a\"],[0.8888888888888888,\"#fdca26\"],[1.0,\"#f0f921\"]]},\"colorway\":[\"#636efa\",\"#EF553B\",\"#00cc96\",\"#ab63fa\",\"#FFA15A\",\"#19d3f3\",\"#FF6692\",\"#B6E880\",\"#FF97FF\",\"#FECB52\"],\"font\":{\"color\":\"#2a3f5f\"},\"geo\":{\"bgcolor\":\"white\",\"lakecolor\":\"white\",\"landcolor\":\"#E5ECF6\",\"showlakes\":true,\"showland\":true,\"subunitcolor\":\"white\"},\"hoverlabel\":{\"align\":\"left\"},\"hovermode\":\"closest\",\"mapbox\":{\"style\":\"light\"},\"paper_bgcolor\":\"white\",\"plot_bgcolor\":\"#E5ECF6\",\"polar\":{\"angularaxis\":{\"gridcolor\":\"white\",\"linecolor\":\"white\",\"ticks\":\"\"},\"bgcolor\":\"#E5ECF6\",\"radialaxis\":{\"gridcolor\":\"white\",\"linecolor\":\"white\",\"ticks\":\"\"}},\"scene\":{\"xaxis\":{\"backgroundcolor\":\"#E5ECF6\",\"gridcolor\":\"white\",\"gridwidth\":2,\"linecolor\":\"white\",\"showbackground\":true,\"ticks\":\"\",\"zerolinecolor\":\"white\"},\"yaxis\":{\"backgroundcolor\":\"#E5ECF6\",\"gridcolor\":\"white\",\"gridwidth\":2,\"linecolor\":\"white\",\"showbackground\":true,\"ticks\":\"\",\"zerolinecolor\":\"white\"},\"zaxis\":{\"backgroundcolor\":\"#E5ECF6\",\"gridcolor\":\"white\",\"gridwidth\":2,\"linecolor\":\"white\",\"showbackground\":true,\"ticks\":\"\",\"zerolinecolor\":\"white\"}},\"shapedefaults\":{\"line\":{\"color\":\"#2a3f5f\"}},\"ternary\":{\"aaxis\":{\"gridcolor\":\"white\",\"linecolor\":\"white\",\"ticks\":\"\"},\"baxis\":{\"gridcolor\":\"white\",\"linecolor\":\"white\",\"ticks\":\"\"},\"bgcolor\":\"#E5ECF6\",\"caxis\":{\"gridcolor\":\"white\",\"linecolor\":\"white\",\"ticks\":\"\"}},\"title\":{\"x\":0.05},\"xaxis\":{\"automargin\":true,\"gridcolor\":\"white\",\"linecolor\":\"white\",\"ticks\":\"\",\"title\":{\"standoff\":15},\"zerolinecolor\":\"white\",\"zerolinewidth\":2},\"yaxis\":{\"automargin\":true,\"gridcolor\":\"white\",\"linecolor\":\"white\",\"ticks\":\"\",\"title\":{\"standoff\":15},\"zerolinecolor\":\"white\",\"zerolinewidth\":2}}},\"title\":{\"font\":{\"color\":\"#4D5663\"}},\"xaxis\":{\"gridcolor\":\"#E1E5ED\",\"showgrid\":true,\"tickfont\":{\"color\":\"#4D5663\"},\"title\":{\"font\":{\"color\":\"#4D5663\"},\"text\":\"\"},\"zerolinecolor\":\"#E1E5ED\"},\"yaxis\":{\"gridcolor\":\"#E1E5ED\",\"showgrid\":true,\"tickfont\":{\"color\":\"#4D5663\"},\"title\":{\"font\":{\"color\":\"#4D5663\"},\"text\":\"\"},\"zerolinecolor\":\"#E1E5ED\"}},                        {\"showLink\": true, \"linkText\": \"Export to plot.ly\", \"plotlyServerURL\": \"https://plot.ly\", \"responsive\": true}                    ).then(function(){\n",
       "                            \n",
       "var gd = document.getElementById('f8afb0b6-4d8e-4879-8bb8-10bf43b60970');\n",
       "var x = new MutationObserver(function (mutations, observer) {{\n",
       "        var display = window.getComputedStyle(gd).display;\n",
       "        if (!display || display === 'none') {{\n",
       "            console.log([gd, 'removed!']);\n",
       "            Plotly.purge(gd);\n",
       "            observer.disconnect();\n",
       "        }}\n",
       "}});\n",
       "\n",
       "// Listen for the removal of the full notebook cells\n",
       "var notebookContainer = gd.closest('#notebook-container');\n",
       "if (notebookContainer) {{\n",
       "    x.observe(notebookContainer, {childList: true});\n",
       "}}\n",
       "\n",
       "// Listen for the clearing of the current output cell\n",
       "var outputEl = gd.closest('.output');\n",
       "if (outputEl) {{\n",
       "    x.observe(outputEl, {childList: true});\n",
       "}}\n",
       "\n",
       "                        })                };                });            </script>        </div>"
      ]
     },
     "metadata": {},
     "output_type": "display_data"
    }
   ],
   "source": [
    "df.count().iplot(kind='bar')"
   ]
  },
  {
   "cell_type": "markdown",
   "metadata": {},
   "source": [
    "## Boxplots"
   ]
  },
  {
   "cell_type": "code",
   "execution_count": 19,
   "metadata": {},
   "outputs": [
    {
     "data": {
      "application/vnd.plotly.v1+json": {
       "config": {
        "linkText": "Export to plot.ly",
        "plotlyServerURL": "https://plot.ly",
        "showLink": true
       },
       "data": [
        {
         "boxpoints": false,
         "line": {
          "width": 1.3
         },
         "marker": {
          "color": "rgba(255, 153, 51, 1.0)"
         },
         "name": "A",
         "orientation": "v",
         "type": "box",
         "y": [
          -1.102157375614898,
          2.2865785896451056,
          0.4566434341878121,
          -0.4892334021311478,
          -2.130815216314164,
          0.34465161154860385,
          -0.49941355380787994,
          -0.07831088917902136,
          0.602111357449041,
          1.836312051939149,
          0.68653066400194,
          0.7272723288016878,
          -0.561985964001304,
          0.4749032085110548,
          -0.3943567537206873,
          -1.7812394531296598,
          -1.55016940753543,
          -0.8961215905737038,
          1.0396020876583527,
          -0.37499036096735866,
          -0.6078496437501864,
          -0.6540352795879921,
          1.5427968616244505,
          -0.7479992770240803,
          1.7736972039880796,
          -1.4616429884856508,
          0.3784126846667629,
          -1.2081394791450908,
          0.7602952072803093,
          0.43055980891856077,
          -0.3374320242569034,
          0.7706767098237173,
          -0.5463347726811589,
          0.033762295791289997,
          0.4990878712300638,
          1.1825854932025412,
          0.015844384267101563,
          -1.129231072418561,
          -2.7533196079610387,
          0.22159763708817423,
          -1.2118605238189528,
          1.2440218907966467,
          0.8870437340948487,
          -1.7602496137961745,
          -0.8038441161106656,
          0.43123877184878656,
          -0.6856111512549908,
          -0.14699128767403657,
          -2.2514927775466202,
          0.3810256579120371,
          -0.33399073703812215,
          0.8568310968852303,
          -1.7591695315282843,
          0.07139481710721052,
          -1.4989835427890368,
          -1.323758692382063,
          -1.275742543750863,
          0.511986491292987,
          -0.16147259749940288,
          -0.1400937674342753,
          0.24969654201492142,
          -0.43518197142108034,
          -1.3506570771227986,
          -1.5001516208144998,
          -0.25444948192148775,
          -0.6355008883387203,
          -0.9058493729728965,
          -0.016032752088665357,
          0.9103607278606926,
          0.18871594428745314,
          1.1671677613599445,
          1.4371250285751684,
          0.8337283933215233,
          0.33254422193403543,
          0.2537912153759133,
          -0.8145160628787136,
          -0.33293900872633314,
          1.7928098015898093,
          -0.11558511994838473,
          -0.5036239283403839,
          -0.34024420316716014,
          1.270442607496094,
          -1.9521088354455611,
          0.5721799161997925,
          -0.32676088375004936,
          0.23829216361816088,
          -0.6638810319586461,
          0.6261001378621326,
          -0.9532031426639209,
          -0.3028686448220451,
          -0.03323881015307786,
          -2.2163813272149397,
          1.2248574758896162,
          -1.8261008669183256,
          0.9927307241686352,
          -0.4144905926853598,
          0.7644577521814288,
          3.3897490150859912,
          0.9981217162595685,
          0.2925472587199806
         ]
        },
        {
         "boxpoints": false,
         "line": {
          "width": 1.3
         },
         "marker": {
          "color": "rgba(55, 128, 191, 1.0)"
         },
         "name": "B",
         "orientation": "v",
         "type": "box",
         "y": [
          -0.9973385497255842,
          0.7837905097733299,
          0.4114202226020897,
          -1.382519415517844,
          -0.02544616448446813,
          1.0186393009420072,
          0.8558566196560897,
          -0.42531885825941645,
          -0.9864996976021687,
          -0.31840672611245,
          0.8916014391327218,
          0.09513064008948738,
          0.14918112600259187,
          0.7532993749218637,
          -0.4276448581127374,
          -0.07818602716472968,
          0.9817795497961357,
          0.5064226646157375,
          0.4449416714969202,
          -0.1941305620600468,
          -1.137333836757778,
          -0.728364472625442,
          0.4034551322996591,
          1.1872038136253862,
          1.072600861716576,
          0.876639868363512,
          0.7988727597172739,
          0.17336187404735537,
          -0.9097532082084129,
          0.012533433013292253,
          -0.9104096422704079,
          -2.929051044968031,
          -1.5106886534736783,
          -0.7430555641032094,
          -1.4288854189909295,
          1.510197624220518,
          -0.6236299601792391,
          -1.6305903851678578,
          1.4970753518573583,
          -0.6801286472206881,
          -0.979692810847835,
          -3.918868670448135,
          -0.06330189856562465,
          -0.47566846234842475,
          -0.9748506827222614,
          -1.4239641353896577,
          0.8518918795735684,
          -0.20012233219710165,
          1.3231285909537631,
          -0.20398723136228153,
          1.7077088102632907,
          0.8657554903375352,
          1.5481392063415123,
          -0.6105570758624655,
          1.0654680017823588,
          -1.0570752290932843,
          -0.6838031775909165,
          1.2275931051344096,
          0.04526621790472486,
          -1.554941047418443,
          -0.1492809321534578,
          -1.8643687527914203,
          1.3024373203496495,
          0.7601856921246877,
          -0.4462509524860536,
          0.48042464024541787,
          -1.6502678369241321,
          -0.14019041774634128,
          0.8566240306940461,
          0.43174665495270187,
          0.3556317639900785,
          -0.40977523162979523,
          0.08712426831847198,
          -0.7085711753892611,
          -0.2033454347552216,
          -0.4073598964847509,
          0.6744578923123841,
          -1.1400810189635784,
          2.789963286808077,
          0.7151297181599133,
          -0.1850065927724431,
          -0.08078798544387067,
          0.2943397056056416,
          -0.4663434080260867,
          0.4482366769986187,
          0.47513966341491815,
          0.5414854165226178,
          0.26065911224187877,
          -2.812297320953207,
          -1.1255949120105435,
          -2.505700444917874,
          -0.46977512258405213,
          1.740423220809751,
          -1.5441909687392934,
          -0.3290211676343685,
          1.2341058228228599,
          1.4116520784909827,
          -0.15889216025557068,
          0.3652472845120724,
          -0.9506594561815944
         ]
        },
        {
         "boxpoints": false,
         "line": {
          "width": 1.3
         },
         "marker": {
          "color": "rgba(50, 171, 96, 1.0)"
         },
         "name": "C",
         "orientation": "v",
         "type": "box",
         "y": [
          1.0864046306308808,
          -2.117706929156139,
          -1.2657032246801565,
          2.5932805861413653,
          2.3441482450765103,
          0.6674682583798568,
          -0.1835273141853627,
          0.2583844424970538,
          -0.6483423820697635,
          0.7780014941223886,
          -0.7273056251298629,
          0.9481714505443428,
          -0.9642703058807677,
          -1.4920150058769135,
          0.02725130182667299,
          0.8917637879364976,
          -0.8262170965548993,
          -1.6690165954411205,
          0.18823231071314683,
          2.0825835518223434,
          0.25609372508776107,
          -0.5797066503326798,
          0.5313731546350134,
          -2.210742751298976,
          0.33738118000910555,
          0.034452221667001584,
          1.2099898876920567,
          -0.6570404629277719,
          0.29402043054374144,
          -0.5241920937423493,
          0.014854980846425616,
          -0.0731386366180003,
          0.9889571867068379,
          0.3604640259711464,
          -0.8535715053035,
          -0.6992512941022685,
          -0.6504137323602593,
          -1.3766659426179497,
          0.9971959727729144,
          -0.3727831661676519,
          0.5383185808078945,
          0.8631952314456995,
          0.051086002734756726,
          -0.1560917038308907,
          -0.9659560123338276,
          0.3524991124365591,
          0.9329956521976098,
          0.1818301711167429,
          -1.5766343201629727,
          -0.45241297679267883,
          0.5870064590218528,
          1.0654608493611661,
          -0.6821606520130433,
          -0.9412863076083865,
          1.1843527372507086,
          -1.8526316035548385,
          -0.019601827080674504,
          -0.5126217644897857,
          -0.5825695107624571,
          0.6957071648600781,
          0.46893509264191213,
          1.3725126676973547,
          1.5730227496089528,
          1.0412155230943265,
          0.18043340981159584,
          -0.5676000862195282,
          -0.027260664542144063,
          -2.0269003381063615,
          -0.6927569999618353,
          -0.11126050196888806,
          -0.4262357879099346,
          0.6554798803349987,
          0.025909432046648626,
          1.2949286553633488,
          0.04486138850675194,
          0.45730466244142837,
          0.5951019525594958,
          -1.3688868513192267,
          0.25538098232992745,
          1.2376000160840637,
          -0.09945363962576523,
          -0.8326934913241475,
          -0.5677424132882882,
          0.7891303619630893,
          0.3185725484702451,
          0.8167727575712042,
          -0.9399469880604976,
          0.41024895923266946,
          1.444813392250273,
          -0.07045540716588254,
          -0.9748583646965104,
          0.32545272467843805,
          0.1019678286423425,
          -0.2559831301171352,
          0.42683733071148106,
          -0.8375150189862056,
          -0.2429797619330411,
          0.12781625889002363,
          1.1039018819856634,
          0.2647893086331442
         ]
        },
        {
         "boxpoints": false,
         "line": {
          "width": 1.3
         },
         "marker": {
          "color": "rgba(128, 0, 128, 1.0)"
         },
         "name": "D",
         "orientation": "v",
         "type": "box",
         "y": [
          -1.6845488099545214,
          -1.483580830558176,
          -1.351768998320571,
          -0.01670157966836927,
          -0.6498272706298257,
          -0.39693622223683184,
          -0.015384532655009716,
          -1.271129237931862,
          0.10102497598995928,
          0.9121207251319526,
          0.05784086180539316,
          2.255054723154915,
          0.6212858268150763,
          -1.310394130386014,
          -0.07459700189764103,
          1.3967088263475662,
          1.9414688534400504,
          -0.9669469098322742,
          0.00361916509855848,
          -0.37158477845966215,
          -0.6242834233416957,
          -0.8890398056750107,
          -1.0704495466281345,
          0.9413483928126101,
          0.5235587640742109,
          1.1660326604493139,
          1.0078060116319765,
          0.06433268542995113,
          1.3315683014657924,
          0.00884593567451398,
          1.3921844033026607,
          0.8349470749507719,
          0.9353675499919318,
          0.6152327356021556,
          1.2579100589134553,
          -0.08129471439641622,
          0.475648611836743,
          0.8783130574365247,
          -1.7746903391982813,
          0.6912107389909029,
          0.5951721876769813,
          0.22237846218612714,
          0.03383104583304392,
          1.0070101867672185,
          1.4897134483290622,
          1.3561509968741807,
          -0.19133532983999577,
          -1.233246554456392,
          -1.055509293044572,
          -0.6060565386044152,
          2.908426841456705,
          0.33312373132415274,
          -0.39954762035321734,
          0.9970412169219489,
          -0.6774438852411577,
          -0.2678941091274693,
          1.7198965439060192,
          0.706833219697714,
          0.8457112842518558,
          0.425614589120953,
          1.4762093604887738,
          -0.5084467555406659,
          0.45774493220204304,
          1.276061650134015,
          1.4778646002820932,
          0.346808944062437,
          -0.039594696973332795,
          0.6942260287033303,
          0.7818660492215526,
          -0.09704360574352183,
          -0.40313533285190983,
          -0.3079192098887542,
          -1.0870176893478802,
          -1.4230941947914724,
          1.4873608115316441,
          0.45367332661392235,
          1.2806929902265727,
          0.7299483418142648,
          0.8453747810682767,
          0.22874782903798577,
          0.09706130982578182,
          1.0655381359822373,
          -0.4728019326610291,
          0.06074411969392115,
          1.6291176566718677,
          1.2019842760110888,
          -0.23407452273624657,
          0.6934983218568695,
          0.6801247526209236,
          0.9831105397594796,
          0.6594950175304114,
          -2.120860562056467,
          -1.308792642192246,
          -0.3608479254804576,
          -0.8614309832746896,
          -0.2634810163783852,
          -0.08006618092105477,
          0.01876852676574486,
          0.5521719952491408,
          -1.0932665440530167
         ]
        }
       ],
       "layout": {
        "legend": {
         "bgcolor": "#F5F6F9",
         "font": {
          "color": "#4D5663"
         }
        },
        "paper_bgcolor": "#F5F6F9",
        "plot_bgcolor": "#F5F6F9",
        "template": {
         "data": {
          "bar": [
           {
            "error_x": {
             "color": "#2a3f5f"
            },
            "error_y": {
             "color": "#2a3f5f"
            },
            "marker": {
             "line": {
              "color": "#E5ECF6",
              "width": 0.5
             },
             "pattern": {
              "fillmode": "overlay",
              "size": 10,
              "solidity": 0.2
             }
            },
            "type": "bar"
           }
          ],
          "barpolar": [
           {
            "marker": {
             "line": {
              "color": "#E5ECF6",
              "width": 0.5
             },
             "pattern": {
              "fillmode": "overlay",
              "size": 10,
              "solidity": 0.2
             }
            },
            "type": "barpolar"
           }
          ],
          "carpet": [
           {
            "aaxis": {
             "endlinecolor": "#2a3f5f",
             "gridcolor": "white",
             "linecolor": "white",
             "minorgridcolor": "white",
             "startlinecolor": "#2a3f5f"
            },
            "baxis": {
             "endlinecolor": "#2a3f5f",
             "gridcolor": "white",
             "linecolor": "white",
             "minorgridcolor": "white",
             "startlinecolor": "#2a3f5f"
            },
            "type": "carpet"
           }
          ],
          "choropleth": [
           {
            "colorbar": {
             "outlinewidth": 0,
             "ticks": ""
            },
            "type": "choropleth"
           }
          ],
          "contour": [
           {
            "colorbar": {
             "outlinewidth": 0,
             "ticks": ""
            },
            "colorscale": [
             [
              0,
              "#0d0887"
             ],
             [
              0.1111111111111111,
              "#46039f"
             ],
             [
              0.2222222222222222,
              "#7201a8"
             ],
             [
              0.3333333333333333,
              "#9c179e"
             ],
             [
              0.4444444444444444,
              "#bd3786"
             ],
             [
              0.5555555555555556,
              "#d8576b"
             ],
             [
              0.6666666666666666,
              "#ed7953"
             ],
             [
              0.7777777777777778,
              "#fb9f3a"
             ],
             [
              0.8888888888888888,
              "#fdca26"
             ],
             [
              1,
              "#f0f921"
             ]
            ],
            "type": "contour"
           }
          ],
          "contourcarpet": [
           {
            "colorbar": {
             "outlinewidth": 0,
             "ticks": ""
            },
            "type": "contourcarpet"
           }
          ],
          "heatmap": [
           {
            "colorbar": {
             "outlinewidth": 0,
             "ticks": ""
            },
            "colorscale": [
             [
              0,
              "#0d0887"
             ],
             [
              0.1111111111111111,
              "#46039f"
             ],
             [
              0.2222222222222222,
              "#7201a8"
             ],
             [
              0.3333333333333333,
              "#9c179e"
             ],
             [
              0.4444444444444444,
              "#bd3786"
             ],
             [
              0.5555555555555556,
              "#d8576b"
             ],
             [
              0.6666666666666666,
              "#ed7953"
             ],
             [
              0.7777777777777778,
              "#fb9f3a"
             ],
             [
              0.8888888888888888,
              "#fdca26"
             ],
             [
              1,
              "#f0f921"
             ]
            ],
            "type": "heatmap"
           }
          ],
          "heatmapgl": [
           {
            "colorbar": {
             "outlinewidth": 0,
             "ticks": ""
            },
            "colorscale": [
             [
              0,
              "#0d0887"
             ],
             [
              0.1111111111111111,
              "#46039f"
             ],
             [
              0.2222222222222222,
              "#7201a8"
             ],
             [
              0.3333333333333333,
              "#9c179e"
             ],
             [
              0.4444444444444444,
              "#bd3786"
             ],
             [
              0.5555555555555556,
              "#d8576b"
             ],
             [
              0.6666666666666666,
              "#ed7953"
             ],
             [
              0.7777777777777778,
              "#fb9f3a"
             ],
             [
              0.8888888888888888,
              "#fdca26"
             ],
             [
              1,
              "#f0f921"
             ]
            ],
            "type": "heatmapgl"
           }
          ],
          "histogram": [
           {
            "marker": {
             "pattern": {
              "fillmode": "overlay",
              "size": 10,
              "solidity": 0.2
             }
            },
            "type": "histogram"
           }
          ],
          "histogram2d": [
           {
            "colorbar": {
             "outlinewidth": 0,
             "ticks": ""
            },
            "colorscale": [
             [
              0,
              "#0d0887"
             ],
             [
              0.1111111111111111,
              "#46039f"
             ],
             [
              0.2222222222222222,
              "#7201a8"
             ],
             [
              0.3333333333333333,
              "#9c179e"
             ],
             [
              0.4444444444444444,
              "#bd3786"
             ],
             [
              0.5555555555555556,
              "#d8576b"
             ],
             [
              0.6666666666666666,
              "#ed7953"
             ],
             [
              0.7777777777777778,
              "#fb9f3a"
             ],
             [
              0.8888888888888888,
              "#fdca26"
             ],
             [
              1,
              "#f0f921"
             ]
            ],
            "type": "histogram2d"
           }
          ],
          "histogram2dcontour": [
           {
            "colorbar": {
             "outlinewidth": 0,
             "ticks": ""
            },
            "colorscale": [
             [
              0,
              "#0d0887"
             ],
             [
              0.1111111111111111,
              "#46039f"
             ],
             [
              0.2222222222222222,
              "#7201a8"
             ],
             [
              0.3333333333333333,
              "#9c179e"
             ],
             [
              0.4444444444444444,
              "#bd3786"
             ],
             [
              0.5555555555555556,
              "#d8576b"
             ],
             [
              0.6666666666666666,
              "#ed7953"
             ],
             [
              0.7777777777777778,
              "#fb9f3a"
             ],
             [
              0.8888888888888888,
              "#fdca26"
             ],
             [
              1,
              "#f0f921"
             ]
            ],
            "type": "histogram2dcontour"
           }
          ],
          "mesh3d": [
           {
            "colorbar": {
             "outlinewidth": 0,
             "ticks": ""
            },
            "type": "mesh3d"
           }
          ],
          "parcoords": [
           {
            "line": {
             "colorbar": {
              "outlinewidth": 0,
              "ticks": ""
             }
            },
            "type": "parcoords"
           }
          ],
          "pie": [
           {
            "automargin": true,
            "type": "pie"
           }
          ],
          "scatter": [
           {
            "fillpattern": {
             "fillmode": "overlay",
             "size": 10,
             "solidity": 0.2
            },
            "type": "scatter"
           }
          ],
          "scatter3d": [
           {
            "line": {
             "colorbar": {
              "outlinewidth": 0,
              "ticks": ""
             }
            },
            "marker": {
             "colorbar": {
              "outlinewidth": 0,
              "ticks": ""
             }
            },
            "type": "scatter3d"
           }
          ],
          "scattercarpet": [
           {
            "marker": {
             "colorbar": {
              "outlinewidth": 0,
              "ticks": ""
             }
            },
            "type": "scattercarpet"
           }
          ],
          "scattergeo": [
           {
            "marker": {
             "colorbar": {
              "outlinewidth": 0,
              "ticks": ""
             }
            },
            "type": "scattergeo"
           }
          ],
          "scattergl": [
           {
            "marker": {
             "colorbar": {
              "outlinewidth": 0,
              "ticks": ""
             }
            },
            "type": "scattergl"
           }
          ],
          "scattermapbox": [
           {
            "marker": {
             "colorbar": {
              "outlinewidth": 0,
              "ticks": ""
             }
            },
            "type": "scattermapbox"
           }
          ],
          "scatterpolar": [
           {
            "marker": {
             "colorbar": {
              "outlinewidth": 0,
              "ticks": ""
             }
            },
            "type": "scatterpolar"
           }
          ],
          "scatterpolargl": [
           {
            "marker": {
             "colorbar": {
              "outlinewidth": 0,
              "ticks": ""
             }
            },
            "type": "scatterpolargl"
           }
          ],
          "scatterternary": [
           {
            "marker": {
             "colorbar": {
              "outlinewidth": 0,
              "ticks": ""
             }
            },
            "type": "scatterternary"
           }
          ],
          "surface": [
           {
            "colorbar": {
             "outlinewidth": 0,
             "ticks": ""
            },
            "colorscale": [
             [
              0,
              "#0d0887"
             ],
             [
              0.1111111111111111,
              "#46039f"
             ],
             [
              0.2222222222222222,
              "#7201a8"
             ],
             [
              0.3333333333333333,
              "#9c179e"
             ],
             [
              0.4444444444444444,
              "#bd3786"
             ],
             [
              0.5555555555555556,
              "#d8576b"
             ],
             [
              0.6666666666666666,
              "#ed7953"
             ],
             [
              0.7777777777777778,
              "#fb9f3a"
             ],
             [
              0.8888888888888888,
              "#fdca26"
             ],
             [
              1,
              "#f0f921"
             ]
            ],
            "type": "surface"
           }
          ],
          "table": [
           {
            "cells": {
             "fill": {
              "color": "#EBF0F8"
             },
             "line": {
              "color": "white"
             }
            },
            "header": {
             "fill": {
              "color": "#C8D4E3"
             },
             "line": {
              "color": "white"
             }
            },
            "type": "table"
           }
          ]
         },
         "layout": {
          "annotationdefaults": {
           "arrowcolor": "#2a3f5f",
           "arrowhead": 0,
           "arrowwidth": 1
          },
          "autotypenumbers": "strict",
          "coloraxis": {
           "colorbar": {
            "outlinewidth": 0,
            "ticks": ""
           }
          },
          "colorscale": {
           "diverging": [
            [
             0,
             "#8e0152"
            ],
            [
             0.1,
             "#c51b7d"
            ],
            [
             0.2,
             "#de77ae"
            ],
            [
             0.3,
             "#f1b6da"
            ],
            [
             0.4,
             "#fde0ef"
            ],
            [
             0.5,
             "#f7f7f7"
            ],
            [
             0.6,
             "#e6f5d0"
            ],
            [
             0.7,
             "#b8e186"
            ],
            [
             0.8,
             "#7fbc41"
            ],
            [
             0.9,
             "#4d9221"
            ],
            [
             1,
             "#276419"
            ]
           ],
           "sequential": [
            [
             0,
             "#0d0887"
            ],
            [
             0.1111111111111111,
             "#46039f"
            ],
            [
             0.2222222222222222,
             "#7201a8"
            ],
            [
             0.3333333333333333,
             "#9c179e"
            ],
            [
             0.4444444444444444,
             "#bd3786"
            ],
            [
             0.5555555555555556,
             "#d8576b"
            ],
            [
             0.6666666666666666,
             "#ed7953"
            ],
            [
             0.7777777777777778,
             "#fb9f3a"
            ],
            [
             0.8888888888888888,
             "#fdca26"
            ],
            [
             1,
             "#f0f921"
            ]
           ],
           "sequentialminus": [
            [
             0,
             "#0d0887"
            ],
            [
             0.1111111111111111,
             "#46039f"
            ],
            [
             0.2222222222222222,
             "#7201a8"
            ],
            [
             0.3333333333333333,
             "#9c179e"
            ],
            [
             0.4444444444444444,
             "#bd3786"
            ],
            [
             0.5555555555555556,
             "#d8576b"
            ],
            [
             0.6666666666666666,
             "#ed7953"
            ],
            [
             0.7777777777777778,
             "#fb9f3a"
            ],
            [
             0.8888888888888888,
             "#fdca26"
            ],
            [
             1,
             "#f0f921"
            ]
           ]
          },
          "colorway": [
           "#636efa",
           "#EF553B",
           "#00cc96",
           "#ab63fa",
           "#FFA15A",
           "#19d3f3",
           "#FF6692",
           "#B6E880",
           "#FF97FF",
           "#FECB52"
          ],
          "font": {
           "color": "#2a3f5f"
          },
          "geo": {
           "bgcolor": "white",
           "lakecolor": "white",
           "landcolor": "#E5ECF6",
           "showlakes": true,
           "showland": true,
           "subunitcolor": "white"
          },
          "hoverlabel": {
           "align": "left"
          },
          "hovermode": "closest",
          "mapbox": {
           "style": "light"
          },
          "paper_bgcolor": "white",
          "plot_bgcolor": "#E5ECF6",
          "polar": {
           "angularaxis": {
            "gridcolor": "white",
            "linecolor": "white",
            "ticks": ""
           },
           "bgcolor": "#E5ECF6",
           "radialaxis": {
            "gridcolor": "white",
            "linecolor": "white",
            "ticks": ""
           }
          },
          "scene": {
           "xaxis": {
            "backgroundcolor": "#E5ECF6",
            "gridcolor": "white",
            "gridwidth": 2,
            "linecolor": "white",
            "showbackground": true,
            "ticks": "",
            "zerolinecolor": "white"
           },
           "yaxis": {
            "backgroundcolor": "#E5ECF6",
            "gridcolor": "white",
            "gridwidth": 2,
            "linecolor": "white",
            "showbackground": true,
            "ticks": "",
            "zerolinecolor": "white"
           },
           "zaxis": {
            "backgroundcolor": "#E5ECF6",
            "gridcolor": "white",
            "gridwidth": 2,
            "linecolor": "white",
            "showbackground": true,
            "ticks": "",
            "zerolinecolor": "white"
           }
          },
          "shapedefaults": {
           "line": {
            "color": "#2a3f5f"
           }
          },
          "ternary": {
           "aaxis": {
            "gridcolor": "white",
            "linecolor": "white",
            "ticks": ""
           },
           "baxis": {
            "gridcolor": "white",
            "linecolor": "white",
            "ticks": ""
           },
           "bgcolor": "#E5ECF6",
           "caxis": {
            "gridcolor": "white",
            "linecolor": "white",
            "ticks": ""
           }
          },
          "title": {
           "x": 0.05
          },
          "xaxis": {
           "automargin": true,
           "gridcolor": "white",
           "linecolor": "white",
           "ticks": "",
           "title": {
            "standoff": 15
           },
           "zerolinecolor": "white",
           "zerolinewidth": 2
          },
          "yaxis": {
           "automargin": true,
           "gridcolor": "white",
           "linecolor": "white",
           "ticks": "",
           "title": {
            "standoff": 15
           },
           "zerolinecolor": "white",
           "zerolinewidth": 2
          }
         }
        },
        "title": {
         "font": {
          "color": "#4D5663"
         }
        },
        "xaxis": {
         "gridcolor": "#E1E5ED",
         "showgrid": true,
         "tickfont": {
          "color": "#4D5663"
         },
         "title": {
          "font": {
           "color": "#4D5663"
          },
          "text": ""
         },
         "zerolinecolor": "#E1E5ED"
        },
        "yaxis": {
         "gridcolor": "#E1E5ED",
         "showgrid": true,
         "tickfont": {
          "color": "#4D5663"
         },
         "title": {
          "font": {
           "color": "#4D5663"
          },
          "text": ""
         },
         "zerolinecolor": "#E1E5ED"
        }
       }
      },
      "text/html": [
       "<div>                            <div id=\"4302be8c-b8a8-4a8b-92be-7ea8fbf45eec\" class=\"plotly-graph-div\" style=\"height:525px; width:100%;\"></div>            <script type=\"text/javascript\">                require([\"plotly\"], function(Plotly) {                    window.PLOTLYENV=window.PLOTLYENV || {};\n",
       "                    window.PLOTLYENV.BASE_URL='https://plot.ly';                                    if (document.getElementById(\"4302be8c-b8a8-4a8b-92be-7ea8fbf45eec\")) {                    Plotly.newPlot(                        \"4302be8c-b8a8-4a8b-92be-7ea8fbf45eec\",                        [{\"boxpoints\":false,\"line\":{\"width\":1.3},\"marker\":{\"color\":\"rgba(255, 153, 51, 1.0)\"},\"name\":\"A\",\"orientation\":\"v\",\"y\":[-1.102157375614898,2.2865785896451056,0.4566434341878121,-0.4892334021311478,-2.130815216314164,0.34465161154860385,-0.49941355380787994,-0.07831088917902136,0.602111357449041,1.836312051939149,0.68653066400194,0.7272723288016878,-0.561985964001304,0.4749032085110548,-0.3943567537206873,-1.7812394531296598,-1.55016940753543,-0.8961215905737038,1.0396020876583527,-0.37499036096735866,-0.6078496437501864,-0.6540352795879921,1.5427968616244505,-0.7479992770240803,1.7736972039880796,-1.4616429884856508,0.3784126846667629,-1.2081394791450908,0.7602952072803093,0.43055980891856077,-0.3374320242569034,0.7706767098237173,-0.5463347726811589,0.033762295791289997,0.4990878712300638,1.1825854932025412,0.015844384267101563,-1.129231072418561,-2.7533196079610387,0.22159763708817423,-1.2118605238189528,1.2440218907966467,0.8870437340948487,-1.7602496137961745,-0.8038441161106656,0.43123877184878656,-0.6856111512549908,-0.14699128767403657,-2.2514927775466202,0.3810256579120371,-0.33399073703812215,0.8568310968852303,-1.7591695315282843,0.07139481710721052,-1.4989835427890368,-1.323758692382063,-1.275742543750863,0.511986491292987,-0.16147259749940288,-0.1400937674342753,0.24969654201492142,-0.43518197142108034,-1.3506570771227986,-1.5001516208144998,-0.25444948192148775,-0.6355008883387203,-0.9058493729728965,-0.016032752088665357,0.9103607278606926,0.18871594428745314,1.1671677613599445,1.4371250285751684,0.8337283933215233,0.33254422193403543,0.2537912153759133,-0.8145160628787136,-0.33293900872633314,1.7928098015898093,-0.11558511994838473,-0.5036239283403839,-0.34024420316716014,1.270442607496094,-1.9521088354455611,0.5721799161997925,-0.32676088375004936,0.23829216361816088,-0.6638810319586461,0.6261001378621326,-0.9532031426639209,-0.3028686448220451,-0.03323881015307786,-2.2163813272149397,1.2248574758896162,-1.8261008669183256,0.9927307241686352,-0.4144905926853598,0.7644577521814288,3.3897490150859912,0.9981217162595685,0.2925472587199806],\"type\":\"box\"},{\"boxpoints\":false,\"line\":{\"width\":1.3},\"marker\":{\"color\":\"rgba(55, 128, 191, 1.0)\"},\"name\":\"B\",\"orientation\":\"v\",\"y\":[-0.9973385497255842,0.7837905097733299,0.4114202226020897,-1.382519415517844,-0.02544616448446813,1.0186393009420072,0.8558566196560897,-0.42531885825941645,-0.9864996976021687,-0.31840672611245,0.8916014391327218,0.09513064008948738,0.14918112600259187,0.7532993749218637,-0.4276448581127374,-0.07818602716472968,0.9817795497961357,0.5064226646157375,0.4449416714969202,-0.1941305620600468,-1.137333836757778,-0.728364472625442,0.4034551322996591,1.1872038136253862,1.072600861716576,0.876639868363512,0.7988727597172739,0.17336187404735537,-0.9097532082084129,0.012533433013292253,-0.9104096422704079,-2.929051044968031,-1.5106886534736783,-0.7430555641032094,-1.4288854189909295,1.510197624220518,-0.6236299601792391,-1.6305903851678578,1.4970753518573583,-0.6801286472206881,-0.979692810847835,-3.918868670448135,-0.06330189856562465,-0.47566846234842475,-0.9748506827222614,-1.4239641353896577,0.8518918795735684,-0.20012233219710165,1.3231285909537631,-0.20398723136228153,1.7077088102632907,0.8657554903375352,1.5481392063415123,-0.6105570758624655,1.0654680017823588,-1.0570752290932843,-0.6838031775909165,1.2275931051344096,0.04526621790472486,-1.554941047418443,-0.1492809321534578,-1.8643687527914203,1.3024373203496495,0.7601856921246877,-0.4462509524860536,0.48042464024541787,-1.6502678369241321,-0.14019041774634128,0.8566240306940461,0.43174665495270187,0.3556317639900785,-0.40977523162979523,0.08712426831847198,-0.7085711753892611,-0.2033454347552216,-0.4073598964847509,0.6744578923123841,-1.1400810189635784,2.789963286808077,0.7151297181599133,-0.1850065927724431,-0.08078798544387067,0.2943397056056416,-0.4663434080260867,0.4482366769986187,0.47513966341491815,0.5414854165226178,0.26065911224187877,-2.812297320953207,-1.1255949120105435,-2.505700444917874,-0.46977512258405213,1.740423220809751,-1.5441909687392934,-0.3290211676343685,1.2341058228228599,1.4116520784909827,-0.15889216025557068,0.3652472845120724,-0.9506594561815944],\"type\":\"box\"},{\"boxpoints\":false,\"line\":{\"width\":1.3},\"marker\":{\"color\":\"rgba(50, 171, 96, 1.0)\"},\"name\":\"C\",\"orientation\":\"v\",\"y\":[1.0864046306308808,-2.117706929156139,-1.2657032246801565,2.5932805861413653,2.3441482450765103,0.6674682583798568,-0.1835273141853627,0.2583844424970538,-0.6483423820697635,0.7780014941223886,-0.7273056251298629,0.9481714505443428,-0.9642703058807677,-1.4920150058769135,0.02725130182667299,0.8917637879364976,-0.8262170965548993,-1.6690165954411205,0.18823231071314683,2.0825835518223434,0.25609372508776107,-0.5797066503326798,0.5313731546350134,-2.210742751298976,0.33738118000910555,0.034452221667001584,1.2099898876920567,-0.6570404629277719,0.29402043054374144,-0.5241920937423493,0.014854980846425616,-0.0731386366180003,0.9889571867068379,0.3604640259711464,-0.8535715053035,-0.6992512941022685,-0.6504137323602593,-1.3766659426179497,0.9971959727729144,-0.3727831661676519,0.5383185808078945,0.8631952314456995,0.051086002734756726,-0.1560917038308907,-0.9659560123338276,0.3524991124365591,0.9329956521976098,0.1818301711167429,-1.5766343201629727,-0.45241297679267883,0.5870064590218528,1.0654608493611661,-0.6821606520130433,-0.9412863076083865,1.1843527372507086,-1.8526316035548385,-0.019601827080674504,-0.5126217644897857,-0.5825695107624571,0.6957071648600781,0.46893509264191213,1.3725126676973547,1.5730227496089528,1.0412155230943265,0.18043340981159584,-0.5676000862195282,-0.027260664542144063,-2.0269003381063615,-0.6927569999618353,-0.11126050196888806,-0.4262357879099346,0.6554798803349987,0.025909432046648626,1.2949286553633488,0.04486138850675194,0.45730466244142837,0.5951019525594958,-1.3688868513192267,0.25538098232992745,1.2376000160840637,-0.09945363962576523,-0.8326934913241475,-0.5677424132882882,0.7891303619630893,0.3185725484702451,0.8167727575712042,-0.9399469880604976,0.41024895923266946,1.444813392250273,-0.07045540716588254,-0.9748583646965104,0.32545272467843805,0.1019678286423425,-0.2559831301171352,0.42683733071148106,-0.8375150189862056,-0.2429797619330411,0.12781625889002363,1.1039018819856634,0.2647893086331442],\"type\":\"box\"},{\"boxpoints\":false,\"line\":{\"width\":1.3},\"marker\":{\"color\":\"rgba(128, 0, 128, 1.0)\"},\"name\":\"D\",\"orientation\":\"v\",\"y\":[-1.6845488099545214,-1.483580830558176,-1.351768998320571,-0.01670157966836927,-0.6498272706298257,-0.39693622223683184,-0.015384532655009716,-1.271129237931862,0.10102497598995928,0.9121207251319526,0.05784086180539316,2.255054723154915,0.6212858268150763,-1.310394130386014,-0.07459700189764103,1.3967088263475662,1.9414688534400504,-0.9669469098322742,0.00361916509855848,-0.37158477845966215,-0.6242834233416957,-0.8890398056750107,-1.0704495466281345,0.9413483928126101,0.5235587640742109,1.1660326604493139,1.0078060116319765,0.06433268542995113,1.3315683014657924,0.00884593567451398,1.3921844033026607,0.8349470749507719,0.9353675499919318,0.6152327356021556,1.2579100589134553,-0.08129471439641622,0.475648611836743,0.8783130574365247,-1.7746903391982813,0.6912107389909029,0.5951721876769813,0.22237846218612714,0.03383104583304392,1.0070101867672185,1.4897134483290622,1.3561509968741807,-0.19133532983999577,-1.233246554456392,-1.055509293044572,-0.6060565386044152,2.908426841456705,0.33312373132415274,-0.39954762035321734,0.9970412169219489,-0.6774438852411577,-0.2678941091274693,1.7198965439060192,0.706833219697714,0.8457112842518558,0.425614589120953,1.4762093604887738,-0.5084467555406659,0.45774493220204304,1.276061650134015,1.4778646002820932,0.346808944062437,-0.039594696973332795,0.6942260287033303,0.7818660492215526,-0.09704360574352183,-0.40313533285190983,-0.3079192098887542,-1.0870176893478802,-1.4230941947914724,1.4873608115316441,0.45367332661392235,1.2806929902265727,0.7299483418142648,0.8453747810682767,0.22874782903798577,0.09706130982578182,1.0655381359822373,-0.4728019326610291,0.06074411969392115,1.6291176566718677,1.2019842760110888,-0.23407452273624657,0.6934983218568695,0.6801247526209236,0.9831105397594796,0.6594950175304114,-2.120860562056467,-1.308792642192246,-0.3608479254804576,-0.8614309832746896,-0.2634810163783852,-0.08006618092105477,0.01876852676574486,0.5521719952491408,-1.0932665440530167],\"type\":\"box\"}],                        {\"legend\":{\"bgcolor\":\"#F5F6F9\",\"font\":{\"color\":\"#4D5663\"}},\"paper_bgcolor\":\"#F5F6F9\",\"plot_bgcolor\":\"#F5F6F9\",\"template\":{\"data\":{\"barpolar\":[{\"marker\":{\"line\":{\"color\":\"#E5ECF6\",\"width\":0.5},\"pattern\":{\"fillmode\":\"overlay\",\"size\":10,\"solidity\":0.2}},\"type\":\"barpolar\"}],\"bar\":[{\"error_x\":{\"color\":\"#2a3f5f\"},\"error_y\":{\"color\":\"#2a3f5f\"},\"marker\":{\"line\":{\"color\":\"#E5ECF6\",\"width\":0.5},\"pattern\":{\"fillmode\":\"overlay\",\"size\":10,\"solidity\":0.2}},\"type\":\"bar\"}],\"carpet\":[{\"aaxis\":{\"endlinecolor\":\"#2a3f5f\",\"gridcolor\":\"white\",\"linecolor\":\"white\",\"minorgridcolor\":\"white\",\"startlinecolor\":\"#2a3f5f\"},\"baxis\":{\"endlinecolor\":\"#2a3f5f\",\"gridcolor\":\"white\",\"linecolor\":\"white\",\"minorgridcolor\":\"white\",\"startlinecolor\":\"#2a3f5f\"},\"type\":\"carpet\"}],\"choropleth\":[{\"colorbar\":{\"outlinewidth\":0,\"ticks\":\"\"},\"type\":\"choropleth\"}],\"contourcarpet\":[{\"colorbar\":{\"outlinewidth\":0,\"ticks\":\"\"},\"type\":\"contourcarpet\"}],\"contour\":[{\"colorbar\":{\"outlinewidth\":0,\"ticks\":\"\"},\"colorscale\":[[0.0,\"#0d0887\"],[0.1111111111111111,\"#46039f\"],[0.2222222222222222,\"#7201a8\"],[0.3333333333333333,\"#9c179e\"],[0.4444444444444444,\"#bd3786\"],[0.5555555555555556,\"#d8576b\"],[0.6666666666666666,\"#ed7953\"],[0.7777777777777778,\"#fb9f3a\"],[0.8888888888888888,\"#fdca26\"],[1.0,\"#f0f921\"]],\"type\":\"contour\"}],\"heatmapgl\":[{\"colorbar\":{\"outlinewidth\":0,\"ticks\":\"\"},\"colorscale\":[[0.0,\"#0d0887\"],[0.1111111111111111,\"#46039f\"],[0.2222222222222222,\"#7201a8\"],[0.3333333333333333,\"#9c179e\"],[0.4444444444444444,\"#bd3786\"],[0.5555555555555556,\"#d8576b\"],[0.6666666666666666,\"#ed7953\"],[0.7777777777777778,\"#fb9f3a\"],[0.8888888888888888,\"#fdca26\"],[1.0,\"#f0f921\"]],\"type\":\"heatmapgl\"}],\"heatmap\":[{\"colorbar\":{\"outlinewidth\":0,\"ticks\":\"\"},\"colorscale\":[[0.0,\"#0d0887\"],[0.1111111111111111,\"#46039f\"],[0.2222222222222222,\"#7201a8\"],[0.3333333333333333,\"#9c179e\"],[0.4444444444444444,\"#bd3786\"],[0.5555555555555556,\"#d8576b\"],[0.6666666666666666,\"#ed7953\"],[0.7777777777777778,\"#fb9f3a\"],[0.8888888888888888,\"#fdca26\"],[1.0,\"#f0f921\"]],\"type\":\"heatmap\"}],\"histogram2dcontour\":[{\"colorbar\":{\"outlinewidth\":0,\"ticks\":\"\"},\"colorscale\":[[0.0,\"#0d0887\"],[0.1111111111111111,\"#46039f\"],[0.2222222222222222,\"#7201a8\"],[0.3333333333333333,\"#9c179e\"],[0.4444444444444444,\"#bd3786\"],[0.5555555555555556,\"#d8576b\"],[0.6666666666666666,\"#ed7953\"],[0.7777777777777778,\"#fb9f3a\"],[0.8888888888888888,\"#fdca26\"],[1.0,\"#f0f921\"]],\"type\":\"histogram2dcontour\"}],\"histogram2d\":[{\"colorbar\":{\"outlinewidth\":0,\"ticks\":\"\"},\"colorscale\":[[0.0,\"#0d0887\"],[0.1111111111111111,\"#46039f\"],[0.2222222222222222,\"#7201a8\"],[0.3333333333333333,\"#9c179e\"],[0.4444444444444444,\"#bd3786\"],[0.5555555555555556,\"#d8576b\"],[0.6666666666666666,\"#ed7953\"],[0.7777777777777778,\"#fb9f3a\"],[0.8888888888888888,\"#fdca26\"],[1.0,\"#f0f921\"]],\"type\":\"histogram2d\"}],\"histogram\":[{\"marker\":{\"pattern\":{\"fillmode\":\"overlay\",\"size\":10,\"solidity\":0.2}},\"type\":\"histogram\"}],\"mesh3d\":[{\"colorbar\":{\"outlinewidth\":0,\"ticks\":\"\"},\"type\":\"mesh3d\"}],\"parcoords\":[{\"line\":{\"colorbar\":{\"outlinewidth\":0,\"ticks\":\"\"}},\"type\":\"parcoords\"}],\"pie\":[{\"automargin\":true,\"type\":\"pie\"}],\"scatter3d\":[{\"line\":{\"colorbar\":{\"outlinewidth\":0,\"ticks\":\"\"}},\"marker\":{\"colorbar\":{\"outlinewidth\":0,\"ticks\":\"\"}},\"type\":\"scatter3d\"}],\"scattercarpet\":[{\"marker\":{\"colorbar\":{\"outlinewidth\":0,\"ticks\":\"\"}},\"type\":\"scattercarpet\"}],\"scattergeo\":[{\"marker\":{\"colorbar\":{\"outlinewidth\":0,\"ticks\":\"\"}},\"type\":\"scattergeo\"}],\"scattergl\":[{\"marker\":{\"colorbar\":{\"outlinewidth\":0,\"ticks\":\"\"}},\"type\":\"scattergl\"}],\"scattermapbox\":[{\"marker\":{\"colorbar\":{\"outlinewidth\":0,\"ticks\":\"\"}},\"type\":\"scattermapbox\"}],\"scatterpolargl\":[{\"marker\":{\"colorbar\":{\"outlinewidth\":0,\"ticks\":\"\"}},\"type\":\"scatterpolargl\"}],\"scatterpolar\":[{\"marker\":{\"colorbar\":{\"outlinewidth\":0,\"ticks\":\"\"}},\"type\":\"scatterpolar\"}],\"scatter\":[{\"fillpattern\":{\"fillmode\":\"overlay\",\"size\":10,\"solidity\":0.2},\"type\":\"scatter\"}],\"scatterternary\":[{\"marker\":{\"colorbar\":{\"outlinewidth\":0,\"ticks\":\"\"}},\"type\":\"scatterternary\"}],\"surface\":[{\"colorbar\":{\"outlinewidth\":0,\"ticks\":\"\"},\"colorscale\":[[0.0,\"#0d0887\"],[0.1111111111111111,\"#46039f\"],[0.2222222222222222,\"#7201a8\"],[0.3333333333333333,\"#9c179e\"],[0.4444444444444444,\"#bd3786\"],[0.5555555555555556,\"#d8576b\"],[0.6666666666666666,\"#ed7953\"],[0.7777777777777778,\"#fb9f3a\"],[0.8888888888888888,\"#fdca26\"],[1.0,\"#f0f921\"]],\"type\":\"surface\"}],\"table\":[{\"cells\":{\"fill\":{\"color\":\"#EBF0F8\"},\"line\":{\"color\":\"white\"}},\"header\":{\"fill\":{\"color\":\"#C8D4E3\"},\"line\":{\"color\":\"white\"}},\"type\":\"table\"}]},\"layout\":{\"annotationdefaults\":{\"arrowcolor\":\"#2a3f5f\",\"arrowhead\":0,\"arrowwidth\":1},\"autotypenumbers\":\"strict\",\"coloraxis\":{\"colorbar\":{\"outlinewidth\":0,\"ticks\":\"\"}},\"colorscale\":{\"diverging\":[[0,\"#8e0152\"],[0.1,\"#c51b7d\"],[0.2,\"#de77ae\"],[0.3,\"#f1b6da\"],[0.4,\"#fde0ef\"],[0.5,\"#f7f7f7\"],[0.6,\"#e6f5d0\"],[0.7,\"#b8e186\"],[0.8,\"#7fbc41\"],[0.9,\"#4d9221\"],[1,\"#276419\"]],\"sequential\":[[0.0,\"#0d0887\"],[0.1111111111111111,\"#46039f\"],[0.2222222222222222,\"#7201a8\"],[0.3333333333333333,\"#9c179e\"],[0.4444444444444444,\"#bd3786\"],[0.5555555555555556,\"#d8576b\"],[0.6666666666666666,\"#ed7953\"],[0.7777777777777778,\"#fb9f3a\"],[0.8888888888888888,\"#fdca26\"],[1.0,\"#f0f921\"]],\"sequentialminus\":[[0.0,\"#0d0887\"],[0.1111111111111111,\"#46039f\"],[0.2222222222222222,\"#7201a8\"],[0.3333333333333333,\"#9c179e\"],[0.4444444444444444,\"#bd3786\"],[0.5555555555555556,\"#d8576b\"],[0.6666666666666666,\"#ed7953\"],[0.7777777777777778,\"#fb9f3a\"],[0.8888888888888888,\"#fdca26\"],[1.0,\"#f0f921\"]]},\"colorway\":[\"#636efa\",\"#EF553B\",\"#00cc96\",\"#ab63fa\",\"#FFA15A\",\"#19d3f3\",\"#FF6692\",\"#B6E880\",\"#FF97FF\",\"#FECB52\"],\"font\":{\"color\":\"#2a3f5f\"},\"geo\":{\"bgcolor\":\"white\",\"lakecolor\":\"white\",\"landcolor\":\"#E5ECF6\",\"showlakes\":true,\"showland\":true,\"subunitcolor\":\"white\"},\"hoverlabel\":{\"align\":\"left\"},\"hovermode\":\"closest\",\"mapbox\":{\"style\":\"light\"},\"paper_bgcolor\":\"white\",\"plot_bgcolor\":\"#E5ECF6\",\"polar\":{\"angularaxis\":{\"gridcolor\":\"white\",\"linecolor\":\"white\",\"ticks\":\"\"},\"bgcolor\":\"#E5ECF6\",\"radialaxis\":{\"gridcolor\":\"white\",\"linecolor\":\"white\",\"ticks\":\"\"}},\"scene\":{\"xaxis\":{\"backgroundcolor\":\"#E5ECF6\",\"gridcolor\":\"white\",\"gridwidth\":2,\"linecolor\":\"white\",\"showbackground\":true,\"ticks\":\"\",\"zerolinecolor\":\"white\"},\"yaxis\":{\"backgroundcolor\":\"#E5ECF6\",\"gridcolor\":\"white\",\"gridwidth\":2,\"linecolor\":\"white\",\"showbackground\":true,\"ticks\":\"\",\"zerolinecolor\":\"white\"},\"zaxis\":{\"backgroundcolor\":\"#E5ECF6\",\"gridcolor\":\"white\",\"gridwidth\":2,\"linecolor\":\"white\",\"showbackground\":true,\"ticks\":\"\",\"zerolinecolor\":\"white\"}},\"shapedefaults\":{\"line\":{\"color\":\"#2a3f5f\"}},\"ternary\":{\"aaxis\":{\"gridcolor\":\"white\",\"linecolor\":\"white\",\"ticks\":\"\"},\"baxis\":{\"gridcolor\":\"white\",\"linecolor\":\"white\",\"ticks\":\"\"},\"bgcolor\":\"#E5ECF6\",\"caxis\":{\"gridcolor\":\"white\",\"linecolor\":\"white\",\"ticks\":\"\"}},\"title\":{\"x\":0.05},\"xaxis\":{\"automargin\":true,\"gridcolor\":\"white\",\"linecolor\":\"white\",\"ticks\":\"\",\"title\":{\"standoff\":15},\"zerolinecolor\":\"white\",\"zerolinewidth\":2},\"yaxis\":{\"automargin\":true,\"gridcolor\":\"white\",\"linecolor\":\"white\",\"ticks\":\"\",\"title\":{\"standoff\":15},\"zerolinecolor\":\"white\",\"zerolinewidth\":2}}},\"title\":{\"font\":{\"color\":\"#4D5663\"}},\"xaxis\":{\"gridcolor\":\"#E1E5ED\",\"showgrid\":true,\"tickfont\":{\"color\":\"#4D5663\"},\"title\":{\"font\":{\"color\":\"#4D5663\"},\"text\":\"\"},\"zerolinecolor\":\"#E1E5ED\"},\"yaxis\":{\"gridcolor\":\"#E1E5ED\",\"showgrid\":true,\"tickfont\":{\"color\":\"#4D5663\"},\"title\":{\"font\":{\"color\":\"#4D5663\"},\"text\":\"\"},\"zerolinecolor\":\"#E1E5ED\"}},                        {\"showLink\": true, \"linkText\": \"Export to plot.ly\", \"plotlyServerURL\": \"https://plot.ly\", \"responsive\": true}                    ).then(function(){\n",
       "                            \n",
       "var gd = document.getElementById('4302be8c-b8a8-4a8b-92be-7ea8fbf45eec');\n",
       "var x = new MutationObserver(function (mutations, observer) {{\n",
       "        var display = window.getComputedStyle(gd).display;\n",
       "        if (!display || display === 'none') {{\n",
       "            console.log([gd, 'removed!']);\n",
       "            Plotly.purge(gd);\n",
       "            observer.disconnect();\n",
       "        }}\n",
       "}});\n",
       "\n",
       "// Listen for the removal of the full notebook cells\n",
       "var notebookContainer = gd.closest('#notebook-container');\n",
       "if (notebookContainer) {{\n",
       "    x.observe(notebookContainer, {childList: true});\n",
       "}}\n",
       "\n",
       "// Listen for the clearing of the current output cell\n",
       "var outputEl = gd.closest('.output');\n",
       "if (outputEl) {{\n",
       "    x.observe(outputEl, {childList: true});\n",
       "}}\n",
       "\n",
       "                        })                };                });            </script>        </div>"
      ]
     },
     "metadata": {},
     "output_type": "display_data"
    }
   ],
   "source": [
    "df.iplot(kind='box')"
   ]
  },
  {
   "cell_type": "markdown",
   "metadata": {},
   "source": [
    "## 3d Surface"
   ]
  },
  {
   "cell_type": "code",
   "execution_count": 20,
   "metadata": {},
   "outputs": [
    {
     "data": {
      "application/vnd.plotly.v1+json": {
       "config": {
        "linkText": "Export to plot.ly",
        "plotlyServerURL": "https://plot.ly",
        "showLink": true
       },
       "data": [
        {
         "colorscale": [
          [
           0,
           "rgb(165,0,38)"
          ],
          [
           0.1,
           "rgb(215,48,39)"
          ],
          [
           0.2,
           "rgb(244,109,67)"
          ],
          [
           0.3,
           "rgb(253,174,97)"
          ],
          [
           0.4,
           "rgb(254,224,144)"
          ],
          [
           0.5,
           "rgb(255,255,191)"
          ],
          [
           0.6,
           "rgb(224,243,248)"
          ],
          [
           0.7,
           "rgb(171,217,233)"
          ],
          [
           0.8,
           "rgb(116,173,209)"
          ],
          [
           0.9,
           "rgb(69,117,180)"
          ],
          [
           1,
           "rgb(49,54,149)"
          ]
         ],
         "type": "surface",
         "x": [
          0,
          1,
          2,
          3,
          4
         ],
         "y": [
          "x",
          "y",
          "z"
         ],
         "z": [
          [
           1,
           2,
           3,
           4,
           5
          ],
          [
           10,
           20,
           330,
           20,
           10
          ],
          [
           5,
           4,
           3,
           2,
           1
          ]
         ]
        }
       ],
       "layout": {
        "legend": {
         "bgcolor": "#F5F6F9",
         "font": {
          "color": "#4D5663"
         }
        },
        "paper_bgcolor": "#F5F6F9",
        "plot_bgcolor": "#F5F6F9",
        "template": {
         "data": {
          "bar": [
           {
            "error_x": {
             "color": "#2a3f5f"
            },
            "error_y": {
             "color": "#2a3f5f"
            },
            "marker": {
             "line": {
              "color": "#E5ECF6",
              "width": 0.5
             },
             "pattern": {
              "fillmode": "overlay",
              "size": 10,
              "solidity": 0.2
             }
            },
            "type": "bar"
           }
          ],
          "barpolar": [
           {
            "marker": {
             "line": {
              "color": "#E5ECF6",
              "width": 0.5
             },
             "pattern": {
              "fillmode": "overlay",
              "size": 10,
              "solidity": 0.2
             }
            },
            "type": "barpolar"
           }
          ],
          "carpet": [
           {
            "aaxis": {
             "endlinecolor": "#2a3f5f",
             "gridcolor": "white",
             "linecolor": "white",
             "minorgridcolor": "white",
             "startlinecolor": "#2a3f5f"
            },
            "baxis": {
             "endlinecolor": "#2a3f5f",
             "gridcolor": "white",
             "linecolor": "white",
             "minorgridcolor": "white",
             "startlinecolor": "#2a3f5f"
            },
            "type": "carpet"
           }
          ],
          "choropleth": [
           {
            "colorbar": {
             "outlinewidth": 0,
             "ticks": ""
            },
            "type": "choropleth"
           }
          ],
          "contour": [
           {
            "colorbar": {
             "outlinewidth": 0,
             "ticks": ""
            },
            "colorscale": [
             [
              0,
              "#0d0887"
             ],
             [
              0.1111111111111111,
              "#46039f"
             ],
             [
              0.2222222222222222,
              "#7201a8"
             ],
             [
              0.3333333333333333,
              "#9c179e"
             ],
             [
              0.4444444444444444,
              "#bd3786"
             ],
             [
              0.5555555555555556,
              "#d8576b"
             ],
             [
              0.6666666666666666,
              "#ed7953"
             ],
             [
              0.7777777777777778,
              "#fb9f3a"
             ],
             [
              0.8888888888888888,
              "#fdca26"
             ],
             [
              1,
              "#f0f921"
             ]
            ],
            "type": "contour"
           }
          ],
          "contourcarpet": [
           {
            "colorbar": {
             "outlinewidth": 0,
             "ticks": ""
            },
            "type": "contourcarpet"
           }
          ],
          "heatmap": [
           {
            "colorbar": {
             "outlinewidth": 0,
             "ticks": ""
            },
            "colorscale": [
             [
              0,
              "#0d0887"
             ],
             [
              0.1111111111111111,
              "#46039f"
             ],
             [
              0.2222222222222222,
              "#7201a8"
             ],
             [
              0.3333333333333333,
              "#9c179e"
             ],
             [
              0.4444444444444444,
              "#bd3786"
             ],
             [
              0.5555555555555556,
              "#d8576b"
             ],
             [
              0.6666666666666666,
              "#ed7953"
             ],
             [
              0.7777777777777778,
              "#fb9f3a"
             ],
             [
              0.8888888888888888,
              "#fdca26"
             ],
             [
              1,
              "#f0f921"
             ]
            ],
            "type": "heatmap"
           }
          ],
          "heatmapgl": [
           {
            "colorbar": {
             "outlinewidth": 0,
             "ticks": ""
            },
            "colorscale": [
             [
              0,
              "#0d0887"
             ],
             [
              0.1111111111111111,
              "#46039f"
             ],
             [
              0.2222222222222222,
              "#7201a8"
             ],
             [
              0.3333333333333333,
              "#9c179e"
             ],
             [
              0.4444444444444444,
              "#bd3786"
             ],
             [
              0.5555555555555556,
              "#d8576b"
             ],
             [
              0.6666666666666666,
              "#ed7953"
             ],
             [
              0.7777777777777778,
              "#fb9f3a"
             ],
             [
              0.8888888888888888,
              "#fdca26"
             ],
             [
              1,
              "#f0f921"
             ]
            ],
            "type": "heatmapgl"
           }
          ],
          "histogram": [
           {
            "marker": {
             "pattern": {
              "fillmode": "overlay",
              "size": 10,
              "solidity": 0.2
             }
            },
            "type": "histogram"
           }
          ],
          "histogram2d": [
           {
            "colorbar": {
             "outlinewidth": 0,
             "ticks": ""
            },
            "colorscale": [
             [
              0,
              "#0d0887"
             ],
             [
              0.1111111111111111,
              "#46039f"
             ],
             [
              0.2222222222222222,
              "#7201a8"
             ],
             [
              0.3333333333333333,
              "#9c179e"
             ],
             [
              0.4444444444444444,
              "#bd3786"
             ],
             [
              0.5555555555555556,
              "#d8576b"
             ],
             [
              0.6666666666666666,
              "#ed7953"
             ],
             [
              0.7777777777777778,
              "#fb9f3a"
             ],
             [
              0.8888888888888888,
              "#fdca26"
             ],
             [
              1,
              "#f0f921"
             ]
            ],
            "type": "histogram2d"
           }
          ],
          "histogram2dcontour": [
           {
            "colorbar": {
             "outlinewidth": 0,
             "ticks": ""
            },
            "colorscale": [
             [
              0,
              "#0d0887"
             ],
             [
              0.1111111111111111,
              "#46039f"
             ],
             [
              0.2222222222222222,
              "#7201a8"
             ],
             [
              0.3333333333333333,
              "#9c179e"
             ],
             [
              0.4444444444444444,
              "#bd3786"
             ],
             [
              0.5555555555555556,
              "#d8576b"
             ],
             [
              0.6666666666666666,
              "#ed7953"
             ],
             [
              0.7777777777777778,
              "#fb9f3a"
             ],
             [
              0.8888888888888888,
              "#fdca26"
             ],
             [
              1,
              "#f0f921"
             ]
            ],
            "type": "histogram2dcontour"
           }
          ],
          "mesh3d": [
           {
            "colorbar": {
             "outlinewidth": 0,
             "ticks": ""
            },
            "type": "mesh3d"
           }
          ],
          "parcoords": [
           {
            "line": {
             "colorbar": {
              "outlinewidth": 0,
              "ticks": ""
             }
            },
            "type": "parcoords"
           }
          ],
          "pie": [
           {
            "automargin": true,
            "type": "pie"
           }
          ],
          "scatter": [
           {
            "fillpattern": {
             "fillmode": "overlay",
             "size": 10,
             "solidity": 0.2
            },
            "type": "scatter"
           }
          ],
          "scatter3d": [
           {
            "line": {
             "colorbar": {
              "outlinewidth": 0,
              "ticks": ""
             }
            },
            "marker": {
             "colorbar": {
              "outlinewidth": 0,
              "ticks": ""
             }
            },
            "type": "scatter3d"
           }
          ],
          "scattercarpet": [
           {
            "marker": {
             "colorbar": {
              "outlinewidth": 0,
              "ticks": ""
             }
            },
            "type": "scattercarpet"
           }
          ],
          "scattergeo": [
           {
            "marker": {
             "colorbar": {
              "outlinewidth": 0,
              "ticks": ""
             }
            },
            "type": "scattergeo"
           }
          ],
          "scattergl": [
           {
            "marker": {
             "colorbar": {
              "outlinewidth": 0,
              "ticks": ""
             }
            },
            "type": "scattergl"
           }
          ],
          "scattermapbox": [
           {
            "marker": {
             "colorbar": {
              "outlinewidth": 0,
              "ticks": ""
             }
            },
            "type": "scattermapbox"
           }
          ],
          "scatterpolar": [
           {
            "marker": {
             "colorbar": {
              "outlinewidth": 0,
              "ticks": ""
             }
            },
            "type": "scatterpolar"
           }
          ],
          "scatterpolargl": [
           {
            "marker": {
             "colorbar": {
              "outlinewidth": 0,
              "ticks": ""
             }
            },
            "type": "scatterpolargl"
           }
          ],
          "scatterternary": [
           {
            "marker": {
             "colorbar": {
              "outlinewidth": 0,
              "ticks": ""
             }
            },
            "type": "scatterternary"
           }
          ],
          "surface": [
           {
            "colorbar": {
             "outlinewidth": 0,
             "ticks": ""
            },
            "colorscale": [
             [
              0,
              "#0d0887"
             ],
             [
              0.1111111111111111,
              "#46039f"
             ],
             [
              0.2222222222222222,
              "#7201a8"
             ],
             [
              0.3333333333333333,
              "#9c179e"
             ],
             [
              0.4444444444444444,
              "#bd3786"
             ],
             [
              0.5555555555555556,
              "#d8576b"
             ],
             [
              0.6666666666666666,
              "#ed7953"
             ],
             [
              0.7777777777777778,
              "#fb9f3a"
             ],
             [
              0.8888888888888888,
              "#fdca26"
             ],
             [
              1,
              "#f0f921"
             ]
            ],
            "type": "surface"
           }
          ],
          "table": [
           {
            "cells": {
             "fill": {
              "color": "#EBF0F8"
             },
             "line": {
              "color": "white"
             }
            },
            "header": {
             "fill": {
              "color": "#C8D4E3"
             },
             "line": {
              "color": "white"
             }
            },
            "type": "table"
           }
          ]
         },
         "layout": {
          "annotationdefaults": {
           "arrowcolor": "#2a3f5f",
           "arrowhead": 0,
           "arrowwidth": 1
          },
          "autotypenumbers": "strict",
          "coloraxis": {
           "colorbar": {
            "outlinewidth": 0,
            "ticks": ""
           }
          },
          "colorscale": {
           "diverging": [
            [
             0,
             "#8e0152"
            ],
            [
             0.1,
             "#c51b7d"
            ],
            [
             0.2,
             "#de77ae"
            ],
            [
             0.3,
             "#f1b6da"
            ],
            [
             0.4,
             "#fde0ef"
            ],
            [
             0.5,
             "#f7f7f7"
            ],
            [
             0.6,
             "#e6f5d0"
            ],
            [
             0.7,
             "#b8e186"
            ],
            [
             0.8,
             "#7fbc41"
            ],
            [
             0.9,
             "#4d9221"
            ],
            [
             1,
             "#276419"
            ]
           ],
           "sequential": [
            [
             0,
             "#0d0887"
            ],
            [
             0.1111111111111111,
             "#46039f"
            ],
            [
             0.2222222222222222,
             "#7201a8"
            ],
            [
             0.3333333333333333,
             "#9c179e"
            ],
            [
             0.4444444444444444,
             "#bd3786"
            ],
            [
             0.5555555555555556,
             "#d8576b"
            ],
            [
             0.6666666666666666,
             "#ed7953"
            ],
            [
             0.7777777777777778,
             "#fb9f3a"
            ],
            [
             0.8888888888888888,
             "#fdca26"
            ],
            [
             1,
             "#f0f921"
            ]
           ],
           "sequentialminus": [
            [
             0,
             "#0d0887"
            ],
            [
             0.1111111111111111,
             "#46039f"
            ],
            [
             0.2222222222222222,
             "#7201a8"
            ],
            [
             0.3333333333333333,
             "#9c179e"
            ],
            [
             0.4444444444444444,
             "#bd3786"
            ],
            [
             0.5555555555555556,
             "#d8576b"
            ],
            [
             0.6666666666666666,
             "#ed7953"
            ],
            [
             0.7777777777777778,
             "#fb9f3a"
            ],
            [
             0.8888888888888888,
             "#fdca26"
            ],
            [
             1,
             "#f0f921"
            ]
           ]
          },
          "colorway": [
           "#636efa",
           "#EF553B",
           "#00cc96",
           "#ab63fa",
           "#FFA15A",
           "#19d3f3",
           "#FF6692",
           "#B6E880",
           "#FF97FF",
           "#FECB52"
          ],
          "font": {
           "color": "#2a3f5f"
          },
          "geo": {
           "bgcolor": "white",
           "lakecolor": "white",
           "landcolor": "#E5ECF6",
           "showlakes": true,
           "showland": true,
           "subunitcolor": "white"
          },
          "hoverlabel": {
           "align": "left"
          },
          "hovermode": "closest",
          "mapbox": {
           "style": "light"
          },
          "paper_bgcolor": "white",
          "plot_bgcolor": "#E5ECF6",
          "polar": {
           "angularaxis": {
            "gridcolor": "white",
            "linecolor": "white",
            "ticks": ""
           },
           "bgcolor": "#E5ECF6",
           "radialaxis": {
            "gridcolor": "white",
            "linecolor": "white",
            "ticks": ""
           }
          },
          "scene": {
           "xaxis": {
            "backgroundcolor": "#E5ECF6",
            "gridcolor": "white",
            "gridwidth": 2,
            "linecolor": "white",
            "showbackground": true,
            "ticks": "",
            "zerolinecolor": "white"
           },
           "yaxis": {
            "backgroundcolor": "#E5ECF6",
            "gridcolor": "white",
            "gridwidth": 2,
            "linecolor": "white",
            "showbackground": true,
            "ticks": "",
            "zerolinecolor": "white"
           },
           "zaxis": {
            "backgroundcolor": "#E5ECF6",
            "gridcolor": "white",
            "gridwidth": 2,
            "linecolor": "white",
            "showbackground": true,
            "ticks": "",
            "zerolinecolor": "white"
           }
          },
          "shapedefaults": {
           "line": {
            "color": "#2a3f5f"
           }
          },
          "ternary": {
           "aaxis": {
            "gridcolor": "white",
            "linecolor": "white",
            "ticks": ""
           },
           "baxis": {
            "gridcolor": "white",
            "linecolor": "white",
            "ticks": ""
           },
           "bgcolor": "#E5ECF6",
           "caxis": {
            "gridcolor": "white",
            "linecolor": "white",
            "ticks": ""
           }
          },
          "title": {
           "x": 0.05
          },
          "xaxis": {
           "automargin": true,
           "gridcolor": "white",
           "linecolor": "white",
           "ticks": "",
           "title": {
            "standoff": 15
           },
           "zerolinecolor": "white",
           "zerolinewidth": 2
          },
          "yaxis": {
           "automargin": true,
           "gridcolor": "white",
           "linecolor": "white",
           "ticks": "",
           "title": {
            "standoff": 15
           },
           "zerolinecolor": "white",
           "zerolinewidth": 2
          }
         }
        },
        "title": {
         "font": {
          "color": "#4D5663"
         }
        },
        "xaxis": {
         "gridcolor": "#E1E5ED",
         "showgrid": true,
         "tickfont": {
          "color": "#4D5663"
         },
         "title": {
          "font": {
           "color": "#4D5663"
          },
          "text": ""
         },
         "zerolinecolor": "#E1E5ED"
        },
        "yaxis": {
         "gridcolor": "#E1E5ED",
         "showgrid": true,
         "tickfont": {
          "color": "#4D5663"
         },
         "title": {
          "font": {
           "color": "#4D5663"
          },
          "text": ""
         },
         "zerolinecolor": "#E1E5ED"
        }
       }
      },
      "text/html": [
       "<div>                            <div id=\"4099abcd-8c0e-4a43-a136-984b359d8966\" class=\"plotly-graph-div\" style=\"height:525px; width:100%;\"></div>            <script type=\"text/javascript\">                require([\"plotly\"], function(Plotly) {                    window.PLOTLYENV=window.PLOTLYENV || {};\n",
       "                    window.PLOTLYENV.BASE_URL='https://plot.ly';                                    if (document.getElementById(\"4099abcd-8c0e-4a43-a136-984b359d8966\")) {                    Plotly.newPlot(                        \"4099abcd-8c0e-4a43-a136-984b359d8966\",                        [{\"colorscale\":[[0.0,\"rgb(165,0,38)\"],[0.1,\"rgb(215,48,39)\"],[0.2,\"rgb(244,109,67)\"],[0.3,\"rgb(253,174,97)\"],[0.4,\"rgb(254,224,144)\"],[0.5,\"rgb(255,255,191)\"],[0.6,\"rgb(224,243,248)\"],[0.7,\"rgb(171,217,233)\"],[0.8,\"rgb(116,173,209)\"],[0.9,\"rgb(69,117,180)\"],[1.0,\"rgb(49,54,149)\"]],\"x\":[0,1,2,3,4],\"y\":[\"x\",\"y\",\"z\"],\"z\":[[1,2,3,4,5],[10,20,330,20,10],[5,4,3,2,1]],\"type\":\"surface\"}],                        {\"legend\":{\"bgcolor\":\"#F5F6F9\",\"font\":{\"color\":\"#4D5663\"}},\"paper_bgcolor\":\"#F5F6F9\",\"plot_bgcolor\":\"#F5F6F9\",\"template\":{\"data\":{\"barpolar\":[{\"marker\":{\"line\":{\"color\":\"#E5ECF6\",\"width\":0.5},\"pattern\":{\"fillmode\":\"overlay\",\"size\":10,\"solidity\":0.2}},\"type\":\"barpolar\"}],\"bar\":[{\"error_x\":{\"color\":\"#2a3f5f\"},\"error_y\":{\"color\":\"#2a3f5f\"},\"marker\":{\"line\":{\"color\":\"#E5ECF6\",\"width\":0.5},\"pattern\":{\"fillmode\":\"overlay\",\"size\":10,\"solidity\":0.2}},\"type\":\"bar\"}],\"carpet\":[{\"aaxis\":{\"endlinecolor\":\"#2a3f5f\",\"gridcolor\":\"white\",\"linecolor\":\"white\",\"minorgridcolor\":\"white\",\"startlinecolor\":\"#2a3f5f\"},\"baxis\":{\"endlinecolor\":\"#2a3f5f\",\"gridcolor\":\"white\",\"linecolor\":\"white\",\"minorgridcolor\":\"white\",\"startlinecolor\":\"#2a3f5f\"},\"type\":\"carpet\"}],\"choropleth\":[{\"colorbar\":{\"outlinewidth\":0,\"ticks\":\"\"},\"type\":\"choropleth\"}],\"contourcarpet\":[{\"colorbar\":{\"outlinewidth\":0,\"ticks\":\"\"},\"type\":\"contourcarpet\"}],\"contour\":[{\"colorbar\":{\"outlinewidth\":0,\"ticks\":\"\"},\"colorscale\":[[0.0,\"#0d0887\"],[0.1111111111111111,\"#46039f\"],[0.2222222222222222,\"#7201a8\"],[0.3333333333333333,\"#9c179e\"],[0.4444444444444444,\"#bd3786\"],[0.5555555555555556,\"#d8576b\"],[0.6666666666666666,\"#ed7953\"],[0.7777777777777778,\"#fb9f3a\"],[0.8888888888888888,\"#fdca26\"],[1.0,\"#f0f921\"]],\"type\":\"contour\"}],\"heatmapgl\":[{\"colorbar\":{\"outlinewidth\":0,\"ticks\":\"\"},\"colorscale\":[[0.0,\"#0d0887\"],[0.1111111111111111,\"#46039f\"],[0.2222222222222222,\"#7201a8\"],[0.3333333333333333,\"#9c179e\"],[0.4444444444444444,\"#bd3786\"],[0.5555555555555556,\"#d8576b\"],[0.6666666666666666,\"#ed7953\"],[0.7777777777777778,\"#fb9f3a\"],[0.8888888888888888,\"#fdca26\"],[1.0,\"#f0f921\"]],\"type\":\"heatmapgl\"}],\"heatmap\":[{\"colorbar\":{\"outlinewidth\":0,\"ticks\":\"\"},\"colorscale\":[[0.0,\"#0d0887\"],[0.1111111111111111,\"#46039f\"],[0.2222222222222222,\"#7201a8\"],[0.3333333333333333,\"#9c179e\"],[0.4444444444444444,\"#bd3786\"],[0.5555555555555556,\"#d8576b\"],[0.6666666666666666,\"#ed7953\"],[0.7777777777777778,\"#fb9f3a\"],[0.8888888888888888,\"#fdca26\"],[1.0,\"#f0f921\"]],\"type\":\"heatmap\"}],\"histogram2dcontour\":[{\"colorbar\":{\"outlinewidth\":0,\"ticks\":\"\"},\"colorscale\":[[0.0,\"#0d0887\"],[0.1111111111111111,\"#46039f\"],[0.2222222222222222,\"#7201a8\"],[0.3333333333333333,\"#9c179e\"],[0.4444444444444444,\"#bd3786\"],[0.5555555555555556,\"#d8576b\"],[0.6666666666666666,\"#ed7953\"],[0.7777777777777778,\"#fb9f3a\"],[0.8888888888888888,\"#fdca26\"],[1.0,\"#f0f921\"]],\"type\":\"histogram2dcontour\"}],\"histogram2d\":[{\"colorbar\":{\"outlinewidth\":0,\"ticks\":\"\"},\"colorscale\":[[0.0,\"#0d0887\"],[0.1111111111111111,\"#46039f\"],[0.2222222222222222,\"#7201a8\"],[0.3333333333333333,\"#9c179e\"],[0.4444444444444444,\"#bd3786\"],[0.5555555555555556,\"#d8576b\"],[0.6666666666666666,\"#ed7953\"],[0.7777777777777778,\"#fb9f3a\"],[0.8888888888888888,\"#fdca26\"],[1.0,\"#f0f921\"]],\"type\":\"histogram2d\"}],\"histogram\":[{\"marker\":{\"pattern\":{\"fillmode\":\"overlay\",\"size\":10,\"solidity\":0.2}},\"type\":\"histogram\"}],\"mesh3d\":[{\"colorbar\":{\"outlinewidth\":0,\"ticks\":\"\"},\"type\":\"mesh3d\"}],\"parcoords\":[{\"line\":{\"colorbar\":{\"outlinewidth\":0,\"ticks\":\"\"}},\"type\":\"parcoords\"}],\"pie\":[{\"automargin\":true,\"type\":\"pie\"}],\"scatter3d\":[{\"line\":{\"colorbar\":{\"outlinewidth\":0,\"ticks\":\"\"}},\"marker\":{\"colorbar\":{\"outlinewidth\":0,\"ticks\":\"\"}},\"type\":\"scatter3d\"}],\"scattercarpet\":[{\"marker\":{\"colorbar\":{\"outlinewidth\":0,\"ticks\":\"\"}},\"type\":\"scattercarpet\"}],\"scattergeo\":[{\"marker\":{\"colorbar\":{\"outlinewidth\":0,\"ticks\":\"\"}},\"type\":\"scattergeo\"}],\"scattergl\":[{\"marker\":{\"colorbar\":{\"outlinewidth\":0,\"ticks\":\"\"}},\"type\":\"scattergl\"}],\"scattermapbox\":[{\"marker\":{\"colorbar\":{\"outlinewidth\":0,\"ticks\":\"\"}},\"type\":\"scattermapbox\"}],\"scatterpolargl\":[{\"marker\":{\"colorbar\":{\"outlinewidth\":0,\"ticks\":\"\"}},\"type\":\"scatterpolargl\"}],\"scatterpolar\":[{\"marker\":{\"colorbar\":{\"outlinewidth\":0,\"ticks\":\"\"}},\"type\":\"scatterpolar\"}],\"scatter\":[{\"fillpattern\":{\"fillmode\":\"overlay\",\"size\":10,\"solidity\":0.2},\"type\":\"scatter\"}],\"scatterternary\":[{\"marker\":{\"colorbar\":{\"outlinewidth\":0,\"ticks\":\"\"}},\"type\":\"scatterternary\"}],\"surface\":[{\"colorbar\":{\"outlinewidth\":0,\"ticks\":\"\"},\"colorscale\":[[0.0,\"#0d0887\"],[0.1111111111111111,\"#46039f\"],[0.2222222222222222,\"#7201a8\"],[0.3333333333333333,\"#9c179e\"],[0.4444444444444444,\"#bd3786\"],[0.5555555555555556,\"#d8576b\"],[0.6666666666666666,\"#ed7953\"],[0.7777777777777778,\"#fb9f3a\"],[0.8888888888888888,\"#fdca26\"],[1.0,\"#f0f921\"]],\"type\":\"surface\"}],\"table\":[{\"cells\":{\"fill\":{\"color\":\"#EBF0F8\"},\"line\":{\"color\":\"white\"}},\"header\":{\"fill\":{\"color\":\"#C8D4E3\"},\"line\":{\"color\":\"white\"}},\"type\":\"table\"}]},\"layout\":{\"annotationdefaults\":{\"arrowcolor\":\"#2a3f5f\",\"arrowhead\":0,\"arrowwidth\":1},\"autotypenumbers\":\"strict\",\"coloraxis\":{\"colorbar\":{\"outlinewidth\":0,\"ticks\":\"\"}},\"colorscale\":{\"diverging\":[[0,\"#8e0152\"],[0.1,\"#c51b7d\"],[0.2,\"#de77ae\"],[0.3,\"#f1b6da\"],[0.4,\"#fde0ef\"],[0.5,\"#f7f7f7\"],[0.6,\"#e6f5d0\"],[0.7,\"#b8e186\"],[0.8,\"#7fbc41\"],[0.9,\"#4d9221\"],[1,\"#276419\"]],\"sequential\":[[0.0,\"#0d0887\"],[0.1111111111111111,\"#46039f\"],[0.2222222222222222,\"#7201a8\"],[0.3333333333333333,\"#9c179e\"],[0.4444444444444444,\"#bd3786\"],[0.5555555555555556,\"#d8576b\"],[0.6666666666666666,\"#ed7953\"],[0.7777777777777778,\"#fb9f3a\"],[0.8888888888888888,\"#fdca26\"],[1.0,\"#f0f921\"]],\"sequentialminus\":[[0.0,\"#0d0887\"],[0.1111111111111111,\"#46039f\"],[0.2222222222222222,\"#7201a8\"],[0.3333333333333333,\"#9c179e\"],[0.4444444444444444,\"#bd3786\"],[0.5555555555555556,\"#d8576b\"],[0.6666666666666666,\"#ed7953\"],[0.7777777777777778,\"#fb9f3a\"],[0.8888888888888888,\"#fdca26\"],[1.0,\"#f0f921\"]]},\"colorway\":[\"#636efa\",\"#EF553B\",\"#00cc96\",\"#ab63fa\",\"#FFA15A\",\"#19d3f3\",\"#FF6692\",\"#B6E880\",\"#FF97FF\",\"#FECB52\"],\"font\":{\"color\":\"#2a3f5f\"},\"geo\":{\"bgcolor\":\"white\",\"lakecolor\":\"white\",\"landcolor\":\"#E5ECF6\",\"showlakes\":true,\"showland\":true,\"subunitcolor\":\"white\"},\"hoverlabel\":{\"align\":\"left\"},\"hovermode\":\"closest\",\"mapbox\":{\"style\":\"light\"},\"paper_bgcolor\":\"white\",\"plot_bgcolor\":\"#E5ECF6\",\"polar\":{\"angularaxis\":{\"gridcolor\":\"white\",\"linecolor\":\"white\",\"ticks\":\"\"},\"bgcolor\":\"#E5ECF6\",\"radialaxis\":{\"gridcolor\":\"white\",\"linecolor\":\"white\",\"ticks\":\"\"}},\"scene\":{\"xaxis\":{\"backgroundcolor\":\"#E5ECF6\",\"gridcolor\":\"white\",\"gridwidth\":2,\"linecolor\":\"white\",\"showbackground\":true,\"ticks\":\"\",\"zerolinecolor\":\"white\"},\"yaxis\":{\"backgroundcolor\":\"#E5ECF6\",\"gridcolor\":\"white\",\"gridwidth\":2,\"linecolor\":\"white\",\"showbackground\":true,\"ticks\":\"\",\"zerolinecolor\":\"white\"},\"zaxis\":{\"backgroundcolor\":\"#E5ECF6\",\"gridcolor\":\"white\",\"gridwidth\":2,\"linecolor\":\"white\",\"showbackground\":true,\"ticks\":\"\",\"zerolinecolor\":\"white\"}},\"shapedefaults\":{\"line\":{\"color\":\"#2a3f5f\"}},\"ternary\":{\"aaxis\":{\"gridcolor\":\"white\",\"linecolor\":\"white\",\"ticks\":\"\"},\"baxis\":{\"gridcolor\":\"white\",\"linecolor\":\"white\",\"ticks\":\"\"},\"bgcolor\":\"#E5ECF6\",\"caxis\":{\"gridcolor\":\"white\",\"linecolor\":\"white\",\"ticks\":\"\"}},\"title\":{\"x\":0.05},\"xaxis\":{\"automargin\":true,\"gridcolor\":\"white\",\"linecolor\":\"white\",\"ticks\":\"\",\"title\":{\"standoff\":15},\"zerolinecolor\":\"white\",\"zerolinewidth\":2},\"yaxis\":{\"automargin\":true,\"gridcolor\":\"white\",\"linecolor\":\"white\",\"ticks\":\"\",\"title\":{\"standoff\":15},\"zerolinecolor\":\"white\",\"zerolinewidth\":2}}},\"title\":{\"font\":{\"color\":\"#4D5663\"}},\"xaxis\":{\"gridcolor\":\"#E1E5ED\",\"showgrid\":true,\"tickfont\":{\"color\":\"#4D5663\"},\"title\":{\"font\":{\"color\":\"#4D5663\"},\"text\":\"\"},\"zerolinecolor\":\"#E1E5ED\"},\"yaxis\":{\"gridcolor\":\"#E1E5ED\",\"showgrid\":true,\"tickfont\":{\"color\":\"#4D5663\"},\"title\":{\"font\":{\"color\":\"#4D5663\"},\"text\":\"\"},\"zerolinecolor\":\"#E1E5ED\"}},                        {\"showLink\": true, \"linkText\": \"Export to plot.ly\", \"plotlyServerURL\": \"https://plot.ly\", \"responsive\": true}                    ).then(function(){\n",
       "                            \n",
       "var gd = document.getElementById('4099abcd-8c0e-4a43-a136-984b359d8966');\n",
       "var x = new MutationObserver(function (mutations, observer) {{\n",
       "        var display = window.getComputedStyle(gd).display;\n",
       "        if (!display || display === 'none') {{\n",
       "            console.log([gd, 'removed!']);\n",
       "            Plotly.purge(gd);\n",
       "            observer.disconnect();\n",
       "        }}\n",
       "}});\n",
       "\n",
       "// Listen for the removal of the full notebook cells\n",
       "var notebookContainer = gd.closest('#notebook-container');\n",
       "if (notebookContainer) {{\n",
       "    x.observe(notebookContainer, {childList: true});\n",
       "}}\n",
       "\n",
       "// Listen for the clearing of the current output cell\n",
       "var outputEl = gd.closest('.output');\n",
       "if (outputEl) {{\n",
       "    x.observe(outputEl, {childList: true});\n",
       "}}\n",
       "\n",
       "                        })                };                });            </script>        </div>"
      ]
     },
     "metadata": {},
     "output_type": "display_data"
    }
   ],
   "source": [
    "df3 = pd.DataFrame({'x':[1,2,3,4,5],'y':[10,20,330,20,10],'z':[5,4,3,2,1]})\n",
    "df3.iplot(kind='surface',colorscale='rdylbu')"
   ]
  },
  {
   "cell_type": "code",
   "execution_count": 21,
   "metadata": {},
   "outputs": [],
   "source": [
    "#import chart_studio.plotly as py\n",
    "import plotly.figure_factory as ff\n",
    "import plotly.graph_objects as go"
   ]
  },
  {
   "cell_type": "code",
   "execution_count": 22,
   "metadata": {},
   "outputs": [
    {
     "data": {
      "text/plain": [
       "array([[-1.06211532e+00,  2.08343330e-01, -9.46185833e-01,\n",
       "        -9.14436226e-01],\n",
       "       [-7.54986821e-01, -1.48898327e+00, -2.32155484e-02,\n",
       "        -8.32052747e-01],\n",
       "       [-1.54643172e+00,  7.32875349e-01, -3.92640176e-01,\n",
       "        -1.43102873e+00],\n",
       "       [ 1.09048027e+00, -1.95828927e+00,  8.35648082e-01,\n",
       "        -3.27166145e-01],\n",
       "       [ 3.28765618e-01,  4.94327709e-01, -1.03474181e-01,\n",
       "         1.53238223e+00],\n",
       "       [ 1.21795220e+00,  6.18411861e-01,  3.65235128e-01,\n",
       "        -5.10902463e-01],\n",
       "       [-1.27976872e+00,  2.13171903e-02, -4.19171617e-01,\n",
       "        -3.38682819e-02],\n",
       "       [-1.34958538e-01, -1.06522294e+00, -1.86555585e-02,\n",
       "        -5.10013055e-01],\n",
       "       [-2.10891564e+00, -1.48057669e+00,  1.58568114e+00,\n",
       "        -1.07073940e+00],\n",
       "       [ 6.64149429e-01,  3.92167336e-01,  1.21693412e+00,\n",
       "        -5.46609736e-01],\n",
       "       [-9.25057918e-02,  8.66504281e-02,  7.10087878e-01,\n",
       "        -1.01698314e+00],\n",
       "       [-2.43103365e+00, -1.29986104e-02,  1.07759185e+00,\n",
       "        -1.84153211e-01],\n",
       "       [ 4.02280580e-01,  6.57140880e-01, -1.89555577e-01,\n",
       "         1.26059039e+00],\n",
       "       [ 5.64627984e-01, -1.17902218e+00, -1.88810464e+00,\n",
       "        -1.33969955e+00],\n",
       "       [-1.86142528e-01, -4.95872790e-01, -3.47349348e-01,\n",
       "        -2.00490445e+00],\n",
       "       [ 2.77417109e+00,  9.62087952e-01, -6.82060779e-02,\n",
       "         1.25219978e+00],\n",
       "       [ 2.99595179e-01,  1.87506202e+00, -2.54885367e-01,\n",
       "        -7.28996466e-01],\n",
       "       [ 3.51353960e-01, -4.54826147e-01,  5.36035445e-01,\n",
       "        -1.49347663e+00],\n",
       "       [ 1.09921534e+00,  9.98282316e-01,  7.36557653e-01,\n",
       "         1.33021853e+00],\n",
       "       [ 1.15520159e-01, -7.09334258e-01, -1.20547596e+00,\n",
       "         2.27284661e-01],\n",
       "       [-4.16104935e-01,  1.12065809e+00, -6.97492368e-01,\n",
       "        -1.64828039e+00],\n",
       "       [ 2.11784504e+00, -3.65750691e-01,  7.07346481e-01,\n",
       "        -4.37808069e-01],\n",
       "       [-2.25482585e-01, -1.47813312e+00,  4.49197078e-01,\n",
       "        -9.65549402e-01],\n",
       "       [ 3.08313330e-02, -4.40105019e-01, -3.16514507e-01,\n",
       "         1.47303790e-02],\n",
       "       [ 3.68670279e-01, -9.98933101e-01,  1.74377590e-01,\n",
       "        -4.96991047e-02],\n",
       "       [-2.85367252e-01, -1.30902457e+00, -7.64055118e-01,\n",
       "         1.06663506e+00],\n",
       "       [-1.00901553e+00,  1.22495202e-01, -1.03486531e+00,\n",
       "         7.27482016e-01],\n",
       "       [ 8.86477760e-01,  1.00033917e+00,  2.01240297e+00,\n",
       "         1.47072016e+00],\n",
       "       [-2.34168422e-01, -8.98002131e-01, -1.74789987e+00,\n",
       "         2.21671981e-01],\n",
       "       [ 1.08947361e+00, -6.21457497e-01, -2.21659509e+00,\n",
       "        -9.57703163e-01],\n",
       "       [ 1.37525060e+00,  7.91202191e-01,  3.76332475e-01,\n",
       "        -4.11526770e-02],\n",
       "       [ 1.08196093e+00,  5.90807531e-01,  2.05678770e+00,\n",
       "        -1.73045513e+00],\n",
       "       [-7.54486437e-01,  1.54111519e+00,  3.18823132e-01,\n",
       "         5.45768650e-01],\n",
       "       [-2.85951422e-01, -1.02008440e+00, -1.71231999e+00,\n",
       "        -1.71255434e+00],\n",
       "       [ 5.43436589e-01, -1.00067302e+00, -4.04858369e-01,\n",
       "        -1.43452275e-01],\n",
       "       [ 3.90099877e-01, -1.23816963e+00,  5.90373780e-02,\n",
       "         9.41995310e-01],\n",
       "       [ 2.45132222e-01, -9.31521353e-01,  7.51434085e-01,\n",
       "        -5.18351460e-02],\n",
       "       [-9.62381573e-01,  8.59322596e-02, -4.69348304e-02,\n",
       "         5.89864348e-01],\n",
       "       [ 3.46063924e-01,  6.06144513e-01,  4.78282655e-01,\n",
       "         1.05804098e-01],\n",
       "       [ 1.08089798e+00, -4.66498957e-01, -1.41629112e+00,\n",
       "         7.45478081e-02],\n",
       "       [ 1.45222262e+00, -4.59614415e-01,  7.26401057e-01,\n",
       "         8.60691585e-02],\n",
       "       [-1.09477388e+00, -5.42622091e-01, -1.07320159e+00,\n",
       "         2.22528973e-01],\n",
       "       [ 6.45985198e-01, -1.56961323e-01, -6.35032264e-02,\n",
       "         1.56709406e+00],\n",
       "       [ 1.53754687e+00, -2.19144460e+00,  7.41270860e-01,\n",
       "         6.33750712e-01],\n",
       "       [ 4.03500640e-01,  1.38527393e+00,  4.10472255e+00,\n",
       "        -1.33261373e+00],\n",
       "       [ 1.17143900e+00,  1.40707154e+00, -1.01821500e-01,\n",
       "        -1.65591834e-01],\n",
       "       [ 6.38798634e-01,  1.92811115e-02,  1.35968518e+00,\n",
       "        -8.92819181e-01],\n",
       "       [-1.10892246e+00,  4.06617245e-02,  5.31708951e-01,\n",
       "        -9.00958755e-01],\n",
       "       [ 1.53315200e+00, -6.41994244e-01, -1.47427562e+00,\n",
       "         2.22699421e-01],\n",
       "       [-8.65313462e-01, -7.46060483e-01, -9.63003295e-01,\n",
       "        -1.00000995e+00],\n",
       "       [-2.08302609e-01,  6.96173379e-01,  1.31633182e+00,\n",
       "        -3.62139126e-01],\n",
       "       [-7.11376842e-01,  1.27138423e+00,  3.02594826e-01,\n",
       "         1.43723784e-01],\n",
       "       [-1.31059326e+00,  9.95029389e-01, -1.94424206e+00,\n",
       "        -6.70738400e-01],\n",
       "       [-2.06435352e+00,  1.63058423e+00,  6.76656295e-02,\n",
       "         3.34802462e-01],\n",
       "       [-2.55886683e+00,  6.55876285e-01,  2.47403772e+00,\n",
       "         1.06736164e+00],\n",
       "       [-1.86124773e+00, -7.66256984e-01, -6.15903143e-01,\n",
       "         1.66239846e+00],\n",
       "       [-1.41902432e+00, -7.50042610e-01,  2.84317872e+00,\n",
       "        -2.65470105e+00],\n",
       "       [-1.65551045e-01, -5.14984440e-01, -1.20953851e+00,\n",
       "         1.35233141e+00],\n",
       "       [ 6.16362910e-01,  4.57748128e-01,  1.34084751e+00,\n",
       "        -1.08390846e+00],\n",
       "       [-9.84376394e-01,  6.45737129e-02,  6.60149482e-01,\n",
       "        -2.83086778e-01],\n",
       "       [ 4.47880492e-01, -1.37790386e+00, -3.00320869e-01,\n",
       "         1.84909244e-01],\n",
       "       [-6.03170397e-01, -8.16545893e-01,  6.57411172e-01,\n",
       "        -6.29883591e-02],\n",
       "       [ 1.02012591e+00, -1.46695740e+00, -1.84631880e+00,\n",
       "        -1.41082332e-01],\n",
       "       [ 1.05097731e+00, -1.88692978e+00,  1.51093428e+00,\n",
       "         1.52026330e-01],\n",
       "       [-8.86850765e-01, -1.63481795e-01, -2.69761919e-01,\n",
       "        -2.32119765e+00],\n",
       "       [-3.52504232e-01,  3.40760419e-01,  7.06836375e-01,\n",
       "         7.81464368e-01],\n",
       "       [ 1.15604559e-01,  5.28192475e-01, -6.18485467e-01,\n",
       "        -3.80232033e-01],\n",
       "       [-7.28880251e-01,  5.79787518e-01, -1.91813227e-01,\n",
       "         9.30197842e-01],\n",
       "       [ 1.00882337e+00, -4.50123402e-01, -4.59939455e-01,\n",
       "         1.51643556e+00],\n",
       "       [ 9.42105997e-02, -3.09923707e-01,  4.68413949e-01,\n",
       "        -1.83437290e+00],\n",
       "       [-9.30040319e-01, -2.05266562e-01,  7.69123213e-02,\n",
       "         9.52173799e-01],\n",
       "       [-2.08594697e-01,  7.94146496e-01, -3.80431603e-01,\n",
       "        -1.47559093e-01],\n",
       "       [-1.52493659e+00, -9.15175395e-02, -5.68280625e-01,\n",
       "        -3.56613157e-01],\n",
       "       [-5.12999961e-01,  5.55515479e-01,  6.32967511e-02,\n",
       "         2.80946472e-01],\n",
       "       [ 5.87887021e-01,  4.30227410e-01, -6.67783415e-02,\n",
       "        -6.03247524e-01],\n",
       "       [ 1.95512365e-01,  4.06398952e-01,  1.77534209e-01,\n",
       "        -6.37918364e-01],\n",
       "       [ 6.39727248e-01,  6.45850993e-01,  1.00711919e+00,\n",
       "         9.66547001e-01],\n",
       "       [ 7.68826346e-01, -1.06346485e-01, -5.46794900e-01,\n",
       "        -1.14682723e+00],\n",
       "       [-5.49757327e-01, -6.30663582e-01, -3.06545766e-01,\n",
       "         1.82615828e+00],\n",
       "       [-1.35587820e+00, -9.48720437e-01, -1.12057563e+00,\n",
       "        -1.02525954e-01],\n",
       "       [ 1.50885146e-01, -7.19565931e-01,  9.98480423e-01,\n",
       "        -1.74799278e-03],\n",
       "       [ 1.12800086e+00, -1.80652566e-01, -7.72277570e-01,\n",
       "        -1.10519447e+00],\n",
       "       [ 5.35996836e-02,  1.35907356e+00,  5.41697319e-01,\n",
       "         1.11508432e+00],\n",
       "       [-1.86620565e+00, -1.44987863e+00,  1.83045225e+00,\n",
       "         7.75658103e-01],\n",
       "       [ 1.93961593e+00,  1.28297735e+00,  5.78211419e-01,\n",
       "         5.11512864e-01],\n",
       "       [ 8.91876299e-01,  1.01377798e+00, -2.70836676e-02,\n",
       "        -1.18440598e+00],\n",
       "       [-5.36025165e-01, -8.89357673e-01,  9.23577690e-01,\n",
       "         6.61494351e-01],\n",
       "       [ 1.08279376e-01, -1.16492983e+00,  2.02064237e-01,\n",
       "        -7.72575137e-01],\n",
       "       [ 1.93118103e+00, -5.43963923e-01, -7.35904706e-01,\n",
       "        -2.20173913e-01],\n",
       "       [-2.70379929e-02,  1.11149683e-01,  1.19070133e-01,\n",
       "         6.93246061e-01],\n",
       "       [ 9.98882731e-02,  6.02292491e-01,  1.21943253e+00,\n",
       "         4.64184382e-01],\n",
       "       [ 3.44685554e+00,  2.25755131e+00, -1.64705678e+00,\n",
       "         3.27959922e-01],\n",
       "       [ 5.86994841e-01,  1.03915045e-02,  1.23377083e+00,\n",
       "         6.43859345e-02],\n",
       "       [-2.85264182e-01,  5.10249979e-01,  4.41150202e-01,\n",
       "         2.22864095e-01],\n",
       "       [ 7.00529588e-01,  3.90062196e-01,  7.79466738e-01,\n",
       "         5.61100250e-02],\n",
       "       [-3.41331898e-01,  1.77279637e+00, -1.43079323e+00,\n",
       "        -9.50132988e-01],\n",
       "       [ 2.99476837e-01, -1.06339837e+00,  3.09600479e-01,\n",
       "        -5.46994683e-01],\n",
       "       [-7.37846968e-02,  1.35367720e+00,  5.21120795e-03,\n",
       "         1.05272964e+00],\n",
       "       [ 1.68395288e+00, -8.25729730e-02,  5.18746340e-01,\n",
       "        -1.13527596e+00],\n",
       "       [ 7.84764715e-01,  7.47716531e-01,  2.31937690e+00,\n",
       "        -5.44941292e-01]])"
      ]
     },
     "execution_count": 22,
     "metadata": {},
     "output_type": "execute_result"
    }
   ],
   "source": [
    "a=np.random.randn(100,4)\n",
    "a"
   ]
  },
  {
   "cell_type": "code",
   "execution_count": 23,
   "metadata": {},
   "outputs": [
    {
     "data": {
      "application/vnd.plotly.v1+json": {
       "config": {
        "linkText": "Export to plot.ly",
        "plotlyServerURL": "https://plot.ly",
        "showLink": true
       },
       "data": [
        {
         "line": {
          "color": "rgba(255, 153, 51, 1.0)",
          "dash": "solid",
          "shape": "linear",
          "width": 1.3
         },
         "mode": "lines",
         "name": "A",
         "text": "",
         "type": "scatter",
         "x": [
          0,
          1,
          2,
          3,
          4,
          5,
          6,
          7,
          8,
          9,
          10,
          11,
          12,
          13,
          14,
          15,
          16,
          17,
          18,
          19,
          20,
          21,
          22,
          23,
          24,
          25,
          26,
          27,
          28,
          29,
          30,
          31,
          32,
          33,
          34,
          35,
          36,
          37,
          38,
          39,
          40,
          41,
          42,
          43,
          44,
          45,
          46,
          47,
          48,
          49,
          50,
          51,
          52,
          53,
          54,
          55,
          56,
          57,
          58,
          59,
          60,
          61,
          62,
          63,
          64,
          65,
          66,
          67,
          68,
          69,
          70,
          71,
          72,
          73,
          74,
          75,
          76,
          77,
          78,
          79,
          80,
          81,
          82,
          83,
          84,
          85,
          86,
          87,
          88,
          89,
          90,
          91,
          92,
          93,
          94,
          95,
          96,
          97,
          98,
          99
         ],
         "y": [
          -1.0621153175322402,
          -0.7549868214436847,
          -1.5464317242919394,
          1.0904802713010253,
          0.32876561762501816,
          1.2179522039693016,
          -1.2797687236730135,
          -0.13495853772740504,
          -2.1089156406413747,
          0.6641494290876692,
          -0.09250579182239158,
          -2.431033648211937,
          0.40228057988304156,
          0.5646279839599205,
          -0.1861425283866233,
          2.7741710912351296,
          0.29959517931503893,
          0.3513539602718777,
          1.099215337392572,
          0.11552015905364572,
          -0.41610493499652573,
          2.1178450368692103,
          -0.22548258451958336,
          0.03083133296955573,
          0.36867027911848743,
          -0.28536725232909704,
          -1.0090155332729809,
          0.8864777602581501,
          -0.23416842173930802,
          1.089473608045768,
          1.3752505987571035,
          1.0819609348843464,
          -0.7544864365194537,
          -0.28595142207262114,
          0.5434365893465718,
          0.390099876997401,
          0.24513222204092583,
          -0.96238157300019,
          0.34606392376837825,
          1.0808979832545913,
          1.4522226182245543,
          -1.0947738846215858,
          0.6459851975884217,
          1.5375468667631353,
          0.4035006397881692,
          1.1714389972918777,
          0.6387986339412164,
          -1.1089224641985262,
          1.533151997833691,
          -0.8653134617006645,
          -0.2083026085036525,
          -0.7113768423726533,
          -1.310593258176735,
          -2.0643535243850644,
          -2.5588668289410825,
          -1.861247733631849,
          -1.4190243200394648,
          -0.1655510453291025,
          0.6163629102129757,
          -0.9843763940724005,
          0.44788049240839045,
          -0.6031703969338229,
          1.0201259053109255,
          1.050977312868748,
          -0.8868507645719111,
          -0.3525042315525947,
          0.11560455933392667,
          -0.7288802506823576,
          1.008823372341719,
          0.0942105996794019,
          -0.9300403186164341,
          -0.2085946968668725,
          -1.5249365913934754,
          -0.5129999612770172,
          0.5878870208630129,
          0.19551236483909526,
          0.6397272476977861,
          0.7688263459565874,
          -0.5497573269678953,
          -1.355878198561194,
          0.15088514613452567,
          1.1280008569301974,
          0.05359968355386114,
          -1.8662056466465504,
          1.939615927057451,
          0.8918762988447057,
          -0.5360251649009784,
          0.10827937567819995,
          1.9311810269893734,
          -0.027037992918110536,
          0.09988827312446391,
          3.4468555357073027,
          0.5869948414356911,
          -0.2852641822415993,
          0.7005295879664398,
          -0.34133189830442384,
          0.29947683726231594,
          -0.07378469680276807,
          1.683952879435925,
          0.7847647151194176
         ]
        },
        {
         "line": {
          "color": "rgba(55, 128, 191, 1.0)",
          "dash": "solid",
          "shape": "linear",
          "width": 1.3
         },
         "mode": "lines",
         "name": "B",
         "text": "",
         "type": "scatter",
         "x": [
          0,
          1,
          2,
          3,
          4,
          5,
          6,
          7,
          8,
          9,
          10,
          11,
          12,
          13,
          14,
          15,
          16,
          17,
          18,
          19,
          20,
          21,
          22,
          23,
          24,
          25,
          26,
          27,
          28,
          29,
          30,
          31,
          32,
          33,
          34,
          35,
          36,
          37,
          38,
          39,
          40,
          41,
          42,
          43,
          44,
          45,
          46,
          47,
          48,
          49,
          50,
          51,
          52,
          53,
          54,
          55,
          56,
          57,
          58,
          59,
          60,
          61,
          62,
          63,
          64,
          65,
          66,
          67,
          68,
          69,
          70,
          71,
          72,
          73,
          74,
          75,
          76,
          77,
          78,
          79,
          80,
          81,
          82,
          83,
          84,
          85,
          86,
          87,
          88,
          89,
          90,
          91,
          92,
          93,
          94,
          95,
          96,
          97,
          98,
          99
         ],
         "y": [
          0.20834333018032966,
          -1.4889832694158105,
          0.7328753492015062,
          -1.958289268018255,
          0.494327708727563,
          0.618411861401007,
          0.021317190310942723,
          -1.0652229412889394,
          -1.480576685566032,
          0.39216733568795686,
          0.08665042807600473,
          -0.012998610448297546,
          0.6571408799053362,
          -1.1790221757767199,
          -0.4958727901708178,
          0.9620879524716516,
          1.8750620164469753,
          -0.45482614723069553,
          0.998282316351075,
          -0.7093342579697762,
          1.1206580852940384,
          -0.36575069061583876,
          -1.4781331227150296,
          -0.4401050186396899,
          -0.9989331014732666,
          -1.3090245673391223,
          0.12249520190210543,
          1.0003391692551833,
          -0.8980021308206323,
          -0.621457497087347,
          0.7912021907988428,
          0.5908075308728419,
          1.541115194113997,
          -1.0200843982612378,
          -1.0006730152195178,
          -1.2381696303462206,
          -0.9315213528036483,
          0.08593225961579987,
          0.6061445134999147,
          -0.4664989573557813,
          -0.45961441485826104,
          -0.5426220912131988,
          -0.1569613230389715,
          -2.191444602015963,
          1.3852739290456284,
          1.407071538069104,
          0.019281111477882786,
          0.04066172449415107,
          -0.641994243628371,
          -0.7460604830008906,
          0.6961733785165581,
          1.2713842330054437,
          0.9950293886473635,
          1.6305842286481296,
          0.6558762851442839,
          -0.7662569837909627,
          -0.7500426102926664,
          -0.5149844395211887,
          0.45774812824363,
          0.06457371290613792,
          -1.37790385873657,
          -0.8165458927044827,
          -1.466957396227254,
          -1.8869297805096554,
          -0.16348179473445537,
          0.3407604193562433,
          0.5281924752567114,
          0.579787518037364,
          -0.4501234017104926,
          -0.3099237070471263,
          -0.20526656236594487,
          0.7941464963518347,
          -0.0915175395248381,
          0.555515478582009,
          0.43022740950051724,
          0.40639895217197,
          0.6458509928486686,
          -0.10634648490801255,
          -0.6306635817898937,
          -0.9487204372414717,
          -0.7195659308458725,
          -0.18065256588202722,
          1.3590735647507968,
          -1.4498786263399772,
          1.2829773539658638,
          1.0137779803733522,
          -0.8893576731429785,
          -1.1649298331334983,
          -0.5439639228753395,
          0.1111496826964954,
          0.6022924913113976,
          2.2575513108197938,
          0.010391504521268967,
          0.5102499789664298,
          0.3900621961885774,
          1.772796366317444,
          -1.0633983744076962,
          1.3536771953618696,
          -0.08257297298010265,
          0.7477165309186761
         ]
        }
       ],
       "layout": {
        "legend": {
         "bgcolor": "#F5F6F9",
         "font": {
          "color": "#4D5663"
         }
        },
        "paper_bgcolor": "#F5F6F9",
        "plot_bgcolor": "#F5F6F9",
        "template": {
         "data": {
          "bar": [
           {
            "error_x": {
             "color": "#2a3f5f"
            },
            "error_y": {
             "color": "#2a3f5f"
            },
            "marker": {
             "line": {
              "color": "#E5ECF6",
              "width": 0.5
             },
             "pattern": {
              "fillmode": "overlay",
              "size": 10,
              "solidity": 0.2
             }
            },
            "type": "bar"
           }
          ],
          "barpolar": [
           {
            "marker": {
             "line": {
              "color": "#E5ECF6",
              "width": 0.5
             },
             "pattern": {
              "fillmode": "overlay",
              "size": 10,
              "solidity": 0.2
             }
            },
            "type": "barpolar"
           }
          ],
          "carpet": [
           {
            "aaxis": {
             "endlinecolor": "#2a3f5f",
             "gridcolor": "white",
             "linecolor": "white",
             "minorgridcolor": "white",
             "startlinecolor": "#2a3f5f"
            },
            "baxis": {
             "endlinecolor": "#2a3f5f",
             "gridcolor": "white",
             "linecolor": "white",
             "minorgridcolor": "white",
             "startlinecolor": "#2a3f5f"
            },
            "type": "carpet"
           }
          ],
          "choropleth": [
           {
            "colorbar": {
             "outlinewidth": 0,
             "ticks": ""
            },
            "type": "choropleth"
           }
          ],
          "contour": [
           {
            "colorbar": {
             "outlinewidth": 0,
             "ticks": ""
            },
            "colorscale": [
             [
              0,
              "#0d0887"
             ],
             [
              0.1111111111111111,
              "#46039f"
             ],
             [
              0.2222222222222222,
              "#7201a8"
             ],
             [
              0.3333333333333333,
              "#9c179e"
             ],
             [
              0.4444444444444444,
              "#bd3786"
             ],
             [
              0.5555555555555556,
              "#d8576b"
             ],
             [
              0.6666666666666666,
              "#ed7953"
             ],
             [
              0.7777777777777778,
              "#fb9f3a"
             ],
             [
              0.8888888888888888,
              "#fdca26"
             ],
             [
              1,
              "#f0f921"
             ]
            ],
            "type": "contour"
           }
          ],
          "contourcarpet": [
           {
            "colorbar": {
             "outlinewidth": 0,
             "ticks": ""
            },
            "type": "contourcarpet"
           }
          ],
          "heatmap": [
           {
            "colorbar": {
             "outlinewidth": 0,
             "ticks": ""
            },
            "colorscale": [
             [
              0,
              "#0d0887"
             ],
             [
              0.1111111111111111,
              "#46039f"
             ],
             [
              0.2222222222222222,
              "#7201a8"
             ],
             [
              0.3333333333333333,
              "#9c179e"
             ],
             [
              0.4444444444444444,
              "#bd3786"
             ],
             [
              0.5555555555555556,
              "#d8576b"
             ],
             [
              0.6666666666666666,
              "#ed7953"
             ],
             [
              0.7777777777777778,
              "#fb9f3a"
             ],
             [
              0.8888888888888888,
              "#fdca26"
             ],
             [
              1,
              "#f0f921"
             ]
            ],
            "type": "heatmap"
           }
          ],
          "heatmapgl": [
           {
            "colorbar": {
             "outlinewidth": 0,
             "ticks": ""
            },
            "colorscale": [
             [
              0,
              "#0d0887"
             ],
             [
              0.1111111111111111,
              "#46039f"
             ],
             [
              0.2222222222222222,
              "#7201a8"
             ],
             [
              0.3333333333333333,
              "#9c179e"
             ],
             [
              0.4444444444444444,
              "#bd3786"
             ],
             [
              0.5555555555555556,
              "#d8576b"
             ],
             [
              0.6666666666666666,
              "#ed7953"
             ],
             [
              0.7777777777777778,
              "#fb9f3a"
             ],
             [
              0.8888888888888888,
              "#fdca26"
             ],
             [
              1,
              "#f0f921"
             ]
            ],
            "type": "heatmapgl"
           }
          ],
          "histogram": [
           {
            "marker": {
             "pattern": {
              "fillmode": "overlay",
              "size": 10,
              "solidity": 0.2
             }
            },
            "type": "histogram"
           }
          ],
          "histogram2d": [
           {
            "colorbar": {
             "outlinewidth": 0,
             "ticks": ""
            },
            "colorscale": [
             [
              0,
              "#0d0887"
             ],
             [
              0.1111111111111111,
              "#46039f"
             ],
             [
              0.2222222222222222,
              "#7201a8"
             ],
             [
              0.3333333333333333,
              "#9c179e"
             ],
             [
              0.4444444444444444,
              "#bd3786"
             ],
             [
              0.5555555555555556,
              "#d8576b"
             ],
             [
              0.6666666666666666,
              "#ed7953"
             ],
             [
              0.7777777777777778,
              "#fb9f3a"
             ],
             [
              0.8888888888888888,
              "#fdca26"
             ],
             [
              1,
              "#f0f921"
             ]
            ],
            "type": "histogram2d"
           }
          ],
          "histogram2dcontour": [
           {
            "colorbar": {
             "outlinewidth": 0,
             "ticks": ""
            },
            "colorscale": [
             [
              0,
              "#0d0887"
             ],
             [
              0.1111111111111111,
              "#46039f"
             ],
             [
              0.2222222222222222,
              "#7201a8"
             ],
             [
              0.3333333333333333,
              "#9c179e"
             ],
             [
              0.4444444444444444,
              "#bd3786"
             ],
             [
              0.5555555555555556,
              "#d8576b"
             ],
             [
              0.6666666666666666,
              "#ed7953"
             ],
             [
              0.7777777777777778,
              "#fb9f3a"
             ],
             [
              0.8888888888888888,
              "#fdca26"
             ],
             [
              1,
              "#f0f921"
             ]
            ],
            "type": "histogram2dcontour"
           }
          ],
          "mesh3d": [
           {
            "colorbar": {
             "outlinewidth": 0,
             "ticks": ""
            },
            "type": "mesh3d"
           }
          ],
          "parcoords": [
           {
            "line": {
             "colorbar": {
              "outlinewidth": 0,
              "ticks": ""
             }
            },
            "type": "parcoords"
           }
          ],
          "pie": [
           {
            "automargin": true,
            "type": "pie"
           }
          ],
          "scatter": [
           {
            "fillpattern": {
             "fillmode": "overlay",
             "size": 10,
             "solidity": 0.2
            },
            "type": "scatter"
           }
          ],
          "scatter3d": [
           {
            "line": {
             "colorbar": {
              "outlinewidth": 0,
              "ticks": ""
             }
            },
            "marker": {
             "colorbar": {
              "outlinewidth": 0,
              "ticks": ""
             }
            },
            "type": "scatter3d"
           }
          ],
          "scattercarpet": [
           {
            "marker": {
             "colorbar": {
              "outlinewidth": 0,
              "ticks": ""
             }
            },
            "type": "scattercarpet"
           }
          ],
          "scattergeo": [
           {
            "marker": {
             "colorbar": {
              "outlinewidth": 0,
              "ticks": ""
             }
            },
            "type": "scattergeo"
           }
          ],
          "scattergl": [
           {
            "marker": {
             "colorbar": {
              "outlinewidth": 0,
              "ticks": ""
             }
            },
            "type": "scattergl"
           }
          ],
          "scattermapbox": [
           {
            "marker": {
             "colorbar": {
              "outlinewidth": 0,
              "ticks": ""
             }
            },
            "type": "scattermapbox"
           }
          ],
          "scatterpolar": [
           {
            "marker": {
             "colorbar": {
              "outlinewidth": 0,
              "ticks": ""
             }
            },
            "type": "scatterpolar"
           }
          ],
          "scatterpolargl": [
           {
            "marker": {
             "colorbar": {
              "outlinewidth": 0,
              "ticks": ""
             }
            },
            "type": "scatterpolargl"
           }
          ],
          "scatterternary": [
           {
            "marker": {
             "colorbar": {
              "outlinewidth": 0,
              "ticks": ""
             }
            },
            "type": "scatterternary"
           }
          ],
          "surface": [
           {
            "colorbar": {
             "outlinewidth": 0,
             "ticks": ""
            },
            "colorscale": [
             [
              0,
              "#0d0887"
             ],
             [
              0.1111111111111111,
              "#46039f"
             ],
             [
              0.2222222222222222,
              "#7201a8"
             ],
             [
              0.3333333333333333,
              "#9c179e"
             ],
             [
              0.4444444444444444,
              "#bd3786"
             ],
             [
              0.5555555555555556,
              "#d8576b"
             ],
             [
              0.6666666666666666,
              "#ed7953"
             ],
             [
              0.7777777777777778,
              "#fb9f3a"
             ],
             [
              0.8888888888888888,
              "#fdca26"
             ],
             [
              1,
              "#f0f921"
             ]
            ],
            "type": "surface"
           }
          ],
          "table": [
           {
            "cells": {
             "fill": {
              "color": "#EBF0F8"
             },
             "line": {
              "color": "white"
             }
            },
            "header": {
             "fill": {
              "color": "#C8D4E3"
             },
             "line": {
              "color": "white"
             }
            },
            "type": "table"
           }
          ]
         },
         "layout": {
          "annotationdefaults": {
           "arrowcolor": "#2a3f5f",
           "arrowhead": 0,
           "arrowwidth": 1
          },
          "autotypenumbers": "strict",
          "coloraxis": {
           "colorbar": {
            "outlinewidth": 0,
            "ticks": ""
           }
          },
          "colorscale": {
           "diverging": [
            [
             0,
             "#8e0152"
            ],
            [
             0.1,
             "#c51b7d"
            ],
            [
             0.2,
             "#de77ae"
            ],
            [
             0.3,
             "#f1b6da"
            ],
            [
             0.4,
             "#fde0ef"
            ],
            [
             0.5,
             "#f7f7f7"
            ],
            [
             0.6,
             "#e6f5d0"
            ],
            [
             0.7,
             "#b8e186"
            ],
            [
             0.8,
             "#7fbc41"
            ],
            [
             0.9,
             "#4d9221"
            ],
            [
             1,
             "#276419"
            ]
           ],
           "sequential": [
            [
             0,
             "#0d0887"
            ],
            [
             0.1111111111111111,
             "#46039f"
            ],
            [
             0.2222222222222222,
             "#7201a8"
            ],
            [
             0.3333333333333333,
             "#9c179e"
            ],
            [
             0.4444444444444444,
             "#bd3786"
            ],
            [
             0.5555555555555556,
             "#d8576b"
            ],
            [
             0.6666666666666666,
             "#ed7953"
            ],
            [
             0.7777777777777778,
             "#fb9f3a"
            ],
            [
             0.8888888888888888,
             "#fdca26"
            ],
            [
             1,
             "#f0f921"
            ]
           ],
           "sequentialminus": [
            [
             0,
             "#0d0887"
            ],
            [
             0.1111111111111111,
             "#46039f"
            ],
            [
             0.2222222222222222,
             "#7201a8"
            ],
            [
             0.3333333333333333,
             "#9c179e"
            ],
            [
             0.4444444444444444,
             "#bd3786"
            ],
            [
             0.5555555555555556,
             "#d8576b"
            ],
            [
             0.6666666666666666,
             "#ed7953"
            ],
            [
             0.7777777777777778,
             "#fb9f3a"
            ],
            [
             0.8888888888888888,
             "#fdca26"
            ],
            [
             1,
             "#f0f921"
            ]
           ]
          },
          "colorway": [
           "#636efa",
           "#EF553B",
           "#00cc96",
           "#ab63fa",
           "#FFA15A",
           "#19d3f3",
           "#FF6692",
           "#B6E880",
           "#FF97FF",
           "#FECB52"
          ],
          "font": {
           "color": "#2a3f5f"
          },
          "geo": {
           "bgcolor": "white",
           "lakecolor": "white",
           "landcolor": "#E5ECF6",
           "showlakes": true,
           "showland": true,
           "subunitcolor": "white"
          },
          "hoverlabel": {
           "align": "left"
          },
          "hovermode": "closest",
          "mapbox": {
           "style": "light"
          },
          "paper_bgcolor": "white",
          "plot_bgcolor": "#E5ECF6",
          "polar": {
           "angularaxis": {
            "gridcolor": "white",
            "linecolor": "white",
            "ticks": ""
           },
           "bgcolor": "#E5ECF6",
           "radialaxis": {
            "gridcolor": "white",
            "linecolor": "white",
            "ticks": ""
           }
          },
          "scene": {
           "xaxis": {
            "backgroundcolor": "#E5ECF6",
            "gridcolor": "white",
            "gridwidth": 2,
            "linecolor": "white",
            "showbackground": true,
            "ticks": "",
            "zerolinecolor": "white"
           },
           "yaxis": {
            "backgroundcolor": "#E5ECF6",
            "gridcolor": "white",
            "gridwidth": 2,
            "linecolor": "white",
            "showbackground": true,
            "ticks": "",
            "zerolinecolor": "white"
           },
           "zaxis": {
            "backgroundcolor": "#E5ECF6",
            "gridcolor": "white",
            "gridwidth": 2,
            "linecolor": "white",
            "showbackground": true,
            "ticks": "",
            "zerolinecolor": "white"
           }
          },
          "shapedefaults": {
           "line": {
            "color": "#2a3f5f"
           }
          },
          "ternary": {
           "aaxis": {
            "gridcolor": "white",
            "linecolor": "white",
            "ticks": ""
           },
           "baxis": {
            "gridcolor": "white",
            "linecolor": "white",
            "ticks": ""
           },
           "bgcolor": "#E5ECF6",
           "caxis": {
            "gridcolor": "white",
            "linecolor": "white",
            "ticks": ""
           }
          },
          "title": {
           "x": 0.05
          },
          "xaxis": {
           "automargin": true,
           "gridcolor": "white",
           "linecolor": "white",
           "ticks": "",
           "title": {
            "standoff": 15
           },
           "zerolinecolor": "white",
           "zerolinewidth": 2
          },
          "yaxis": {
           "automargin": true,
           "gridcolor": "white",
           "linecolor": "white",
           "ticks": "",
           "title": {
            "standoff": 15
           },
           "zerolinecolor": "white",
           "zerolinewidth": 2
          }
         }
        },
        "title": {
         "font": {
          "color": "#4D5663"
         }
        },
        "xaxis": {
         "gridcolor": "#E1E5ED",
         "showgrid": true,
         "tickfont": {
          "color": "#4D5663"
         },
         "title": {
          "font": {
           "color": "#4D5663"
          },
          "text": ""
         },
         "zerolinecolor": "#E1E5ED"
        },
        "yaxis": {
         "gridcolor": "#E1E5ED",
         "showgrid": true,
         "tickfont": {
          "color": "#4D5663"
         },
         "title": {
          "font": {
           "color": "#4D5663"
          },
          "text": ""
         },
         "zerolinecolor": "#E1E5ED"
        }
       }
      },
      "text/html": [
       "<div>                            <div id=\"164027b7-3603-4c9d-a350-e0b235eb6d1a\" class=\"plotly-graph-div\" style=\"height:525px; width:100%;\"></div>            <script type=\"text/javascript\">                require([\"plotly\"], function(Plotly) {                    window.PLOTLYENV=window.PLOTLYENV || {};\n",
       "                    window.PLOTLYENV.BASE_URL='https://plot.ly';                                    if (document.getElementById(\"164027b7-3603-4c9d-a350-e0b235eb6d1a\")) {                    Plotly.newPlot(                        \"164027b7-3603-4c9d-a350-e0b235eb6d1a\",                        [{\"line\":{\"color\":\"rgba(255, 153, 51, 1.0)\",\"dash\":\"solid\",\"shape\":\"linear\",\"width\":1.3},\"mode\":\"lines\",\"name\":\"A\",\"text\":\"\",\"x\":[0,1,2,3,4,5,6,7,8,9,10,11,12,13,14,15,16,17,18,19,20,21,22,23,24,25,26,27,28,29,30,31,32,33,34,35,36,37,38,39,40,41,42,43,44,45,46,47,48,49,50,51,52,53,54,55,56,57,58,59,60,61,62,63,64,65,66,67,68,69,70,71,72,73,74,75,76,77,78,79,80,81,82,83,84,85,86,87,88,89,90,91,92,93,94,95,96,97,98,99],\"y\":[-1.0621153175322402,-0.7549868214436847,-1.5464317242919394,1.0904802713010253,0.32876561762501816,1.2179522039693016,-1.2797687236730135,-0.13495853772740504,-2.1089156406413747,0.6641494290876692,-0.09250579182239158,-2.431033648211937,0.40228057988304156,0.5646279839599205,-0.1861425283866233,2.7741710912351296,0.29959517931503893,0.3513539602718777,1.099215337392572,0.11552015905364572,-0.41610493499652573,2.1178450368692103,-0.22548258451958336,0.03083133296955573,0.36867027911848743,-0.28536725232909704,-1.0090155332729809,0.8864777602581501,-0.23416842173930802,1.089473608045768,1.3752505987571035,1.0819609348843464,-0.7544864365194537,-0.28595142207262114,0.5434365893465718,0.390099876997401,0.24513222204092583,-0.96238157300019,0.34606392376837825,1.0808979832545913,1.4522226182245543,-1.0947738846215858,0.6459851975884217,1.5375468667631353,0.4035006397881692,1.1714389972918777,0.6387986339412164,-1.1089224641985262,1.533151997833691,-0.8653134617006645,-0.2083026085036525,-0.7113768423726533,-1.310593258176735,-2.0643535243850644,-2.5588668289410825,-1.861247733631849,-1.4190243200394648,-0.1655510453291025,0.6163629102129757,-0.9843763940724005,0.44788049240839045,-0.6031703969338229,1.0201259053109255,1.050977312868748,-0.8868507645719111,-0.3525042315525947,0.11560455933392667,-0.7288802506823576,1.008823372341719,0.0942105996794019,-0.9300403186164341,-0.2085946968668725,-1.5249365913934754,-0.5129999612770172,0.5878870208630129,0.19551236483909526,0.6397272476977861,0.7688263459565874,-0.5497573269678953,-1.355878198561194,0.15088514613452567,1.1280008569301974,0.05359968355386114,-1.8662056466465504,1.939615927057451,0.8918762988447057,-0.5360251649009784,0.10827937567819995,1.9311810269893734,-0.027037992918110536,0.09988827312446391,3.4468555357073027,0.5869948414356911,-0.2852641822415993,0.7005295879664398,-0.34133189830442384,0.29947683726231594,-0.07378469680276807,1.683952879435925,0.7847647151194176],\"type\":\"scatter\"},{\"line\":{\"color\":\"rgba(55, 128, 191, 1.0)\",\"dash\":\"solid\",\"shape\":\"linear\",\"width\":1.3},\"mode\":\"lines\",\"name\":\"B\",\"text\":\"\",\"x\":[0,1,2,3,4,5,6,7,8,9,10,11,12,13,14,15,16,17,18,19,20,21,22,23,24,25,26,27,28,29,30,31,32,33,34,35,36,37,38,39,40,41,42,43,44,45,46,47,48,49,50,51,52,53,54,55,56,57,58,59,60,61,62,63,64,65,66,67,68,69,70,71,72,73,74,75,76,77,78,79,80,81,82,83,84,85,86,87,88,89,90,91,92,93,94,95,96,97,98,99],\"y\":[0.20834333018032966,-1.4889832694158105,0.7328753492015062,-1.958289268018255,0.494327708727563,0.618411861401007,0.021317190310942723,-1.0652229412889394,-1.480576685566032,0.39216733568795686,0.08665042807600473,-0.012998610448297546,0.6571408799053362,-1.1790221757767199,-0.4958727901708178,0.9620879524716516,1.8750620164469753,-0.45482614723069553,0.998282316351075,-0.7093342579697762,1.1206580852940384,-0.36575069061583876,-1.4781331227150296,-0.4401050186396899,-0.9989331014732666,-1.3090245673391223,0.12249520190210543,1.0003391692551833,-0.8980021308206323,-0.621457497087347,0.7912021907988428,0.5908075308728419,1.541115194113997,-1.0200843982612378,-1.0006730152195178,-1.2381696303462206,-0.9315213528036483,0.08593225961579987,0.6061445134999147,-0.4664989573557813,-0.45961441485826104,-0.5426220912131988,-0.1569613230389715,-2.191444602015963,1.3852739290456284,1.407071538069104,0.019281111477882786,0.04066172449415107,-0.641994243628371,-0.7460604830008906,0.6961733785165581,1.2713842330054437,0.9950293886473635,1.6305842286481296,0.6558762851442839,-0.7662569837909627,-0.7500426102926664,-0.5149844395211887,0.45774812824363,0.06457371290613792,-1.37790385873657,-0.8165458927044827,-1.466957396227254,-1.8869297805096554,-0.16348179473445537,0.3407604193562433,0.5281924752567114,0.579787518037364,-0.4501234017104926,-0.3099237070471263,-0.20526656236594487,0.7941464963518347,-0.0915175395248381,0.555515478582009,0.43022740950051724,0.40639895217197,0.6458509928486686,-0.10634648490801255,-0.6306635817898937,-0.9487204372414717,-0.7195659308458725,-0.18065256588202722,1.3590735647507968,-1.4498786263399772,1.2829773539658638,1.0137779803733522,-0.8893576731429785,-1.1649298331334983,-0.5439639228753395,0.1111496826964954,0.6022924913113976,2.2575513108197938,0.010391504521268967,0.5102499789664298,0.3900621961885774,1.772796366317444,-1.0633983744076962,1.3536771953618696,-0.08257297298010265,0.7477165309186761],\"type\":\"scatter\"}],                        {\"legend\":{\"bgcolor\":\"#F5F6F9\",\"font\":{\"color\":\"#4D5663\"}},\"paper_bgcolor\":\"#F5F6F9\",\"plot_bgcolor\":\"#F5F6F9\",\"template\":{\"data\":{\"barpolar\":[{\"marker\":{\"line\":{\"color\":\"#E5ECF6\",\"width\":0.5},\"pattern\":{\"fillmode\":\"overlay\",\"size\":10,\"solidity\":0.2}},\"type\":\"barpolar\"}],\"bar\":[{\"error_x\":{\"color\":\"#2a3f5f\"},\"error_y\":{\"color\":\"#2a3f5f\"},\"marker\":{\"line\":{\"color\":\"#E5ECF6\",\"width\":0.5},\"pattern\":{\"fillmode\":\"overlay\",\"size\":10,\"solidity\":0.2}},\"type\":\"bar\"}],\"carpet\":[{\"aaxis\":{\"endlinecolor\":\"#2a3f5f\",\"gridcolor\":\"white\",\"linecolor\":\"white\",\"minorgridcolor\":\"white\",\"startlinecolor\":\"#2a3f5f\"},\"baxis\":{\"endlinecolor\":\"#2a3f5f\",\"gridcolor\":\"white\",\"linecolor\":\"white\",\"minorgridcolor\":\"white\",\"startlinecolor\":\"#2a3f5f\"},\"type\":\"carpet\"}],\"choropleth\":[{\"colorbar\":{\"outlinewidth\":0,\"ticks\":\"\"},\"type\":\"choropleth\"}],\"contourcarpet\":[{\"colorbar\":{\"outlinewidth\":0,\"ticks\":\"\"},\"type\":\"contourcarpet\"}],\"contour\":[{\"colorbar\":{\"outlinewidth\":0,\"ticks\":\"\"},\"colorscale\":[[0.0,\"#0d0887\"],[0.1111111111111111,\"#46039f\"],[0.2222222222222222,\"#7201a8\"],[0.3333333333333333,\"#9c179e\"],[0.4444444444444444,\"#bd3786\"],[0.5555555555555556,\"#d8576b\"],[0.6666666666666666,\"#ed7953\"],[0.7777777777777778,\"#fb9f3a\"],[0.8888888888888888,\"#fdca26\"],[1.0,\"#f0f921\"]],\"type\":\"contour\"}],\"heatmapgl\":[{\"colorbar\":{\"outlinewidth\":0,\"ticks\":\"\"},\"colorscale\":[[0.0,\"#0d0887\"],[0.1111111111111111,\"#46039f\"],[0.2222222222222222,\"#7201a8\"],[0.3333333333333333,\"#9c179e\"],[0.4444444444444444,\"#bd3786\"],[0.5555555555555556,\"#d8576b\"],[0.6666666666666666,\"#ed7953\"],[0.7777777777777778,\"#fb9f3a\"],[0.8888888888888888,\"#fdca26\"],[1.0,\"#f0f921\"]],\"type\":\"heatmapgl\"}],\"heatmap\":[{\"colorbar\":{\"outlinewidth\":0,\"ticks\":\"\"},\"colorscale\":[[0.0,\"#0d0887\"],[0.1111111111111111,\"#46039f\"],[0.2222222222222222,\"#7201a8\"],[0.3333333333333333,\"#9c179e\"],[0.4444444444444444,\"#bd3786\"],[0.5555555555555556,\"#d8576b\"],[0.6666666666666666,\"#ed7953\"],[0.7777777777777778,\"#fb9f3a\"],[0.8888888888888888,\"#fdca26\"],[1.0,\"#f0f921\"]],\"type\":\"heatmap\"}],\"histogram2dcontour\":[{\"colorbar\":{\"outlinewidth\":0,\"ticks\":\"\"},\"colorscale\":[[0.0,\"#0d0887\"],[0.1111111111111111,\"#46039f\"],[0.2222222222222222,\"#7201a8\"],[0.3333333333333333,\"#9c179e\"],[0.4444444444444444,\"#bd3786\"],[0.5555555555555556,\"#d8576b\"],[0.6666666666666666,\"#ed7953\"],[0.7777777777777778,\"#fb9f3a\"],[0.8888888888888888,\"#fdca26\"],[1.0,\"#f0f921\"]],\"type\":\"histogram2dcontour\"}],\"histogram2d\":[{\"colorbar\":{\"outlinewidth\":0,\"ticks\":\"\"},\"colorscale\":[[0.0,\"#0d0887\"],[0.1111111111111111,\"#46039f\"],[0.2222222222222222,\"#7201a8\"],[0.3333333333333333,\"#9c179e\"],[0.4444444444444444,\"#bd3786\"],[0.5555555555555556,\"#d8576b\"],[0.6666666666666666,\"#ed7953\"],[0.7777777777777778,\"#fb9f3a\"],[0.8888888888888888,\"#fdca26\"],[1.0,\"#f0f921\"]],\"type\":\"histogram2d\"}],\"histogram\":[{\"marker\":{\"pattern\":{\"fillmode\":\"overlay\",\"size\":10,\"solidity\":0.2}},\"type\":\"histogram\"}],\"mesh3d\":[{\"colorbar\":{\"outlinewidth\":0,\"ticks\":\"\"},\"type\":\"mesh3d\"}],\"parcoords\":[{\"line\":{\"colorbar\":{\"outlinewidth\":0,\"ticks\":\"\"}},\"type\":\"parcoords\"}],\"pie\":[{\"automargin\":true,\"type\":\"pie\"}],\"scatter3d\":[{\"line\":{\"colorbar\":{\"outlinewidth\":0,\"ticks\":\"\"}},\"marker\":{\"colorbar\":{\"outlinewidth\":0,\"ticks\":\"\"}},\"type\":\"scatter3d\"}],\"scattercarpet\":[{\"marker\":{\"colorbar\":{\"outlinewidth\":0,\"ticks\":\"\"}},\"type\":\"scattercarpet\"}],\"scattergeo\":[{\"marker\":{\"colorbar\":{\"outlinewidth\":0,\"ticks\":\"\"}},\"type\":\"scattergeo\"}],\"scattergl\":[{\"marker\":{\"colorbar\":{\"outlinewidth\":0,\"ticks\":\"\"}},\"type\":\"scattergl\"}],\"scattermapbox\":[{\"marker\":{\"colorbar\":{\"outlinewidth\":0,\"ticks\":\"\"}},\"type\":\"scattermapbox\"}],\"scatterpolargl\":[{\"marker\":{\"colorbar\":{\"outlinewidth\":0,\"ticks\":\"\"}},\"type\":\"scatterpolargl\"}],\"scatterpolar\":[{\"marker\":{\"colorbar\":{\"outlinewidth\":0,\"ticks\":\"\"}},\"type\":\"scatterpolar\"}],\"scatter\":[{\"fillpattern\":{\"fillmode\":\"overlay\",\"size\":10,\"solidity\":0.2},\"type\":\"scatter\"}],\"scatterternary\":[{\"marker\":{\"colorbar\":{\"outlinewidth\":0,\"ticks\":\"\"}},\"type\":\"scatterternary\"}],\"surface\":[{\"colorbar\":{\"outlinewidth\":0,\"ticks\":\"\"},\"colorscale\":[[0.0,\"#0d0887\"],[0.1111111111111111,\"#46039f\"],[0.2222222222222222,\"#7201a8\"],[0.3333333333333333,\"#9c179e\"],[0.4444444444444444,\"#bd3786\"],[0.5555555555555556,\"#d8576b\"],[0.6666666666666666,\"#ed7953\"],[0.7777777777777778,\"#fb9f3a\"],[0.8888888888888888,\"#fdca26\"],[1.0,\"#f0f921\"]],\"type\":\"surface\"}],\"table\":[{\"cells\":{\"fill\":{\"color\":\"#EBF0F8\"},\"line\":{\"color\":\"white\"}},\"header\":{\"fill\":{\"color\":\"#C8D4E3\"},\"line\":{\"color\":\"white\"}},\"type\":\"table\"}]},\"layout\":{\"annotationdefaults\":{\"arrowcolor\":\"#2a3f5f\",\"arrowhead\":0,\"arrowwidth\":1},\"autotypenumbers\":\"strict\",\"coloraxis\":{\"colorbar\":{\"outlinewidth\":0,\"ticks\":\"\"}},\"colorscale\":{\"diverging\":[[0,\"#8e0152\"],[0.1,\"#c51b7d\"],[0.2,\"#de77ae\"],[0.3,\"#f1b6da\"],[0.4,\"#fde0ef\"],[0.5,\"#f7f7f7\"],[0.6,\"#e6f5d0\"],[0.7,\"#b8e186\"],[0.8,\"#7fbc41\"],[0.9,\"#4d9221\"],[1,\"#276419\"]],\"sequential\":[[0.0,\"#0d0887\"],[0.1111111111111111,\"#46039f\"],[0.2222222222222222,\"#7201a8\"],[0.3333333333333333,\"#9c179e\"],[0.4444444444444444,\"#bd3786\"],[0.5555555555555556,\"#d8576b\"],[0.6666666666666666,\"#ed7953\"],[0.7777777777777778,\"#fb9f3a\"],[0.8888888888888888,\"#fdca26\"],[1.0,\"#f0f921\"]],\"sequentialminus\":[[0.0,\"#0d0887\"],[0.1111111111111111,\"#46039f\"],[0.2222222222222222,\"#7201a8\"],[0.3333333333333333,\"#9c179e\"],[0.4444444444444444,\"#bd3786\"],[0.5555555555555556,\"#d8576b\"],[0.6666666666666666,\"#ed7953\"],[0.7777777777777778,\"#fb9f3a\"],[0.8888888888888888,\"#fdca26\"],[1.0,\"#f0f921\"]]},\"colorway\":[\"#636efa\",\"#EF553B\",\"#00cc96\",\"#ab63fa\",\"#FFA15A\",\"#19d3f3\",\"#FF6692\",\"#B6E880\",\"#FF97FF\",\"#FECB52\"],\"font\":{\"color\":\"#2a3f5f\"},\"geo\":{\"bgcolor\":\"white\",\"lakecolor\":\"white\",\"landcolor\":\"#E5ECF6\",\"showlakes\":true,\"showland\":true,\"subunitcolor\":\"white\"},\"hoverlabel\":{\"align\":\"left\"},\"hovermode\":\"closest\",\"mapbox\":{\"style\":\"light\"},\"paper_bgcolor\":\"white\",\"plot_bgcolor\":\"#E5ECF6\",\"polar\":{\"angularaxis\":{\"gridcolor\":\"white\",\"linecolor\":\"white\",\"ticks\":\"\"},\"bgcolor\":\"#E5ECF6\",\"radialaxis\":{\"gridcolor\":\"white\",\"linecolor\":\"white\",\"ticks\":\"\"}},\"scene\":{\"xaxis\":{\"backgroundcolor\":\"#E5ECF6\",\"gridcolor\":\"white\",\"gridwidth\":2,\"linecolor\":\"white\",\"showbackground\":true,\"ticks\":\"\",\"zerolinecolor\":\"white\"},\"yaxis\":{\"backgroundcolor\":\"#E5ECF6\",\"gridcolor\":\"white\",\"gridwidth\":2,\"linecolor\":\"white\",\"showbackground\":true,\"ticks\":\"\",\"zerolinecolor\":\"white\"},\"zaxis\":{\"backgroundcolor\":\"#E5ECF6\",\"gridcolor\":\"white\",\"gridwidth\":2,\"linecolor\":\"white\",\"showbackground\":true,\"ticks\":\"\",\"zerolinecolor\":\"white\"}},\"shapedefaults\":{\"line\":{\"color\":\"#2a3f5f\"}},\"ternary\":{\"aaxis\":{\"gridcolor\":\"white\",\"linecolor\":\"white\",\"ticks\":\"\"},\"baxis\":{\"gridcolor\":\"white\",\"linecolor\":\"white\",\"ticks\":\"\"},\"bgcolor\":\"#E5ECF6\",\"caxis\":{\"gridcolor\":\"white\",\"linecolor\":\"white\",\"ticks\":\"\"}},\"title\":{\"x\":0.05},\"xaxis\":{\"automargin\":true,\"gridcolor\":\"white\",\"linecolor\":\"white\",\"ticks\":\"\",\"title\":{\"standoff\":15},\"zerolinecolor\":\"white\",\"zerolinewidth\":2},\"yaxis\":{\"automargin\":true,\"gridcolor\":\"white\",\"linecolor\":\"white\",\"ticks\":\"\",\"title\":{\"standoff\":15},\"zerolinecolor\":\"white\",\"zerolinewidth\":2}}},\"title\":{\"font\":{\"color\":\"#4D5663\"}},\"xaxis\":{\"gridcolor\":\"#E1E5ED\",\"showgrid\":true,\"tickfont\":{\"color\":\"#4D5663\"},\"title\":{\"font\":{\"color\":\"#4D5663\"},\"text\":\"\"},\"zerolinecolor\":\"#E1E5ED\"},\"yaxis\":{\"gridcolor\":\"#E1E5ED\",\"showgrid\":true,\"tickfont\":{\"color\":\"#4D5663\"},\"title\":{\"font\":{\"color\":\"#4D5663\"},\"text\":\"\"},\"zerolinecolor\":\"#E1E5ED\"}},                        {\"showLink\": true, \"linkText\": \"Export to plot.ly\", \"plotlyServerURL\": \"https://plot.ly\", \"responsive\": true}                    ).then(function(){\n",
       "                            \n",
       "var gd = document.getElementById('164027b7-3603-4c9d-a350-e0b235eb6d1a');\n",
       "var x = new MutationObserver(function (mutations, observer) {{\n",
       "        var display = window.getComputedStyle(gd).display;\n",
       "        if (!display || display === 'none') {{\n",
       "            console.log([gd, 'removed!']);\n",
       "            Plotly.purge(gd);\n",
       "            observer.disconnect();\n",
       "        }}\n",
       "}});\n",
       "\n",
       "// Listen for the removal of the full notebook cells\n",
       "var notebookContainer = gd.closest('#notebook-container');\n",
       "if (notebookContainer) {{\n",
       "    x.observe(notebookContainer, {childList: true});\n",
       "}}\n",
       "\n",
       "// Listen for the clearing of the current output cell\n",
       "var outputEl = gd.closest('.output');\n",
       "if (outputEl) {{\n",
       "    x.observe(outputEl, {childList: true});\n",
       "}}\n",
       "\n",
       "                        })                };                });            </script>        </div>"
      ]
     },
     "metadata": {},
     "output_type": "display_data"
    }
   ],
   "source": [
    "df4 = pd.DataFrame(a,columns='A B C D'.split())\n",
    "df4[['A','B']].iplot()"
   ]
  },
  {
   "cell_type": "markdown",
   "metadata": {},
   "source": [
    "## histogram"
   ]
  },
  {
   "cell_type": "code",
   "execution_count": 24,
   "metadata": {},
   "outputs": [
    {
     "data": {
      "application/vnd.plotly.v1+json": {
       "config": {
        "linkText": "Export to plot.ly",
        "plotlyServerURL": "https://plot.ly",
        "showLink": true
       },
       "data": [
        {
         "histfunc": "count",
         "histnorm": "",
         "marker": {
          "color": "rgba(255, 153, 51, 1.0)",
          "line": {
           "color": "#4D5663",
           "width": 1.3
          }
         },
         "name": "A",
         "nbinsx": 25,
         "opacity": 0.8,
         "orientation": "v",
         "type": "histogram",
         "x": [
          -1.102157375614898,
          2.2865785896451056,
          0.4566434341878121,
          -0.4892334021311478,
          -2.130815216314164,
          0.34465161154860385,
          -0.49941355380787994,
          -0.07831088917902136,
          0.602111357449041,
          1.836312051939149,
          0.68653066400194,
          0.7272723288016878,
          -0.561985964001304,
          0.4749032085110548,
          -0.3943567537206873,
          -1.7812394531296598,
          -1.55016940753543,
          -0.8961215905737038,
          1.0396020876583527,
          -0.37499036096735866,
          -0.6078496437501864,
          -0.6540352795879921,
          1.5427968616244505,
          -0.7479992770240803,
          1.7736972039880796,
          -1.4616429884856508,
          0.3784126846667629,
          -1.2081394791450908,
          0.7602952072803093,
          0.43055980891856077,
          -0.3374320242569034,
          0.7706767098237173,
          -0.5463347726811589,
          0.033762295791289997,
          0.4990878712300638,
          1.1825854932025412,
          0.015844384267101563,
          -1.129231072418561,
          -2.7533196079610387,
          0.22159763708817423,
          -1.2118605238189528,
          1.2440218907966467,
          0.8870437340948487,
          -1.7602496137961745,
          -0.8038441161106656,
          0.43123877184878656,
          -0.6856111512549908,
          -0.14699128767403657,
          -2.2514927775466202,
          0.3810256579120371,
          -0.33399073703812215,
          0.8568310968852303,
          -1.7591695315282843,
          0.07139481710721052,
          -1.4989835427890368,
          -1.323758692382063,
          -1.275742543750863,
          0.511986491292987,
          -0.16147259749940288,
          -0.1400937674342753,
          0.24969654201492142,
          -0.43518197142108034,
          -1.3506570771227986,
          -1.5001516208144998,
          -0.25444948192148775,
          -0.6355008883387203,
          -0.9058493729728965,
          -0.016032752088665357,
          0.9103607278606926,
          0.18871594428745314,
          1.1671677613599445,
          1.4371250285751684,
          0.8337283933215233,
          0.33254422193403543,
          0.2537912153759133,
          -0.8145160628787136,
          -0.33293900872633314,
          1.7928098015898093,
          -0.11558511994838473,
          -0.5036239283403839,
          -0.34024420316716014,
          1.270442607496094,
          -1.9521088354455611,
          0.5721799161997925,
          -0.32676088375004936,
          0.23829216361816088,
          -0.6638810319586461,
          0.6261001378621326,
          -0.9532031426639209,
          -0.3028686448220451,
          -0.03323881015307786,
          -2.2163813272149397,
          1.2248574758896162,
          -1.8261008669183256,
          0.9927307241686352,
          -0.4144905926853598,
          0.7644577521814288,
          3.3897490150859912,
          0.9981217162595685,
          0.2925472587199806
         ]
        }
       ],
       "layout": {
        "barmode": "overlay",
        "legend": {
         "bgcolor": "#F5F6F9",
         "font": {
          "color": "#4D5663"
         }
        },
        "paper_bgcolor": "#F5F6F9",
        "plot_bgcolor": "#F5F6F9",
        "template": {
         "data": {
          "bar": [
           {
            "error_x": {
             "color": "#2a3f5f"
            },
            "error_y": {
             "color": "#2a3f5f"
            },
            "marker": {
             "line": {
              "color": "#E5ECF6",
              "width": 0.5
             },
             "pattern": {
              "fillmode": "overlay",
              "size": 10,
              "solidity": 0.2
             }
            },
            "type": "bar"
           }
          ],
          "barpolar": [
           {
            "marker": {
             "line": {
              "color": "#E5ECF6",
              "width": 0.5
             },
             "pattern": {
              "fillmode": "overlay",
              "size": 10,
              "solidity": 0.2
             }
            },
            "type": "barpolar"
           }
          ],
          "carpet": [
           {
            "aaxis": {
             "endlinecolor": "#2a3f5f",
             "gridcolor": "white",
             "linecolor": "white",
             "minorgridcolor": "white",
             "startlinecolor": "#2a3f5f"
            },
            "baxis": {
             "endlinecolor": "#2a3f5f",
             "gridcolor": "white",
             "linecolor": "white",
             "minorgridcolor": "white",
             "startlinecolor": "#2a3f5f"
            },
            "type": "carpet"
           }
          ],
          "choropleth": [
           {
            "colorbar": {
             "outlinewidth": 0,
             "ticks": ""
            },
            "type": "choropleth"
           }
          ],
          "contour": [
           {
            "colorbar": {
             "outlinewidth": 0,
             "ticks": ""
            },
            "colorscale": [
             [
              0,
              "#0d0887"
             ],
             [
              0.1111111111111111,
              "#46039f"
             ],
             [
              0.2222222222222222,
              "#7201a8"
             ],
             [
              0.3333333333333333,
              "#9c179e"
             ],
             [
              0.4444444444444444,
              "#bd3786"
             ],
             [
              0.5555555555555556,
              "#d8576b"
             ],
             [
              0.6666666666666666,
              "#ed7953"
             ],
             [
              0.7777777777777778,
              "#fb9f3a"
             ],
             [
              0.8888888888888888,
              "#fdca26"
             ],
             [
              1,
              "#f0f921"
             ]
            ],
            "type": "contour"
           }
          ],
          "contourcarpet": [
           {
            "colorbar": {
             "outlinewidth": 0,
             "ticks": ""
            },
            "type": "contourcarpet"
           }
          ],
          "heatmap": [
           {
            "colorbar": {
             "outlinewidth": 0,
             "ticks": ""
            },
            "colorscale": [
             [
              0,
              "#0d0887"
             ],
             [
              0.1111111111111111,
              "#46039f"
             ],
             [
              0.2222222222222222,
              "#7201a8"
             ],
             [
              0.3333333333333333,
              "#9c179e"
             ],
             [
              0.4444444444444444,
              "#bd3786"
             ],
             [
              0.5555555555555556,
              "#d8576b"
             ],
             [
              0.6666666666666666,
              "#ed7953"
             ],
             [
              0.7777777777777778,
              "#fb9f3a"
             ],
             [
              0.8888888888888888,
              "#fdca26"
             ],
             [
              1,
              "#f0f921"
             ]
            ],
            "type": "heatmap"
           }
          ],
          "heatmapgl": [
           {
            "colorbar": {
             "outlinewidth": 0,
             "ticks": ""
            },
            "colorscale": [
             [
              0,
              "#0d0887"
             ],
             [
              0.1111111111111111,
              "#46039f"
             ],
             [
              0.2222222222222222,
              "#7201a8"
             ],
             [
              0.3333333333333333,
              "#9c179e"
             ],
             [
              0.4444444444444444,
              "#bd3786"
             ],
             [
              0.5555555555555556,
              "#d8576b"
             ],
             [
              0.6666666666666666,
              "#ed7953"
             ],
             [
              0.7777777777777778,
              "#fb9f3a"
             ],
             [
              0.8888888888888888,
              "#fdca26"
             ],
             [
              1,
              "#f0f921"
             ]
            ],
            "type": "heatmapgl"
           }
          ],
          "histogram": [
           {
            "marker": {
             "pattern": {
              "fillmode": "overlay",
              "size": 10,
              "solidity": 0.2
             }
            },
            "type": "histogram"
           }
          ],
          "histogram2d": [
           {
            "colorbar": {
             "outlinewidth": 0,
             "ticks": ""
            },
            "colorscale": [
             [
              0,
              "#0d0887"
             ],
             [
              0.1111111111111111,
              "#46039f"
             ],
             [
              0.2222222222222222,
              "#7201a8"
             ],
             [
              0.3333333333333333,
              "#9c179e"
             ],
             [
              0.4444444444444444,
              "#bd3786"
             ],
             [
              0.5555555555555556,
              "#d8576b"
             ],
             [
              0.6666666666666666,
              "#ed7953"
             ],
             [
              0.7777777777777778,
              "#fb9f3a"
             ],
             [
              0.8888888888888888,
              "#fdca26"
             ],
             [
              1,
              "#f0f921"
             ]
            ],
            "type": "histogram2d"
           }
          ],
          "histogram2dcontour": [
           {
            "colorbar": {
             "outlinewidth": 0,
             "ticks": ""
            },
            "colorscale": [
             [
              0,
              "#0d0887"
             ],
             [
              0.1111111111111111,
              "#46039f"
             ],
             [
              0.2222222222222222,
              "#7201a8"
             ],
             [
              0.3333333333333333,
              "#9c179e"
             ],
             [
              0.4444444444444444,
              "#bd3786"
             ],
             [
              0.5555555555555556,
              "#d8576b"
             ],
             [
              0.6666666666666666,
              "#ed7953"
             ],
             [
              0.7777777777777778,
              "#fb9f3a"
             ],
             [
              0.8888888888888888,
              "#fdca26"
             ],
             [
              1,
              "#f0f921"
             ]
            ],
            "type": "histogram2dcontour"
           }
          ],
          "mesh3d": [
           {
            "colorbar": {
             "outlinewidth": 0,
             "ticks": ""
            },
            "type": "mesh3d"
           }
          ],
          "parcoords": [
           {
            "line": {
             "colorbar": {
              "outlinewidth": 0,
              "ticks": ""
             }
            },
            "type": "parcoords"
           }
          ],
          "pie": [
           {
            "automargin": true,
            "type": "pie"
           }
          ],
          "scatter": [
           {
            "fillpattern": {
             "fillmode": "overlay",
             "size": 10,
             "solidity": 0.2
            },
            "type": "scatter"
           }
          ],
          "scatter3d": [
           {
            "line": {
             "colorbar": {
              "outlinewidth": 0,
              "ticks": ""
             }
            },
            "marker": {
             "colorbar": {
              "outlinewidth": 0,
              "ticks": ""
             }
            },
            "type": "scatter3d"
           }
          ],
          "scattercarpet": [
           {
            "marker": {
             "colorbar": {
              "outlinewidth": 0,
              "ticks": ""
             }
            },
            "type": "scattercarpet"
           }
          ],
          "scattergeo": [
           {
            "marker": {
             "colorbar": {
              "outlinewidth": 0,
              "ticks": ""
             }
            },
            "type": "scattergeo"
           }
          ],
          "scattergl": [
           {
            "marker": {
             "colorbar": {
              "outlinewidth": 0,
              "ticks": ""
             }
            },
            "type": "scattergl"
           }
          ],
          "scattermapbox": [
           {
            "marker": {
             "colorbar": {
              "outlinewidth": 0,
              "ticks": ""
             }
            },
            "type": "scattermapbox"
           }
          ],
          "scatterpolar": [
           {
            "marker": {
             "colorbar": {
              "outlinewidth": 0,
              "ticks": ""
             }
            },
            "type": "scatterpolar"
           }
          ],
          "scatterpolargl": [
           {
            "marker": {
             "colorbar": {
              "outlinewidth": 0,
              "ticks": ""
             }
            },
            "type": "scatterpolargl"
           }
          ],
          "scatterternary": [
           {
            "marker": {
             "colorbar": {
              "outlinewidth": 0,
              "ticks": ""
             }
            },
            "type": "scatterternary"
           }
          ],
          "surface": [
           {
            "colorbar": {
             "outlinewidth": 0,
             "ticks": ""
            },
            "colorscale": [
             [
              0,
              "#0d0887"
             ],
             [
              0.1111111111111111,
              "#46039f"
             ],
             [
              0.2222222222222222,
              "#7201a8"
             ],
             [
              0.3333333333333333,
              "#9c179e"
             ],
             [
              0.4444444444444444,
              "#bd3786"
             ],
             [
              0.5555555555555556,
              "#d8576b"
             ],
             [
              0.6666666666666666,
              "#ed7953"
             ],
             [
              0.7777777777777778,
              "#fb9f3a"
             ],
             [
              0.8888888888888888,
              "#fdca26"
             ],
             [
              1,
              "#f0f921"
             ]
            ],
            "type": "surface"
           }
          ],
          "table": [
           {
            "cells": {
             "fill": {
              "color": "#EBF0F8"
             },
             "line": {
              "color": "white"
             }
            },
            "header": {
             "fill": {
              "color": "#C8D4E3"
             },
             "line": {
              "color": "white"
             }
            },
            "type": "table"
           }
          ]
         },
         "layout": {
          "annotationdefaults": {
           "arrowcolor": "#2a3f5f",
           "arrowhead": 0,
           "arrowwidth": 1
          },
          "autotypenumbers": "strict",
          "coloraxis": {
           "colorbar": {
            "outlinewidth": 0,
            "ticks": ""
           }
          },
          "colorscale": {
           "diverging": [
            [
             0,
             "#8e0152"
            ],
            [
             0.1,
             "#c51b7d"
            ],
            [
             0.2,
             "#de77ae"
            ],
            [
             0.3,
             "#f1b6da"
            ],
            [
             0.4,
             "#fde0ef"
            ],
            [
             0.5,
             "#f7f7f7"
            ],
            [
             0.6,
             "#e6f5d0"
            ],
            [
             0.7,
             "#b8e186"
            ],
            [
             0.8,
             "#7fbc41"
            ],
            [
             0.9,
             "#4d9221"
            ],
            [
             1,
             "#276419"
            ]
           ],
           "sequential": [
            [
             0,
             "#0d0887"
            ],
            [
             0.1111111111111111,
             "#46039f"
            ],
            [
             0.2222222222222222,
             "#7201a8"
            ],
            [
             0.3333333333333333,
             "#9c179e"
            ],
            [
             0.4444444444444444,
             "#bd3786"
            ],
            [
             0.5555555555555556,
             "#d8576b"
            ],
            [
             0.6666666666666666,
             "#ed7953"
            ],
            [
             0.7777777777777778,
             "#fb9f3a"
            ],
            [
             0.8888888888888888,
             "#fdca26"
            ],
            [
             1,
             "#f0f921"
            ]
           ],
           "sequentialminus": [
            [
             0,
             "#0d0887"
            ],
            [
             0.1111111111111111,
             "#46039f"
            ],
            [
             0.2222222222222222,
             "#7201a8"
            ],
            [
             0.3333333333333333,
             "#9c179e"
            ],
            [
             0.4444444444444444,
             "#bd3786"
            ],
            [
             0.5555555555555556,
             "#d8576b"
            ],
            [
             0.6666666666666666,
             "#ed7953"
            ],
            [
             0.7777777777777778,
             "#fb9f3a"
            ],
            [
             0.8888888888888888,
             "#fdca26"
            ],
            [
             1,
             "#f0f921"
            ]
           ]
          },
          "colorway": [
           "#636efa",
           "#EF553B",
           "#00cc96",
           "#ab63fa",
           "#FFA15A",
           "#19d3f3",
           "#FF6692",
           "#B6E880",
           "#FF97FF",
           "#FECB52"
          ],
          "font": {
           "color": "#2a3f5f"
          },
          "geo": {
           "bgcolor": "white",
           "lakecolor": "white",
           "landcolor": "#E5ECF6",
           "showlakes": true,
           "showland": true,
           "subunitcolor": "white"
          },
          "hoverlabel": {
           "align": "left"
          },
          "hovermode": "closest",
          "mapbox": {
           "style": "light"
          },
          "paper_bgcolor": "white",
          "plot_bgcolor": "#E5ECF6",
          "polar": {
           "angularaxis": {
            "gridcolor": "white",
            "linecolor": "white",
            "ticks": ""
           },
           "bgcolor": "#E5ECF6",
           "radialaxis": {
            "gridcolor": "white",
            "linecolor": "white",
            "ticks": ""
           }
          },
          "scene": {
           "xaxis": {
            "backgroundcolor": "#E5ECF6",
            "gridcolor": "white",
            "gridwidth": 2,
            "linecolor": "white",
            "showbackground": true,
            "ticks": "",
            "zerolinecolor": "white"
           },
           "yaxis": {
            "backgroundcolor": "#E5ECF6",
            "gridcolor": "white",
            "gridwidth": 2,
            "linecolor": "white",
            "showbackground": true,
            "ticks": "",
            "zerolinecolor": "white"
           },
           "zaxis": {
            "backgroundcolor": "#E5ECF6",
            "gridcolor": "white",
            "gridwidth": 2,
            "linecolor": "white",
            "showbackground": true,
            "ticks": "",
            "zerolinecolor": "white"
           }
          },
          "shapedefaults": {
           "line": {
            "color": "#2a3f5f"
           }
          },
          "ternary": {
           "aaxis": {
            "gridcolor": "white",
            "linecolor": "white",
            "ticks": ""
           },
           "baxis": {
            "gridcolor": "white",
            "linecolor": "white",
            "ticks": ""
           },
           "bgcolor": "#E5ECF6",
           "caxis": {
            "gridcolor": "white",
            "linecolor": "white",
            "ticks": ""
           }
          },
          "title": {
           "x": 0.05
          },
          "xaxis": {
           "automargin": true,
           "gridcolor": "white",
           "linecolor": "white",
           "ticks": "",
           "title": {
            "standoff": 15
           },
           "zerolinecolor": "white",
           "zerolinewidth": 2
          },
          "yaxis": {
           "automargin": true,
           "gridcolor": "white",
           "linecolor": "white",
           "ticks": "",
           "title": {
            "standoff": 15
           },
           "zerolinecolor": "white",
           "zerolinewidth": 2
          }
         }
        },
        "title": {
         "font": {
          "color": "#4D5663"
         }
        },
        "xaxis": {
         "gridcolor": "#E1E5ED",
         "showgrid": true,
         "tickfont": {
          "color": "#4D5663"
         },
         "title": {
          "font": {
           "color": "#4D5663"
          },
          "text": ""
         },
         "zerolinecolor": "#E1E5ED"
        },
        "yaxis": {
         "gridcolor": "#E1E5ED",
         "showgrid": true,
         "tickfont": {
          "color": "#4D5663"
         },
         "title": {
          "font": {
           "color": "#4D5663"
          },
          "text": ""
         },
         "zerolinecolor": "#E1E5ED"
        }
       }
      },
      "text/html": [
       "<div>                            <div id=\"dd48a228-42ea-4355-b51c-a399d7a1db4a\" class=\"plotly-graph-div\" style=\"height:525px; width:100%;\"></div>            <script type=\"text/javascript\">                require([\"plotly\"], function(Plotly) {                    window.PLOTLYENV=window.PLOTLYENV || {};\n",
       "                    window.PLOTLYENV.BASE_URL='https://plot.ly';                                    if (document.getElementById(\"dd48a228-42ea-4355-b51c-a399d7a1db4a\")) {                    Plotly.newPlot(                        \"dd48a228-42ea-4355-b51c-a399d7a1db4a\",                        [{\"histfunc\":\"count\",\"histnorm\":\"\",\"marker\":{\"color\":\"rgba(255, 153, 51, 1.0)\",\"line\":{\"color\":\"#4D5663\",\"width\":1.3}},\"name\":\"A\",\"nbinsx\":25,\"opacity\":0.8,\"orientation\":\"v\",\"x\":[-1.102157375614898,2.2865785896451056,0.4566434341878121,-0.4892334021311478,-2.130815216314164,0.34465161154860385,-0.49941355380787994,-0.07831088917902136,0.602111357449041,1.836312051939149,0.68653066400194,0.7272723288016878,-0.561985964001304,0.4749032085110548,-0.3943567537206873,-1.7812394531296598,-1.55016940753543,-0.8961215905737038,1.0396020876583527,-0.37499036096735866,-0.6078496437501864,-0.6540352795879921,1.5427968616244505,-0.7479992770240803,1.7736972039880796,-1.4616429884856508,0.3784126846667629,-1.2081394791450908,0.7602952072803093,0.43055980891856077,-0.3374320242569034,0.7706767098237173,-0.5463347726811589,0.033762295791289997,0.4990878712300638,1.1825854932025412,0.015844384267101563,-1.129231072418561,-2.7533196079610387,0.22159763708817423,-1.2118605238189528,1.2440218907966467,0.8870437340948487,-1.7602496137961745,-0.8038441161106656,0.43123877184878656,-0.6856111512549908,-0.14699128767403657,-2.2514927775466202,0.3810256579120371,-0.33399073703812215,0.8568310968852303,-1.7591695315282843,0.07139481710721052,-1.4989835427890368,-1.323758692382063,-1.275742543750863,0.511986491292987,-0.16147259749940288,-0.1400937674342753,0.24969654201492142,-0.43518197142108034,-1.3506570771227986,-1.5001516208144998,-0.25444948192148775,-0.6355008883387203,-0.9058493729728965,-0.016032752088665357,0.9103607278606926,0.18871594428745314,1.1671677613599445,1.4371250285751684,0.8337283933215233,0.33254422193403543,0.2537912153759133,-0.8145160628787136,-0.33293900872633314,1.7928098015898093,-0.11558511994838473,-0.5036239283403839,-0.34024420316716014,1.270442607496094,-1.9521088354455611,0.5721799161997925,-0.32676088375004936,0.23829216361816088,-0.6638810319586461,0.6261001378621326,-0.9532031426639209,-0.3028686448220451,-0.03323881015307786,-2.2163813272149397,1.2248574758896162,-1.8261008669183256,0.9927307241686352,-0.4144905926853598,0.7644577521814288,3.3897490150859912,0.9981217162595685,0.2925472587199806],\"type\":\"histogram\"}],                        {\"barmode\":\"overlay\",\"legend\":{\"bgcolor\":\"#F5F6F9\",\"font\":{\"color\":\"#4D5663\"}},\"paper_bgcolor\":\"#F5F6F9\",\"plot_bgcolor\":\"#F5F6F9\",\"template\":{\"data\":{\"barpolar\":[{\"marker\":{\"line\":{\"color\":\"#E5ECF6\",\"width\":0.5},\"pattern\":{\"fillmode\":\"overlay\",\"size\":10,\"solidity\":0.2}},\"type\":\"barpolar\"}],\"bar\":[{\"error_x\":{\"color\":\"#2a3f5f\"},\"error_y\":{\"color\":\"#2a3f5f\"},\"marker\":{\"line\":{\"color\":\"#E5ECF6\",\"width\":0.5},\"pattern\":{\"fillmode\":\"overlay\",\"size\":10,\"solidity\":0.2}},\"type\":\"bar\"}],\"carpet\":[{\"aaxis\":{\"endlinecolor\":\"#2a3f5f\",\"gridcolor\":\"white\",\"linecolor\":\"white\",\"minorgridcolor\":\"white\",\"startlinecolor\":\"#2a3f5f\"},\"baxis\":{\"endlinecolor\":\"#2a3f5f\",\"gridcolor\":\"white\",\"linecolor\":\"white\",\"minorgridcolor\":\"white\",\"startlinecolor\":\"#2a3f5f\"},\"type\":\"carpet\"}],\"choropleth\":[{\"colorbar\":{\"outlinewidth\":0,\"ticks\":\"\"},\"type\":\"choropleth\"}],\"contourcarpet\":[{\"colorbar\":{\"outlinewidth\":0,\"ticks\":\"\"},\"type\":\"contourcarpet\"}],\"contour\":[{\"colorbar\":{\"outlinewidth\":0,\"ticks\":\"\"},\"colorscale\":[[0.0,\"#0d0887\"],[0.1111111111111111,\"#46039f\"],[0.2222222222222222,\"#7201a8\"],[0.3333333333333333,\"#9c179e\"],[0.4444444444444444,\"#bd3786\"],[0.5555555555555556,\"#d8576b\"],[0.6666666666666666,\"#ed7953\"],[0.7777777777777778,\"#fb9f3a\"],[0.8888888888888888,\"#fdca26\"],[1.0,\"#f0f921\"]],\"type\":\"contour\"}],\"heatmapgl\":[{\"colorbar\":{\"outlinewidth\":0,\"ticks\":\"\"},\"colorscale\":[[0.0,\"#0d0887\"],[0.1111111111111111,\"#46039f\"],[0.2222222222222222,\"#7201a8\"],[0.3333333333333333,\"#9c179e\"],[0.4444444444444444,\"#bd3786\"],[0.5555555555555556,\"#d8576b\"],[0.6666666666666666,\"#ed7953\"],[0.7777777777777778,\"#fb9f3a\"],[0.8888888888888888,\"#fdca26\"],[1.0,\"#f0f921\"]],\"type\":\"heatmapgl\"}],\"heatmap\":[{\"colorbar\":{\"outlinewidth\":0,\"ticks\":\"\"},\"colorscale\":[[0.0,\"#0d0887\"],[0.1111111111111111,\"#46039f\"],[0.2222222222222222,\"#7201a8\"],[0.3333333333333333,\"#9c179e\"],[0.4444444444444444,\"#bd3786\"],[0.5555555555555556,\"#d8576b\"],[0.6666666666666666,\"#ed7953\"],[0.7777777777777778,\"#fb9f3a\"],[0.8888888888888888,\"#fdca26\"],[1.0,\"#f0f921\"]],\"type\":\"heatmap\"}],\"histogram2dcontour\":[{\"colorbar\":{\"outlinewidth\":0,\"ticks\":\"\"},\"colorscale\":[[0.0,\"#0d0887\"],[0.1111111111111111,\"#46039f\"],[0.2222222222222222,\"#7201a8\"],[0.3333333333333333,\"#9c179e\"],[0.4444444444444444,\"#bd3786\"],[0.5555555555555556,\"#d8576b\"],[0.6666666666666666,\"#ed7953\"],[0.7777777777777778,\"#fb9f3a\"],[0.8888888888888888,\"#fdca26\"],[1.0,\"#f0f921\"]],\"type\":\"histogram2dcontour\"}],\"histogram2d\":[{\"colorbar\":{\"outlinewidth\":0,\"ticks\":\"\"},\"colorscale\":[[0.0,\"#0d0887\"],[0.1111111111111111,\"#46039f\"],[0.2222222222222222,\"#7201a8\"],[0.3333333333333333,\"#9c179e\"],[0.4444444444444444,\"#bd3786\"],[0.5555555555555556,\"#d8576b\"],[0.6666666666666666,\"#ed7953\"],[0.7777777777777778,\"#fb9f3a\"],[0.8888888888888888,\"#fdca26\"],[1.0,\"#f0f921\"]],\"type\":\"histogram2d\"}],\"histogram\":[{\"marker\":{\"pattern\":{\"fillmode\":\"overlay\",\"size\":10,\"solidity\":0.2}},\"type\":\"histogram\"}],\"mesh3d\":[{\"colorbar\":{\"outlinewidth\":0,\"ticks\":\"\"},\"type\":\"mesh3d\"}],\"parcoords\":[{\"line\":{\"colorbar\":{\"outlinewidth\":0,\"ticks\":\"\"}},\"type\":\"parcoords\"}],\"pie\":[{\"automargin\":true,\"type\":\"pie\"}],\"scatter3d\":[{\"line\":{\"colorbar\":{\"outlinewidth\":0,\"ticks\":\"\"}},\"marker\":{\"colorbar\":{\"outlinewidth\":0,\"ticks\":\"\"}},\"type\":\"scatter3d\"}],\"scattercarpet\":[{\"marker\":{\"colorbar\":{\"outlinewidth\":0,\"ticks\":\"\"}},\"type\":\"scattercarpet\"}],\"scattergeo\":[{\"marker\":{\"colorbar\":{\"outlinewidth\":0,\"ticks\":\"\"}},\"type\":\"scattergeo\"}],\"scattergl\":[{\"marker\":{\"colorbar\":{\"outlinewidth\":0,\"ticks\":\"\"}},\"type\":\"scattergl\"}],\"scattermapbox\":[{\"marker\":{\"colorbar\":{\"outlinewidth\":0,\"ticks\":\"\"}},\"type\":\"scattermapbox\"}],\"scatterpolargl\":[{\"marker\":{\"colorbar\":{\"outlinewidth\":0,\"ticks\":\"\"}},\"type\":\"scatterpolargl\"}],\"scatterpolar\":[{\"marker\":{\"colorbar\":{\"outlinewidth\":0,\"ticks\":\"\"}},\"type\":\"scatterpolar\"}],\"scatter\":[{\"fillpattern\":{\"fillmode\":\"overlay\",\"size\":10,\"solidity\":0.2},\"type\":\"scatter\"}],\"scatterternary\":[{\"marker\":{\"colorbar\":{\"outlinewidth\":0,\"ticks\":\"\"}},\"type\":\"scatterternary\"}],\"surface\":[{\"colorbar\":{\"outlinewidth\":0,\"ticks\":\"\"},\"colorscale\":[[0.0,\"#0d0887\"],[0.1111111111111111,\"#46039f\"],[0.2222222222222222,\"#7201a8\"],[0.3333333333333333,\"#9c179e\"],[0.4444444444444444,\"#bd3786\"],[0.5555555555555556,\"#d8576b\"],[0.6666666666666666,\"#ed7953\"],[0.7777777777777778,\"#fb9f3a\"],[0.8888888888888888,\"#fdca26\"],[1.0,\"#f0f921\"]],\"type\":\"surface\"}],\"table\":[{\"cells\":{\"fill\":{\"color\":\"#EBF0F8\"},\"line\":{\"color\":\"white\"}},\"header\":{\"fill\":{\"color\":\"#C8D4E3\"},\"line\":{\"color\":\"white\"}},\"type\":\"table\"}]},\"layout\":{\"annotationdefaults\":{\"arrowcolor\":\"#2a3f5f\",\"arrowhead\":0,\"arrowwidth\":1},\"autotypenumbers\":\"strict\",\"coloraxis\":{\"colorbar\":{\"outlinewidth\":0,\"ticks\":\"\"}},\"colorscale\":{\"diverging\":[[0,\"#8e0152\"],[0.1,\"#c51b7d\"],[0.2,\"#de77ae\"],[0.3,\"#f1b6da\"],[0.4,\"#fde0ef\"],[0.5,\"#f7f7f7\"],[0.6,\"#e6f5d0\"],[0.7,\"#b8e186\"],[0.8,\"#7fbc41\"],[0.9,\"#4d9221\"],[1,\"#276419\"]],\"sequential\":[[0.0,\"#0d0887\"],[0.1111111111111111,\"#46039f\"],[0.2222222222222222,\"#7201a8\"],[0.3333333333333333,\"#9c179e\"],[0.4444444444444444,\"#bd3786\"],[0.5555555555555556,\"#d8576b\"],[0.6666666666666666,\"#ed7953\"],[0.7777777777777778,\"#fb9f3a\"],[0.8888888888888888,\"#fdca26\"],[1.0,\"#f0f921\"]],\"sequentialminus\":[[0.0,\"#0d0887\"],[0.1111111111111111,\"#46039f\"],[0.2222222222222222,\"#7201a8\"],[0.3333333333333333,\"#9c179e\"],[0.4444444444444444,\"#bd3786\"],[0.5555555555555556,\"#d8576b\"],[0.6666666666666666,\"#ed7953\"],[0.7777777777777778,\"#fb9f3a\"],[0.8888888888888888,\"#fdca26\"],[1.0,\"#f0f921\"]]},\"colorway\":[\"#636efa\",\"#EF553B\",\"#00cc96\",\"#ab63fa\",\"#FFA15A\",\"#19d3f3\",\"#FF6692\",\"#B6E880\",\"#FF97FF\",\"#FECB52\"],\"font\":{\"color\":\"#2a3f5f\"},\"geo\":{\"bgcolor\":\"white\",\"lakecolor\":\"white\",\"landcolor\":\"#E5ECF6\",\"showlakes\":true,\"showland\":true,\"subunitcolor\":\"white\"},\"hoverlabel\":{\"align\":\"left\"},\"hovermode\":\"closest\",\"mapbox\":{\"style\":\"light\"},\"paper_bgcolor\":\"white\",\"plot_bgcolor\":\"#E5ECF6\",\"polar\":{\"angularaxis\":{\"gridcolor\":\"white\",\"linecolor\":\"white\",\"ticks\":\"\"},\"bgcolor\":\"#E5ECF6\",\"radialaxis\":{\"gridcolor\":\"white\",\"linecolor\":\"white\",\"ticks\":\"\"}},\"scene\":{\"xaxis\":{\"backgroundcolor\":\"#E5ECF6\",\"gridcolor\":\"white\",\"gridwidth\":2,\"linecolor\":\"white\",\"showbackground\":true,\"ticks\":\"\",\"zerolinecolor\":\"white\"},\"yaxis\":{\"backgroundcolor\":\"#E5ECF6\",\"gridcolor\":\"white\",\"gridwidth\":2,\"linecolor\":\"white\",\"showbackground\":true,\"ticks\":\"\",\"zerolinecolor\":\"white\"},\"zaxis\":{\"backgroundcolor\":\"#E5ECF6\",\"gridcolor\":\"white\",\"gridwidth\":2,\"linecolor\":\"white\",\"showbackground\":true,\"ticks\":\"\",\"zerolinecolor\":\"white\"}},\"shapedefaults\":{\"line\":{\"color\":\"#2a3f5f\"}},\"ternary\":{\"aaxis\":{\"gridcolor\":\"white\",\"linecolor\":\"white\",\"ticks\":\"\"},\"baxis\":{\"gridcolor\":\"white\",\"linecolor\":\"white\",\"ticks\":\"\"},\"bgcolor\":\"#E5ECF6\",\"caxis\":{\"gridcolor\":\"white\",\"linecolor\":\"white\",\"ticks\":\"\"}},\"title\":{\"x\":0.05},\"xaxis\":{\"automargin\":true,\"gridcolor\":\"white\",\"linecolor\":\"white\",\"ticks\":\"\",\"title\":{\"standoff\":15},\"zerolinecolor\":\"white\",\"zerolinewidth\":2},\"yaxis\":{\"automargin\":true,\"gridcolor\":\"white\",\"linecolor\":\"white\",\"ticks\":\"\",\"title\":{\"standoff\":15},\"zerolinecolor\":\"white\",\"zerolinewidth\":2}}},\"title\":{\"font\":{\"color\":\"#4D5663\"}},\"xaxis\":{\"gridcolor\":\"#E1E5ED\",\"showgrid\":true,\"tickfont\":{\"color\":\"#4D5663\"},\"title\":{\"font\":{\"color\":\"#4D5663\"},\"text\":\"\"},\"zerolinecolor\":\"#E1E5ED\"},\"yaxis\":{\"gridcolor\":\"#E1E5ED\",\"showgrid\":true,\"tickfont\":{\"color\":\"#4D5663\"},\"title\":{\"font\":{\"color\":\"#4D5663\"},\"text\":\"\"},\"zerolinecolor\":\"#E1E5ED\"}},                        {\"showLink\": true, \"linkText\": \"Export to plot.ly\", \"plotlyServerURL\": \"https://plot.ly\", \"responsive\": true}                    ).then(function(){\n",
       "                            \n",
       "var gd = document.getElementById('dd48a228-42ea-4355-b51c-a399d7a1db4a');\n",
       "var x = new MutationObserver(function (mutations, observer) {{\n",
       "        var display = window.getComputedStyle(gd).display;\n",
       "        if (!display || display === 'none') {{\n",
       "            console.log([gd, 'removed!']);\n",
       "            Plotly.purge(gd);\n",
       "            observer.disconnect();\n",
       "        }}\n",
       "}});\n",
       "\n",
       "// Listen for the removal of the full notebook cells\n",
       "var notebookContainer = gd.closest('#notebook-container');\n",
       "if (notebookContainer) {{\n",
       "    x.observe(notebookContainer, {childList: true});\n",
       "}}\n",
       "\n",
       "// Listen for the clearing of the current output cell\n",
       "var outputEl = gd.closest('.output');\n",
       "if (outputEl) {{\n",
       "    x.observe(outputEl, {childList: true});\n",
       "}}\n",
       "\n",
       "                        })                };                });            </script>        </div>"
      ]
     },
     "metadata": {},
     "output_type": "display_data"
    }
   ],
   "source": [
    "df['A'].iplot(kind='hist',bins=25)"
   ]
  },
  {
   "cell_type": "code",
   "execution_count": 25,
   "metadata": {},
   "outputs": [
    {
     "data": {
      "application/vnd.plotly.v1+json": {
       "config": {
        "linkText": "Export to plot.ly",
        "plotlyServerURL": "https://plot.ly",
        "showLink": true
       },
       "data": [
        {
         "marker": {
          "color": [
           "rgb(255, 153, 51)",
           "rgb(55, 128, 191)",
           "rgb(50, 171, 96)",
           "rgb(128, 0, 128)",
           "rgb(219, 64, 82)",
           "rgb(0, 128, 128)",
           "rgb(255, 255, 51)",
           "rgb(128, 128, 0)",
           "rgb(251, 128, 114)",
           "rgb(128, 177, 211)"
          ],
          "line": {
           "width": 1.3
          },
          "size": [
           80,
           13,
           31,
           112,
           106,
           71,
           54,
           63,
           44,
           74,
           42,
           77,
           37,
           26,
           58,
           76,
           40,
           23,
           61,
           101,
           63,
           45,
           69,
           12,
           65,
           58,
           83,
           44,
           64,
           47,
           58,
           56,
           78,
           65,
           40,
           43,
           44,
           29,
           78,
           50,
           69,
           75,
           59,
           54,
           37,
           65,
           77,
           61,
           25,
           48,
           70,
           80,
           43,
           38,
           82,
           19,
           57,
           47,
           45,
           72,
           67,
           86,
           90,
           79,
           61,
           46,
           57,
           15,
           43,
           55,
           49,
           71,
           58,
           84,
           58,
           67,
           70,
           29,
           63,
           83,
           55,
           40,
           46,
           74,
           64,
           75,
           38,
           66,
           88,
           56,
           37,
           64,
           60,
           52,
           66,
           40,
           52,
           60,
           80,
           63
          ],
          "symbol": "circle"
         },
         "mode": "markers",
         "text": "",
         "type": "scatter",
         "x": [
          -1.102157375614898,
          2.2865785896451056,
          0.4566434341878121,
          -0.4892334021311478,
          -2.130815216314164,
          0.34465161154860385,
          -0.49941355380787994,
          -0.07831088917902136,
          0.602111357449041,
          1.836312051939149,
          0.68653066400194,
          0.7272723288016878,
          -0.561985964001304,
          0.4749032085110548,
          -0.3943567537206873,
          -1.7812394531296598,
          -1.55016940753543,
          -0.8961215905737038,
          1.0396020876583527,
          -0.37499036096735866,
          -0.6078496437501864,
          -0.6540352795879921,
          1.5427968616244505,
          -0.7479992770240803,
          1.7736972039880796,
          -1.4616429884856508,
          0.3784126846667629,
          -1.2081394791450908,
          0.7602952072803093,
          0.43055980891856077,
          -0.3374320242569034,
          0.7706767098237173,
          -0.5463347726811589,
          0.033762295791289997,
          0.4990878712300638,
          1.1825854932025412,
          0.015844384267101563,
          -1.129231072418561,
          -2.7533196079610387,
          0.22159763708817423,
          -1.2118605238189528,
          1.2440218907966467,
          0.8870437340948487,
          -1.7602496137961745,
          -0.8038441161106656,
          0.43123877184878656,
          -0.6856111512549908,
          -0.14699128767403657,
          -2.2514927775466202,
          0.3810256579120371,
          -0.33399073703812215,
          0.8568310968852303,
          -1.7591695315282843,
          0.07139481710721052,
          -1.4989835427890368,
          -1.323758692382063,
          -1.275742543750863,
          0.511986491292987,
          -0.16147259749940288,
          -0.1400937674342753,
          0.24969654201492142,
          -0.43518197142108034,
          -1.3506570771227986,
          -1.5001516208144998,
          -0.25444948192148775,
          -0.6355008883387203,
          -0.9058493729728965,
          -0.016032752088665357,
          0.9103607278606926,
          0.18871594428745314,
          1.1671677613599445,
          1.4371250285751684,
          0.8337283933215233,
          0.33254422193403543,
          0.2537912153759133,
          -0.8145160628787136,
          -0.33293900872633314,
          1.7928098015898093,
          -0.11558511994838473,
          -0.5036239283403839,
          -0.34024420316716014,
          1.270442607496094,
          -1.9521088354455611,
          0.5721799161997925,
          -0.32676088375004936,
          0.23829216361816088,
          -0.6638810319586461,
          0.6261001378621326,
          -0.9532031426639209,
          -0.3028686448220451,
          -0.03323881015307786,
          -2.2163813272149397,
          1.2248574758896162,
          -1.8261008669183256,
          0.9927307241686352,
          -0.4144905926853598,
          0.7644577521814288,
          3.3897490150859912,
          0.9981217162595685,
          0.2925472587199806
         ],
         "y": [
          -0.9973385497255842,
          0.7837905097733299,
          0.4114202226020897,
          -1.382519415517844,
          -0.02544616448446813,
          1.0186393009420072,
          0.8558566196560897,
          -0.42531885825941645,
          -0.9864996976021687,
          -0.31840672611245,
          0.8916014391327218,
          0.09513064008948738,
          0.14918112600259187,
          0.7532993749218637,
          -0.4276448581127374,
          -0.07818602716472968,
          0.9817795497961357,
          0.5064226646157375,
          0.4449416714969202,
          -0.1941305620600468,
          -1.137333836757778,
          -0.728364472625442,
          0.4034551322996591,
          1.1872038136253862,
          1.072600861716576,
          0.876639868363512,
          0.7988727597172739,
          0.17336187404735537,
          -0.9097532082084129,
          0.012533433013292253,
          -0.9104096422704079,
          -2.929051044968031,
          -1.5106886534736783,
          -0.7430555641032094,
          -1.4288854189909295,
          1.510197624220518,
          -0.6236299601792391,
          -1.6305903851678578,
          1.4970753518573583,
          -0.6801286472206881,
          -0.979692810847835,
          -3.918868670448135,
          -0.06330189856562465,
          -0.47566846234842475,
          -0.9748506827222614,
          -1.4239641353896577,
          0.8518918795735684,
          -0.20012233219710165,
          1.3231285909537631,
          -0.20398723136228153,
          1.7077088102632907,
          0.8657554903375352,
          1.5481392063415123,
          -0.6105570758624655,
          1.0654680017823588,
          -1.0570752290932843,
          -0.6838031775909165,
          1.2275931051344096,
          0.04526621790472486,
          -1.554941047418443,
          -0.1492809321534578,
          -1.8643687527914203,
          1.3024373203496495,
          0.7601856921246877,
          -0.4462509524860536,
          0.48042464024541787,
          -1.6502678369241321,
          -0.14019041774634128,
          0.8566240306940461,
          0.43174665495270187,
          0.3556317639900785,
          -0.40977523162979523,
          0.08712426831847198,
          -0.7085711753892611,
          -0.2033454347552216,
          -0.4073598964847509,
          0.6744578923123841,
          -1.1400810189635784,
          2.789963286808077,
          0.7151297181599133,
          -0.1850065927724431,
          -0.08078798544387067,
          0.2943397056056416,
          -0.4663434080260867,
          0.4482366769986187,
          0.47513966341491815,
          0.5414854165226178,
          0.26065911224187877,
          -2.812297320953207,
          -1.1255949120105435,
          -2.505700444917874,
          -0.46977512258405213,
          1.740423220809751,
          -1.5441909687392934,
          -0.3290211676343685,
          1.2341058228228599,
          1.4116520784909827,
          -0.15889216025557068,
          0.3652472845120724,
          -0.9506594561815944
         ]
        }
       ],
       "layout": {
        "legend": {
         "bgcolor": "#F5F6F9",
         "font": {
          "color": "#4D5663"
         }
        },
        "paper_bgcolor": "#F5F6F9",
        "plot_bgcolor": "#F5F6F9",
        "template": {
         "data": {
          "bar": [
           {
            "error_x": {
             "color": "#2a3f5f"
            },
            "error_y": {
             "color": "#2a3f5f"
            },
            "marker": {
             "line": {
              "color": "#E5ECF6",
              "width": 0.5
             },
             "pattern": {
              "fillmode": "overlay",
              "size": 10,
              "solidity": 0.2
             }
            },
            "type": "bar"
           }
          ],
          "barpolar": [
           {
            "marker": {
             "line": {
              "color": "#E5ECF6",
              "width": 0.5
             },
             "pattern": {
              "fillmode": "overlay",
              "size": 10,
              "solidity": 0.2
             }
            },
            "type": "barpolar"
           }
          ],
          "carpet": [
           {
            "aaxis": {
             "endlinecolor": "#2a3f5f",
             "gridcolor": "white",
             "linecolor": "white",
             "minorgridcolor": "white",
             "startlinecolor": "#2a3f5f"
            },
            "baxis": {
             "endlinecolor": "#2a3f5f",
             "gridcolor": "white",
             "linecolor": "white",
             "minorgridcolor": "white",
             "startlinecolor": "#2a3f5f"
            },
            "type": "carpet"
           }
          ],
          "choropleth": [
           {
            "colorbar": {
             "outlinewidth": 0,
             "ticks": ""
            },
            "type": "choropleth"
           }
          ],
          "contour": [
           {
            "colorbar": {
             "outlinewidth": 0,
             "ticks": ""
            },
            "colorscale": [
             [
              0,
              "#0d0887"
             ],
             [
              0.1111111111111111,
              "#46039f"
             ],
             [
              0.2222222222222222,
              "#7201a8"
             ],
             [
              0.3333333333333333,
              "#9c179e"
             ],
             [
              0.4444444444444444,
              "#bd3786"
             ],
             [
              0.5555555555555556,
              "#d8576b"
             ],
             [
              0.6666666666666666,
              "#ed7953"
             ],
             [
              0.7777777777777778,
              "#fb9f3a"
             ],
             [
              0.8888888888888888,
              "#fdca26"
             ],
             [
              1,
              "#f0f921"
             ]
            ],
            "type": "contour"
           }
          ],
          "contourcarpet": [
           {
            "colorbar": {
             "outlinewidth": 0,
             "ticks": ""
            },
            "type": "contourcarpet"
           }
          ],
          "heatmap": [
           {
            "colorbar": {
             "outlinewidth": 0,
             "ticks": ""
            },
            "colorscale": [
             [
              0,
              "#0d0887"
             ],
             [
              0.1111111111111111,
              "#46039f"
             ],
             [
              0.2222222222222222,
              "#7201a8"
             ],
             [
              0.3333333333333333,
              "#9c179e"
             ],
             [
              0.4444444444444444,
              "#bd3786"
             ],
             [
              0.5555555555555556,
              "#d8576b"
             ],
             [
              0.6666666666666666,
              "#ed7953"
             ],
             [
              0.7777777777777778,
              "#fb9f3a"
             ],
             [
              0.8888888888888888,
              "#fdca26"
             ],
             [
              1,
              "#f0f921"
             ]
            ],
            "type": "heatmap"
           }
          ],
          "heatmapgl": [
           {
            "colorbar": {
             "outlinewidth": 0,
             "ticks": ""
            },
            "colorscale": [
             [
              0,
              "#0d0887"
             ],
             [
              0.1111111111111111,
              "#46039f"
             ],
             [
              0.2222222222222222,
              "#7201a8"
             ],
             [
              0.3333333333333333,
              "#9c179e"
             ],
             [
              0.4444444444444444,
              "#bd3786"
             ],
             [
              0.5555555555555556,
              "#d8576b"
             ],
             [
              0.6666666666666666,
              "#ed7953"
             ],
             [
              0.7777777777777778,
              "#fb9f3a"
             ],
             [
              0.8888888888888888,
              "#fdca26"
             ],
             [
              1,
              "#f0f921"
             ]
            ],
            "type": "heatmapgl"
           }
          ],
          "histogram": [
           {
            "marker": {
             "pattern": {
              "fillmode": "overlay",
              "size": 10,
              "solidity": 0.2
             }
            },
            "type": "histogram"
           }
          ],
          "histogram2d": [
           {
            "colorbar": {
             "outlinewidth": 0,
             "ticks": ""
            },
            "colorscale": [
             [
              0,
              "#0d0887"
             ],
             [
              0.1111111111111111,
              "#46039f"
             ],
             [
              0.2222222222222222,
              "#7201a8"
             ],
             [
              0.3333333333333333,
              "#9c179e"
             ],
             [
              0.4444444444444444,
              "#bd3786"
             ],
             [
              0.5555555555555556,
              "#d8576b"
             ],
             [
              0.6666666666666666,
              "#ed7953"
             ],
             [
              0.7777777777777778,
              "#fb9f3a"
             ],
             [
              0.8888888888888888,
              "#fdca26"
             ],
             [
              1,
              "#f0f921"
             ]
            ],
            "type": "histogram2d"
           }
          ],
          "histogram2dcontour": [
           {
            "colorbar": {
             "outlinewidth": 0,
             "ticks": ""
            },
            "colorscale": [
             [
              0,
              "#0d0887"
             ],
             [
              0.1111111111111111,
              "#46039f"
             ],
             [
              0.2222222222222222,
              "#7201a8"
             ],
             [
              0.3333333333333333,
              "#9c179e"
             ],
             [
              0.4444444444444444,
              "#bd3786"
             ],
             [
              0.5555555555555556,
              "#d8576b"
             ],
             [
              0.6666666666666666,
              "#ed7953"
             ],
             [
              0.7777777777777778,
              "#fb9f3a"
             ],
             [
              0.8888888888888888,
              "#fdca26"
             ],
             [
              1,
              "#f0f921"
             ]
            ],
            "type": "histogram2dcontour"
           }
          ],
          "mesh3d": [
           {
            "colorbar": {
             "outlinewidth": 0,
             "ticks": ""
            },
            "type": "mesh3d"
           }
          ],
          "parcoords": [
           {
            "line": {
             "colorbar": {
              "outlinewidth": 0,
              "ticks": ""
             }
            },
            "type": "parcoords"
           }
          ],
          "pie": [
           {
            "automargin": true,
            "type": "pie"
           }
          ],
          "scatter": [
           {
            "fillpattern": {
             "fillmode": "overlay",
             "size": 10,
             "solidity": 0.2
            },
            "type": "scatter"
           }
          ],
          "scatter3d": [
           {
            "line": {
             "colorbar": {
              "outlinewidth": 0,
              "ticks": ""
             }
            },
            "marker": {
             "colorbar": {
              "outlinewidth": 0,
              "ticks": ""
             }
            },
            "type": "scatter3d"
           }
          ],
          "scattercarpet": [
           {
            "marker": {
             "colorbar": {
              "outlinewidth": 0,
              "ticks": ""
             }
            },
            "type": "scattercarpet"
           }
          ],
          "scattergeo": [
           {
            "marker": {
             "colorbar": {
              "outlinewidth": 0,
              "ticks": ""
             }
            },
            "type": "scattergeo"
           }
          ],
          "scattergl": [
           {
            "marker": {
             "colorbar": {
              "outlinewidth": 0,
              "ticks": ""
             }
            },
            "type": "scattergl"
           }
          ],
          "scattermapbox": [
           {
            "marker": {
             "colorbar": {
              "outlinewidth": 0,
              "ticks": ""
             }
            },
            "type": "scattermapbox"
           }
          ],
          "scatterpolar": [
           {
            "marker": {
             "colorbar": {
              "outlinewidth": 0,
              "ticks": ""
             }
            },
            "type": "scatterpolar"
           }
          ],
          "scatterpolargl": [
           {
            "marker": {
             "colorbar": {
              "outlinewidth": 0,
              "ticks": ""
             }
            },
            "type": "scatterpolargl"
           }
          ],
          "scatterternary": [
           {
            "marker": {
             "colorbar": {
              "outlinewidth": 0,
              "ticks": ""
             }
            },
            "type": "scatterternary"
           }
          ],
          "surface": [
           {
            "colorbar": {
             "outlinewidth": 0,
             "ticks": ""
            },
            "colorscale": [
             [
              0,
              "#0d0887"
             ],
             [
              0.1111111111111111,
              "#46039f"
             ],
             [
              0.2222222222222222,
              "#7201a8"
             ],
             [
              0.3333333333333333,
              "#9c179e"
             ],
             [
              0.4444444444444444,
              "#bd3786"
             ],
             [
              0.5555555555555556,
              "#d8576b"
             ],
             [
              0.6666666666666666,
              "#ed7953"
             ],
             [
              0.7777777777777778,
              "#fb9f3a"
             ],
             [
              0.8888888888888888,
              "#fdca26"
             ],
             [
              1,
              "#f0f921"
             ]
            ],
            "type": "surface"
           }
          ],
          "table": [
           {
            "cells": {
             "fill": {
              "color": "#EBF0F8"
             },
             "line": {
              "color": "white"
             }
            },
            "header": {
             "fill": {
              "color": "#C8D4E3"
             },
             "line": {
              "color": "white"
             }
            },
            "type": "table"
           }
          ]
         },
         "layout": {
          "annotationdefaults": {
           "arrowcolor": "#2a3f5f",
           "arrowhead": 0,
           "arrowwidth": 1
          },
          "autotypenumbers": "strict",
          "coloraxis": {
           "colorbar": {
            "outlinewidth": 0,
            "ticks": ""
           }
          },
          "colorscale": {
           "diverging": [
            [
             0,
             "#8e0152"
            ],
            [
             0.1,
             "#c51b7d"
            ],
            [
             0.2,
             "#de77ae"
            ],
            [
             0.3,
             "#f1b6da"
            ],
            [
             0.4,
             "#fde0ef"
            ],
            [
             0.5,
             "#f7f7f7"
            ],
            [
             0.6,
             "#e6f5d0"
            ],
            [
             0.7,
             "#b8e186"
            ],
            [
             0.8,
             "#7fbc41"
            ],
            [
             0.9,
             "#4d9221"
            ],
            [
             1,
             "#276419"
            ]
           ],
           "sequential": [
            [
             0,
             "#0d0887"
            ],
            [
             0.1111111111111111,
             "#46039f"
            ],
            [
             0.2222222222222222,
             "#7201a8"
            ],
            [
             0.3333333333333333,
             "#9c179e"
            ],
            [
             0.4444444444444444,
             "#bd3786"
            ],
            [
             0.5555555555555556,
             "#d8576b"
            ],
            [
             0.6666666666666666,
             "#ed7953"
            ],
            [
             0.7777777777777778,
             "#fb9f3a"
            ],
            [
             0.8888888888888888,
             "#fdca26"
            ],
            [
             1,
             "#f0f921"
            ]
           ],
           "sequentialminus": [
            [
             0,
             "#0d0887"
            ],
            [
             0.1111111111111111,
             "#46039f"
            ],
            [
             0.2222222222222222,
             "#7201a8"
            ],
            [
             0.3333333333333333,
             "#9c179e"
            ],
            [
             0.4444444444444444,
             "#bd3786"
            ],
            [
             0.5555555555555556,
             "#d8576b"
            ],
            [
             0.6666666666666666,
             "#ed7953"
            ],
            [
             0.7777777777777778,
             "#fb9f3a"
            ],
            [
             0.8888888888888888,
             "#fdca26"
            ],
            [
             1,
             "#f0f921"
            ]
           ]
          },
          "colorway": [
           "#636efa",
           "#EF553B",
           "#00cc96",
           "#ab63fa",
           "#FFA15A",
           "#19d3f3",
           "#FF6692",
           "#B6E880",
           "#FF97FF",
           "#FECB52"
          ],
          "font": {
           "color": "#2a3f5f"
          },
          "geo": {
           "bgcolor": "white",
           "lakecolor": "white",
           "landcolor": "#E5ECF6",
           "showlakes": true,
           "showland": true,
           "subunitcolor": "white"
          },
          "hoverlabel": {
           "align": "left"
          },
          "hovermode": "closest",
          "mapbox": {
           "style": "light"
          },
          "paper_bgcolor": "white",
          "plot_bgcolor": "#E5ECF6",
          "polar": {
           "angularaxis": {
            "gridcolor": "white",
            "linecolor": "white",
            "ticks": ""
           },
           "bgcolor": "#E5ECF6",
           "radialaxis": {
            "gridcolor": "white",
            "linecolor": "white",
            "ticks": ""
           }
          },
          "scene": {
           "xaxis": {
            "backgroundcolor": "#E5ECF6",
            "gridcolor": "white",
            "gridwidth": 2,
            "linecolor": "white",
            "showbackground": true,
            "ticks": "",
            "zerolinecolor": "white"
           },
           "yaxis": {
            "backgroundcolor": "#E5ECF6",
            "gridcolor": "white",
            "gridwidth": 2,
            "linecolor": "white",
            "showbackground": true,
            "ticks": "",
            "zerolinecolor": "white"
           },
           "zaxis": {
            "backgroundcolor": "#E5ECF6",
            "gridcolor": "white",
            "gridwidth": 2,
            "linecolor": "white",
            "showbackground": true,
            "ticks": "",
            "zerolinecolor": "white"
           }
          },
          "shapedefaults": {
           "line": {
            "color": "#2a3f5f"
           }
          },
          "ternary": {
           "aaxis": {
            "gridcolor": "white",
            "linecolor": "white",
            "ticks": ""
           },
           "baxis": {
            "gridcolor": "white",
            "linecolor": "white",
            "ticks": ""
           },
           "bgcolor": "#E5ECF6",
           "caxis": {
            "gridcolor": "white",
            "linecolor": "white",
            "ticks": ""
           }
          },
          "title": {
           "x": 0.05
          },
          "xaxis": {
           "automargin": true,
           "gridcolor": "white",
           "linecolor": "white",
           "ticks": "",
           "title": {
            "standoff": 15
           },
           "zerolinecolor": "white",
           "zerolinewidth": 2
          },
          "yaxis": {
           "automargin": true,
           "gridcolor": "white",
           "linecolor": "white",
           "ticks": "",
           "title": {
            "standoff": 15
           },
           "zerolinecolor": "white",
           "zerolinewidth": 2
          }
         }
        },
        "title": {
         "font": {
          "color": "#4D5663"
         }
        },
        "xaxis": {
         "gridcolor": "#E1E5ED",
         "showgrid": true,
         "tickfont": {
          "color": "#4D5663"
         },
         "title": {
          "font": {
           "color": "#4D5663"
          },
          "text": ""
         },
         "zerolinecolor": "#E1E5ED"
        },
        "yaxis": {
         "gridcolor": "#E1E5ED",
         "showgrid": true,
         "tickfont": {
          "color": "#4D5663"
         },
         "title": {
          "font": {
           "color": "#4D5663"
          },
          "text": ""
         },
         "zerolinecolor": "#E1E5ED"
        }
       }
      },
      "text/html": [
       "<div>                            <div id=\"55795adc-b3c2-4c68-b928-1d5553144add\" class=\"plotly-graph-div\" style=\"height:525px; width:100%;\"></div>            <script type=\"text/javascript\">                require([\"plotly\"], function(Plotly) {                    window.PLOTLYENV=window.PLOTLYENV || {};\n",
       "                    window.PLOTLYENV.BASE_URL='https://plot.ly';                                    if (document.getElementById(\"55795adc-b3c2-4c68-b928-1d5553144add\")) {                    Plotly.newPlot(                        \"55795adc-b3c2-4c68-b928-1d5553144add\",                        [{\"marker\":{\"color\":[\"rgb(255, 153, 51)\",\"rgb(55, 128, 191)\",\"rgb(50, 171, 96)\",\"rgb(128, 0, 128)\",\"rgb(219, 64, 82)\",\"rgb(0, 128, 128)\",\"rgb(255, 255, 51)\",\"rgb(128, 128, 0)\",\"rgb(251, 128, 114)\",\"rgb(128, 177, 211)\"],\"line\":{\"width\":1.3},\"size\":[80,13,31,112,106,71,54,63,44,74,42,77,37,26,58,76,40,23,61,101,63,45,69,12,65,58,83,44,64,47,58,56,78,65,40,43,44,29,78,50,69,75,59,54,37,65,77,61,25,48,70,80,43,38,82,19,57,47,45,72,67,86,90,79,61,46,57,15,43,55,49,71,58,84,58,67,70,29,63,83,55,40,46,74,64,75,38,66,88,56,37,64,60,52,66,40,52,60,80,63],\"symbol\":\"circle\"},\"mode\":\"markers\",\"text\":\"\",\"x\":[-1.102157375614898,2.2865785896451056,0.4566434341878121,-0.4892334021311478,-2.130815216314164,0.34465161154860385,-0.49941355380787994,-0.07831088917902136,0.602111357449041,1.836312051939149,0.68653066400194,0.7272723288016878,-0.561985964001304,0.4749032085110548,-0.3943567537206873,-1.7812394531296598,-1.55016940753543,-0.8961215905737038,1.0396020876583527,-0.37499036096735866,-0.6078496437501864,-0.6540352795879921,1.5427968616244505,-0.7479992770240803,1.7736972039880796,-1.4616429884856508,0.3784126846667629,-1.2081394791450908,0.7602952072803093,0.43055980891856077,-0.3374320242569034,0.7706767098237173,-0.5463347726811589,0.033762295791289997,0.4990878712300638,1.1825854932025412,0.015844384267101563,-1.129231072418561,-2.7533196079610387,0.22159763708817423,-1.2118605238189528,1.2440218907966467,0.8870437340948487,-1.7602496137961745,-0.8038441161106656,0.43123877184878656,-0.6856111512549908,-0.14699128767403657,-2.2514927775466202,0.3810256579120371,-0.33399073703812215,0.8568310968852303,-1.7591695315282843,0.07139481710721052,-1.4989835427890368,-1.323758692382063,-1.275742543750863,0.511986491292987,-0.16147259749940288,-0.1400937674342753,0.24969654201492142,-0.43518197142108034,-1.3506570771227986,-1.5001516208144998,-0.25444948192148775,-0.6355008883387203,-0.9058493729728965,-0.016032752088665357,0.9103607278606926,0.18871594428745314,1.1671677613599445,1.4371250285751684,0.8337283933215233,0.33254422193403543,0.2537912153759133,-0.8145160628787136,-0.33293900872633314,1.7928098015898093,-0.11558511994838473,-0.5036239283403839,-0.34024420316716014,1.270442607496094,-1.9521088354455611,0.5721799161997925,-0.32676088375004936,0.23829216361816088,-0.6638810319586461,0.6261001378621326,-0.9532031426639209,-0.3028686448220451,-0.03323881015307786,-2.2163813272149397,1.2248574758896162,-1.8261008669183256,0.9927307241686352,-0.4144905926853598,0.7644577521814288,3.3897490150859912,0.9981217162595685,0.2925472587199806],\"y\":[-0.9973385497255842,0.7837905097733299,0.4114202226020897,-1.382519415517844,-0.02544616448446813,1.0186393009420072,0.8558566196560897,-0.42531885825941645,-0.9864996976021687,-0.31840672611245,0.8916014391327218,0.09513064008948738,0.14918112600259187,0.7532993749218637,-0.4276448581127374,-0.07818602716472968,0.9817795497961357,0.5064226646157375,0.4449416714969202,-0.1941305620600468,-1.137333836757778,-0.728364472625442,0.4034551322996591,1.1872038136253862,1.072600861716576,0.876639868363512,0.7988727597172739,0.17336187404735537,-0.9097532082084129,0.012533433013292253,-0.9104096422704079,-2.929051044968031,-1.5106886534736783,-0.7430555641032094,-1.4288854189909295,1.510197624220518,-0.6236299601792391,-1.6305903851678578,1.4970753518573583,-0.6801286472206881,-0.979692810847835,-3.918868670448135,-0.06330189856562465,-0.47566846234842475,-0.9748506827222614,-1.4239641353896577,0.8518918795735684,-0.20012233219710165,1.3231285909537631,-0.20398723136228153,1.7077088102632907,0.8657554903375352,1.5481392063415123,-0.6105570758624655,1.0654680017823588,-1.0570752290932843,-0.6838031775909165,1.2275931051344096,0.04526621790472486,-1.554941047418443,-0.1492809321534578,-1.8643687527914203,1.3024373203496495,0.7601856921246877,-0.4462509524860536,0.48042464024541787,-1.6502678369241321,-0.14019041774634128,0.8566240306940461,0.43174665495270187,0.3556317639900785,-0.40977523162979523,0.08712426831847198,-0.7085711753892611,-0.2033454347552216,-0.4073598964847509,0.6744578923123841,-1.1400810189635784,2.789963286808077,0.7151297181599133,-0.1850065927724431,-0.08078798544387067,0.2943397056056416,-0.4663434080260867,0.4482366769986187,0.47513966341491815,0.5414854165226178,0.26065911224187877,-2.812297320953207,-1.1255949120105435,-2.505700444917874,-0.46977512258405213,1.740423220809751,-1.5441909687392934,-0.3290211676343685,1.2341058228228599,1.4116520784909827,-0.15889216025557068,0.3652472845120724,-0.9506594561815944],\"type\":\"scatter\"}],                        {\"legend\":{\"bgcolor\":\"#F5F6F9\",\"font\":{\"color\":\"#4D5663\"}},\"paper_bgcolor\":\"#F5F6F9\",\"plot_bgcolor\":\"#F5F6F9\",\"template\":{\"data\":{\"barpolar\":[{\"marker\":{\"line\":{\"color\":\"#E5ECF6\",\"width\":0.5},\"pattern\":{\"fillmode\":\"overlay\",\"size\":10,\"solidity\":0.2}},\"type\":\"barpolar\"}],\"bar\":[{\"error_x\":{\"color\":\"#2a3f5f\"},\"error_y\":{\"color\":\"#2a3f5f\"},\"marker\":{\"line\":{\"color\":\"#E5ECF6\",\"width\":0.5},\"pattern\":{\"fillmode\":\"overlay\",\"size\":10,\"solidity\":0.2}},\"type\":\"bar\"}],\"carpet\":[{\"aaxis\":{\"endlinecolor\":\"#2a3f5f\",\"gridcolor\":\"white\",\"linecolor\":\"white\",\"minorgridcolor\":\"white\",\"startlinecolor\":\"#2a3f5f\"},\"baxis\":{\"endlinecolor\":\"#2a3f5f\",\"gridcolor\":\"white\",\"linecolor\":\"white\",\"minorgridcolor\":\"white\",\"startlinecolor\":\"#2a3f5f\"},\"type\":\"carpet\"}],\"choropleth\":[{\"colorbar\":{\"outlinewidth\":0,\"ticks\":\"\"},\"type\":\"choropleth\"}],\"contourcarpet\":[{\"colorbar\":{\"outlinewidth\":0,\"ticks\":\"\"},\"type\":\"contourcarpet\"}],\"contour\":[{\"colorbar\":{\"outlinewidth\":0,\"ticks\":\"\"},\"colorscale\":[[0.0,\"#0d0887\"],[0.1111111111111111,\"#46039f\"],[0.2222222222222222,\"#7201a8\"],[0.3333333333333333,\"#9c179e\"],[0.4444444444444444,\"#bd3786\"],[0.5555555555555556,\"#d8576b\"],[0.6666666666666666,\"#ed7953\"],[0.7777777777777778,\"#fb9f3a\"],[0.8888888888888888,\"#fdca26\"],[1.0,\"#f0f921\"]],\"type\":\"contour\"}],\"heatmapgl\":[{\"colorbar\":{\"outlinewidth\":0,\"ticks\":\"\"},\"colorscale\":[[0.0,\"#0d0887\"],[0.1111111111111111,\"#46039f\"],[0.2222222222222222,\"#7201a8\"],[0.3333333333333333,\"#9c179e\"],[0.4444444444444444,\"#bd3786\"],[0.5555555555555556,\"#d8576b\"],[0.6666666666666666,\"#ed7953\"],[0.7777777777777778,\"#fb9f3a\"],[0.8888888888888888,\"#fdca26\"],[1.0,\"#f0f921\"]],\"type\":\"heatmapgl\"}],\"heatmap\":[{\"colorbar\":{\"outlinewidth\":0,\"ticks\":\"\"},\"colorscale\":[[0.0,\"#0d0887\"],[0.1111111111111111,\"#46039f\"],[0.2222222222222222,\"#7201a8\"],[0.3333333333333333,\"#9c179e\"],[0.4444444444444444,\"#bd3786\"],[0.5555555555555556,\"#d8576b\"],[0.6666666666666666,\"#ed7953\"],[0.7777777777777778,\"#fb9f3a\"],[0.8888888888888888,\"#fdca26\"],[1.0,\"#f0f921\"]],\"type\":\"heatmap\"}],\"histogram2dcontour\":[{\"colorbar\":{\"outlinewidth\":0,\"ticks\":\"\"},\"colorscale\":[[0.0,\"#0d0887\"],[0.1111111111111111,\"#46039f\"],[0.2222222222222222,\"#7201a8\"],[0.3333333333333333,\"#9c179e\"],[0.4444444444444444,\"#bd3786\"],[0.5555555555555556,\"#d8576b\"],[0.6666666666666666,\"#ed7953\"],[0.7777777777777778,\"#fb9f3a\"],[0.8888888888888888,\"#fdca26\"],[1.0,\"#f0f921\"]],\"type\":\"histogram2dcontour\"}],\"histogram2d\":[{\"colorbar\":{\"outlinewidth\":0,\"ticks\":\"\"},\"colorscale\":[[0.0,\"#0d0887\"],[0.1111111111111111,\"#46039f\"],[0.2222222222222222,\"#7201a8\"],[0.3333333333333333,\"#9c179e\"],[0.4444444444444444,\"#bd3786\"],[0.5555555555555556,\"#d8576b\"],[0.6666666666666666,\"#ed7953\"],[0.7777777777777778,\"#fb9f3a\"],[0.8888888888888888,\"#fdca26\"],[1.0,\"#f0f921\"]],\"type\":\"histogram2d\"}],\"histogram\":[{\"marker\":{\"pattern\":{\"fillmode\":\"overlay\",\"size\":10,\"solidity\":0.2}},\"type\":\"histogram\"}],\"mesh3d\":[{\"colorbar\":{\"outlinewidth\":0,\"ticks\":\"\"},\"type\":\"mesh3d\"}],\"parcoords\":[{\"line\":{\"colorbar\":{\"outlinewidth\":0,\"ticks\":\"\"}},\"type\":\"parcoords\"}],\"pie\":[{\"automargin\":true,\"type\":\"pie\"}],\"scatter3d\":[{\"line\":{\"colorbar\":{\"outlinewidth\":0,\"ticks\":\"\"}},\"marker\":{\"colorbar\":{\"outlinewidth\":0,\"ticks\":\"\"}},\"type\":\"scatter3d\"}],\"scattercarpet\":[{\"marker\":{\"colorbar\":{\"outlinewidth\":0,\"ticks\":\"\"}},\"type\":\"scattercarpet\"}],\"scattergeo\":[{\"marker\":{\"colorbar\":{\"outlinewidth\":0,\"ticks\":\"\"}},\"type\":\"scattergeo\"}],\"scattergl\":[{\"marker\":{\"colorbar\":{\"outlinewidth\":0,\"ticks\":\"\"}},\"type\":\"scattergl\"}],\"scattermapbox\":[{\"marker\":{\"colorbar\":{\"outlinewidth\":0,\"ticks\":\"\"}},\"type\":\"scattermapbox\"}],\"scatterpolargl\":[{\"marker\":{\"colorbar\":{\"outlinewidth\":0,\"ticks\":\"\"}},\"type\":\"scatterpolargl\"}],\"scatterpolar\":[{\"marker\":{\"colorbar\":{\"outlinewidth\":0,\"ticks\":\"\"}},\"type\":\"scatterpolar\"}],\"scatter\":[{\"fillpattern\":{\"fillmode\":\"overlay\",\"size\":10,\"solidity\":0.2},\"type\":\"scatter\"}],\"scatterternary\":[{\"marker\":{\"colorbar\":{\"outlinewidth\":0,\"ticks\":\"\"}},\"type\":\"scatterternary\"}],\"surface\":[{\"colorbar\":{\"outlinewidth\":0,\"ticks\":\"\"},\"colorscale\":[[0.0,\"#0d0887\"],[0.1111111111111111,\"#46039f\"],[0.2222222222222222,\"#7201a8\"],[0.3333333333333333,\"#9c179e\"],[0.4444444444444444,\"#bd3786\"],[0.5555555555555556,\"#d8576b\"],[0.6666666666666666,\"#ed7953\"],[0.7777777777777778,\"#fb9f3a\"],[0.8888888888888888,\"#fdca26\"],[1.0,\"#f0f921\"]],\"type\":\"surface\"}],\"table\":[{\"cells\":{\"fill\":{\"color\":\"#EBF0F8\"},\"line\":{\"color\":\"white\"}},\"header\":{\"fill\":{\"color\":\"#C8D4E3\"},\"line\":{\"color\":\"white\"}},\"type\":\"table\"}]},\"layout\":{\"annotationdefaults\":{\"arrowcolor\":\"#2a3f5f\",\"arrowhead\":0,\"arrowwidth\":1},\"autotypenumbers\":\"strict\",\"coloraxis\":{\"colorbar\":{\"outlinewidth\":0,\"ticks\":\"\"}},\"colorscale\":{\"diverging\":[[0,\"#8e0152\"],[0.1,\"#c51b7d\"],[0.2,\"#de77ae\"],[0.3,\"#f1b6da\"],[0.4,\"#fde0ef\"],[0.5,\"#f7f7f7\"],[0.6,\"#e6f5d0\"],[0.7,\"#b8e186\"],[0.8,\"#7fbc41\"],[0.9,\"#4d9221\"],[1,\"#276419\"]],\"sequential\":[[0.0,\"#0d0887\"],[0.1111111111111111,\"#46039f\"],[0.2222222222222222,\"#7201a8\"],[0.3333333333333333,\"#9c179e\"],[0.4444444444444444,\"#bd3786\"],[0.5555555555555556,\"#d8576b\"],[0.6666666666666666,\"#ed7953\"],[0.7777777777777778,\"#fb9f3a\"],[0.8888888888888888,\"#fdca26\"],[1.0,\"#f0f921\"]],\"sequentialminus\":[[0.0,\"#0d0887\"],[0.1111111111111111,\"#46039f\"],[0.2222222222222222,\"#7201a8\"],[0.3333333333333333,\"#9c179e\"],[0.4444444444444444,\"#bd3786\"],[0.5555555555555556,\"#d8576b\"],[0.6666666666666666,\"#ed7953\"],[0.7777777777777778,\"#fb9f3a\"],[0.8888888888888888,\"#fdca26\"],[1.0,\"#f0f921\"]]},\"colorway\":[\"#636efa\",\"#EF553B\",\"#00cc96\",\"#ab63fa\",\"#FFA15A\",\"#19d3f3\",\"#FF6692\",\"#B6E880\",\"#FF97FF\",\"#FECB52\"],\"font\":{\"color\":\"#2a3f5f\"},\"geo\":{\"bgcolor\":\"white\",\"lakecolor\":\"white\",\"landcolor\":\"#E5ECF6\",\"showlakes\":true,\"showland\":true,\"subunitcolor\":\"white\"},\"hoverlabel\":{\"align\":\"left\"},\"hovermode\":\"closest\",\"mapbox\":{\"style\":\"light\"},\"paper_bgcolor\":\"white\",\"plot_bgcolor\":\"#E5ECF6\",\"polar\":{\"angularaxis\":{\"gridcolor\":\"white\",\"linecolor\":\"white\",\"ticks\":\"\"},\"bgcolor\":\"#E5ECF6\",\"radialaxis\":{\"gridcolor\":\"white\",\"linecolor\":\"white\",\"ticks\":\"\"}},\"scene\":{\"xaxis\":{\"backgroundcolor\":\"#E5ECF6\",\"gridcolor\":\"white\",\"gridwidth\":2,\"linecolor\":\"white\",\"showbackground\":true,\"ticks\":\"\",\"zerolinecolor\":\"white\"},\"yaxis\":{\"backgroundcolor\":\"#E5ECF6\",\"gridcolor\":\"white\",\"gridwidth\":2,\"linecolor\":\"white\",\"showbackground\":true,\"ticks\":\"\",\"zerolinecolor\":\"white\"},\"zaxis\":{\"backgroundcolor\":\"#E5ECF6\",\"gridcolor\":\"white\",\"gridwidth\":2,\"linecolor\":\"white\",\"showbackground\":true,\"ticks\":\"\",\"zerolinecolor\":\"white\"}},\"shapedefaults\":{\"line\":{\"color\":\"#2a3f5f\"}},\"ternary\":{\"aaxis\":{\"gridcolor\":\"white\",\"linecolor\":\"white\",\"ticks\":\"\"},\"baxis\":{\"gridcolor\":\"white\",\"linecolor\":\"white\",\"ticks\":\"\"},\"bgcolor\":\"#E5ECF6\",\"caxis\":{\"gridcolor\":\"white\",\"linecolor\":\"white\",\"ticks\":\"\"}},\"title\":{\"x\":0.05},\"xaxis\":{\"automargin\":true,\"gridcolor\":\"white\",\"linecolor\":\"white\",\"ticks\":\"\",\"title\":{\"standoff\":15},\"zerolinecolor\":\"white\",\"zerolinewidth\":2},\"yaxis\":{\"automargin\":true,\"gridcolor\":\"white\",\"linecolor\":\"white\",\"ticks\":\"\",\"title\":{\"standoff\":15},\"zerolinecolor\":\"white\",\"zerolinewidth\":2}}},\"title\":{\"font\":{\"color\":\"#4D5663\"}},\"xaxis\":{\"gridcolor\":\"#E1E5ED\",\"showgrid\":true,\"tickfont\":{\"color\":\"#4D5663\"},\"title\":{\"font\":{\"color\":\"#4D5663\"},\"text\":\"\"},\"zerolinecolor\":\"#E1E5ED\"},\"yaxis\":{\"gridcolor\":\"#E1E5ED\",\"showgrid\":true,\"tickfont\":{\"color\":\"#4D5663\"},\"title\":{\"font\":{\"color\":\"#4D5663\"},\"text\":\"\"},\"zerolinecolor\":\"#E1E5ED\"}},                        {\"showLink\": true, \"linkText\": \"Export to plot.ly\", \"plotlyServerURL\": \"https://plot.ly\", \"responsive\": true}                    ).then(function(){\n",
       "                            \n",
       "var gd = document.getElementById('55795adc-b3c2-4c68-b928-1d5553144add');\n",
       "var x = new MutationObserver(function (mutations, observer) {{\n",
       "        var display = window.getComputedStyle(gd).display;\n",
       "        if (!display || display === 'none') {{\n",
       "            console.log([gd, 'removed!']);\n",
       "            Plotly.purge(gd);\n",
       "            observer.disconnect();\n",
       "        }}\n",
       "}});\n",
       "\n",
       "// Listen for the removal of the full notebook cells\n",
       "var notebookContainer = gd.closest('#notebook-container');\n",
       "if (notebookContainer) {{\n",
       "    x.observe(notebookContainer, {childList: true});\n",
       "}}\n",
       "\n",
       "// Listen for the clearing of the current output cell\n",
       "var outputEl = gd.closest('.output');\n",
       "if (outputEl) {{\n",
       "    x.observe(outputEl, {childList: true});\n",
       "}}\n",
       "\n",
       "                        })                };                });            </script>        </div>"
      ]
     },
     "metadata": {},
     "output_type": "display_data"
    }
   ],
   "source": [
    "df.iplot(kind='bubble',x='A',y='B',size='C')"
   ]
  },
  {
   "cell_type": "markdown",
   "metadata": {},
   "source": [
    "## scatter_matrix()\n",
    "\n",
    "Similar to sns.pairplot()"
   ]
  },
  {
   "cell_type": "code",
   "execution_count": 26,
   "metadata": {},
   "outputs": [
    {
     "data": {
      "application/vnd.plotly.v1+json": {
       "config": {
        "linkText": "Export to plot.ly",
        "plotlyServerURL": "https://plot.ly",
        "showLink": true
       },
       "data": [
        {
         "histfunc": "count",
         "histnorm": "",
         "marker": {
          "color": "rgba(255, 153, 51, 1.0)",
          "line": {
           "color": "#4D5663",
           "width": 1.3
          }
         },
         "name": "A",
         "nbinsx": 10,
         "opacity": 0.8,
         "orientation": "v",
         "type": "histogram",
         "x": [
          -1.102157375614898,
          2.2865785896451056,
          0.4566434341878121,
          -0.4892334021311478,
          -2.130815216314164,
          0.34465161154860385,
          -0.49941355380787994,
          -0.07831088917902136,
          0.602111357449041,
          1.836312051939149,
          0.68653066400194,
          0.7272723288016878,
          -0.561985964001304,
          0.4749032085110548,
          -0.3943567537206873,
          -1.7812394531296598,
          -1.55016940753543,
          -0.8961215905737038,
          1.0396020876583527,
          -0.37499036096735866,
          -0.6078496437501864,
          -0.6540352795879921,
          1.5427968616244505,
          -0.7479992770240803,
          1.7736972039880796,
          -1.4616429884856508,
          0.3784126846667629,
          -1.2081394791450908,
          0.7602952072803093,
          0.43055980891856077,
          -0.3374320242569034,
          0.7706767098237173,
          -0.5463347726811589,
          0.033762295791289997,
          0.4990878712300638,
          1.1825854932025412,
          0.015844384267101563,
          -1.129231072418561,
          -2.7533196079610387,
          0.22159763708817423,
          -1.2118605238189528,
          1.2440218907966467,
          0.8870437340948487,
          -1.7602496137961745,
          -0.8038441161106656,
          0.43123877184878656,
          -0.6856111512549908,
          -0.14699128767403657,
          -2.2514927775466202,
          0.3810256579120371,
          -0.33399073703812215,
          0.8568310968852303,
          -1.7591695315282843,
          0.07139481710721052,
          -1.4989835427890368,
          -1.323758692382063,
          -1.275742543750863,
          0.511986491292987,
          -0.16147259749940288,
          -0.1400937674342753,
          0.24969654201492142,
          -0.43518197142108034,
          -1.3506570771227986,
          -1.5001516208144998,
          -0.25444948192148775,
          -0.6355008883387203,
          -0.9058493729728965,
          -0.016032752088665357,
          0.9103607278606926,
          0.18871594428745314,
          1.1671677613599445,
          1.4371250285751684,
          0.8337283933215233,
          0.33254422193403543,
          0.2537912153759133,
          -0.8145160628787136,
          -0.33293900872633314,
          1.7928098015898093,
          -0.11558511994838473,
          -0.5036239283403839,
          -0.34024420316716014,
          1.270442607496094,
          -1.9521088354455611,
          0.5721799161997925,
          -0.32676088375004936,
          0.23829216361816088,
          -0.6638810319586461,
          0.6261001378621326,
          -0.9532031426639209,
          -0.3028686448220451,
          -0.03323881015307786,
          -2.2163813272149397,
          1.2248574758896162,
          -1.8261008669183256,
          0.9927307241686352,
          -0.4144905926853598,
          0.7644577521814288,
          3.3897490150859912,
          0.9981217162595685,
          0.2925472587199806
         ],
         "xaxis": "x",
         "yaxis": "y"
        },
        {
         "line": {
          "color": "rgba(128, 128, 128, 1.0)",
          "dash": "solid",
          "shape": "linear",
          "width": 1.3
         },
         "marker": {
          "size": 2,
          "symbol": "circle"
         },
         "mode": "markers",
         "name": "A",
         "text": "",
         "type": "scatter",
         "x": [
          -0.9973385497255842,
          0.7837905097733299,
          0.4114202226020897,
          -1.382519415517844,
          -0.02544616448446813,
          1.0186393009420072,
          0.8558566196560897,
          -0.42531885825941645,
          -0.9864996976021687,
          -0.31840672611245,
          0.8916014391327218,
          0.09513064008948738,
          0.14918112600259187,
          0.7532993749218637,
          -0.4276448581127374,
          -0.07818602716472968,
          0.9817795497961357,
          0.5064226646157375,
          0.4449416714969202,
          -0.1941305620600468,
          -1.137333836757778,
          -0.728364472625442,
          0.4034551322996591,
          1.1872038136253862,
          1.072600861716576,
          0.876639868363512,
          0.7988727597172739,
          0.17336187404735537,
          -0.9097532082084129,
          0.012533433013292253,
          -0.9104096422704079,
          -2.929051044968031,
          -1.5106886534736783,
          -0.7430555641032094,
          -1.4288854189909295,
          1.510197624220518,
          -0.6236299601792391,
          -1.6305903851678578,
          1.4970753518573583,
          -0.6801286472206881,
          -0.979692810847835,
          -3.918868670448135,
          -0.06330189856562465,
          -0.47566846234842475,
          -0.9748506827222614,
          -1.4239641353896577,
          0.8518918795735684,
          -0.20012233219710165,
          1.3231285909537631,
          -0.20398723136228153,
          1.7077088102632907,
          0.8657554903375352,
          1.5481392063415123,
          -0.6105570758624655,
          1.0654680017823588,
          -1.0570752290932843,
          -0.6838031775909165,
          1.2275931051344096,
          0.04526621790472486,
          -1.554941047418443,
          -0.1492809321534578,
          -1.8643687527914203,
          1.3024373203496495,
          0.7601856921246877,
          -0.4462509524860536,
          0.48042464024541787,
          -1.6502678369241321,
          -0.14019041774634128,
          0.8566240306940461,
          0.43174665495270187,
          0.3556317639900785,
          -0.40977523162979523,
          0.08712426831847198,
          -0.7085711753892611,
          -0.2033454347552216,
          -0.4073598964847509,
          0.6744578923123841,
          -1.1400810189635784,
          2.789963286808077,
          0.7151297181599133,
          -0.1850065927724431,
          -0.08078798544387067,
          0.2943397056056416,
          -0.4663434080260867,
          0.4482366769986187,
          0.47513966341491815,
          0.5414854165226178,
          0.26065911224187877,
          -2.812297320953207,
          -1.1255949120105435,
          -2.505700444917874,
          -0.46977512258405213,
          1.740423220809751,
          -1.5441909687392934,
          -0.3290211676343685,
          1.2341058228228599,
          1.4116520784909827,
          -0.15889216025557068,
          0.3652472845120724,
          -0.9506594561815944
         ],
         "xaxis": "x2",
         "y": [
          -1.102157375614898,
          2.2865785896451056,
          0.4566434341878121,
          -0.4892334021311478,
          -2.130815216314164,
          0.34465161154860385,
          -0.49941355380787994,
          -0.07831088917902136,
          0.602111357449041,
          1.836312051939149,
          0.68653066400194,
          0.7272723288016878,
          -0.561985964001304,
          0.4749032085110548,
          -0.3943567537206873,
          -1.7812394531296598,
          -1.55016940753543,
          -0.8961215905737038,
          1.0396020876583527,
          -0.37499036096735866,
          -0.6078496437501864,
          -0.6540352795879921,
          1.5427968616244505,
          -0.7479992770240803,
          1.7736972039880796,
          -1.4616429884856508,
          0.3784126846667629,
          -1.2081394791450908,
          0.7602952072803093,
          0.43055980891856077,
          -0.3374320242569034,
          0.7706767098237173,
          -0.5463347726811589,
          0.033762295791289997,
          0.4990878712300638,
          1.1825854932025412,
          0.015844384267101563,
          -1.129231072418561,
          -2.7533196079610387,
          0.22159763708817423,
          -1.2118605238189528,
          1.2440218907966467,
          0.8870437340948487,
          -1.7602496137961745,
          -0.8038441161106656,
          0.43123877184878656,
          -0.6856111512549908,
          -0.14699128767403657,
          -2.2514927775466202,
          0.3810256579120371,
          -0.33399073703812215,
          0.8568310968852303,
          -1.7591695315282843,
          0.07139481710721052,
          -1.4989835427890368,
          -1.323758692382063,
          -1.275742543750863,
          0.511986491292987,
          -0.16147259749940288,
          -0.1400937674342753,
          0.24969654201492142,
          -0.43518197142108034,
          -1.3506570771227986,
          -1.5001516208144998,
          -0.25444948192148775,
          -0.6355008883387203,
          -0.9058493729728965,
          -0.016032752088665357,
          0.9103607278606926,
          0.18871594428745314,
          1.1671677613599445,
          1.4371250285751684,
          0.8337283933215233,
          0.33254422193403543,
          0.2537912153759133,
          -0.8145160628787136,
          -0.33293900872633314,
          1.7928098015898093,
          -0.11558511994838473,
          -0.5036239283403839,
          -0.34024420316716014,
          1.270442607496094,
          -1.9521088354455611,
          0.5721799161997925,
          -0.32676088375004936,
          0.23829216361816088,
          -0.6638810319586461,
          0.6261001378621326,
          -0.9532031426639209,
          -0.3028686448220451,
          -0.03323881015307786,
          -2.2163813272149397,
          1.2248574758896162,
          -1.8261008669183256,
          0.9927307241686352,
          -0.4144905926853598,
          0.7644577521814288,
          3.3897490150859912,
          0.9981217162595685,
          0.2925472587199806
         ],
         "yaxis": "y2"
        },
        {
         "line": {
          "color": "rgba(128, 128, 128, 1.0)",
          "dash": "solid",
          "shape": "linear",
          "width": 1.3
         },
         "marker": {
          "size": 2,
          "symbol": "circle"
         },
         "mode": "markers",
         "name": "A",
         "text": "",
         "type": "scatter",
         "x": [
          1.0864046306308808,
          -2.117706929156139,
          -1.2657032246801565,
          2.5932805861413653,
          2.3441482450765103,
          0.6674682583798568,
          -0.1835273141853627,
          0.2583844424970538,
          -0.6483423820697635,
          0.7780014941223886,
          -0.7273056251298629,
          0.9481714505443428,
          -0.9642703058807677,
          -1.4920150058769135,
          0.02725130182667299,
          0.8917637879364976,
          -0.8262170965548993,
          -1.6690165954411205,
          0.18823231071314683,
          2.0825835518223434,
          0.25609372508776107,
          -0.5797066503326798,
          0.5313731546350134,
          -2.210742751298976,
          0.33738118000910555,
          0.034452221667001584,
          1.2099898876920567,
          -0.6570404629277719,
          0.29402043054374144,
          -0.5241920937423493,
          0.014854980846425616,
          -0.0731386366180003,
          0.9889571867068379,
          0.3604640259711464,
          -0.8535715053035,
          -0.6992512941022685,
          -0.6504137323602593,
          -1.3766659426179497,
          0.9971959727729144,
          -0.3727831661676519,
          0.5383185808078945,
          0.8631952314456995,
          0.051086002734756726,
          -0.1560917038308907,
          -0.9659560123338276,
          0.3524991124365591,
          0.9329956521976098,
          0.1818301711167429,
          -1.5766343201629727,
          -0.45241297679267883,
          0.5870064590218528,
          1.0654608493611661,
          -0.6821606520130433,
          -0.9412863076083865,
          1.1843527372507086,
          -1.8526316035548385,
          -0.019601827080674504,
          -0.5126217644897857,
          -0.5825695107624571,
          0.6957071648600781,
          0.46893509264191213,
          1.3725126676973547,
          1.5730227496089528,
          1.0412155230943265,
          0.18043340981159584,
          -0.5676000862195282,
          -0.027260664542144063,
          -2.0269003381063615,
          -0.6927569999618353,
          -0.11126050196888806,
          -0.4262357879099346,
          0.6554798803349987,
          0.025909432046648626,
          1.2949286553633488,
          0.04486138850675194,
          0.45730466244142837,
          0.5951019525594958,
          -1.3688868513192267,
          0.25538098232992745,
          1.2376000160840637,
          -0.09945363962576523,
          -0.8326934913241475,
          -0.5677424132882882,
          0.7891303619630893,
          0.3185725484702451,
          0.8167727575712042,
          -0.9399469880604976,
          0.41024895923266946,
          1.444813392250273,
          -0.07045540716588254,
          -0.9748583646965104,
          0.32545272467843805,
          0.1019678286423425,
          -0.2559831301171352,
          0.42683733071148106,
          -0.8375150189862056,
          -0.2429797619330411,
          0.12781625889002363,
          1.1039018819856634,
          0.2647893086331442
         ],
         "xaxis": "x3",
         "y": [
          -1.102157375614898,
          2.2865785896451056,
          0.4566434341878121,
          -0.4892334021311478,
          -2.130815216314164,
          0.34465161154860385,
          -0.49941355380787994,
          -0.07831088917902136,
          0.602111357449041,
          1.836312051939149,
          0.68653066400194,
          0.7272723288016878,
          -0.561985964001304,
          0.4749032085110548,
          -0.3943567537206873,
          -1.7812394531296598,
          -1.55016940753543,
          -0.8961215905737038,
          1.0396020876583527,
          -0.37499036096735866,
          -0.6078496437501864,
          -0.6540352795879921,
          1.5427968616244505,
          -0.7479992770240803,
          1.7736972039880796,
          -1.4616429884856508,
          0.3784126846667629,
          -1.2081394791450908,
          0.7602952072803093,
          0.43055980891856077,
          -0.3374320242569034,
          0.7706767098237173,
          -0.5463347726811589,
          0.033762295791289997,
          0.4990878712300638,
          1.1825854932025412,
          0.015844384267101563,
          -1.129231072418561,
          -2.7533196079610387,
          0.22159763708817423,
          -1.2118605238189528,
          1.2440218907966467,
          0.8870437340948487,
          -1.7602496137961745,
          -0.8038441161106656,
          0.43123877184878656,
          -0.6856111512549908,
          -0.14699128767403657,
          -2.2514927775466202,
          0.3810256579120371,
          -0.33399073703812215,
          0.8568310968852303,
          -1.7591695315282843,
          0.07139481710721052,
          -1.4989835427890368,
          -1.323758692382063,
          -1.275742543750863,
          0.511986491292987,
          -0.16147259749940288,
          -0.1400937674342753,
          0.24969654201492142,
          -0.43518197142108034,
          -1.3506570771227986,
          -1.5001516208144998,
          -0.25444948192148775,
          -0.6355008883387203,
          -0.9058493729728965,
          -0.016032752088665357,
          0.9103607278606926,
          0.18871594428745314,
          1.1671677613599445,
          1.4371250285751684,
          0.8337283933215233,
          0.33254422193403543,
          0.2537912153759133,
          -0.8145160628787136,
          -0.33293900872633314,
          1.7928098015898093,
          -0.11558511994838473,
          -0.5036239283403839,
          -0.34024420316716014,
          1.270442607496094,
          -1.9521088354455611,
          0.5721799161997925,
          -0.32676088375004936,
          0.23829216361816088,
          -0.6638810319586461,
          0.6261001378621326,
          -0.9532031426639209,
          -0.3028686448220451,
          -0.03323881015307786,
          -2.2163813272149397,
          1.2248574758896162,
          -1.8261008669183256,
          0.9927307241686352,
          -0.4144905926853598,
          0.7644577521814288,
          3.3897490150859912,
          0.9981217162595685,
          0.2925472587199806
         ],
         "yaxis": "y3"
        },
        {
         "line": {
          "color": "rgba(128, 128, 128, 1.0)",
          "dash": "solid",
          "shape": "linear",
          "width": 1.3
         },
         "marker": {
          "size": 2,
          "symbol": "circle"
         },
         "mode": "markers",
         "name": "A",
         "text": "",
         "type": "scatter",
         "x": [
          -1.6845488099545214,
          -1.483580830558176,
          -1.351768998320571,
          -0.01670157966836927,
          -0.6498272706298257,
          -0.39693622223683184,
          -0.015384532655009716,
          -1.271129237931862,
          0.10102497598995928,
          0.9121207251319526,
          0.05784086180539316,
          2.255054723154915,
          0.6212858268150763,
          -1.310394130386014,
          -0.07459700189764103,
          1.3967088263475662,
          1.9414688534400504,
          -0.9669469098322742,
          0.00361916509855848,
          -0.37158477845966215,
          -0.6242834233416957,
          -0.8890398056750107,
          -1.0704495466281345,
          0.9413483928126101,
          0.5235587640742109,
          1.1660326604493139,
          1.0078060116319765,
          0.06433268542995113,
          1.3315683014657924,
          0.00884593567451398,
          1.3921844033026607,
          0.8349470749507719,
          0.9353675499919318,
          0.6152327356021556,
          1.2579100589134553,
          -0.08129471439641622,
          0.475648611836743,
          0.8783130574365247,
          -1.7746903391982813,
          0.6912107389909029,
          0.5951721876769813,
          0.22237846218612714,
          0.03383104583304392,
          1.0070101867672185,
          1.4897134483290622,
          1.3561509968741807,
          -0.19133532983999577,
          -1.233246554456392,
          -1.055509293044572,
          -0.6060565386044152,
          2.908426841456705,
          0.33312373132415274,
          -0.39954762035321734,
          0.9970412169219489,
          -0.6774438852411577,
          -0.2678941091274693,
          1.7198965439060192,
          0.706833219697714,
          0.8457112842518558,
          0.425614589120953,
          1.4762093604887738,
          -0.5084467555406659,
          0.45774493220204304,
          1.276061650134015,
          1.4778646002820932,
          0.346808944062437,
          -0.039594696973332795,
          0.6942260287033303,
          0.7818660492215526,
          -0.09704360574352183,
          -0.40313533285190983,
          -0.3079192098887542,
          -1.0870176893478802,
          -1.4230941947914724,
          1.4873608115316441,
          0.45367332661392235,
          1.2806929902265727,
          0.7299483418142648,
          0.8453747810682767,
          0.22874782903798577,
          0.09706130982578182,
          1.0655381359822373,
          -0.4728019326610291,
          0.06074411969392115,
          1.6291176566718677,
          1.2019842760110888,
          -0.23407452273624657,
          0.6934983218568695,
          0.6801247526209236,
          0.9831105397594796,
          0.6594950175304114,
          -2.120860562056467,
          -1.308792642192246,
          -0.3608479254804576,
          -0.8614309832746896,
          -0.2634810163783852,
          -0.08006618092105477,
          0.01876852676574486,
          0.5521719952491408,
          -1.0932665440530167
         ],
         "xaxis": "x4",
         "y": [
          -1.102157375614898,
          2.2865785896451056,
          0.4566434341878121,
          -0.4892334021311478,
          -2.130815216314164,
          0.34465161154860385,
          -0.49941355380787994,
          -0.07831088917902136,
          0.602111357449041,
          1.836312051939149,
          0.68653066400194,
          0.7272723288016878,
          -0.561985964001304,
          0.4749032085110548,
          -0.3943567537206873,
          -1.7812394531296598,
          -1.55016940753543,
          -0.8961215905737038,
          1.0396020876583527,
          -0.37499036096735866,
          -0.6078496437501864,
          -0.6540352795879921,
          1.5427968616244505,
          -0.7479992770240803,
          1.7736972039880796,
          -1.4616429884856508,
          0.3784126846667629,
          -1.2081394791450908,
          0.7602952072803093,
          0.43055980891856077,
          -0.3374320242569034,
          0.7706767098237173,
          -0.5463347726811589,
          0.033762295791289997,
          0.4990878712300638,
          1.1825854932025412,
          0.015844384267101563,
          -1.129231072418561,
          -2.7533196079610387,
          0.22159763708817423,
          -1.2118605238189528,
          1.2440218907966467,
          0.8870437340948487,
          -1.7602496137961745,
          -0.8038441161106656,
          0.43123877184878656,
          -0.6856111512549908,
          -0.14699128767403657,
          -2.2514927775466202,
          0.3810256579120371,
          -0.33399073703812215,
          0.8568310968852303,
          -1.7591695315282843,
          0.07139481710721052,
          -1.4989835427890368,
          -1.323758692382063,
          -1.275742543750863,
          0.511986491292987,
          -0.16147259749940288,
          -0.1400937674342753,
          0.24969654201492142,
          -0.43518197142108034,
          -1.3506570771227986,
          -1.5001516208144998,
          -0.25444948192148775,
          -0.6355008883387203,
          -0.9058493729728965,
          -0.016032752088665357,
          0.9103607278606926,
          0.18871594428745314,
          1.1671677613599445,
          1.4371250285751684,
          0.8337283933215233,
          0.33254422193403543,
          0.2537912153759133,
          -0.8145160628787136,
          -0.33293900872633314,
          1.7928098015898093,
          -0.11558511994838473,
          -0.5036239283403839,
          -0.34024420316716014,
          1.270442607496094,
          -1.9521088354455611,
          0.5721799161997925,
          -0.32676088375004936,
          0.23829216361816088,
          -0.6638810319586461,
          0.6261001378621326,
          -0.9532031426639209,
          -0.3028686448220451,
          -0.03323881015307786,
          -2.2163813272149397,
          1.2248574758896162,
          -1.8261008669183256,
          0.9927307241686352,
          -0.4144905926853598,
          0.7644577521814288,
          3.3897490150859912,
          0.9981217162595685,
          0.2925472587199806
         ],
         "yaxis": "y4"
        },
        {
         "line": {
          "color": "rgba(128, 128, 128, 1.0)",
          "dash": "solid",
          "shape": "linear",
          "width": 1.3
         },
         "marker": {
          "size": 2,
          "symbol": "circle"
         },
         "mode": "markers",
         "name": "B",
         "text": "",
         "type": "scatter",
         "x": [
          -1.102157375614898,
          2.2865785896451056,
          0.4566434341878121,
          -0.4892334021311478,
          -2.130815216314164,
          0.34465161154860385,
          -0.49941355380787994,
          -0.07831088917902136,
          0.602111357449041,
          1.836312051939149,
          0.68653066400194,
          0.7272723288016878,
          -0.561985964001304,
          0.4749032085110548,
          -0.3943567537206873,
          -1.7812394531296598,
          -1.55016940753543,
          -0.8961215905737038,
          1.0396020876583527,
          -0.37499036096735866,
          -0.6078496437501864,
          -0.6540352795879921,
          1.5427968616244505,
          -0.7479992770240803,
          1.7736972039880796,
          -1.4616429884856508,
          0.3784126846667629,
          -1.2081394791450908,
          0.7602952072803093,
          0.43055980891856077,
          -0.3374320242569034,
          0.7706767098237173,
          -0.5463347726811589,
          0.033762295791289997,
          0.4990878712300638,
          1.1825854932025412,
          0.015844384267101563,
          -1.129231072418561,
          -2.7533196079610387,
          0.22159763708817423,
          -1.2118605238189528,
          1.2440218907966467,
          0.8870437340948487,
          -1.7602496137961745,
          -0.8038441161106656,
          0.43123877184878656,
          -0.6856111512549908,
          -0.14699128767403657,
          -2.2514927775466202,
          0.3810256579120371,
          -0.33399073703812215,
          0.8568310968852303,
          -1.7591695315282843,
          0.07139481710721052,
          -1.4989835427890368,
          -1.323758692382063,
          -1.275742543750863,
          0.511986491292987,
          -0.16147259749940288,
          -0.1400937674342753,
          0.24969654201492142,
          -0.43518197142108034,
          -1.3506570771227986,
          -1.5001516208144998,
          -0.25444948192148775,
          -0.6355008883387203,
          -0.9058493729728965,
          -0.016032752088665357,
          0.9103607278606926,
          0.18871594428745314,
          1.1671677613599445,
          1.4371250285751684,
          0.8337283933215233,
          0.33254422193403543,
          0.2537912153759133,
          -0.8145160628787136,
          -0.33293900872633314,
          1.7928098015898093,
          -0.11558511994838473,
          -0.5036239283403839,
          -0.34024420316716014,
          1.270442607496094,
          -1.9521088354455611,
          0.5721799161997925,
          -0.32676088375004936,
          0.23829216361816088,
          -0.6638810319586461,
          0.6261001378621326,
          -0.9532031426639209,
          -0.3028686448220451,
          -0.03323881015307786,
          -2.2163813272149397,
          1.2248574758896162,
          -1.8261008669183256,
          0.9927307241686352,
          -0.4144905926853598,
          0.7644577521814288,
          3.3897490150859912,
          0.9981217162595685,
          0.2925472587199806
         ],
         "xaxis": "x5",
         "y": [
          -0.9973385497255842,
          0.7837905097733299,
          0.4114202226020897,
          -1.382519415517844,
          -0.02544616448446813,
          1.0186393009420072,
          0.8558566196560897,
          -0.42531885825941645,
          -0.9864996976021687,
          -0.31840672611245,
          0.8916014391327218,
          0.09513064008948738,
          0.14918112600259187,
          0.7532993749218637,
          -0.4276448581127374,
          -0.07818602716472968,
          0.9817795497961357,
          0.5064226646157375,
          0.4449416714969202,
          -0.1941305620600468,
          -1.137333836757778,
          -0.728364472625442,
          0.4034551322996591,
          1.1872038136253862,
          1.072600861716576,
          0.876639868363512,
          0.7988727597172739,
          0.17336187404735537,
          -0.9097532082084129,
          0.012533433013292253,
          -0.9104096422704079,
          -2.929051044968031,
          -1.5106886534736783,
          -0.7430555641032094,
          -1.4288854189909295,
          1.510197624220518,
          -0.6236299601792391,
          -1.6305903851678578,
          1.4970753518573583,
          -0.6801286472206881,
          -0.979692810847835,
          -3.918868670448135,
          -0.06330189856562465,
          -0.47566846234842475,
          -0.9748506827222614,
          -1.4239641353896577,
          0.8518918795735684,
          -0.20012233219710165,
          1.3231285909537631,
          -0.20398723136228153,
          1.7077088102632907,
          0.8657554903375352,
          1.5481392063415123,
          -0.6105570758624655,
          1.0654680017823588,
          -1.0570752290932843,
          -0.6838031775909165,
          1.2275931051344096,
          0.04526621790472486,
          -1.554941047418443,
          -0.1492809321534578,
          -1.8643687527914203,
          1.3024373203496495,
          0.7601856921246877,
          -0.4462509524860536,
          0.48042464024541787,
          -1.6502678369241321,
          -0.14019041774634128,
          0.8566240306940461,
          0.43174665495270187,
          0.3556317639900785,
          -0.40977523162979523,
          0.08712426831847198,
          -0.7085711753892611,
          -0.2033454347552216,
          -0.4073598964847509,
          0.6744578923123841,
          -1.1400810189635784,
          2.789963286808077,
          0.7151297181599133,
          -0.1850065927724431,
          -0.08078798544387067,
          0.2943397056056416,
          -0.4663434080260867,
          0.4482366769986187,
          0.47513966341491815,
          0.5414854165226178,
          0.26065911224187877,
          -2.812297320953207,
          -1.1255949120105435,
          -2.505700444917874,
          -0.46977512258405213,
          1.740423220809751,
          -1.5441909687392934,
          -0.3290211676343685,
          1.2341058228228599,
          1.4116520784909827,
          -0.15889216025557068,
          0.3652472845120724,
          -0.9506594561815944
         ],
         "yaxis": "y5"
        },
        {
         "histfunc": "count",
         "histnorm": "",
         "marker": {
          "color": "rgba(55, 128, 191, 1.0)",
          "line": {
           "color": "#4D5663",
           "width": 1.3
          }
         },
         "name": "B",
         "nbinsx": 10,
         "opacity": 0.8,
         "orientation": "v",
         "type": "histogram",
         "x": [
          -0.9973385497255842,
          0.7837905097733299,
          0.4114202226020897,
          -1.382519415517844,
          -0.02544616448446813,
          1.0186393009420072,
          0.8558566196560897,
          -0.42531885825941645,
          -0.9864996976021687,
          -0.31840672611245,
          0.8916014391327218,
          0.09513064008948738,
          0.14918112600259187,
          0.7532993749218637,
          -0.4276448581127374,
          -0.07818602716472968,
          0.9817795497961357,
          0.5064226646157375,
          0.4449416714969202,
          -0.1941305620600468,
          -1.137333836757778,
          -0.728364472625442,
          0.4034551322996591,
          1.1872038136253862,
          1.072600861716576,
          0.876639868363512,
          0.7988727597172739,
          0.17336187404735537,
          -0.9097532082084129,
          0.012533433013292253,
          -0.9104096422704079,
          -2.929051044968031,
          -1.5106886534736783,
          -0.7430555641032094,
          -1.4288854189909295,
          1.510197624220518,
          -0.6236299601792391,
          -1.6305903851678578,
          1.4970753518573583,
          -0.6801286472206881,
          -0.979692810847835,
          -3.918868670448135,
          -0.06330189856562465,
          -0.47566846234842475,
          -0.9748506827222614,
          -1.4239641353896577,
          0.8518918795735684,
          -0.20012233219710165,
          1.3231285909537631,
          -0.20398723136228153,
          1.7077088102632907,
          0.8657554903375352,
          1.5481392063415123,
          -0.6105570758624655,
          1.0654680017823588,
          -1.0570752290932843,
          -0.6838031775909165,
          1.2275931051344096,
          0.04526621790472486,
          -1.554941047418443,
          -0.1492809321534578,
          -1.8643687527914203,
          1.3024373203496495,
          0.7601856921246877,
          -0.4462509524860536,
          0.48042464024541787,
          -1.6502678369241321,
          -0.14019041774634128,
          0.8566240306940461,
          0.43174665495270187,
          0.3556317639900785,
          -0.40977523162979523,
          0.08712426831847198,
          -0.7085711753892611,
          -0.2033454347552216,
          -0.4073598964847509,
          0.6744578923123841,
          -1.1400810189635784,
          2.789963286808077,
          0.7151297181599133,
          -0.1850065927724431,
          -0.08078798544387067,
          0.2943397056056416,
          -0.4663434080260867,
          0.4482366769986187,
          0.47513966341491815,
          0.5414854165226178,
          0.26065911224187877,
          -2.812297320953207,
          -1.1255949120105435,
          -2.505700444917874,
          -0.46977512258405213,
          1.740423220809751,
          -1.5441909687392934,
          -0.3290211676343685,
          1.2341058228228599,
          1.4116520784909827,
          -0.15889216025557068,
          0.3652472845120724,
          -0.9506594561815944
         ],
         "xaxis": "x6",
         "yaxis": "y6"
        },
        {
         "line": {
          "color": "rgba(128, 128, 128, 1.0)",
          "dash": "solid",
          "shape": "linear",
          "width": 1.3
         },
         "marker": {
          "size": 2,
          "symbol": "circle"
         },
         "mode": "markers",
         "name": "B",
         "text": "",
         "type": "scatter",
         "x": [
          1.0864046306308808,
          -2.117706929156139,
          -1.2657032246801565,
          2.5932805861413653,
          2.3441482450765103,
          0.6674682583798568,
          -0.1835273141853627,
          0.2583844424970538,
          -0.6483423820697635,
          0.7780014941223886,
          -0.7273056251298629,
          0.9481714505443428,
          -0.9642703058807677,
          -1.4920150058769135,
          0.02725130182667299,
          0.8917637879364976,
          -0.8262170965548993,
          -1.6690165954411205,
          0.18823231071314683,
          2.0825835518223434,
          0.25609372508776107,
          -0.5797066503326798,
          0.5313731546350134,
          -2.210742751298976,
          0.33738118000910555,
          0.034452221667001584,
          1.2099898876920567,
          -0.6570404629277719,
          0.29402043054374144,
          -0.5241920937423493,
          0.014854980846425616,
          -0.0731386366180003,
          0.9889571867068379,
          0.3604640259711464,
          -0.8535715053035,
          -0.6992512941022685,
          -0.6504137323602593,
          -1.3766659426179497,
          0.9971959727729144,
          -0.3727831661676519,
          0.5383185808078945,
          0.8631952314456995,
          0.051086002734756726,
          -0.1560917038308907,
          -0.9659560123338276,
          0.3524991124365591,
          0.9329956521976098,
          0.1818301711167429,
          -1.5766343201629727,
          -0.45241297679267883,
          0.5870064590218528,
          1.0654608493611661,
          -0.6821606520130433,
          -0.9412863076083865,
          1.1843527372507086,
          -1.8526316035548385,
          -0.019601827080674504,
          -0.5126217644897857,
          -0.5825695107624571,
          0.6957071648600781,
          0.46893509264191213,
          1.3725126676973547,
          1.5730227496089528,
          1.0412155230943265,
          0.18043340981159584,
          -0.5676000862195282,
          -0.027260664542144063,
          -2.0269003381063615,
          -0.6927569999618353,
          -0.11126050196888806,
          -0.4262357879099346,
          0.6554798803349987,
          0.025909432046648626,
          1.2949286553633488,
          0.04486138850675194,
          0.45730466244142837,
          0.5951019525594958,
          -1.3688868513192267,
          0.25538098232992745,
          1.2376000160840637,
          -0.09945363962576523,
          -0.8326934913241475,
          -0.5677424132882882,
          0.7891303619630893,
          0.3185725484702451,
          0.8167727575712042,
          -0.9399469880604976,
          0.41024895923266946,
          1.444813392250273,
          -0.07045540716588254,
          -0.9748583646965104,
          0.32545272467843805,
          0.1019678286423425,
          -0.2559831301171352,
          0.42683733071148106,
          -0.8375150189862056,
          -0.2429797619330411,
          0.12781625889002363,
          1.1039018819856634,
          0.2647893086331442
         ],
         "xaxis": "x7",
         "y": [
          -0.9973385497255842,
          0.7837905097733299,
          0.4114202226020897,
          -1.382519415517844,
          -0.02544616448446813,
          1.0186393009420072,
          0.8558566196560897,
          -0.42531885825941645,
          -0.9864996976021687,
          -0.31840672611245,
          0.8916014391327218,
          0.09513064008948738,
          0.14918112600259187,
          0.7532993749218637,
          -0.4276448581127374,
          -0.07818602716472968,
          0.9817795497961357,
          0.5064226646157375,
          0.4449416714969202,
          -0.1941305620600468,
          -1.137333836757778,
          -0.728364472625442,
          0.4034551322996591,
          1.1872038136253862,
          1.072600861716576,
          0.876639868363512,
          0.7988727597172739,
          0.17336187404735537,
          -0.9097532082084129,
          0.012533433013292253,
          -0.9104096422704079,
          -2.929051044968031,
          -1.5106886534736783,
          -0.7430555641032094,
          -1.4288854189909295,
          1.510197624220518,
          -0.6236299601792391,
          -1.6305903851678578,
          1.4970753518573583,
          -0.6801286472206881,
          -0.979692810847835,
          -3.918868670448135,
          -0.06330189856562465,
          -0.47566846234842475,
          -0.9748506827222614,
          -1.4239641353896577,
          0.8518918795735684,
          -0.20012233219710165,
          1.3231285909537631,
          -0.20398723136228153,
          1.7077088102632907,
          0.8657554903375352,
          1.5481392063415123,
          -0.6105570758624655,
          1.0654680017823588,
          -1.0570752290932843,
          -0.6838031775909165,
          1.2275931051344096,
          0.04526621790472486,
          -1.554941047418443,
          -0.1492809321534578,
          -1.8643687527914203,
          1.3024373203496495,
          0.7601856921246877,
          -0.4462509524860536,
          0.48042464024541787,
          -1.6502678369241321,
          -0.14019041774634128,
          0.8566240306940461,
          0.43174665495270187,
          0.3556317639900785,
          -0.40977523162979523,
          0.08712426831847198,
          -0.7085711753892611,
          -0.2033454347552216,
          -0.4073598964847509,
          0.6744578923123841,
          -1.1400810189635784,
          2.789963286808077,
          0.7151297181599133,
          -0.1850065927724431,
          -0.08078798544387067,
          0.2943397056056416,
          -0.4663434080260867,
          0.4482366769986187,
          0.47513966341491815,
          0.5414854165226178,
          0.26065911224187877,
          -2.812297320953207,
          -1.1255949120105435,
          -2.505700444917874,
          -0.46977512258405213,
          1.740423220809751,
          -1.5441909687392934,
          -0.3290211676343685,
          1.2341058228228599,
          1.4116520784909827,
          -0.15889216025557068,
          0.3652472845120724,
          -0.9506594561815944
         ],
         "yaxis": "y7"
        },
        {
         "line": {
          "color": "rgba(128, 128, 128, 1.0)",
          "dash": "solid",
          "shape": "linear",
          "width": 1.3
         },
         "marker": {
          "size": 2,
          "symbol": "circle"
         },
         "mode": "markers",
         "name": "B",
         "text": "",
         "type": "scatter",
         "x": [
          -1.6845488099545214,
          -1.483580830558176,
          -1.351768998320571,
          -0.01670157966836927,
          -0.6498272706298257,
          -0.39693622223683184,
          -0.015384532655009716,
          -1.271129237931862,
          0.10102497598995928,
          0.9121207251319526,
          0.05784086180539316,
          2.255054723154915,
          0.6212858268150763,
          -1.310394130386014,
          -0.07459700189764103,
          1.3967088263475662,
          1.9414688534400504,
          -0.9669469098322742,
          0.00361916509855848,
          -0.37158477845966215,
          -0.6242834233416957,
          -0.8890398056750107,
          -1.0704495466281345,
          0.9413483928126101,
          0.5235587640742109,
          1.1660326604493139,
          1.0078060116319765,
          0.06433268542995113,
          1.3315683014657924,
          0.00884593567451398,
          1.3921844033026607,
          0.8349470749507719,
          0.9353675499919318,
          0.6152327356021556,
          1.2579100589134553,
          -0.08129471439641622,
          0.475648611836743,
          0.8783130574365247,
          -1.7746903391982813,
          0.6912107389909029,
          0.5951721876769813,
          0.22237846218612714,
          0.03383104583304392,
          1.0070101867672185,
          1.4897134483290622,
          1.3561509968741807,
          -0.19133532983999577,
          -1.233246554456392,
          -1.055509293044572,
          -0.6060565386044152,
          2.908426841456705,
          0.33312373132415274,
          -0.39954762035321734,
          0.9970412169219489,
          -0.6774438852411577,
          -0.2678941091274693,
          1.7198965439060192,
          0.706833219697714,
          0.8457112842518558,
          0.425614589120953,
          1.4762093604887738,
          -0.5084467555406659,
          0.45774493220204304,
          1.276061650134015,
          1.4778646002820932,
          0.346808944062437,
          -0.039594696973332795,
          0.6942260287033303,
          0.7818660492215526,
          -0.09704360574352183,
          -0.40313533285190983,
          -0.3079192098887542,
          -1.0870176893478802,
          -1.4230941947914724,
          1.4873608115316441,
          0.45367332661392235,
          1.2806929902265727,
          0.7299483418142648,
          0.8453747810682767,
          0.22874782903798577,
          0.09706130982578182,
          1.0655381359822373,
          -0.4728019326610291,
          0.06074411969392115,
          1.6291176566718677,
          1.2019842760110888,
          -0.23407452273624657,
          0.6934983218568695,
          0.6801247526209236,
          0.9831105397594796,
          0.6594950175304114,
          -2.120860562056467,
          -1.308792642192246,
          -0.3608479254804576,
          -0.8614309832746896,
          -0.2634810163783852,
          -0.08006618092105477,
          0.01876852676574486,
          0.5521719952491408,
          -1.0932665440530167
         ],
         "xaxis": "x8",
         "y": [
          -0.9973385497255842,
          0.7837905097733299,
          0.4114202226020897,
          -1.382519415517844,
          -0.02544616448446813,
          1.0186393009420072,
          0.8558566196560897,
          -0.42531885825941645,
          -0.9864996976021687,
          -0.31840672611245,
          0.8916014391327218,
          0.09513064008948738,
          0.14918112600259187,
          0.7532993749218637,
          -0.4276448581127374,
          -0.07818602716472968,
          0.9817795497961357,
          0.5064226646157375,
          0.4449416714969202,
          -0.1941305620600468,
          -1.137333836757778,
          -0.728364472625442,
          0.4034551322996591,
          1.1872038136253862,
          1.072600861716576,
          0.876639868363512,
          0.7988727597172739,
          0.17336187404735537,
          -0.9097532082084129,
          0.012533433013292253,
          -0.9104096422704079,
          -2.929051044968031,
          -1.5106886534736783,
          -0.7430555641032094,
          -1.4288854189909295,
          1.510197624220518,
          -0.6236299601792391,
          -1.6305903851678578,
          1.4970753518573583,
          -0.6801286472206881,
          -0.979692810847835,
          -3.918868670448135,
          -0.06330189856562465,
          -0.47566846234842475,
          -0.9748506827222614,
          -1.4239641353896577,
          0.8518918795735684,
          -0.20012233219710165,
          1.3231285909537631,
          -0.20398723136228153,
          1.7077088102632907,
          0.8657554903375352,
          1.5481392063415123,
          -0.6105570758624655,
          1.0654680017823588,
          -1.0570752290932843,
          -0.6838031775909165,
          1.2275931051344096,
          0.04526621790472486,
          -1.554941047418443,
          -0.1492809321534578,
          -1.8643687527914203,
          1.3024373203496495,
          0.7601856921246877,
          -0.4462509524860536,
          0.48042464024541787,
          -1.6502678369241321,
          -0.14019041774634128,
          0.8566240306940461,
          0.43174665495270187,
          0.3556317639900785,
          -0.40977523162979523,
          0.08712426831847198,
          -0.7085711753892611,
          -0.2033454347552216,
          -0.4073598964847509,
          0.6744578923123841,
          -1.1400810189635784,
          2.789963286808077,
          0.7151297181599133,
          -0.1850065927724431,
          -0.08078798544387067,
          0.2943397056056416,
          -0.4663434080260867,
          0.4482366769986187,
          0.47513966341491815,
          0.5414854165226178,
          0.26065911224187877,
          -2.812297320953207,
          -1.1255949120105435,
          -2.505700444917874,
          -0.46977512258405213,
          1.740423220809751,
          -1.5441909687392934,
          -0.3290211676343685,
          1.2341058228228599,
          1.4116520784909827,
          -0.15889216025557068,
          0.3652472845120724,
          -0.9506594561815944
         ],
         "yaxis": "y8"
        },
        {
         "line": {
          "color": "rgba(128, 128, 128, 1.0)",
          "dash": "solid",
          "shape": "linear",
          "width": 1.3
         },
         "marker": {
          "size": 2,
          "symbol": "circle"
         },
         "mode": "markers",
         "name": "C",
         "text": "",
         "type": "scatter",
         "x": [
          -1.102157375614898,
          2.2865785896451056,
          0.4566434341878121,
          -0.4892334021311478,
          -2.130815216314164,
          0.34465161154860385,
          -0.49941355380787994,
          -0.07831088917902136,
          0.602111357449041,
          1.836312051939149,
          0.68653066400194,
          0.7272723288016878,
          -0.561985964001304,
          0.4749032085110548,
          -0.3943567537206873,
          -1.7812394531296598,
          -1.55016940753543,
          -0.8961215905737038,
          1.0396020876583527,
          -0.37499036096735866,
          -0.6078496437501864,
          -0.6540352795879921,
          1.5427968616244505,
          -0.7479992770240803,
          1.7736972039880796,
          -1.4616429884856508,
          0.3784126846667629,
          -1.2081394791450908,
          0.7602952072803093,
          0.43055980891856077,
          -0.3374320242569034,
          0.7706767098237173,
          -0.5463347726811589,
          0.033762295791289997,
          0.4990878712300638,
          1.1825854932025412,
          0.015844384267101563,
          -1.129231072418561,
          -2.7533196079610387,
          0.22159763708817423,
          -1.2118605238189528,
          1.2440218907966467,
          0.8870437340948487,
          -1.7602496137961745,
          -0.8038441161106656,
          0.43123877184878656,
          -0.6856111512549908,
          -0.14699128767403657,
          -2.2514927775466202,
          0.3810256579120371,
          -0.33399073703812215,
          0.8568310968852303,
          -1.7591695315282843,
          0.07139481710721052,
          -1.4989835427890368,
          -1.323758692382063,
          -1.275742543750863,
          0.511986491292987,
          -0.16147259749940288,
          -0.1400937674342753,
          0.24969654201492142,
          -0.43518197142108034,
          -1.3506570771227986,
          -1.5001516208144998,
          -0.25444948192148775,
          -0.6355008883387203,
          -0.9058493729728965,
          -0.016032752088665357,
          0.9103607278606926,
          0.18871594428745314,
          1.1671677613599445,
          1.4371250285751684,
          0.8337283933215233,
          0.33254422193403543,
          0.2537912153759133,
          -0.8145160628787136,
          -0.33293900872633314,
          1.7928098015898093,
          -0.11558511994838473,
          -0.5036239283403839,
          -0.34024420316716014,
          1.270442607496094,
          -1.9521088354455611,
          0.5721799161997925,
          -0.32676088375004936,
          0.23829216361816088,
          -0.6638810319586461,
          0.6261001378621326,
          -0.9532031426639209,
          -0.3028686448220451,
          -0.03323881015307786,
          -2.2163813272149397,
          1.2248574758896162,
          -1.8261008669183256,
          0.9927307241686352,
          -0.4144905926853598,
          0.7644577521814288,
          3.3897490150859912,
          0.9981217162595685,
          0.2925472587199806
         ],
         "xaxis": "x9",
         "y": [
          1.0864046306308808,
          -2.117706929156139,
          -1.2657032246801565,
          2.5932805861413653,
          2.3441482450765103,
          0.6674682583798568,
          -0.1835273141853627,
          0.2583844424970538,
          -0.6483423820697635,
          0.7780014941223886,
          -0.7273056251298629,
          0.9481714505443428,
          -0.9642703058807677,
          -1.4920150058769135,
          0.02725130182667299,
          0.8917637879364976,
          -0.8262170965548993,
          -1.6690165954411205,
          0.18823231071314683,
          2.0825835518223434,
          0.25609372508776107,
          -0.5797066503326798,
          0.5313731546350134,
          -2.210742751298976,
          0.33738118000910555,
          0.034452221667001584,
          1.2099898876920567,
          -0.6570404629277719,
          0.29402043054374144,
          -0.5241920937423493,
          0.014854980846425616,
          -0.0731386366180003,
          0.9889571867068379,
          0.3604640259711464,
          -0.8535715053035,
          -0.6992512941022685,
          -0.6504137323602593,
          -1.3766659426179497,
          0.9971959727729144,
          -0.3727831661676519,
          0.5383185808078945,
          0.8631952314456995,
          0.051086002734756726,
          -0.1560917038308907,
          -0.9659560123338276,
          0.3524991124365591,
          0.9329956521976098,
          0.1818301711167429,
          -1.5766343201629727,
          -0.45241297679267883,
          0.5870064590218528,
          1.0654608493611661,
          -0.6821606520130433,
          -0.9412863076083865,
          1.1843527372507086,
          -1.8526316035548385,
          -0.019601827080674504,
          -0.5126217644897857,
          -0.5825695107624571,
          0.6957071648600781,
          0.46893509264191213,
          1.3725126676973547,
          1.5730227496089528,
          1.0412155230943265,
          0.18043340981159584,
          -0.5676000862195282,
          -0.027260664542144063,
          -2.0269003381063615,
          -0.6927569999618353,
          -0.11126050196888806,
          -0.4262357879099346,
          0.6554798803349987,
          0.025909432046648626,
          1.2949286553633488,
          0.04486138850675194,
          0.45730466244142837,
          0.5951019525594958,
          -1.3688868513192267,
          0.25538098232992745,
          1.2376000160840637,
          -0.09945363962576523,
          -0.8326934913241475,
          -0.5677424132882882,
          0.7891303619630893,
          0.3185725484702451,
          0.8167727575712042,
          -0.9399469880604976,
          0.41024895923266946,
          1.444813392250273,
          -0.07045540716588254,
          -0.9748583646965104,
          0.32545272467843805,
          0.1019678286423425,
          -0.2559831301171352,
          0.42683733071148106,
          -0.8375150189862056,
          -0.2429797619330411,
          0.12781625889002363,
          1.1039018819856634,
          0.2647893086331442
         ],
         "yaxis": "y9"
        },
        {
         "line": {
          "color": "rgba(128, 128, 128, 1.0)",
          "dash": "solid",
          "shape": "linear",
          "width": 1.3
         },
         "marker": {
          "size": 2,
          "symbol": "circle"
         },
         "mode": "markers",
         "name": "C",
         "text": "",
         "type": "scatter",
         "x": [
          -0.9973385497255842,
          0.7837905097733299,
          0.4114202226020897,
          -1.382519415517844,
          -0.02544616448446813,
          1.0186393009420072,
          0.8558566196560897,
          -0.42531885825941645,
          -0.9864996976021687,
          -0.31840672611245,
          0.8916014391327218,
          0.09513064008948738,
          0.14918112600259187,
          0.7532993749218637,
          -0.4276448581127374,
          -0.07818602716472968,
          0.9817795497961357,
          0.5064226646157375,
          0.4449416714969202,
          -0.1941305620600468,
          -1.137333836757778,
          -0.728364472625442,
          0.4034551322996591,
          1.1872038136253862,
          1.072600861716576,
          0.876639868363512,
          0.7988727597172739,
          0.17336187404735537,
          -0.9097532082084129,
          0.012533433013292253,
          -0.9104096422704079,
          -2.929051044968031,
          -1.5106886534736783,
          -0.7430555641032094,
          -1.4288854189909295,
          1.510197624220518,
          -0.6236299601792391,
          -1.6305903851678578,
          1.4970753518573583,
          -0.6801286472206881,
          -0.979692810847835,
          -3.918868670448135,
          -0.06330189856562465,
          -0.47566846234842475,
          -0.9748506827222614,
          -1.4239641353896577,
          0.8518918795735684,
          -0.20012233219710165,
          1.3231285909537631,
          -0.20398723136228153,
          1.7077088102632907,
          0.8657554903375352,
          1.5481392063415123,
          -0.6105570758624655,
          1.0654680017823588,
          -1.0570752290932843,
          -0.6838031775909165,
          1.2275931051344096,
          0.04526621790472486,
          -1.554941047418443,
          -0.1492809321534578,
          -1.8643687527914203,
          1.3024373203496495,
          0.7601856921246877,
          -0.4462509524860536,
          0.48042464024541787,
          -1.6502678369241321,
          -0.14019041774634128,
          0.8566240306940461,
          0.43174665495270187,
          0.3556317639900785,
          -0.40977523162979523,
          0.08712426831847198,
          -0.7085711753892611,
          -0.2033454347552216,
          -0.4073598964847509,
          0.6744578923123841,
          -1.1400810189635784,
          2.789963286808077,
          0.7151297181599133,
          -0.1850065927724431,
          -0.08078798544387067,
          0.2943397056056416,
          -0.4663434080260867,
          0.4482366769986187,
          0.47513966341491815,
          0.5414854165226178,
          0.26065911224187877,
          -2.812297320953207,
          -1.1255949120105435,
          -2.505700444917874,
          -0.46977512258405213,
          1.740423220809751,
          -1.5441909687392934,
          -0.3290211676343685,
          1.2341058228228599,
          1.4116520784909827,
          -0.15889216025557068,
          0.3652472845120724,
          -0.9506594561815944
         ],
         "xaxis": "x10",
         "y": [
          1.0864046306308808,
          -2.117706929156139,
          -1.2657032246801565,
          2.5932805861413653,
          2.3441482450765103,
          0.6674682583798568,
          -0.1835273141853627,
          0.2583844424970538,
          -0.6483423820697635,
          0.7780014941223886,
          -0.7273056251298629,
          0.9481714505443428,
          -0.9642703058807677,
          -1.4920150058769135,
          0.02725130182667299,
          0.8917637879364976,
          -0.8262170965548993,
          -1.6690165954411205,
          0.18823231071314683,
          2.0825835518223434,
          0.25609372508776107,
          -0.5797066503326798,
          0.5313731546350134,
          -2.210742751298976,
          0.33738118000910555,
          0.034452221667001584,
          1.2099898876920567,
          -0.6570404629277719,
          0.29402043054374144,
          -0.5241920937423493,
          0.014854980846425616,
          -0.0731386366180003,
          0.9889571867068379,
          0.3604640259711464,
          -0.8535715053035,
          -0.6992512941022685,
          -0.6504137323602593,
          -1.3766659426179497,
          0.9971959727729144,
          -0.3727831661676519,
          0.5383185808078945,
          0.8631952314456995,
          0.051086002734756726,
          -0.1560917038308907,
          -0.9659560123338276,
          0.3524991124365591,
          0.9329956521976098,
          0.1818301711167429,
          -1.5766343201629727,
          -0.45241297679267883,
          0.5870064590218528,
          1.0654608493611661,
          -0.6821606520130433,
          -0.9412863076083865,
          1.1843527372507086,
          -1.8526316035548385,
          -0.019601827080674504,
          -0.5126217644897857,
          -0.5825695107624571,
          0.6957071648600781,
          0.46893509264191213,
          1.3725126676973547,
          1.5730227496089528,
          1.0412155230943265,
          0.18043340981159584,
          -0.5676000862195282,
          -0.027260664542144063,
          -2.0269003381063615,
          -0.6927569999618353,
          -0.11126050196888806,
          -0.4262357879099346,
          0.6554798803349987,
          0.025909432046648626,
          1.2949286553633488,
          0.04486138850675194,
          0.45730466244142837,
          0.5951019525594958,
          -1.3688868513192267,
          0.25538098232992745,
          1.2376000160840637,
          -0.09945363962576523,
          -0.8326934913241475,
          -0.5677424132882882,
          0.7891303619630893,
          0.3185725484702451,
          0.8167727575712042,
          -0.9399469880604976,
          0.41024895923266946,
          1.444813392250273,
          -0.07045540716588254,
          -0.9748583646965104,
          0.32545272467843805,
          0.1019678286423425,
          -0.2559831301171352,
          0.42683733071148106,
          -0.8375150189862056,
          -0.2429797619330411,
          0.12781625889002363,
          1.1039018819856634,
          0.2647893086331442
         ],
         "yaxis": "y10"
        },
        {
         "histfunc": "count",
         "histnorm": "",
         "marker": {
          "color": "rgba(50, 171, 96, 1.0)",
          "line": {
           "color": "#4D5663",
           "width": 1.3
          }
         },
         "name": "C",
         "nbinsx": 10,
         "opacity": 0.8,
         "orientation": "v",
         "type": "histogram",
         "x": [
          1.0864046306308808,
          -2.117706929156139,
          -1.2657032246801565,
          2.5932805861413653,
          2.3441482450765103,
          0.6674682583798568,
          -0.1835273141853627,
          0.2583844424970538,
          -0.6483423820697635,
          0.7780014941223886,
          -0.7273056251298629,
          0.9481714505443428,
          -0.9642703058807677,
          -1.4920150058769135,
          0.02725130182667299,
          0.8917637879364976,
          -0.8262170965548993,
          -1.6690165954411205,
          0.18823231071314683,
          2.0825835518223434,
          0.25609372508776107,
          -0.5797066503326798,
          0.5313731546350134,
          -2.210742751298976,
          0.33738118000910555,
          0.034452221667001584,
          1.2099898876920567,
          -0.6570404629277719,
          0.29402043054374144,
          -0.5241920937423493,
          0.014854980846425616,
          -0.0731386366180003,
          0.9889571867068379,
          0.3604640259711464,
          -0.8535715053035,
          -0.6992512941022685,
          -0.6504137323602593,
          -1.3766659426179497,
          0.9971959727729144,
          -0.3727831661676519,
          0.5383185808078945,
          0.8631952314456995,
          0.051086002734756726,
          -0.1560917038308907,
          -0.9659560123338276,
          0.3524991124365591,
          0.9329956521976098,
          0.1818301711167429,
          -1.5766343201629727,
          -0.45241297679267883,
          0.5870064590218528,
          1.0654608493611661,
          -0.6821606520130433,
          -0.9412863076083865,
          1.1843527372507086,
          -1.8526316035548385,
          -0.019601827080674504,
          -0.5126217644897857,
          -0.5825695107624571,
          0.6957071648600781,
          0.46893509264191213,
          1.3725126676973547,
          1.5730227496089528,
          1.0412155230943265,
          0.18043340981159584,
          -0.5676000862195282,
          -0.027260664542144063,
          -2.0269003381063615,
          -0.6927569999618353,
          -0.11126050196888806,
          -0.4262357879099346,
          0.6554798803349987,
          0.025909432046648626,
          1.2949286553633488,
          0.04486138850675194,
          0.45730466244142837,
          0.5951019525594958,
          -1.3688868513192267,
          0.25538098232992745,
          1.2376000160840637,
          -0.09945363962576523,
          -0.8326934913241475,
          -0.5677424132882882,
          0.7891303619630893,
          0.3185725484702451,
          0.8167727575712042,
          -0.9399469880604976,
          0.41024895923266946,
          1.444813392250273,
          -0.07045540716588254,
          -0.9748583646965104,
          0.32545272467843805,
          0.1019678286423425,
          -0.2559831301171352,
          0.42683733071148106,
          -0.8375150189862056,
          -0.2429797619330411,
          0.12781625889002363,
          1.1039018819856634,
          0.2647893086331442
         ],
         "xaxis": "x11",
         "yaxis": "y11"
        },
        {
         "line": {
          "color": "rgba(128, 128, 128, 1.0)",
          "dash": "solid",
          "shape": "linear",
          "width": 1.3
         },
         "marker": {
          "size": 2,
          "symbol": "circle"
         },
         "mode": "markers",
         "name": "C",
         "text": "",
         "type": "scatter",
         "x": [
          -1.6845488099545214,
          -1.483580830558176,
          -1.351768998320571,
          -0.01670157966836927,
          -0.6498272706298257,
          -0.39693622223683184,
          -0.015384532655009716,
          -1.271129237931862,
          0.10102497598995928,
          0.9121207251319526,
          0.05784086180539316,
          2.255054723154915,
          0.6212858268150763,
          -1.310394130386014,
          -0.07459700189764103,
          1.3967088263475662,
          1.9414688534400504,
          -0.9669469098322742,
          0.00361916509855848,
          -0.37158477845966215,
          -0.6242834233416957,
          -0.8890398056750107,
          -1.0704495466281345,
          0.9413483928126101,
          0.5235587640742109,
          1.1660326604493139,
          1.0078060116319765,
          0.06433268542995113,
          1.3315683014657924,
          0.00884593567451398,
          1.3921844033026607,
          0.8349470749507719,
          0.9353675499919318,
          0.6152327356021556,
          1.2579100589134553,
          -0.08129471439641622,
          0.475648611836743,
          0.8783130574365247,
          -1.7746903391982813,
          0.6912107389909029,
          0.5951721876769813,
          0.22237846218612714,
          0.03383104583304392,
          1.0070101867672185,
          1.4897134483290622,
          1.3561509968741807,
          -0.19133532983999577,
          -1.233246554456392,
          -1.055509293044572,
          -0.6060565386044152,
          2.908426841456705,
          0.33312373132415274,
          -0.39954762035321734,
          0.9970412169219489,
          -0.6774438852411577,
          -0.2678941091274693,
          1.7198965439060192,
          0.706833219697714,
          0.8457112842518558,
          0.425614589120953,
          1.4762093604887738,
          -0.5084467555406659,
          0.45774493220204304,
          1.276061650134015,
          1.4778646002820932,
          0.346808944062437,
          -0.039594696973332795,
          0.6942260287033303,
          0.7818660492215526,
          -0.09704360574352183,
          -0.40313533285190983,
          -0.3079192098887542,
          -1.0870176893478802,
          -1.4230941947914724,
          1.4873608115316441,
          0.45367332661392235,
          1.2806929902265727,
          0.7299483418142648,
          0.8453747810682767,
          0.22874782903798577,
          0.09706130982578182,
          1.0655381359822373,
          -0.4728019326610291,
          0.06074411969392115,
          1.6291176566718677,
          1.2019842760110888,
          -0.23407452273624657,
          0.6934983218568695,
          0.6801247526209236,
          0.9831105397594796,
          0.6594950175304114,
          -2.120860562056467,
          -1.308792642192246,
          -0.3608479254804576,
          -0.8614309832746896,
          -0.2634810163783852,
          -0.08006618092105477,
          0.01876852676574486,
          0.5521719952491408,
          -1.0932665440530167
         ],
         "xaxis": "x12",
         "y": [
          1.0864046306308808,
          -2.117706929156139,
          -1.2657032246801565,
          2.5932805861413653,
          2.3441482450765103,
          0.6674682583798568,
          -0.1835273141853627,
          0.2583844424970538,
          -0.6483423820697635,
          0.7780014941223886,
          -0.7273056251298629,
          0.9481714505443428,
          -0.9642703058807677,
          -1.4920150058769135,
          0.02725130182667299,
          0.8917637879364976,
          -0.8262170965548993,
          -1.6690165954411205,
          0.18823231071314683,
          2.0825835518223434,
          0.25609372508776107,
          -0.5797066503326798,
          0.5313731546350134,
          -2.210742751298976,
          0.33738118000910555,
          0.034452221667001584,
          1.2099898876920567,
          -0.6570404629277719,
          0.29402043054374144,
          -0.5241920937423493,
          0.014854980846425616,
          -0.0731386366180003,
          0.9889571867068379,
          0.3604640259711464,
          -0.8535715053035,
          -0.6992512941022685,
          -0.6504137323602593,
          -1.3766659426179497,
          0.9971959727729144,
          -0.3727831661676519,
          0.5383185808078945,
          0.8631952314456995,
          0.051086002734756726,
          -0.1560917038308907,
          -0.9659560123338276,
          0.3524991124365591,
          0.9329956521976098,
          0.1818301711167429,
          -1.5766343201629727,
          -0.45241297679267883,
          0.5870064590218528,
          1.0654608493611661,
          -0.6821606520130433,
          -0.9412863076083865,
          1.1843527372507086,
          -1.8526316035548385,
          -0.019601827080674504,
          -0.5126217644897857,
          -0.5825695107624571,
          0.6957071648600781,
          0.46893509264191213,
          1.3725126676973547,
          1.5730227496089528,
          1.0412155230943265,
          0.18043340981159584,
          -0.5676000862195282,
          -0.027260664542144063,
          -2.0269003381063615,
          -0.6927569999618353,
          -0.11126050196888806,
          -0.4262357879099346,
          0.6554798803349987,
          0.025909432046648626,
          1.2949286553633488,
          0.04486138850675194,
          0.45730466244142837,
          0.5951019525594958,
          -1.3688868513192267,
          0.25538098232992745,
          1.2376000160840637,
          -0.09945363962576523,
          -0.8326934913241475,
          -0.5677424132882882,
          0.7891303619630893,
          0.3185725484702451,
          0.8167727575712042,
          -0.9399469880604976,
          0.41024895923266946,
          1.444813392250273,
          -0.07045540716588254,
          -0.9748583646965104,
          0.32545272467843805,
          0.1019678286423425,
          -0.2559831301171352,
          0.42683733071148106,
          -0.8375150189862056,
          -0.2429797619330411,
          0.12781625889002363,
          1.1039018819856634,
          0.2647893086331442
         ],
         "yaxis": "y12"
        },
        {
         "line": {
          "color": "rgba(128, 128, 128, 1.0)",
          "dash": "solid",
          "shape": "linear",
          "width": 1.3
         },
         "marker": {
          "size": 2,
          "symbol": "circle"
         },
         "mode": "markers",
         "name": "D",
         "text": "",
         "type": "scatter",
         "x": [
          -1.102157375614898,
          2.2865785896451056,
          0.4566434341878121,
          -0.4892334021311478,
          -2.130815216314164,
          0.34465161154860385,
          -0.49941355380787994,
          -0.07831088917902136,
          0.602111357449041,
          1.836312051939149,
          0.68653066400194,
          0.7272723288016878,
          -0.561985964001304,
          0.4749032085110548,
          -0.3943567537206873,
          -1.7812394531296598,
          -1.55016940753543,
          -0.8961215905737038,
          1.0396020876583527,
          -0.37499036096735866,
          -0.6078496437501864,
          -0.6540352795879921,
          1.5427968616244505,
          -0.7479992770240803,
          1.7736972039880796,
          -1.4616429884856508,
          0.3784126846667629,
          -1.2081394791450908,
          0.7602952072803093,
          0.43055980891856077,
          -0.3374320242569034,
          0.7706767098237173,
          -0.5463347726811589,
          0.033762295791289997,
          0.4990878712300638,
          1.1825854932025412,
          0.015844384267101563,
          -1.129231072418561,
          -2.7533196079610387,
          0.22159763708817423,
          -1.2118605238189528,
          1.2440218907966467,
          0.8870437340948487,
          -1.7602496137961745,
          -0.8038441161106656,
          0.43123877184878656,
          -0.6856111512549908,
          -0.14699128767403657,
          -2.2514927775466202,
          0.3810256579120371,
          -0.33399073703812215,
          0.8568310968852303,
          -1.7591695315282843,
          0.07139481710721052,
          -1.4989835427890368,
          -1.323758692382063,
          -1.275742543750863,
          0.511986491292987,
          -0.16147259749940288,
          -0.1400937674342753,
          0.24969654201492142,
          -0.43518197142108034,
          -1.3506570771227986,
          -1.5001516208144998,
          -0.25444948192148775,
          -0.6355008883387203,
          -0.9058493729728965,
          -0.016032752088665357,
          0.9103607278606926,
          0.18871594428745314,
          1.1671677613599445,
          1.4371250285751684,
          0.8337283933215233,
          0.33254422193403543,
          0.2537912153759133,
          -0.8145160628787136,
          -0.33293900872633314,
          1.7928098015898093,
          -0.11558511994838473,
          -0.5036239283403839,
          -0.34024420316716014,
          1.270442607496094,
          -1.9521088354455611,
          0.5721799161997925,
          -0.32676088375004936,
          0.23829216361816088,
          -0.6638810319586461,
          0.6261001378621326,
          -0.9532031426639209,
          -0.3028686448220451,
          -0.03323881015307786,
          -2.2163813272149397,
          1.2248574758896162,
          -1.8261008669183256,
          0.9927307241686352,
          -0.4144905926853598,
          0.7644577521814288,
          3.3897490150859912,
          0.9981217162595685,
          0.2925472587199806
         ],
         "xaxis": "x13",
         "y": [
          -1.6845488099545214,
          -1.483580830558176,
          -1.351768998320571,
          -0.01670157966836927,
          -0.6498272706298257,
          -0.39693622223683184,
          -0.015384532655009716,
          -1.271129237931862,
          0.10102497598995928,
          0.9121207251319526,
          0.05784086180539316,
          2.255054723154915,
          0.6212858268150763,
          -1.310394130386014,
          -0.07459700189764103,
          1.3967088263475662,
          1.9414688534400504,
          -0.9669469098322742,
          0.00361916509855848,
          -0.37158477845966215,
          -0.6242834233416957,
          -0.8890398056750107,
          -1.0704495466281345,
          0.9413483928126101,
          0.5235587640742109,
          1.1660326604493139,
          1.0078060116319765,
          0.06433268542995113,
          1.3315683014657924,
          0.00884593567451398,
          1.3921844033026607,
          0.8349470749507719,
          0.9353675499919318,
          0.6152327356021556,
          1.2579100589134553,
          -0.08129471439641622,
          0.475648611836743,
          0.8783130574365247,
          -1.7746903391982813,
          0.6912107389909029,
          0.5951721876769813,
          0.22237846218612714,
          0.03383104583304392,
          1.0070101867672185,
          1.4897134483290622,
          1.3561509968741807,
          -0.19133532983999577,
          -1.233246554456392,
          -1.055509293044572,
          -0.6060565386044152,
          2.908426841456705,
          0.33312373132415274,
          -0.39954762035321734,
          0.9970412169219489,
          -0.6774438852411577,
          -0.2678941091274693,
          1.7198965439060192,
          0.706833219697714,
          0.8457112842518558,
          0.425614589120953,
          1.4762093604887738,
          -0.5084467555406659,
          0.45774493220204304,
          1.276061650134015,
          1.4778646002820932,
          0.346808944062437,
          -0.039594696973332795,
          0.6942260287033303,
          0.7818660492215526,
          -0.09704360574352183,
          -0.40313533285190983,
          -0.3079192098887542,
          -1.0870176893478802,
          -1.4230941947914724,
          1.4873608115316441,
          0.45367332661392235,
          1.2806929902265727,
          0.7299483418142648,
          0.8453747810682767,
          0.22874782903798577,
          0.09706130982578182,
          1.0655381359822373,
          -0.4728019326610291,
          0.06074411969392115,
          1.6291176566718677,
          1.2019842760110888,
          -0.23407452273624657,
          0.6934983218568695,
          0.6801247526209236,
          0.9831105397594796,
          0.6594950175304114,
          -2.120860562056467,
          -1.308792642192246,
          -0.3608479254804576,
          -0.8614309832746896,
          -0.2634810163783852,
          -0.08006618092105477,
          0.01876852676574486,
          0.5521719952491408,
          -1.0932665440530167
         ],
         "yaxis": "y13"
        },
        {
         "line": {
          "color": "rgba(128, 128, 128, 1.0)",
          "dash": "solid",
          "shape": "linear",
          "width": 1.3
         },
         "marker": {
          "size": 2,
          "symbol": "circle"
         },
         "mode": "markers",
         "name": "D",
         "text": "",
         "type": "scatter",
         "x": [
          -0.9973385497255842,
          0.7837905097733299,
          0.4114202226020897,
          -1.382519415517844,
          -0.02544616448446813,
          1.0186393009420072,
          0.8558566196560897,
          -0.42531885825941645,
          -0.9864996976021687,
          -0.31840672611245,
          0.8916014391327218,
          0.09513064008948738,
          0.14918112600259187,
          0.7532993749218637,
          -0.4276448581127374,
          -0.07818602716472968,
          0.9817795497961357,
          0.5064226646157375,
          0.4449416714969202,
          -0.1941305620600468,
          -1.137333836757778,
          -0.728364472625442,
          0.4034551322996591,
          1.1872038136253862,
          1.072600861716576,
          0.876639868363512,
          0.7988727597172739,
          0.17336187404735537,
          -0.9097532082084129,
          0.012533433013292253,
          -0.9104096422704079,
          -2.929051044968031,
          -1.5106886534736783,
          -0.7430555641032094,
          -1.4288854189909295,
          1.510197624220518,
          -0.6236299601792391,
          -1.6305903851678578,
          1.4970753518573583,
          -0.6801286472206881,
          -0.979692810847835,
          -3.918868670448135,
          -0.06330189856562465,
          -0.47566846234842475,
          -0.9748506827222614,
          -1.4239641353896577,
          0.8518918795735684,
          -0.20012233219710165,
          1.3231285909537631,
          -0.20398723136228153,
          1.7077088102632907,
          0.8657554903375352,
          1.5481392063415123,
          -0.6105570758624655,
          1.0654680017823588,
          -1.0570752290932843,
          -0.6838031775909165,
          1.2275931051344096,
          0.04526621790472486,
          -1.554941047418443,
          -0.1492809321534578,
          -1.8643687527914203,
          1.3024373203496495,
          0.7601856921246877,
          -0.4462509524860536,
          0.48042464024541787,
          -1.6502678369241321,
          -0.14019041774634128,
          0.8566240306940461,
          0.43174665495270187,
          0.3556317639900785,
          -0.40977523162979523,
          0.08712426831847198,
          -0.7085711753892611,
          -0.2033454347552216,
          -0.4073598964847509,
          0.6744578923123841,
          -1.1400810189635784,
          2.789963286808077,
          0.7151297181599133,
          -0.1850065927724431,
          -0.08078798544387067,
          0.2943397056056416,
          -0.4663434080260867,
          0.4482366769986187,
          0.47513966341491815,
          0.5414854165226178,
          0.26065911224187877,
          -2.812297320953207,
          -1.1255949120105435,
          -2.505700444917874,
          -0.46977512258405213,
          1.740423220809751,
          -1.5441909687392934,
          -0.3290211676343685,
          1.2341058228228599,
          1.4116520784909827,
          -0.15889216025557068,
          0.3652472845120724,
          -0.9506594561815944
         ],
         "xaxis": "x14",
         "y": [
          -1.6845488099545214,
          -1.483580830558176,
          -1.351768998320571,
          -0.01670157966836927,
          -0.6498272706298257,
          -0.39693622223683184,
          -0.015384532655009716,
          -1.271129237931862,
          0.10102497598995928,
          0.9121207251319526,
          0.05784086180539316,
          2.255054723154915,
          0.6212858268150763,
          -1.310394130386014,
          -0.07459700189764103,
          1.3967088263475662,
          1.9414688534400504,
          -0.9669469098322742,
          0.00361916509855848,
          -0.37158477845966215,
          -0.6242834233416957,
          -0.8890398056750107,
          -1.0704495466281345,
          0.9413483928126101,
          0.5235587640742109,
          1.1660326604493139,
          1.0078060116319765,
          0.06433268542995113,
          1.3315683014657924,
          0.00884593567451398,
          1.3921844033026607,
          0.8349470749507719,
          0.9353675499919318,
          0.6152327356021556,
          1.2579100589134553,
          -0.08129471439641622,
          0.475648611836743,
          0.8783130574365247,
          -1.7746903391982813,
          0.6912107389909029,
          0.5951721876769813,
          0.22237846218612714,
          0.03383104583304392,
          1.0070101867672185,
          1.4897134483290622,
          1.3561509968741807,
          -0.19133532983999577,
          -1.233246554456392,
          -1.055509293044572,
          -0.6060565386044152,
          2.908426841456705,
          0.33312373132415274,
          -0.39954762035321734,
          0.9970412169219489,
          -0.6774438852411577,
          -0.2678941091274693,
          1.7198965439060192,
          0.706833219697714,
          0.8457112842518558,
          0.425614589120953,
          1.4762093604887738,
          -0.5084467555406659,
          0.45774493220204304,
          1.276061650134015,
          1.4778646002820932,
          0.346808944062437,
          -0.039594696973332795,
          0.6942260287033303,
          0.7818660492215526,
          -0.09704360574352183,
          -0.40313533285190983,
          -0.3079192098887542,
          -1.0870176893478802,
          -1.4230941947914724,
          1.4873608115316441,
          0.45367332661392235,
          1.2806929902265727,
          0.7299483418142648,
          0.8453747810682767,
          0.22874782903798577,
          0.09706130982578182,
          1.0655381359822373,
          -0.4728019326610291,
          0.06074411969392115,
          1.6291176566718677,
          1.2019842760110888,
          -0.23407452273624657,
          0.6934983218568695,
          0.6801247526209236,
          0.9831105397594796,
          0.6594950175304114,
          -2.120860562056467,
          -1.308792642192246,
          -0.3608479254804576,
          -0.8614309832746896,
          -0.2634810163783852,
          -0.08006618092105477,
          0.01876852676574486,
          0.5521719952491408,
          -1.0932665440530167
         ],
         "yaxis": "y14"
        },
        {
         "line": {
          "color": "rgba(128, 128, 128, 1.0)",
          "dash": "solid",
          "shape": "linear",
          "width": 1.3
         },
         "marker": {
          "size": 2,
          "symbol": "circle"
         },
         "mode": "markers",
         "name": "D",
         "text": "",
         "type": "scatter",
         "x": [
          1.0864046306308808,
          -2.117706929156139,
          -1.2657032246801565,
          2.5932805861413653,
          2.3441482450765103,
          0.6674682583798568,
          -0.1835273141853627,
          0.2583844424970538,
          -0.6483423820697635,
          0.7780014941223886,
          -0.7273056251298629,
          0.9481714505443428,
          -0.9642703058807677,
          -1.4920150058769135,
          0.02725130182667299,
          0.8917637879364976,
          -0.8262170965548993,
          -1.6690165954411205,
          0.18823231071314683,
          2.0825835518223434,
          0.25609372508776107,
          -0.5797066503326798,
          0.5313731546350134,
          -2.210742751298976,
          0.33738118000910555,
          0.034452221667001584,
          1.2099898876920567,
          -0.6570404629277719,
          0.29402043054374144,
          -0.5241920937423493,
          0.014854980846425616,
          -0.0731386366180003,
          0.9889571867068379,
          0.3604640259711464,
          -0.8535715053035,
          -0.6992512941022685,
          -0.6504137323602593,
          -1.3766659426179497,
          0.9971959727729144,
          -0.3727831661676519,
          0.5383185808078945,
          0.8631952314456995,
          0.051086002734756726,
          -0.1560917038308907,
          -0.9659560123338276,
          0.3524991124365591,
          0.9329956521976098,
          0.1818301711167429,
          -1.5766343201629727,
          -0.45241297679267883,
          0.5870064590218528,
          1.0654608493611661,
          -0.6821606520130433,
          -0.9412863076083865,
          1.1843527372507086,
          -1.8526316035548385,
          -0.019601827080674504,
          -0.5126217644897857,
          -0.5825695107624571,
          0.6957071648600781,
          0.46893509264191213,
          1.3725126676973547,
          1.5730227496089528,
          1.0412155230943265,
          0.18043340981159584,
          -0.5676000862195282,
          -0.027260664542144063,
          -2.0269003381063615,
          -0.6927569999618353,
          -0.11126050196888806,
          -0.4262357879099346,
          0.6554798803349987,
          0.025909432046648626,
          1.2949286553633488,
          0.04486138850675194,
          0.45730466244142837,
          0.5951019525594958,
          -1.3688868513192267,
          0.25538098232992745,
          1.2376000160840637,
          -0.09945363962576523,
          -0.8326934913241475,
          -0.5677424132882882,
          0.7891303619630893,
          0.3185725484702451,
          0.8167727575712042,
          -0.9399469880604976,
          0.41024895923266946,
          1.444813392250273,
          -0.07045540716588254,
          -0.9748583646965104,
          0.32545272467843805,
          0.1019678286423425,
          -0.2559831301171352,
          0.42683733071148106,
          -0.8375150189862056,
          -0.2429797619330411,
          0.12781625889002363,
          1.1039018819856634,
          0.2647893086331442
         ],
         "xaxis": "x15",
         "y": [
          -1.6845488099545214,
          -1.483580830558176,
          -1.351768998320571,
          -0.01670157966836927,
          -0.6498272706298257,
          -0.39693622223683184,
          -0.015384532655009716,
          -1.271129237931862,
          0.10102497598995928,
          0.9121207251319526,
          0.05784086180539316,
          2.255054723154915,
          0.6212858268150763,
          -1.310394130386014,
          -0.07459700189764103,
          1.3967088263475662,
          1.9414688534400504,
          -0.9669469098322742,
          0.00361916509855848,
          -0.37158477845966215,
          -0.6242834233416957,
          -0.8890398056750107,
          -1.0704495466281345,
          0.9413483928126101,
          0.5235587640742109,
          1.1660326604493139,
          1.0078060116319765,
          0.06433268542995113,
          1.3315683014657924,
          0.00884593567451398,
          1.3921844033026607,
          0.8349470749507719,
          0.9353675499919318,
          0.6152327356021556,
          1.2579100589134553,
          -0.08129471439641622,
          0.475648611836743,
          0.8783130574365247,
          -1.7746903391982813,
          0.6912107389909029,
          0.5951721876769813,
          0.22237846218612714,
          0.03383104583304392,
          1.0070101867672185,
          1.4897134483290622,
          1.3561509968741807,
          -0.19133532983999577,
          -1.233246554456392,
          -1.055509293044572,
          -0.6060565386044152,
          2.908426841456705,
          0.33312373132415274,
          -0.39954762035321734,
          0.9970412169219489,
          -0.6774438852411577,
          -0.2678941091274693,
          1.7198965439060192,
          0.706833219697714,
          0.8457112842518558,
          0.425614589120953,
          1.4762093604887738,
          -0.5084467555406659,
          0.45774493220204304,
          1.276061650134015,
          1.4778646002820932,
          0.346808944062437,
          -0.039594696973332795,
          0.6942260287033303,
          0.7818660492215526,
          -0.09704360574352183,
          -0.40313533285190983,
          -0.3079192098887542,
          -1.0870176893478802,
          -1.4230941947914724,
          1.4873608115316441,
          0.45367332661392235,
          1.2806929902265727,
          0.7299483418142648,
          0.8453747810682767,
          0.22874782903798577,
          0.09706130982578182,
          1.0655381359822373,
          -0.4728019326610291,
          0.06074411969392115,
          1.6291176566718677,
          1.2019842760110888,
          -0.23407452273624657,
          0.6934983218568695,
          0.6801247526209236,
          0.9831105397594796,
          0.6594950175304114,
          -2.120860562056467,
          -1.308792642192246,
          -0.3608479254804576,
          -0.8614309832746896,
          -0.2634810163783852,
          -0.08006618092105477,
          0.01876852676574486,
          0.5521719952491408,
          -1.0932665440530167
         ],
         "yaxis": "y15"
        },
        {
         "histfunc": "count",
         "histnorm": "",
         "marker": {
          "color": "rgba(128, 0, 128, 1.0)",
          "line": {
           "color": "#4D5663",
           "width": 1.3
          }
         },
         "name": "D",
         "nbinsx": 10,
         "opacity": 0.8,
         "orientation": "v",
         "type": "histogram",
         "x": [
          -1.6845488099545214,
          -1.483580830558176,
          -1.351768998320571,
          -0.01670157966836927,
          -0.6498272706298257,
          -0.39693622223683184,
          -0.015384532655009716,
          -1.271129237931862,
          0.10102497598995928,
          0.9121207251319526,
          0.05784086180539316,
          2.255054723154915,
          0.6212858268150763,
          -1.310394130386014,
          -0.07459700189764103,
          1.3967088263475662,
          1.9414688534400504,
          -0.9669469098322742,
          0.00361916509855848,
          -0.37158477845966215,
          -0.6242834233416957,
          -0.8890398056750107,
          -1.0704495466281345,
          0.9413483928126101,
          0.5235587640742109,
          1.1660326604493139,
          1.0078060116319765,
          0.06433268542995113,
          1.3315683014657924,
          0.00884593567451398,
          1.3921844033026607,
          0.8349470749507719,
          0.9353675499919318,
          0.6152327356021556,
          1.2579100589134553,
          -0.08129471439641622,
          0.475648611836743,
          0.8783130574365247,
          -1.7746903391982813,
          0.6912107389909029,
          0.5951721876769813,
          0.22237846218612714,
          0.03383104583304392,
          1.0070101867672185,
          1.4897134483290622,
          1.3561509968741807,
          -0.19133532983999577,
          -1.233246554456392,
          -1.055509293044572,
          -0.6060565386044152,
          2.908426841456705,
          0.33312373132415274,
          -0.39954762035321734,
          0.9970412169219489,
          -0.6774438852411577,
          -0.2678941091274693,
          1.7198965439060192,
          0.706833219697714,
          0.8457112842518558,
          0.425614589120953,
          1.4762093604887738,
          -0.5084467555406659,
          0.45774493220204304,
          1.276061650134015,
          1.4778646002820932,
          0.346808944062437,
          -0.039594696973332795,
          0.6942260287033303,
          0.7818660492215526,
          -0.09704360574352183,
          -0.40313533285190983,
          -0.3079192098887542,
          -1.0870176893478802,
          -1.4230941947914724,
          1.4873608115316441,
          0.45367332661392235,
          1.2806929902265727,
          0.7299483418142648,
          0.8453747810682767,
          0.22874782903798577,
          0.09706130982578182,
          1.0655381359822373,
          -0.4728019326610291,
          0.06074411969392115,
          1.6291176566718677,
          1.2019842760110888,
          -0.23407452273624657,
          0.6934983218568695,
          0.6801247526209236,
          0.9831105397594796,
          0.6594950175304114,
          -2.120860562056467,
          -1.308792642192246,
          -0.3608479254804576,
          -0.8614309832746896,
          -0.2634810163783852,
          -0.08006618092105477,
          0.01876852676574486,
          0.5521719952491408,
          -1.0932665440530167
         ],
         "xaxis": "x16",
         "yaxis": "y16"
        }
       ],
       "layout": {
        "bargap": 0.02,
        "legend": {
         "bgcolor": "#F5F6F9",
         "font": {
          "color": "#4D5663"
         }
        },
        "paper_bgcolor": "#F5F6F9",
        "plot_bgcolor": "#F5F6F9",
        "showlegend": false,
        "template": {
         "data": {
          "bar": [
           {
            "error_x": {
             "color": "#2a3f5f"
            },
            "error_y": {
             "color": "#2a3f5f"
            },
            "marker": {
             "line": {
              "color": "#E5ECF6",
              "width": 0.5
             },
             "pattern": {
              "fillmode": "overlay",
              "size": 10,
              "solidity": 0.2
             }
            },
            "type": "bar"
           }
          ],
          "barpolar": [
           {
            "marker": {
             "line": {
              "color": "#E5ECF6",
              "width": 0.5
             },
             "pattern": {
              "fillmode": "overlay",
              "size": 10,
              "solidity": 0.2
             }
            },
            "type": "barpolar"
           }
          ],
          "carpet": [
           {
            "aaxis": {
             "endlinecolor": "#2a3f5f",
             "gridcolor": "white",
             "linecolor": "white",
             "minorgridcolor": "white",
             "startlinecolor": "#2a3f5f"
            },
            "baxis": {
             "endlinecolor": "#2a3f5f",
             "gridcolor": "white",
             "linecolor": "white",
             "minorgridcolor": "white",
             "startlinecolor": "#2a3f5f"
            },
            "type": "carpet"
           }
          ],
          "choropleth": [
           {
            "colorbar": {
             "outlinewidth": 0,
             "ticks": ""
            },
            "type": "choropleth"
           }
          ],
          "contour": [
           {
            "colorbar": {
             "outlinewidth": 0,
             "ticks": ""
            },
            "colorscale": [
             [
              0,
              "#0d0887"
             ],
             [
              0.1111111111111111,
              "#46039f"
             ],
             [
              0.2222222222222222,
              "#7201a8"
             ],
             [
              0.3333333333333333,
              "#9c179e"
             ],
             [
              0.4444444444444444,
              "#bd3786"
             ],
             [
              0.5555555555555556,
              "#d8576b"
             ],
             [
              0.6666666666666666,
              "#ed7953"
             ],
             [
              0.7777777777777778,
              "#fb9f3a"
             ],
             [
              0.8888888888888888,
              "#fdca26"
             ],
             [
              1,
              "#f0f921"
             ]
            ],
            "type": "contour"
           }
          ],
          "contourcarpet": [
           {
            "colorbar": {
             "outlinewidth": 0,
             "ticks": ""
            },
            "type": "contourcarpet"
           }
          ],
          "heatmap": [
           {
            "colorbar": {
             "outlinewidth": 0,
             "ticks": ""
            },
            "colorscale": [
             [
              0,
              "#0d0887"
             ],
             [
              0.1111111111111111,
              "#46039f"
             ],
             [
              0.2222222222222222,
              "#7201a8"
             ],
             [
              0.3333333333333333,
              "#9c179e"
             ],
             [
              0.4444444444444444,
              "#bd3786"
             ],
             [
              0.5555555555555556,
              "#d8576b"
             ],
             [
              0.6666666666666666,
              "#ed7953"
             ],
             [
              0.7777777777777778,
              "#fb9f3a"
             ],
             [
              0.8888888888888888,
              "#fdca26"
             ],
             [
              1,
              "#f0f921"
             ]
            ],
            "type": "heatmap"
           }
          ],
          "heatmapgl": [
           {
            "colorbar": {
             "outlinewidth": 0,
             "ticks": ""
            },
            "colorscale": [
             [
              0,
              "#0d0887"
             ],
             [
              0.1111111111111111,
              "#46039f"
             ],
             [
              0.2222222222222222,
              "#7201a8"
             ],
             [
              0.3333333333333333,
              "#9c179e"
             ],
             [
              0.4444444444444444,
              "#bd3786"
             ],
             [
              0.5555555555555556,
              "#d8576b"
             ],
             [
              0.6666666666666666,
              "#ed7953"
             ],
             [
              0.7777777777777778,
              "#fb9f3a"
             ],
             [
              0.8888888888888888,
              "#fdca26"
             ],
             [
              1,
              "#f0f921"
             ]
            ],
            "type": "heatmapgl"
           }
          ],
          "histogram": [
           {
            "marker": {
             "pattern": {
              "fillmode": "overlay",
              "size": 10,
              "solidity": 0.2
             }
            },
            "type": "histogram"
           }
          ],
          "histogram2d": [
           {
            "colorbar": {
             "outlinewidth": 0,
             "ticks": ""
            },
            "colorscale": [
             [
              0,
              "#0d0887"
             ],
             [
              0.1111111111111111,
              "#46039f"
             ],
             [
              0.2222222222222222,
              "#7201a8"
             ],
             [
              0.3333333333333333,
              "#9c179e"
             ],
             [
              0.4444444444444444,
              "#bd3786"
             ],
             [
              0.5555555555555556,
              "#d8576b"
             ],
             [
              0.6666666666666666,
              "#ed7953"
             ],
             [
              0.7777777777777778,
              "#fb9f3a"
             ],
             [
              0.8888888888888888,
              "#fdca26"
             ],
             [
              1,
              "#f0f921"
             ]
            ],
            "type": "histogram2d"
           }
          ],
          "histogram2dcontour": [
           {
            "colorbar": {
             "outlinewidth": 0,
             "ticks": ""
            },
            "colorscale": [
             [
              0,
              "#0d0887"
             ],
             [
              0.1111111111111111,
              "#46039f"
             ],
             [
              0.2222222222222222,
              "#7201a8"
             ],
             [
              0.3333333333333333,
              "#9c179e"
             ],
             [
              0.4444444444444444,
              "#bd3786"
             ],
             [
              0.5555555555555556,
              "#d8576b"
             ],
             [
              0.6666666666666666,
              "#ed7953"
             ],
             [
              0.7777777777777778,
              "#fb9f3a"
             ],
             [
              0.8888888888888888,
              "#fdca26"
             ],
             [
              1,
              "#f0f921"
             ]
            ],
            "type": "histogram2dcontour"
           }
          ],
          "mesh3d": [
           {
            "colorbar": {
             "outlinewidth": 0,
             "ticks": ""
            },
            "type": "mesh3d"
           }
          ],
          "parcoords": [
           {
            "line": {
             "colorbar": {
              "outlinewidth": 0,
              "ticks": ""
             }
            },
            "type": "parcoords"
           }
          ],
          "pie": [
           {
            "automargin": true,
            "type": "pie"
           }
          ],
          "scatter": [
           {
            "fillpattern": {
             "fillmode": "overlay",
             "size": 10,
             "solidity": 0.2
            },
            "type": "scatter"
           }
          ],
          "scatter3d": [
           {
            "line": {
             "colorbar": {
              "outlinewidth": 0,
              "ticks": ""
             }
            },
            "marker": {
             "colorbar": {
              "outlinewidth": 0,
              "ticks": ""
             }
            },
            "type": "scatter3d"
           }
          ],
          "scattercarpet": [
           {
            "marker": {
             "colorbar": {
              "outlinewidth": 0,
              "ticks": ""
             }
            },
            "type": "scattercarpet"
           }
          ],
          "scattergeo": [
           {
            "marker": {
             "colorbar": {
              "outlinewidth": 0,
              "ticks": ""
             }
            },
            "type": "scattergeo"
           }
          ],
          "scattergl": [
           {
            "marker": {
             "colorbar": {
              "outlinewidth": 0,
              "ticks": ""
             }
            },
            "type": "scattergl"
           }
          ],
          "scattermapbox": [
           {
            "marker": {
             "colorbar": {
              "outlinewidth": 0,
              "ticks": ""
             }
            },
            "type": "scattermapbox"
           }
          ],
          "scatterpolar": [
           {
            "marker": {
             "colorbar": {
              "outlinewidth": 0,
              "ticks": ""
             }
            },
            "type": "scatterpolar"
           }
          ],
          "scatterpolargl": [
           {
            "marker": {
             "colorbar": {
              "outlinewidth": 0,
              "ticks": ""
             }
            },
            "type": "scatterpolargl"
           }
          ],
          "scatterternary": [
           {
            "marker": {
             "colorbar": {
              "outlinewidth": 0,
              "ticks": ""
             }
            },
            "type": "scatterternary"
           }
          ],
          "surface": [
           {
            "colorbar": {
             "outlinewidth": 0,
             "ticks": ""
            },
            "colorscale": [
             [
              0,
              "#0d0887"
             ],
             [
              0.1111111111111111,
              "#46039f"
             ],
             [
              0.2222222222222222,
              "#7201a8"
             ],
             [
              0.3333333333333333,
              "#9c179e"
             ],
             [
              0.4444444444444444,
              "#bd3786"
             ],
             [
              0.5555555555555556,
              "#d8576b"
             ],
             [
              0.6666666666666666,
              "#ed7953"
             ],
             [
              0.7777777777777778,
              "#fb9f3a"
             ],
             [
              0.8888888888888888,
              "#fdca26"
             ],
             [
              1,
              "#f0f921"
             ]
            ],
            "type": "surface"
           }
          ],
          "table": [
           {
            "cells": {
             "fill": {
              "color": "#EBF0F8"
             },
             "line": {
              "color": "white"
             }
            },
            "header": {
             "fill": {
              "color": "#C8D4E3"
             },
             "line": {
              "color": "white"
             }
            },
            "type": "table"
           }
          ]
         },
         "layout": {
          "annotationdefaults": {
           "arrowcolor": "#2a3f5f",
           "arrowhead": 0,
           "arrowwidth": 1
          },
          "autotypenumbers": "strict",
          "coloraxis": {
           "colorbar": {
            "outlinewidth": 0,
            "ticks": ""
           }
          },
          "colorscale": {
           "diverging": [
            [
             0,
             "#8e0152"
            ],
            [
             0.1,
             "#c51b7d"
            ],
            [
             0.2,
             "#de77ae"
            ],
            [
             0.3,
             "#f1b6da"
            ],
            [
             0.4,
             "#fde0ef"
            ],
            [
             0.5,
             "#f7f7f7"
            ],
            [
             0.6,
             "#e6f5d0"
            ],
            [
             0.7,
             "#b8e186"
            ],
            [
             0.8,
             "#7fbc41"
            ],
            [
             0.9,
             "#4d9221"
            ],
            [
             1,
             "#276419"
            ]
           ],
           "sequential": [
            [
             0,
             "#0d0887"
            ],
            [
             0.1111111111111111,
             "#46039f"
            ],
            [
             0.2222222222222222,
             "#7201a8"
            ],
            [
             0.3333333333333333,
             "#9c179e"
            ],
            [
             0.4444444444444444,
             "#bd3786"
            ],
            [
             0.5555555555555556,
             "#d8576b"
            ],
            [
             0.6666666666666666,
             "#ed7953"
            ],
            [
             0.7777777777777778,
             "#fb9f3a"
            ],
            [
             0.8888888888888888,
             "#fdca26"
            ],
            [
             1,
             "#f0f921"
            ]
           ],
           "sequentialminus": [
            [
             0,
             "#0d0887"
            ],
            [
             0.1111111111111111,
             "#46039f"
            ],
            [
             0.2222222222222222,
             "#7201a8"
            ],
            [
             0.3333333333333333,
             "#9c179e"
            ],
            [
             0.4444444444444444,
             "#bd3786"
            ],
            [
             0.5555555555555556,
             "#d8576b"
            ],
            [
             0.6666666666666666,
             "#ed7953"
            ],
            [
             0.7777777777777778,
             "#fb9f3a"
            ],
            [
             0.8888888888888888,
             "#fdca26"
            ],
            [
             1,
             "#f0f921"
            ]
           ]
          },
          "colorway": [
           "#636efa",
           "#EF553B",
           "#00cc96",
           "#ab63fa",
           "#FFA15A",
           "#19d3f3",
           "#FF6692",
           "#B6E880",
           "#FF97FF",
           "#FECB52"
          ],
          "font": {
           "color": "#2a3f5f"
          },
          "geo": {
           "bgcolor": "white",
           "lakecolor": "white",
           "landcolor": "#E5ECF6",
           "showlakes": true,
           "showland": true,
           "subunitcolor": "white"
          },
          "hoverlabel": {
           "align": "left"
          },
          "hovermode": "closest",
          "mapbox": {
           "style": "light"
          },
          "paper_bgcolor": "white",
          "plot_bgcolor": "#E5ECF6",
          "polar": {
           "angularaxis": {
            "gridcolor": "white",
            "linecolor": "white",
            "ticks": ""
           },
           "bgcolor": "#E5ECF6",
           "radialaxis": {
            "gridcolor": "white",
            "linecolor": "white",
            "ticks": ""
           }
          },
          "scene": {
           "xaxis": {
            "backgroundcolor": "#E5ECF6",
            "gridcolor": "white",
            "gridwidth": 2,
            "linecolor": "white",
            "showbackground": true,
            "ticks": "",
            "zerolinecolor": "white"
           },
           "yaxis": {
            "backgroundcolor": "#E5ECF6",
            "gridcolor": "white",
            "gridwidth": 2,
            "linecolor": "white",
            "showbackground": true,
            "ticks": "",
            "zerolinecolor": "white"
           },
           "zaxis": {
            "backgroundcolor": "#E5ECF6",
            "gridcolor": "white",
            "gridwidth": 2,
            "linecolor": "white",
            "showbackground": true,
            "ticks": "",
            "zerolinecolor": "white"
           }
          },
          "shapedefaults": {
           "line": {
            "color": "#2a3f5f"
           }
          },
          "ternary": {
           "aaxis": {
            "gridcolor": "white",
            "linecolor": "white",
            "ticks": ""
           },
           "baxis": {
            "gridcolor": "white",
            "linecolor": "white",
            "ticks": ""
           },
           "bgcolor": "#E5ECF6",
           "caxis": {
            "gridcolor": "white",
            "linecolor": "white",
            "ticks": ""
           }
          },
          "title": {
           "x": 0.05
          },
          "xaxis": {
           "automargin": true,
           "gridcolor": "white",
           "linecolor": "white",
           "ticks": "",
           "title": {
            "standoff": 15
           },
           "zerolinecolor": "white",
           "zerolinewidth": 2
          },
          "yaxis": {
           "automargin": true,
           "gridcolor": "white",
           "linecolor": "white",
           "ticks": "",
           "title": {
            "standoff": 15
           },
           "zerolinecolor": "white",
           "zerolinewidth": 2
          }
         }
        },
        "title": {
         "font": {
          "color": "#4D5663"
         }
        },
        "xaxis": {
         "anchor": "y",
         "domain": [
          0,
          0.2125
         ],
         "gridcolor": "#E1E5ED",
         "showgrid": false,
         "tickfont": {
          "color": "#4D5663"
         },
         "title": {
          "font": {
           "color": "#4D5663"
          },
          "text": ""
         },
         "zerolinecolor": "#E1E5ED"
        },
        "xaxis10": {
         "anchor": "y10",
         "domain": [
          0.2625,
          0.475
         ],
         "gridcolor": "#E1E5ED",
         "showgrid": false,
         "tickfont": {
          "color": "#4D5663"
         },
         "title": {
          "font": {
           "color": "#4D5663"
          },
          "text": ""
         },
         "zerolinecolor": "#E1E5ED"
        },
        "xaxis11": {
         "anchor": "y11",
         "domain": [
          0.525,
          0.7375
         ],
         "gridcolor": "#E1E5ED",
         "showgrid": false,
         "tickfont": {
          "color": "#4D5663"
         },
         "title": {
          "font": {
           "color": "#4D5663"
          },
          "text": ""
         },
         "zerolinecolor": "#E1E5ED"
        },
        "xaxis12": {
         "anchor": "y12",
         "domain": [
          0.7875,
          1
         ],
         "gridcolor": "#E1E5ED",
         "showgrid": false,
         "tickfont": {
          "color": "#4D5663"
         },
         "title": {
          "font": {
           "color": "#4D5663"
          },
          "text": ""
         },
         "zerolinecolor": "#E1E5ED"
        },
        "xaxis13": {
         "anchor": "y13",
         "domain": [
          0,
          0.2125
         ],
         "gridcolor": "#E1E5ED",
         "showgrid": false,
         "tickfont": {
          "color": "#4D5663"
         },
         "title": {
          "font": {
           "color": "#4D5663"
          },
          "text": ""
         },
         "zerolinecolor": "#E1E5ED"
        },
        "xaxis14": {
         "anchor": "y14",
         "domain": [
          0.2625,
          0.475
         ],
         "gridcolor": "#E1E5ED",
         "showgrid": false,
         "tickfont": {
          "color": "#4D5663"
         },
         "title": {
          "font": {
           "color": "#4D5663"
          },
          "text": ""
         },
         "zerolinecolor": "#E1E5ED"
        },
        "xaxis15": {
         "anchor": "y15",
         "domain": [
          0.525,
          0.7375
         ],
         "gridcolor": "#E1E5ED",
         "showgrid": false,
         "tickfont": {
          "color": "#4D5663"
         },
         "title": {
          "font": {
           "color": "#4D5663"
          },
          "text": ""
         },
         "zerolinecolor": "#E1E5ED"
        },
        "xaxis16": {
         "anchor": "y16",
         "domain": [
          0.7875,
          1
         ],
         "gridcolor": "#E1E5ED",
         "showgrid": false,
         "tickfont": {
          "color": "#4D5663"
         },
         "title": {
          "font": {
           "color": "#4D5663"
          },
          "text": ""
         },
         "zerolinecolor": "#E1E5ED"
        },
        "xaxis2": {
         "anchor": "y2",
         "domain": [
          0.2625,
          0.475
         ],
         "gridcolor": "#E1E5ED",
         "showgrid": false,
         "tickfont": {
          "color": "#4D5663"
         },
         "title": {
          "font": {
           "color": "#4D5663"
          },
          "text": ""
         },
         "zerolinecolor": "#E1E5ED"
        },
        "xaxis3": {
         "anchor": "y3",
         "domain": [
          0.525,
          0.7375
         ],
         "gridcolor": "#E1E5ED",
         "showgrid": false,
         "tickfont": {
          "color": "#4D5663"
         },
         "title": {
          "font": {
           "color": "#4D5663"
          },
          "text": ""
         },
         "zerolinecolor": "#E1E5ED"
        },
        "xaxis4": {
         "anchor": "y4",
         "domain": [
          0.7875,
          1
         ],
         "gridcolor": "#E1E5ED",
         "showgrid": false,
         "tickfont": {
          "color": "#4D5663"
         },
         "title": {
          "font": {
           "color": "#4D5663"
          },
          "text": ""
         },
         "zerolinecolor": "#E1E5ED"
        },
        "xaxis5": {
         "anchor": "y5",
         "domain": [
          0,
          0.2125
         ],
         "gridcolor": "#E1E5ED",
         "showgrid": false,
         "tickfont": {
          "color": "#4D5663"
         },
         "title": {
          "font": {
           "color": "#4D5663"
          },
          "text": ""
         },
         "zerolinecolor": "#E1E5ED"
        },
        "xaxis6": {
         "anchor": "y6",
         "domain": [
          0.2625,
          0.475
         ],
         "gridcolor": "#E1E5ED",
         "showgrid": false,
         "tickfont": {
          "color": "#4D5663"
         },
         "title": {
          "font": {
           "color": "#4D5663"
          },
          "text": ""
         },
         "zerolinecolor": "#E1E5ED"
        },
        "xaxis7": {
         "anchor": "y7",
         "domain": [
          0.525,
          0.7375
         ],
         "gridcolor": "#E1E5ED",
         "showgrid": false,
         "tickfont": {
          "color": "#4D5663"
         },
         "title": {
          "font": {
           "color": "#4D5663"
          },
          "text": ""
         },
         "zerolinecolor": "#E1E5ED"
        },
        "xaxis8": {
         "anchor": "y8",
         "domain": [
          0.7875,
          1
         ],
         "gridcolor": "#E1E5ED",
         "showgrid": false,
         "tickfont": {
          "color": "#4D5663"
         },
         "title": {
          "font": {
           "color": "#4D5663"
          },
          "text": ""
         },
         "zerolinecolor": "#E1E5ED"
        },
        "xaxis9": {
         "anchor": "y9",
         "domain": [
          0,
          0.2125
         ],
         "gridcolor": "#E1E5ED",
         "showgrid": false,
         "tickfont": {
          "color": "#4D5663"
         },
         "title": {
          "font": {
           "color": "#4D5663"
          },
          "text": ""
         },
         "zerolinecolor": "#E1E5ED"
        },
        "yaxis": {
         "anchor": "x",
         "domain": [
          0.8025,
          1
         ],
         "gridcolor": "#E1E5ED",
         "showgrid": false,
         "tickfont": {
          "color": "#4D5663"
         },
         "title": {
          "font": {
           "color": "#4D5663"
          },
          "text": ""
         },
         "zerolinecolor": "#E1E5ED"
        },
        "yaxis10": {
         "anchor": "x10",
         "domain": [
          0.2675,
          0.465
         ],
         "gridcolor": "#E1E5ED",
         "showgrid": false,
         "tickfont": {
          "color": "#4D5663"
         },
         "title": {
          "font": {
           "color": "#4D5663"
          },
          "text": ""
         },
         "zerolinecolor": "#E1E5ED"
        },
        "yaxis11": {
         "anchor": "x11",
         "domain": [
          0.2675,
          0.465
         ],
         "gridcolor": "#E1E5ED",
         "showgrid": false,
         "tickfont": {
          "color": "#4D5663"
         },
         "title": {
          "font": {
           "color": "#4D5663"
          },
          "text": ""
         },
         "zerolinecolor": "#E1E5ED"
        },
        "yaxis12": {
         "anchor": "x12",
         "domain": [
          0.2675,
          0.465
         ],
         "gridcolor": "#E1E5ED",
         "showgrid": false,
         "tickfont": {
          "color": "#4D5663"
         },
         "title": {
          "font": {
           "color": "#4D5663"
          },
          "text": ""
         },
         "zerolinecolor": "#E1E5ED"
        },
        "yaxis13": {
         "anchor": "x13",
         "domain": [
          0,
          0.1975
         ],
         "gridcolor": "#E1E5ED",
         "showgrid": false,
         "tickfont": {
          "color": "#4D5663"
         },
         "title": {
          "font": {
           "color": "#4D5663"
          },
          "text": ""
         },
         "zerolinecolor": "#E1E5ED"
        },
        "yaxis14": {
         "anchor": "x14",
         "domain": [
          0,
          0.1975
         ],
         "gridcolor": "#E1E5ED",
         "showgrid": false,
         "tickfont": {
          "color": "#4D5663"
         },
         "title": {
          "font": {
           "color": "#4D5663"
          },
          "text": ""
         },
         "zerolinecolor": "#E1E5ED"
        },
        "yaxis15": {
         "anchor": "x15",
         "domain": [
          0,
          0.1975
         ],
         "gridcolor": "#E1E5ED",
         "showgrid": false,
         "tickfont": {
          "color": "#4D5663"
         },
         "title": {
          "font": {
           "color": "#4D5663"
          },
          "text": ""
         },
         "zerolinecolor": "#E1E5ED"
        },
        "yaxis16": {
         "anchor": "x16",
         "domain": [
          0,
          0.1975
         ],
         "gridcolor": "#E1E5ED",
         "showgrid": false,
         "tickfont": {
          "color": "#4D5663"
         },
         "title": {
          "font": {
           "color": "#4D5663"
          },
          "text": ""
         },
         "zerolinecolor": "#E1E5ED"
        },
        "yaxis2": {
         "anchor": "x2",
         "domain": [
          0.8025,
          1
         ],
         "gridcolor": "#E1E5ED",
         "showgrid": false,
         "tickfont": {
          "color": "#4D5663"
         },
         "title": {
          "font": {
           "color": "#4D5663"
          },
          "text": ""
         },
         "zerolinecolor": "#E1E5ED"
        },
        "yaxis3": {
         "anchor": "x3",
         "domain": [
          0.8025,
          1
         ],
         "gridcolor": "#E1E5ED",
         "showgrid": false,
         "tickfont": {
          "color": "#4D5663"
         },
         "title": {
          "font": {
           "color": "#4D5663"
          },
          "text": ""
         },
         "zerolinecolor": "#E1E5ED"
        },
        "yaxis4": {
         "anchor": "x4",
         "domain": [
          0.8025,
          1
         ],
         "gridcolor": "#E1E5ED",
         "showgrid": false,
         "tickfont": {
          "color": "#4D5663"
         },
         "title": {
          "font": {
           "color": "#4D5663"
          },
          "text": ""
         },
         "zerolinecolor": "#E1E5ED"
        },
        "yaxis5": {
         "anchor": "x5",
         "domain": [
          0.535,
          0.7325
         ],
         "gridcolor": "#E1E5ED",
         "showgrid": false,
         "tickfont": {
          "color": "#4D5663"
         },
         "title": {
          "font": {
           "color": "#4D5663"
          },
          "text": ""
         },
         "zerolinecolor": "#E1E5ED"
        },
        "yaxis6": {
         "anchor": "x6",
         "domain": [
          0.535,
          0.7325
         ],
         "gridcolor": "#E1E5ED",
         "showgrid": false,
         "tickfont": {
          "color": "#4D5663"
         },
         "title": {
          "font": {
           "color": "#4D5663"
          },
          "text": ""
         },
         "zerolinecolor": "#E1E5ED"
        },
        "yaxis7": {
         "anchor": "x7",
         "domain": [
          0.535,
          0.7325
         ],
         "gridcolor": "#E1E5ED",
         "showgrid": false,
         "tickfont": {
          "color": "#4D5663"
         },
         "title": {
          "font": {
           "color": "#4D5663"
          },
          "text": ""
         },
         "zerolinecolor": "#E1E5ED"
        },
        "yaxis8": {
         "anchor": "x8",
         "domain": [
          0.535,
          0.7325
         ],
         "gridcolor": "#E1E5ED",
         "showgrid": false,
         "tickfont": {
          "color": "#4D5663"
         },
         "title": {
          "font": {
           "color": "#4D5663"
          },
          "text": ""
         },
         "zerolinecolor": "#E1E5ED"
        },
        "yaxis9": {
         "anchor": "x9",
         "domain": [
          0.2675,
          0.465
         ],
         "gridcolor": "#E1E5ED",
         "showgrid": false,
         "tickfont": {
          "color": "#4D5663"
         },
         "title": {
          "font": {
           "color": "#4D5663"
          },
          "text": ""
         },
         "zerolinecolor": "#E1E5ED"
        }
       }
      },
      "text/html": [
       "<div>                            <div id=\"5c1391cb-d1b0-410f-8393-62a8020b03dd\" class=\"plotly-graph-div\" style=\"height:525px; width:100%;\"></div>            <script type=\"text/javascript\">                require([\"plotly\"], function(Plotly) {                    window.PLOTLYENV=window.PLOTLYENV || {};\n",
       "                    window.PLOTLYENV.BASE_URL='https://plot.ly';                                    if (document.getElementById(\"5c1391cb-d1b0-410f-8393-62a8020b03dd\")) {                    Plotly.newPlot(                        \"5c1391cb-d1b0-410f-8393-62a8020b03dd\",                        [{\"histfunc\":\"count\",\"histnorm\":\"\",\"marker\":{\"color\":\"rgba(255, 153, 51, 1.0)\",\"line\":{\"color\":\"#4D5663\",\"width\":1.3}},\"name\":\"A\",\"nbinsx\":10,\"opacity\":0.8,\"orientation\":\"v\",\"x\":[-1.102157375614898,2.2865785896451056,0.4566434341878121,-0.4892334021311478,-2.130815216314164,0.34465161154860385,-0.49941355380787994,-0.07831088917902136,0.602111357449041,1.836312051939149,0.68653066400194,0.7272723288016878,-0.561985964001304,0.4749032085110548,-0.3943567537206873,-1.7812394531296598,-1.55016940753543,-0.8961215905737038,1.0396020876583527,-0.37499036096735866,-0.6078496437501864,-0.6540352795879921,1.5427968616244505,-0.7479992770240803,1.7736972039880796,-1.4616429884856508,0.3784126846667629,-1.2081394791450908,0.7602952072803093,0.43055980891856077,-0.3374320242569034,0.7706767098237173,-0.5463347726811589,0.033762295791289997,0.4990878712300638,1.1825854932025412,0.015844384267101563,-1.129231072418561,-2.7533196079610387,0.22159763708817423,-1.2118605238189528,1.2440218907966467,0.8870437340948487,-1.7602496137961745,-0.8038441161106656,0.43123877184878656,-0.6856111512549908,-0.14699128767403657,-2.2514927775466202,0.3810256579120371,-0.33399073703812215,0.8568310968852303,-1.7591695315282843,0.07139481710721052,-1.4989835427890368,-1.323758692382063,-1.275742543750863,0.511986491292987,-0.16147259749940288,-0.1400937674342753,0.24969654201492142,-0.43518197142108034,-1.3506570771227986,-1.5001516208144998,-0.25444948192148775,-0.6355008883387203,-0.9058493729728965,-0.016032752088665357,0.9103607278606926,0.18871594428745314,1.1671677613599445,1.4371250285751684,0.8337283933215233,0.33254422193403543,0.2537912153759133,-0.8145160628787136,-0.33293900872633314,1.7928098015898093,-0.11558511994838473,-0.5036239283403839,-0.34024420316716014,1.270442607496094,-1.9521088354455611,0.5721799161997925,-0.32676088375004936,0.23829216361816088,-0.6638810319586461,0.6261001378621326,-0.9532031426639209,-0.3028686448220451,-0.03323881015307786,-2.2163813272149397,1.2248574758896162,-1.8261008669183256,0.9927307241686352,-0.4144905926853598,0.7644577521814288,3.3897490150859912,0.9981217162595685,0.2925472587199806],\"xaxis\":\"x\",\"yaxis\":\"y\",\"type\":\"histogram\"},{\"line\":{\"color\":\"rgba(128, 128, 128, 1.0)\",\"dash\":\"solid\",\"shape\":\"linear\",\"width\":1.3},\"marker\":{\"size\":2,\"symbol\":\"circle\"},\"mode\":\"markers\",\"name\":\"A\",\"text\":\"\",\"x\":[-0.9973385497255842,0.7837905097733299,0.4114202226020897,-1.382519415517844,-0.02544616448446813,1.0186393009420072,0.8558566196560897,-0.42531885825941645,-0.9864996976021687,-0.31840672611245,0.8916014391327218,0.09513064008948738,0.14918112600259187,0.7532993749218637,-0.4276448581127374,-0.07818602716472968,0.9817795497961357,0.5064226646157375,0.4449416714969202,-0.1941305620600468,-1.137333836757778,-0.728364472625442,0.4034551322996591,1.1872038136253862,1.072600861716576,0.876639868363512,0.7988727597172739,0.17336187404735537,-0.9097532082084129,0.012533433013292253,-0.9104096422704079,-2.929051044968031,-1.5106886534736783,-0.7430555641032094,-1.4288854189909295,1.510197624220518,-0.6236299601792391,-1.6305903851678578,1.4970753518573583,-0.6801286472206881,-0.979692810847835,-3.918868670448135,-0.06330189856562465,-0.47566846234842475,-0.9748506827222614,-1.4239641353896577,0.8518918795735684,-0.20012233219710165,1.3231285909537631,-0.20398723136228153,1.7077088102632907,0.8657554903375352,1.5481392063415123,-0.6105570758624655,1.0654680017823588,-1.0570752290932843,-0.6838031775909165,1.2275931051344096,0.04526621790472486,-1.554941047418443,-0.1492809321534578,-1.8643687527914203,1.3024373203496495,0.7601856921246877,-0.4462509524860536,0.48042464024541787,-1.6502678369241321,-0.14019041774634128,0.8566240306940461,0.43174665495270187,0.3556317639900785,-0.40977523162979523,0.08712426831847198,-0.7085711753892611,-0.2033454347552216,-0.4073598964847509,0.6744578923123841,-1.1400810189635784,2.789963286808077,0.7151297181599133,-0.1850065927724431,-0.08078798544387067,0.2943397056056416,-0.4663434080260867,0.4482366769986187,0.47513966341491815,0.5414854165226178,0.26065911224187877,-2.812297320953207,-1.1255949120105435,-2.505700444917874,-0.46977512258405213,1.740423220809751,-1.5441909687392934,-0.3290211676343685,1.2341058228228599,1.4116520784909827,-0.15889216025557068,0.3652472845120724,-0.9506594561815944],\"xaxis\":\"x2\",\"y\":[-1.102157375614898,2.2865785896451056,0.4566434341878121,-0.4892334021311478,-2.130815216314164,0.34465161154860385,-0.49941355380787994,-0.07831088917902136,0.602111357449041,1.836312051939149,0.68653066400194,0.7272723288016878,-0.561985964001304,0.4749032085110548,-0.3943567537206873,-1.7812394531296598,-1.55016940753543,-0.8961215905737038,1.0396020876583527,-0.37499036096735866,-0.6078496437501864,-0.6540352795879921,1.5427968616244505,-0.7479992770240803,1.7736972039880796,-1.4616429884856508,0.3784126846667629,-1.2081394791450908,0.7602952072803093,0.43055980891856077,-0.3374320242569034,0.7706767098237173,-0.5463347726811589,0.033762295791289997,0.4990878712300638,1.1825854932025412,0.015844384267101563,-1.129231072418561,-2.7533196079610387,0.22159763708817423,-1.2118605238189528,1.2440218907966467,0.8870437340948487,-1.7602496137961745,-0.8038441161106656,0.43123877184878656,-0.6856111512549908,-0.14699128767403657,-2.2514927775466202,0.3810256579120371,-0.33399073703812215,0.8568310968852303,-1.7591695315282843,0.07139481710721052,-1.4989835427890368,-1.323758692382063,-1.275742543750863,0.511986491292987,-0.16147259749940288,-0.1400937674342753,0.24969654201492142,-0.43518197142108034,-1.3506570771227986,-1.5001516208144998,-0.25444948192148775,-0.6355008883387203,-0.9058493729728965,-0.016032752088665357,0.9103607278606926,0.18871594428745314,1.1671677613599445,1.4371250285751684,0.8337283933215233,0.33254422193403543,0.2537912153759133,-0.8145160628787136,-0.33293900872633314,1.7928098015898093,-0.11558511994838473,-0.5036239283403839,-0.34024420316716014,1.270442607496094,-1.9521088354455611,0.5721799161997925,-0.32676088375004936,0.23829216361816088,-0.6638810319586461,0.6261001378621326,-0.9532031426639209,-0.3028686448220451,-0.03323881015307786,-2.2163813272149397,1.2248574758896162,-1.8261008669183256,0.9927307241686352,-0.4144905926853598,0.7644577521814288,3.3897490150859912,0.9981217162595685,0.2925472587199806],\"yaxis\":\"y2\",\"type\":\"scatter\"},{\"line\":{\"color\":\"rgba(128, 128, 128, 1.0)\",\"dash\":\"solid\",\"shape\":\"linear\",\"width\":1.3},\"marker\":{\"size\":2,\"symbol\":\"circle\"},\"mode\":\"markers\",\"name\":\"A\",\"text\":\"\",\"x\":[1.0864046306308808,-2.117706929156139,-1.2657032246801565,2.5932805861413653,2.3441482450765103,0.6674682583798568,-0.1835273141853627,0.2583844424970538,-0.6483423820697635,0.7780014941223886,-0.7273056251298629,0.9481714505443428,-0.9642703058807677,-1.4920150058769135,0.02725130182667299,0.8917637879364976,-0.8262170965548993,-1.6690165954411205,0.18823231071314683,2.0825835518223434,0.25609372508776107,-0.5797066503326798,0.5313731546350134,-2.210742751298976,0.33738118000910555,0.034452221667001584,1.2099898876920567,-0.6570404629277719,0.29402043054374144,-0.5241920937423493,0.014854980846425616,-0.0731386366180003,0.9889571867068379,0.3604640259711464,-0.8535715053035,-0.6992512941022685,-0.6504137323602593,-1.3766659426179497,0.9971959727729144,-0.3727831661676519,0.5383185808078945,0.8631952314456995,0.051086002734756726,-0.1560917038308907,-0.9659560123338276,0.3524991124365591,0.9329956521976098,0.1818301711167429,-1.5766343201629727,-0.45241297679267883,0.5870064590218528,1.0654608493611661,-0.6821606520130433,-0.9412863076083865,1.1843527372507086,-1.8526316035548385,-0.019601827080674504,-0.5126217644897857,-0.5825695107624571,0.6957071648600781,0.46893509264191213,1.3725126676973547,1.5730227496089528,1.0412155230943265,0.18043340981159584,-0.5676000862195282,-0.027260664542144063,-2.0269003381063615,-0.6927569999618353,-0.11126050196888806,-0.4262357879099346,0.6554798803349987,0.025909432046648626,1.2949286553633488,0.04486138850675194,0.45730466244142837,0.5951019525594958,-1.3688868513192267,0.25538098232992745,1.2376000160840637,-0.09945363962576523,-0.8326934913241475,-0.5677424132882882,0.7891303619630893,0.3185725484702451,0.8167727575712042,-0.9399469880604976,0.41024895923266946,1.444813392250273,-0.07045540716588254,-0.9748583646965104,0.32545272467843805,0.1019678286423425,-0.2559831301171352,0.42683733071148106,-0.8375150189862056,-0.2429797619330411,0.12781625889002363,1.1039018819856634,0.2647893086331442],\"xaxis\":\"x3\",\"y\":[-1.102157375614898,2.2865785896451056,0.4566434341878121,-0.4892334021311478,-2.130815216314164,0.34465161154860385,-0.49941355380787994,-0.07831088917902136,0.602111357449041,1.836312051939149,0.68653066400194,0.7272723288016878,-0.561985964001304,0.4749032085110548,-0.3943567537206873,-1.7812394531296598,-1.55016940753543,-0.8961215905737038,1.0396020876583527,-0.37499036096735866,-0.6078496437501864,-0.6540352795879921,1.5427968616244505,-0.7479992770240803,1.7736972039880796,-1.4616429884856508,0.3784126846667629,-1.2081394791450908,0.7602952072803093,0.43055980891856077,-0.3374320242569034,0.7706767098237173,-0.5463347726811589,0.033762295791289997,0.4990878712300638,1.1825854932025412,0.015844384267101563,-1.129231072418561,-2.7533196079610387,0.22159763708817423,-1.2118605238189528,1.2440218907966467,0.8870437340948487,-1.7602496137961745,-0.8038441161106656,0.43123877184878656,-0.6856111512549908,-0.14699128767403657,-2.2514927775466202,0.3810256579120371,-0.33399073703812215,0.8568310968852303,-1.7591695315282843,0.07139481710721052,-1.4989835427890368,-1.323758692382063,-1.275742543750863,0.511986491292987,-0.16147259749940288,-0.1400937674342753,0.24969654201492142,-0.43518197142108034,-1.3506570771227986,-1.5001516208144998,-0.25444948192148775,-0.6355008883387203,-0.9058493729728965,-0.016032752088665357,0.9103607278606926,0.18871594428745314,1.1671677613599445,1.4371250285751684,0.8337283933215233,0.33254422193403543,0.2537912153759133,-0.8145160628787136,-0.33293900872633314,1.7928098015898093,-0.11558511994838473,-0.5036239283403839,-0.34024420316716014,1.270442607496094,-1.9521088354455611,0.5721799161997925,-0.32676088375004936,0.23829216361816088,-0.6638810319586461,0.6261001378621326,-0.9532031426639209,-0.3028686448220451,-0.03323881015307786,-2.2163813272149397,1.2248574758896162,-1.8261008669183256,0.9927307241686352,-0.4144905926853598,0.7644577521814288,3.3897490150859912,0.9981217162595685,0.2925472587199806],\"yaxis\":\"y3\",\"type\":\"scatter\"},{\"line\":{\"color\":\"rgba(128, 128, 128, 1.0)\",\"dash\":\"solid\",\"shape\":\"linear\",\"width\":1.3},\"marker\":{\"size\":2,\"symbol\":\"circle\"},\"mode\":\"markers\",\"name\":\"A\",\"text\":\"\",\"x\":[-1.6845488099545214,-1.483580830558176,-1.351768998320571,-0.01670157966836927,-0.6498272706298257,-0.39693622223683184,-0.015384532655009716,-1.271129237931862,0.10102497598995928,0.9121207251319526,0.05784086180539316,2.255054723154915,0.6212858268150763,-1.310394130386014,-0.07459700189764103,1.3967088263475662,1.9414688534400504,-0.9669469098322742,0.00361916509855848,-0.37158477845966215,-0.6242834233416957,-0.8890398056750107,-1.0704495466281345,0.9413483928126101,0.5235587640742109,1.1660326604493139,1.0078060116319765,0.06433268542995113,1.3315683014657924,0.00884593567451398,1.3921844033026607,0.8349470749507719,0.9353675499919318,0.6152327356021556,1.2579100589134553,-0.08129471439641622,0.475648611836743,0.8783130574365247,-1.7746903391982813,0.6912107389909029,0.5951721876769813,0.22237846218612714,0.03383104583304392,1.0070101867672185,1.4897134483290622,1.3561509968741807,-0.19133532983999577,-1.233246554456392,-1.055509293044572,-0.6060565386044152,2.908426841456705,0.33312373132415274,-0.39954762035321734,0.9970412169219489,-0.6774438852411577,-0.2678941091274693,1.7198965439060192,0.706833219697714,0.8457112842518558,0.425614589120953,1.4762093604887738,-0.5084467555406659,0.45774493220204304,1.276061650134015,1.4778646002820932,0.346808944062437,-0.039594696973332795,0.6942260287033303,0.7818660492215526,-0.09704360574352183,-0.40313533285190983,-0.3079192098887542,-1.0870176893478802,-1.4230941947914724,1.4873608115316441,0.45367332661392235,1.2806929902265727,0.7299483418142648,0.8453747810682767,0.22874782903798577,0.09706130982578182,1.0655381359822373,-0.4728019326610291,0.06074411969392115,1.6291176566718677,1.2019842760110888,-0.23407452273624657,0.6934983218568695,0.6801247526209236,0.9831105397594796,0.6594950175304114,-2.120860562056467,-1.308792642192246,-0.3608479254804576,-0.8614309832746896,-0.2634810163783852,-0.08006618092105477,0.01876852676574486,0.5521719952491408,-1.0932665440530167],\"xaxis\":\"x4\",\"y\":[-1.102157375614898,2.2865785896451056,0.4566434341878121,-0.4892334021311478,-2.130815216314164,0.34465161154860385,-0.49941355380787994,-0.07831088917902136,0.602111357449041,1.836312051939149,0.68653066400194,0.7272723288016878,-0.561985964001304,0.4749032085110548,-0.3943567537206873,-1.7812394531296598,-1.55016940753543,-0.8961215905737038,1.0396020876583527,-0.37499036096735866,-0.6078496437501864,-0.6540352795879921,1.5427968616244505,-0.7479992770240803,1.7736972039880796,-1.4616429884856508,0.3784126846667629,-1.2081394791450908,0.7602952072803093,0.43055980891856077,-0.3374320242569034,0.7706767098237173,-0.5463347726811589,0.033762295791289997,0.4990878712300638,1.1825854932025412,0.015844384267101563,-1.129231072418561,-2.7533196079610387,0.22159763708817423,-1.2118605238189528,1.2440218907966467,0.8870437340948487,-1.7602496137961745,-0.8038441161106656,0.43123877184878656,-0.6856111512549908,-0.14699128767403657,-2.2514927775466202,0.3810256579120371,-0.33399073703812215,0.8568310968852303,-1.7591695315282843,0.07139481710721052,-1.4989835427890368,-1.323758692382063,-1.275742543750863,0.511986491292987,-0.16147259749940288,-0.1400937674342753,0.24969654201492142,-0.43518197142108034,-1.3506570771227986,-1.5001516208144998,-0.25444948192148775,-0.6355008883387203,-0.9058493729728965,-0.016032752088665357,0.9103607278606926,0.18871594428745314,1.1671677613599445,1.4371250285751684,0.8337283933215233,0.33254422193403543,0.2537912153759133,-0.8145160628787136,-0.33293900872633314,1.7928098015898093,-0.11558511994838473,-0.5036239283403839,-0.34024420316716014,1.270442607496094,-1.9521088354455611,0.5721799161997925,-0.32676088375004936,0.23829216361816088,-0.6638810319586461,0.6261001378621326,-0.9532031426639209,-0.3028686448220451,-0.03323881015307786,-2.2163813272149397,1.2248574758896162,-1.8261008669183256,0.9927307241686352,-0.4144905926853598,0.7644577521814288,3.3897490150859912,0.9981217162595685,0.2925472587199806],\"yaxis\":\"y4\",\"type\":\"scatter\"},{\"line\":{\"color\":\"rgba(128, 128, 128, 1.0)\",\"dash\":\"solid\",\"shape\":\"linear\",\"width\":1.3},\"marker\":{\"size\":2,\"symbol\":\"circle\"},\"mode\":\"markers\",\"name\":\"B\",\"text\":\"\",\"x\":[-1.102157375614898,2.2865785896451056,0.4566434341878121,-0.4892334021311478,-2.130815216314164,0.34465161154860385,-0.49941355380787994,-0.07831088917902136,0.602111357449041,1.836312051939149,0.68653066400194,0.7272723288016878,-0.561985964001304,0.4749032085110548,-0.3943567537206873,-1.7812394531296598,-1.55016940753543,-0.8961215905737038,1.0396020876583527,-0.37499036096735866,-0.6078496437501864,-0.6540352795879921,1.5427968616244505,-0.7479992770240803,1.7736972039880796,-1.4616429884856508,0.3784126846667629,-1.2081394791450908,0.7602952072803093,0.43055980891856077,-0.3374320242569034,0.7706767098237173,-0.5463347726811589,0.033762295791289997,0.4990878712300638,1.1825854932025412,0.015844384267101563,-1.129231072418561,-2.7533196079610387,0.22159763708817423,-1.2118605238189528,1.2440218907966467,0.8870437340948487,-1.7602496137961745,-0.8038441161106656,0.43123877184878656,-0.6856111512549908,-0.14699128767403657,-2.2514927775466202,0.3810256579120371,-0.33399073703812215,0.8568310968852303,-1.7591695315282843,0.07139481710721052,-1.4989835427890368,-1.323758692382063,-1.275742543750863,0.511986491292987,-0.16147259749940288,-0.1400937674342753,0.24969654201492142,-0.43518197142108034,-1.3506570771227986,-1.5001516208144998,-0.25444948192148775,-0.6355008883387203,-0.9058493729728965,-0.016032752088665357,0.9103607278606926,0.18871594428745314,1.1671677613599445,1.4371250285751684,0.8337283933215233,0.33254422193403543,0.2537912153759133,-0.8145160628787136,-0.33293900872633314,1.7928098015898093,-0.11558511994838473,-0.5036239283403839,-0.34024420316716014,1.270442607496094,-1.9521088354455611,0.5721799161997925,-0.32676088375004936,0.23829216361816088,-0.6638810319586461,0.6261001378621326,-0.9532031426639209,-0.3028686448220451,-0.03323881015307786,-2.2163813272149397,1.2248574758896162,-1.8261008669183256,0.9927307241686352,-0.4144905926853598,0.7644577521814288,3.3897490150859912,0.9981217162595685,0.2925472587199806],\"xaxis\":\"x5\",\"y\":[-0.9973385497255842,0.7837905097733299,0.4114202226020897,-1.382519415517844,-0.02544616448446813,1.0186393009420072,0.8558566196560897,-0.42531885825941645,-0.9864996976021687,-0.31840672611245,0.8916014391327218,0.09513064008948738,0.14918112600259187,0.7532993749218637,-0.4276448581127374,-0.07818602716472968,0.9817795497961357,0.5064226646157375,0.4449416714969202,-0.1941305620600468,-1.137333836757778,-0.728364472625442,0.4034551322996591,1.1872038136253862,1.072600861716576,0.876639868363512,0.7988727597172739,0.17336187404735537,-0.9097532082084129,0.012533433013292253,-0.9104096422704079,-2.929051044968031,-1.5106886534736783,-0.7430555641032094,-1.4288854189909295,1.510197624220518,-0.6236299601792391,-1.6305903851678578,1.4970753518573583,-0.6801286472206881,-0.979692810847835,-3.918868670448135,-0.06330189856562465,-0.47566846234842475,-0.9748506827222614,-1.4239641353896577,0.8518918795735684,-0.20012233219710165,1.3231285909537631,-0.20398723136228153,1.7077088102632907,0.8657554903375352,1.5481392063415123,-0.6105570758624655,1.0654680017823588,-1.0570752290932843,-0.6838031775909165,1.2275931051344096,0.04526621790472486,-1.554941047418443,-0.1492809321534578,-1.8643687527914203,1.3024373203496495,0.7601856921246877,-0.4462509524860536,0.48042464024541787,-1.6502678369241321,-0.14019041774634128,0.8566240306940461,0.43174665495270187,0.3556317639900785,-0.40977523162979523,0.08712426831847198,-0.7085711753892611,-0.2033454347552216,-0.4073598964847509,0.6744578923123841,-1.1400810189635784,2.789963286808077,0.7151297181599133,-0.1850065927724431,-0.08078798544387067,0.2943397056056416,-0.4663434080260867,0.4482366769986187,0.47513966341491815,0.5414854165226178,0.26065911224187877,-2.812297320953207,-1.1255949120105435,-2.505700444917874,-0.46977512258405213,1.740423220809751,-1.5441909687392934,-0.3290211676343685,1.2341058228228599,1.4116520784909827,-0.15889216025557068,0.3652472845120724,-0.9506594561815944],\"yaxis\":\"y5\",\"type\":\"scatter\"},{\"histfunc\":\"count\",\"histnorm\":\"\",\"marker\":{\"color\":\"rgba(55, 128, 191, 1.0)\",\"line\":{\"color\":\"#4D5663\",\"width\":1.3}},\"name\":\"B\",\"nbinsx\":10,\"opacity\":0.8,\"orientation\":\"v\",\"x\":[-0.9973385497255842,0.7837905097733299,0.4114202226020897,-1.382519415517844,-0.02544616448446813,1.0186393009420072,0.8558566196560897,-0.42531885825941645,-0.9864996976021687,-0.31840672611245,0.8916014391327218,0.09513064008948738,0.14918112600259187,0.7532993749218637,-0.4276448581127374,-0.07818602716472968,0.9817795497961357,0.5064226646157375,0.4449416714969202,-0.1941305620600468,-1.137333836757778,-0.728364472625442,0.4034551322996591,1.1872038136253862,1.072600861716576,0.876639868363512,0.7988727597172739,0.17336187404735537,-0.9097532082084129,0.012533433013292253,-0.9104096422704079,-2.929051044968031,-1.5106886534736783,-0.7430555641032094,-1.4288854189909295,1.510197624220518,-0.6236299601792391,-1.6305903851678578,1.4970753518573583,-0.6801286472206881,-0.979692810847835,-3.918868670448135,-0.06330189856562465,-0.47566846234842475,-0.9748506827222614,-1.4239641353896577,0.8518918795735684,-0.20012233219710165,1.3231285909537631,-0.20398723136228153,1.7077088102632907,0.8657554903375352,1.5481392063415123,-0.6105570758624655,1.0654680017823588,-1.0570752290932843,-0.6838031775909165,1.2275931051344096,0.04526621790472486,-1.554941047418443,-0.1492809321534578,-1.8643687527914203,1.3024373203496495,0.7601856921246877,-0.4462509524860536,0.48042464024541787,-1.6502678369241321,-0.14019041774634128,0.8566240306940461,0.43174665495270187,0.3556317639900785,-0.40977523162979523,0.08712426831847198,-0.7085711753892611,-0.2033454347552216,-0.4073598964847509,0.6744578923123841,-1.1400810189635784,2.789963286808077,0.7151297181599133,-0.1850065927724431,-0.08078798544387067,0.2943397056056416,-0.4663434080260867,0.4482366769986187,0.47513966341491815,0.5414854165226178,0.26065911224187877,-2.812297320953207,-1.1255949120105435,-2.505700444917874,-0.46977512258405213,1.740423220809751,-1.5441909687392934,-0.3290211676343685,1.2341058228228599,1.4116520784909827,-0.15889216025557068,0.3652472845120724,-0.9506594561815944],\"xaxis\":\"x6\",\"yaxis\":\"y6\",\"type\":\"histogram\"},{\"line\":{\"color\":\"rgba(128, 128, 128, 1.0)\",\"dash\":\"solid\",\"shape\":\"linear\",\"width\":1.3},\"marker\":{\"size\":2,\"symbol\":\"circle\"},\"mode\":\"markers\",\"name\":\"B\",\"text\":\"\",\"x\":[1.0864046306308808,-2.117706929156139,-1.2657032246801565,2.5932805861413653,2.3441482450765103,0.6674682583798568,-0.1835273141853627,0.2583844424970538,-0.6483423820697635,0.7780014941223886,-0.7273056251298629,0.9481714505443428,-0.9642703058807677,-1.4920150058769135,0.02725130182667299,0.8917637879364976,-0.8262170965548993,-1.6690165954411205,0.18823231071314683,2.0825835518223434,0.25609372508776107,-0.5797066503326798,0.5313731546350134,-2.210742751298976,0.33738118000910555,0.034452221667001584,1.2099898876920567,-0.6570404629277719,0.29402043054374144,-0.5241920937423493,0.014854980846425616,-0.0731386366180003,0.9889571867068379,0.3604640259711464,-0.8535715053035,-0.6992512941022685,-0.6504137323602593,-1.3766659426179497,0.9971959727729144,-0.3727831661676519,0.5383185808078945,0.8631952314456995,0.051086002734756726,-0.1560917038308907,-0.9659560123338276,0.3524991124365591,0.9329956521976098,0.1818301711167429,-1.5766343201629727,-0.45241297679267883,0.5870064590218528,1.0654608493611661,-0.6821606520130433,-0.9412863076083865,1.1843527372507086,-1.8526316035548385,-0.019601827080674504,-0.5126217644897857,-0.5825695107624571,0.6957071648600781,0.46893509264191213,1.3725126676973547,1.5730227496089528,1.0412155230943265,0.18043340981159584,-0.5676000862195282,-0.027260664542144063,-2.0269003381063615,-0.6927569999618353,-0.11126050196888806,-0.4262357879099346,0.6554798803349987,0.025909432046648626,1.2949286553633488,0.04486138850675194,0.45730466244142837,0.5951019525594958,-1.3688868513192267,0.25538098232992745,1.2376000160840637,-0.09945363962576523,-0.8326934913241475,-0.5677424132882882,0.7891303619630893,0.3185725484702451,0.8167727575712042,-0.9399469880604976,0.41024895923266946,1.444813392250273,-0.07045540716588254,-0.9748583646965104,0.32545272467843805,0.1019678286423425,-0.2559831301171352,0.42683733071148106,-0.8375150189862056,-0.2429797619330411,0.12781625889002363,1.1039018819856634,0.2647893086331442],\"xaxis\":\"x7\",\"y\":[-0.9973385497255842,0.7837905097733299,0.4114202226020897,-1.382519415517844,-0.02544616448446813,1.0186393009420072,0.8558566196560897,-0.42531885825941645,-0.9864996976021687,-0.31840672611245,0.8916014391327218,0.09513064008948738,0.14918112600259187,0.7532993749218637,-0.4276448581127374,-0.07818602716472968,0.9817795497961357,0.5064226646157375,0.4449416714969202,-0.1941305620600468,-1.137333836757778,-0.728364472625442,0.4034551322996591,1.1872038136253862,1.072600861716576,0.876639868363512,0.7988727597172739,0.17336187404735537,-0.9097532082084129,0.012533433013292253,-0.9104096422704079,-2.929051044968031,-1.5106886534736783,-0.7430555641032094,-1.4288854189909295,1.510197624220518,-0.6236299601792391,-1.6305903851678578,1.4970753518573583,-0.6801286472206881,-0.979692810847835,-3.918868670448135,-0.06330189856562465,-0.47566846234842475,-0.9748506827222614,-1.4239641353896577,0.8518918795735684,-0.20012233219710165,1.3231285909537631,-0.20398723136228153,1.7077088102632907,0.8657554903375352,1.5481392063415123,-0.6105570758624655,1.0654680017823588,-1.0570752290932843,-0.6838031775909165,1.2275931051344096,0.04526621790472486,-1.554941047418443,-0.1492809321534578,-1.8643687527914203,1.3024373203496495,0.7601856921246877,-0.4462509524860536,0.48042464024541787,-1.6502678369241321,-0.14019041774634128,0.8566240306940461,0.43174665495270187,0.3556317639900785,-0.40977523162979523,0.08712426831847198,-0.7085711753892611,-0.2033454347552216,-0.4073598964847509,0.6744578923123841,-1.1400810189635784,2.789963286808077,0.7151297181599133,-0.1850065927724431,-0.08078798544387067,0.2943397056056416,-0.4663434080260867,0.4482366769986187,0.47513966341491815,0.5414854165226178,0.26065911224187877,-2.812297320953207,-1.1255949120105435,-2.505700444917874,-0.46977512258405213,1.740423220809751,-1.5441909687392934,-0.3290211676343685,1.2341058228228599,1.4116520784909827,-0.15889216025557068,0.3652472845120724,-0.9506594561815944],\"yaxis\":\"y7\",\"type\":\"scatter\"},{\"line\":{\"color\":\"rgba(128, 128, 128, 1.0)\",\"dash\":\"solid\",\"shape\":\"linear\",\"width\":1.3},\"marker\":{\"size\":2,\"symbol\":\"circle\"},\"mode\":\"markers\",\"name\":\"B\",\"text\":\"\",\"x\":[-1.6845488099545214,-1.483580830558176,-1.351768998320571,-0.01670157966836927,-0.6498272706298257,-0.39693622223683184,-0.015384532655009716,-1.271129237931862,0.10102497598995928,0.9121207251319526,0.05784086180539316,2.255054723154915,0.6212858268150763,-1.310394130386014,-0.07459700189764103,1.3967088263475662,1.9414688534400504,-0.9669469098322742,0.00361916509855848,-0.37158477845966215,-0.6242834233416957,-0.8890398056750107,-1.0704495466281345,0.9413483928126101,0.5235587640742109,1.1660326604493139,1.0078060116319765,0.06433268542995113,1.3315683014657924,0.00884593567451398,1.3921844033026607,0.8349470749507719,0.9353675499919318,0.6152327356021556,1.2579100589134553,-0.08129471439641622,0.475648611836743,0.8783130574365247,-1.7746903391982813,0.6912107389909029,0.5951721876769813,0.22237846218612714,0.03383104583304392,1.0070101867672185,1.4897134483290622,1.3561509968741807,-0.19133532983999577,-1.233246554456392,-1.055509293044572,-0.6060565386044152,2.908426841456705,0.33312373132415274,-0.39954762035321734,0.9970412169219489,-0.6774438852411577,-0.2678941091274693,1.7198965439060192,0.706833219697714,0.8457112842518558,0.425614589120953,1.4762093604887738,-0.5084467555406659,0.45774493220204304,1.276061650134015,1.4778646002820932,0.346808944062437,-0.039594696973332795,0.6942260287033303,0.7818660492215526,-0.09704360574352183,-0.40313533285190983,-0.3079192098887542,-1.0870176893478802,-1.4230941947914724,1.4873608115316441,0.45367332661392235,1.2806929902265727,0.7299483418142648,0.8453747810682767,0.22874782903798577,0.09706130982578182,1.0655381359822373,-0.4728019326610291,0.06074411969392115,1.6291176566718677,1.2019842760110888,-0.23407452273624657,0.6934983218568695,0.6801247526209236,0.9831105397594796,0.6594950175304114,-2.120860562056467,-1.308792642192246,-0.3608479254804576,-0.8614309832746896,-0.2634810163783852,-0.08006618092105477,0.01876852676574486,0.5521719952491408,-1.0932665440530167],\"xaxis\":\"x8\",\"y\":[-0.9973385497255842,0.7837905097733299,0.4114202226020897,-1.382519415517844,-0.02544616448446813,1.0186393009420072,0.8558566196560897,-0.42531885825941645,-0.9864996976021687,-0.31840672611245,0.8916014391327218,0.09513064008948738,0.14918112600259187,0.7532993749218637,-0.4276448581127374,-0.07818602716472968,0.9817795497961357,0.5064226646157375,0.4449416714969202,-0.1941305620600468,-1.137333836757778,-0.728364472625442,0.4034551322996591,1.1872038136253862,1.072600861716576,0.876639868363512,0.7988727597172739,0.17336187404735537,-0.9097532082084129,0.012533433013292253,-0.9104096422704079,-2.929051044968031,-1.5106886534736783,-0.7430555641032094,-1.4288854189909295,1.510197624220518,-0.6236299601792391,-1.6305903851678578,1.4970753518573583,-0.6801286472206881,-0.979692810847835,-3.918868670448135,-0.06330189856562465,-0.47566846234842475,-0.9748506827222614,-1.4239641353896577,0.8518918795735684,-0.20012233219710165,1.3231285909537631,-0.20398723136228153,1.7077088102632907,0.8657554903375352,1.5481392063415123,-0.6105570758624655,1.0654680017823588,-1.0570752290932843,-0.6838031775909165,1.2275931051344096,0.04526621790472486,-1.554941047418443,-0.1492809321534578,-1.8643687527914203,1.3024373203496495,0.7601856921246877,-0.4462509524860536,0.48042464024541787,-1.6502678369241321,-0.14019041774634128,0.8566240306940461,0.43174665495270187,0.3556317639900785,-0.40977523162979523,0.08712426831847198,-0.7085711753892611,-0.2033454347552216,-0.4073598964847509,0.6744578923123841,-1.1400810189635784,2.789963286808077,0.7151297181599133,-0.1850065927724431,-0.08078798544387067,0.2943397056056416,-0.4663434080260867,0.4482366769986187,0.47513966341491815,0.5414854165226178,0.26065911224187877,-2.812297320953207,-1.1255949120105435,-2.505700444917874,-0.46977512258405213,1.740423220809751,-1.5441909687392934,-0.3290211676343685,1.2341058228228599,1.4116520784909827,-0.15889216025557068,0.3652472845120724,-0.9506594561815944],\"yaxis\":\"y8\",\"type\":\"scatter\"},{\"line\":{\"color\":\"rgba(128, 128, 128, 1.0)\",\"dash\":\"solid\",\"shape\":\"linear\",\"width\":1.3},\"marker\":{\"size\":2,\"symbol\":\"circle\"},\"mode\":\"markers\",\"name\":\"C\",\"text\":\"\",\"x\":[-1.102157375614898,2.2865785896451056,0.4566434341878121,-0.4892334021311478,-2.130815216314164,0.34465161154860385,-0.49941355380787994,-0.07831088917902136,0.602111357449041,1.836312051939149,0.68653066400194,0.7272723288016878,-0.561985964001304,0.4749032085110548,-0.3943567537206873,-1.7812394531296598,-1.55016940753543,-0.8961215905737038,1.0396020876583527,-0.37499036096735866,-0.6078496437501864,-0.6540352795879921,1.5427968616244505,-0.7479992770240803,1.7736972039880796,-1.4616429884856508,0.3784126846667629,-1.2081394791450908,0.7602952072803093,0.43055980891856077,-0.3374320242569034,0.7706767098237173,-0.5463347726811589,0.033762295791289997,0.4990878712300638,1.1825854932025412,0.015844384267101563,-1.129231072418561,-2.7533196079610387,0.22159763708817423,-1.2118605238189528,1.2440218907966467,0.8870437340948487,-1.7602496137961745,-0.8038441161106656,0.43123877184878656,-0.6856111512549908,-0.14699128767403657,-2.2514927775466202,0.3810256579120371,-0.33399073703812215,0.8568310968852303,-1.7591695315282843,0.07139481710721052,-1.4989835427890368,-1.323758692382063,-1.275742543750863,0.511986491292987,-0.16147259749940288,-0.1400937674342753,0.24969654201492142,-0.43518197142108034,-1.3506570771227986,-1.5001516208144998,-0.25444948192148775,-0.6355008883387203,-0.9058493729728965,-0.016032752088665357,0.9103607278606926,0.18871594428745314,1.1671677613599445,1.4371250285751684,0.8337283933215233,0.33254422193403543,0.2537912153759133,-0.8145160628787136,-0.33293900872633314,1.7928098015898093,-0.11558511994838473,-0.5036239283403839,-0.34024420316716014,1.270442607496094,-1.9521088354455611,0.5721799161997925,-0.32676088375004936,0.23829216361816088,-0.6638810319586461,0.6261001378621326,-0.9532031426639209,-0.3028686448220451,-0.03323881015307786,-2.2163813272149397,1.2248574758896162,-1.8261008669183256,0.9927307241686352,-0.4144905926853598,0.7644577521814288,3.3897490150859912,0.9981217162595685,0.2925472587199806],\"xaxis\":\"x9\",\"y\":[1.0864046306308808,-2.117706929156139,-1.2657032246801565,2.5932805861413653,2.3441482450765103,0.6674682583798568,-0.1835273141853627,0.2583844424970538,-0.6483423820697635,0.7780014941223886,-0.7273056251298629,0.9481714505443428,-0.9642703058807677,-1.4920150058769135,0.02725130182667299,0.8917637879364976,-0.8262170965548993,-1.6690165954411205,0.18823231071314683,2.0825835518223434,0.25609372508776107,-0.5797066503326798,0.5313731546350134,-2.210742751298976,0.33738118000910555,0.034452221667001584,1.2099898876920567,-0.6570404629277719,0.29402043054374144,-0.5241920937423493,0.014854980846425616,-0.0731386366180003,0.9889571867068379,0.3604640259711464,-0.8535715053035,-0.6992512941022685,-0.6504137323602593,-1.3766659426179497,0.9971959727729144,-0.3727831661676519,0.5383185808078945,0.8631952314456995,0.051086002734756726,-0.1560917038308907,-0.9659560123338276,0.3524991124365591,0.9329956521976098,0.1818301711167429,-1.5766343201629727,-0.45241297679267883,0.5870064590218528,1.0654608493611661,-0.6821606520130433,-0.9412863076083865,1.1843527372507086,-1.8526316035548385,-0.019601827080674504,-0.5126217644897857,-0.5825695107624571,0.6957071648600781,0.46893509264191213,1.3725126676973547,1.5730227496089528,1.0412155230943265,0.18043340981159584,-0.5676000862195282,-0.027260664542144063,-2.0269003381063615,-0.6927569999618353,-0.11126050196888806,-0.4262357879099346,0.6554798803349987,0.025909432046648626,1.2949286553633488,0.04486138850675194,0.45730466244142837,0.5951019525594958,-1.3688868513192267,0.25538098232992745,1.2376000160840637,-0.09945363962576523,-0.8326934913241475,-0.5677424132882882,0.7891303619630893,0.3185725484702451,0.8167727575712042,-0.9399469880604976,0.41024895923266946,1.444813392250273,-0.07045540716588254,-0.9748583646965104,0.32545272467843805,0.1019678286423425,-0.2559831301171352,0.42683733071148106,-0.8375150189862056,-0.2429797619330411,0.12781625889002363,1.1039018819856634,0.2647893086331442],\"yaxis\":\"y9\",\"type\":\"scatter\"},{\"line\":{\"color\":\"rgba(128, 128, 128, 1.0)\",\"dash\":\"solid\",\"shape\":\"linear\",\"width\":1.3},\"marker\":{\"size\":2,\"symbol\":\"circle\"},\"mode\":\"markers\",\"name\":\"C\",\"text\":\"\",\"x\":[-0.9973385497255842,0.7837905097733299,0.4114202226020897,-1.382519415517844,-0.02544616448446813,1.0186393009420072,0.8558566196560897,-0.42531885825941645,-0.9864996976021687,-0.31840672611245,0.8916014391327218,0.09513064008948738,0.14918112600259187,0.7532993749218637,-0.4276448581127374,-0.07818602716472968,0.9817795497961357,0.5064226646157375,0.4449416714969202,-0.1941305620600468,-1.137333836757778,-0.728364472625442,0.4034551322996591,1.1872038136253862,1.072600861716576,0.876639868363512,0.7988727597172739,0.17336187404735537,-0.9097532082084129,0.012533433013292253,-0.9104096422704079,-2.929051044968031,-1.5106886534736783,-0.7430555641032094,-1.4288854189909295,1.510197624220518,-0.6236299601792391,-1.6305903851678578,1.4970753518573583,-0.6801286472206881,-0.979692810847835,-3.918868670448135,-0.06330189856562465,-0.47566846234842475,-0.9748506827222614,-1.4239641353896577,0.8518918795735684,-0.20012233219710165,1.3231285909537631,-0.20398723136228153,1.7077088102632907,0.8657554903375352,1.5481392063415123,-0.6105570758624655,1.0654680017823588,-1.0570752290932843,-0.6838031775909165,1.2275931051344096,0.04526621790472486,-1.554941047418443,-0.1492809321534578,-1.8643687527914203,1.3024373203496495,0.7601856921246877,-0.4462509524860536,0.48042464024541787,-1.6502678369241321,-0.14019041774634128,0.8566240306940461,0.43174665495270187,0.3556317639900785,-0.40977523162979523,0.08712426831847198,-0.7085711753892611,-0.2033454347552216,-0.4073598964847509,0.6744578923123841,-1.1400810189635784,2.789963286808077,0.7151297181599133,-0.1850065927724431,-0.08078798544387067,0.2943397056056416,-0.4663434080260867,0.4482366769986187,0.47513966341491815,0.5414854165226178,0.26065911224187877,-2.812297320953207,-1.1255949120105435,-2.505700444917874,-0.46977512258405213,1.740423220809751,-1.5441909687392934,-0.3290211676343685,1.2341058228228599,1.4116520784909827,-0.15889216025557068,0.3652472845120724,-0.9506594561815944],\"xaxis\":\"x10\",\"y\":[1.0864046306308808,-2.117706929156139,-1.2657032246801565,2.5932805861413653,2.3441482450765103,0.6674682583798568,-0.1835273141853627,0.2583844424970538,-0.6483423820697635,0.7780014941223886,-0.7273056251298629,0.9481714505443428,-0.9642703058807677,-1.4920150058769135,0.02725130182667299,0.8917637879364976,-0.8262170965548993,-1.6690165954411205,0.18823231071314683,2.0825835518223434,0.25609372508776107,-0.5797066503326798,0.5313731546350134,-2.210742751298976,0.33738118000910555,0.034452221667001584,1.2099898876920567,-0.6570404629277719,0.29402043054374144,-0.5241920937423493,0.014854980846425616,-0.0731386366180003,0.9889571867068379,0.3604640259711464,-0.8535715053035,-0.6992512941022685,-0.6504137323602593,-1.3766659426179497,0.9971959727729144,-0.3727831661676519,0.5383185808078945,0.8631952314456995,0.051086002734756726,-0.1560917038308907,-0.9659560123338276,0.3524991124365591,0.9329956521976098,0.1818301711167429,-1.5766343201629727,-0.45241297679267883,0.5870064590218528,1.0654608493611661,-0.6821606520130433,-0.9412863076083865,1.1843527372507086,-1.8526316035548385,-0.019601827080674504,-0.5126217644897857,-0.5825695107624571,0.6957071648600781,0.46893509264191213,1.3725126676973547,1.5730227496089528,1.0412155230943265,0.18043340981159584,-0.5676000862195282,-0.027260664542144063,-2.0269003381063615,-0.6927569999618353,-0.11126050196888806,-0.4262357879099346,0.6554798803349987,0.025909432046648626,1.2949286553633488,0.04486138850675194,0.45730466244142837,0.5951019525594958,-1.3688868513192267,0.25538098232992745,1.2376000160840637,-0.09945363962576523,-0.8326934913241475,-0.5677424132882882,0.7891303619630893,0.3185725484702451,0.8167727575712042,-0.9399469880604976,0.41024895923266946,1.444813392250273,-0.07045540716588254,-0.9748583646965104,0.32545272467843805,0.1019678286423425,-0.2559831301171352,0.42683733071148106,-0.8375150189862056,-0.2429797619330411,0.12781625889002363,1.1039018819856634,0.2647893086331442],\"yaxis\":\"y10\",\"type\":\"scatter\"},{\"histfunc\":\"count\",\"histnorm\":\"\",\"marker\":{\"color\":\"rgba(50, 171, 96, 1.0)\",\"line\":{\"color\":\"#4D5663\",\"width\":1.3}},\"name\":\"C\",\"nbinsx\":10,\"opacity\":0.8,\"orientation\":\"v\",\"x\":[1.0864046306308808,-2.117706929156139,-1.2657032246801565,2.5932805861413653,2.3441482450765103,0.6674682583798568,-0.1835273141853627,0.2583844424970538,-0.6483423820697635,0.7780014941223886,-0.7273056251298629,0.9481714505443428,-0.9642703058807677,-1.4920150058769135,0.02725130182667299,0.8917637879364976,-0.8262170965548993,-1.6690165954411205,0.18823231071314683,2.0825835518223434,0.25609372508776107,-0.5797066503326798,0.5313731546350134,-2.210742751298976,0.33738118000910555,0.034452221667001584,1.2099898876920567,-0.6570404629277719,0.29402043054374144,-0.5241920937423493,0.014854980846425616,-0.0731386366180003,0.9889571867068379,0.3604640259711464,-0.8535715053035,-0.6992512941022685,-0.6504137323602593,-1.3766659426179497,0.9971959727729144,-0.3727831661676519,0.5383185808078945,0.8631952314456995,0.051086002734756726,-0.1560917038308907,-0.9659560123338276,0.3524991124365591,0.9329956521976098,0.1818301711167429,-1.5766343201629727,-0.45241297679267883,0.5870064590218528,1.0654608493611661,-0.6821606520130433,-0.9412863076083865,1.1843527372507086,-1.8526316035548385,-0.019601827080674504,-0.5126217644897857,-0.5825695107624571,0.6957071648600781,0.46893509264191213,1.3725126676973547,1.5730227496089528,1.0412155230943265,0.18043340981159584,-0.5676000862195282,-0.027260664542144063,-2.0269003381063615,-0.6927569999618353,-0.11126050196888806,-0.4262357879099346,0.6554798803349987,0.025909432046648626,1.2949286553633488,0.04486138850675194,0.45730466244142837,0.5951019525594958,-1.3688868513192267,0.25538098232992745,1.2376000160840637,-0.09945363962576523,-0.8326934913241475,-0.5677424132882882,0.7891303619630893,0.3185725484702451,0.8167727575712042,-0.9399469880604976,0.41024895923266946,1.444813392250273,-0.07045540716588254,-0.9748583646965104,0.32545272467843805,0.1019678286423425,-0.2559831301171352,0.42683733071148106,-0.8375150189862056,-0.2429797619330411,0.12781625889002363,1.1039018819856634,0.2647893086331442],\"xaxis\":\"x11\",\"yaxis\":\"y11\",\"type\":\"histogram\"},{\"line\":{\"color\":\"rgba(128, 128, 128, 1.0)\",\"dash\":\"solid\",\"shape\":\"linear\",\"width\":1.3},\"marker\":{\"size\":2,\"symbol\":\"circle\"},\"mode\":\"markers\",\"name\":\"C\",\"text\":\"\",\"x\":[-1.6845488099545214,-1.483580830558176,-1.351768998320571,-0.01670157966836927,-0.6498272706298257,-0.39693622223683184,-0.015384532655009716,-1.271129237931862,0.10102497598995928,0.9121207251319526,0.05784086180539316,2.255054723154915,0.6212858268150763,-1.310394130386014,-0.07459700189764103,1.3967088263475662,1.9414688534400504,-0.9669469098322742,0.00361916509855848,-0.37158477845966215,-0.6242834233416957,-0.8890398056750107,-1.0704495466281345,0.9413483928126101,0.5235587640742109,1.1660326604493139,1.0078060116319765,0.06433268542995113,1.3315683014657924,0.00884593567451398,1.3921844033026607,0.8349470749507719,0.9353675499919318,0.6152327356021556,1.2579100589134553,-0.08129471439641622,0.475648611836743,0.8783130574365247,-1.7746903391982813,0.6912107389909029,0.5951721876769813,0.22237846218612714,0.03383104583304392,1.0070101867672185,1.4897134483290622,1.3561509968741807,-0.19133532983999577,-1.233246554456392,-1.055509293044572,-0.6060565386044152,2.908426841456705,0.33312373132415274,-0.39954762035321734,0.9970412169219489,-0.6774438852411577,-0.2678941091274693,1.7198965439060192,0.706833219697714,0.8457112842518558,0.425614589120953,1.4762093604887738,-0.5084467555406659,0.45774493220204304,1.276061650134015,1.4778646002820932,0.346808944062437,-0.039594696973332795,0.6942260287033303,0.7818660492215526,-0.09704360574352183,-0.40313533285190983,-0.3079192098887542,-1.0870176893478802,-1.4230941947914724,1.4873608115316441,0.45367332661392235,1.2806929902265727,0.7299483418142648,0.8453747810682767,0.22874782903798577,0.09706130982578182,1.0655381359822373,-0.4728019326610291,0.06074411969392115,1.6291176566718677,1.2019842760110888,-0.23407452273624657,0.6934983218568695,0.6801247526209236,0.9831105397594796,0.6594950175304114,-2.120860562056467,-1.308792642192246,-0.3608479254804576,-0.8614309832746896,-0.2634810163783852,-0.08006618092105477,0.01876852676574486,0.5521719952491408,-1.0932665440530167],\"xaxis\":\"x12\",\"y\":[1.0864046306308808,-2.117706929156139,-1.2657032246801565,2.5932805861413653,2.3441482450765103,0.6674682583798568,-0.1835273141853627,0.2583844424970538,-0.6483423820697635,0.7780014941223886,-0.7273056251298629,0.9481714505443428,-0.9642703058807677,-1.4920150058769135,0.02725130182667299,0.8917637879364976,-0.8262170965548993,-1.6690165954411205,0.18823231071314683,2.0825835518223434,0.25609372508776107,-0.5797066503326798,0.5313731546350134,-2.210742751298976,0.33738118000910555,0.034452221667001584,1.2099898876920567,-0.6570404629277719,0.29402043054374144,-0.5241920937423493,0.014854980846425616,-0.0731386366180003,0.9889571867068379,0.3604640259711464,-0.8535715053035,-0.6992512941022685,-0.6504137323602593,-1.3766659426179497,0.9971959727729144,-0.3727831661676519,0.5383185808078945,0.8631952314456995,0.051086002734756726,-0.1560917038308907,-0.9659560123338276,0.3524991124365591,0.9329956521976098,0.1818301711167429,-1.5766343201629727,-0.45241297679267883,0.5870064590218528,1.0654608493611661,-0.6821606520130433,-0.9412863076083865,1.1843527372507086,-1.8526316035548385,-0.019601827080674504,-0.5126217644897857,-0.5825695107624571,0.6957071648600781,0.46893509264191213,1.3725126676973547,1.5730227496089528,1.0412155230943265,0.18043340981159584,-0.5676000862195282,-0.027260664542144063,-2.0269003381063615,-0.6927569999618353,-0.11126050196888806,-0.4262357879099346,0.6554798803349987,0.025909432046648626,1.2949286553633488,0.04486138850675194,0.45730466244142837,0.5951019525594958,-1.3688868513192267,0.25538098232992745,1.2376000160840637,-0.09945363962576523,-0.8326934913241475,-0.5677424132882882,0.7891303619630893,0.3185725484702451,0.8167727575712042,-0.9399469880604976,0.41024895923266946,1.444813392250273,-0.07045540716588254,-0.9748583646965104,0.32545272467843805,0.1019678286423425,-0.2559831301171352,0.42683733071148106,-0.8375150189862056,-0.2429797619330411,0.12781625889002363,1.1039018819856634,0.2647893086331442],\"yaxis\":\"y12\",\"type\":\"scatter\"},{\"line\":{\"color\":\"rgba(128, 128, 128, 1.0)\",\"dash\":\"solid\",\"shape\":\"linear\",\"width\":1.3},\"marker\":{\"size\":2,\"symbol\":\"circle\"},\"mode\":\"markers\",\"name\":\"D\",\"text\":\"\",\"x\":[-1.102157375614898,2.2865785896451056,0.4566434341878121,-0.4892334021311478,-2.130815216314164,0.34465161154860385,-0.49941355380787994,-0.07831088917902136,0.602111357449041,1.836312051939149,0.68653066400194,0.7272723288016878,-0.561985964001304,0.4749032085110548,-0.3943567537206873,-1.7812394531296598,-1.55016940753543,-0.8961215905737038,1.0396020876583527,-0.37499036096735866,-0.6078496437501864,-0.6540352795879921,1.5427968616244505,-0.7479992770240803,1.7736972039880796,-1.4616429884856508,0.3784126846667629,-1.2081394791450908,0.7602952072803093,0.43055980891856077,-0.3374320242569034,0.7706767098237173,-0.5463347726811589,0.033762295791289997,0.4990878712300638,1.1825854932025412,0.015844384267101563,-1.129231072418561,-2.7533196079610387,0.22159763708817423,-1.2118605238189528,1.2440218907966467,0.8870437340948487,-1.7602496137961745,-0.8038441161106656,0.43123877184878656,-0.6856111512549908,-0.14699128767403657,-2.2514927775466202,0.3810256579120371,-0.33399073703812215,0.8568310968852303,-1.7591695315282843,0.07139481710721052,-1.4989835427890368,-1.323758692382063,-1.275742543750863,0.511986491292987,-0.16147259749940288,-0.1400937674342753,0.24969654201492142,-0.43518197142108034,-1.3506570771227986,-1.5001516208144998,-0.25444948192148775,-0.6355008883387203,-0.9058493729728965,-0.016032752088665357,0.9103607278606926,0.18871594428745314,1.1671677613599445,1.4371250285751684,0.8337283933215233,0.33254422193403543,0.2537912153759133,-0.8145160628787136,-0.33293900872633314,1.7928098015898093,-0.11558511994838473,-0.5036239283403839,-0.34024420316716014,1.270442607496094,-1.9521088354455611,0.5721799161997925,-0.32676088375004936,0.23829216361816088,-0.6638810319586461,0.6261001378621326,-0.9532031426639209,-0.3028686448220451,-0.03323881015307786,-2.2163813272149397,1.2248574758896162,-1.8261008669183256,0.9927307241686352,-0.4144905926853598,0.7644577521814288,3.3897490150859912,0.9981217162595685,0.2925472587199806],\"xaxis\":\"x13\",\"y\":[-1.6845488099545214,-1.483580830558176,-1.351768998320571,-0.01670157966836927,-0.6498272706298257,-0.39693622223683184,-0.015384532655009716,-1.271129237931862,0.10102497598995928,0.9121207251319526,0.05784086180539316,2.255054723154915,0.6212858268150763,-1.310394130386014,-0.07459700189764103,1.3967088263475662,1.9414688534400504,-0.9669469098322742,0.00361916509855848,-0.37158477845966215,-0.6242834233416957,-0.8890398056750107,-1.0704495466281345,0.9413483928126101,0.5235587640742109,1.1660326604493139,1.0078060116319765,0.06433268542995113,1.3315683014657924,0.00884593567451398,1.3921844033026607,0.8349470749507719,0.9353675499919318,0.6152327356021556,1.2579100589134553,-0.08129471439641622,0.475648611836743,0.8783130574365247,-1.7746903391982813,0.6912107389909029,0.5951721876769813,0.22237846218612714,0.03383104583304392,1.0070101867672185,1.4897134483290622,1.3561509968741807,-0.19133532983999577,-1.233246554456392,-1.055509293044572,-0.6060565386044152,2.908426841456705,0.33312373132415274,-0.39954762035321734,0.9970412169219489,-0.6774438852411577,-0.2678941091274693,1.7198965439060192,0.706833219697714,0.8457112842518558,0.425614589120953,1.4762093604887738,-0.5084467555406659,0.45774493220204304,1.276061650134015,1.4778646002820932,0.346808944062437,-0.039594696973332795,0.6942260287033303,0.7818660492215526,-0.09704360574352183,-0.40313533285190983,-0.3079192098887542,-1.0870176893478802,-1.4230941947914724,1.4873608115316441,0.45367332661392235,1.2806929902265727,0.7299483418142648,0.8453747810682767,0.22874782903798577,0.09706130982578182,1.0655381359822373,-0.4728019326610291,0.06074411969392115,1.6291176566718677,1.2019842760110888,-0.23407452273624657,0.6934983218568695,0.6801247526209236,0.9831105397594796,0.6594950175304114,-2.120860562056467,-1.308792642192246,-0.3608479254804576,-0.8614309832746896,-0.2634810163783852,-0.08006618092105477,0.01876852676574486,0.5521719952491408,-1.0932665440530167],\"yaxis\":\"y13\",\"type\":\"scatter\"},{\"line\":{\"color\":\"rgba(128, 128, 128, 1.0)\",\"dash\":\"solid\",\"shape\":\"linear\",\"width\":1.3},\"marker\":{\"size\":2,\"symbol\":\"circle\"},\"mode\":\"markers\",\"name\":\"D\",\"text\":\"\",\"x\":[-0.9973385497255842,0.7837905097733299,0.4114202226020897,-1.382519415517844,-0.02544616448446813,1.0186393009420072,0.8558566196560897,-0.42531885825941645,-0.9864996976021687,-0.31840672611245,0.8916014391327218,0.09513064008948738,0.14918112600259187,0.7532993749218637,-0.4276448581127374,-0.07818602716472968,0.9817795497961357,0.5064226646157375,0.4449416714969202,-0.1941305620600468,-1.137333836757778,-0.728364472625442,0.4034551322996591,1.1872038136253862,1.072600861716576,0.876639868363512,0.7988727597172739,0.17336187404735537,-0.9097532082084129,0.012533433013292253,-0.9104096422704079,-2.929051044968031,-1.5106886534736783,-0.7430555641032094,-1.4288854189909295,1.510197624220518,-0.6236299601792391,-1.6305903851678578,1.4970753518573583,-0.6801286472206881,-0.979692810847835,-3.918868670448135,-0.06330189856562465,-0.47566846234842475,-0.9748506827222614,-1.4239641353896577,0.8518918795735684,-0.20012233219710165,1.3231285909537631,-0.20398723136228153,1.7077088102632907,0.8657554903375352,1.5481392063415123,-0.6105570758624655,1.0654680017823588,-1.0570752290932843,-0.6838031775909165,1.2275931051344096,0.04526621790472486,-1.554941047418443,-0.1492809321534578,-1.8643687527914203,1.3024373203496495,0.7601856921246877,-0.4462509524860536,0.48042464024541787,-1.6502678369241321,-0.14019041774634128,0.8566240306940461,0.43174665495270187,0.3556317639900785,-0.40977523162979523,0.08712426831847198,-0.7085711753892611,-0.2033454347552216,-0.4073598964847509,0.6744578923123841,-1.1400810189635784,2.789963286808077,0.7151297181599133,-0.1850065927724431,-0.08078798544387067,0.2943397056056416,-0.4663434080260867,0.4482366769986187,0.47513966341491815,0.5414854165226178,0.26065911224187877,-2.812297320953207,-1.1255949120105435,-2.505700444917874,-0.46977512258405213,1.740423220809751,-1.5441909687392934,-0.3290211676343685,1.2341058228228599,1.4116520784909827,-0.15889216025557068,0.3652472845120724,-0.9506594561815944],\"xaxis\":\"x14\",\"y\":[-1.6845488099545214,-1.483580830558176,-1.351768998320571,-0.01670157966836927,-0.6498272706298257,-0.39693622223683184,-0.015384532655009716,-1.271129237931862,0.10102497598995928,0.9121207251319526,0.05784086180539316,2.255054723154915,0.6212858268150763,-1.310394130386014,-0.07459700189764103,1.3967088263475662,1.9414688534400504,-0.9669469098322742,0.00361916509855848,-0.37158477845966215,-0.6242834233416957,-0.8890398056750107,-1.0704495466281345,0.9413483928126101,0.5235587640742109,1.1660326604493139,1.0078060116319765,0.06433268542995113,1.3315683014657924,0.00884593567451398,1.3921844033026607,0.8349470749507719,0.9353675499919318,0.6152327356021556,1.2579100589134553,-0.08129471439641622,0.475648611836743,0.8783130574365247,-1.7746903391982813,0.6912107389909029,0.5951721876769813,0.22237846218612714,0.03383104583304392,1.0070101867672185,1.4897134483290622,1.3561509968741807,-0.19133532983999577,-1.233246554456392,-1.055509293044572,-0.6060565386044152,2.908426841456705,0.33312373132415274,-0.39954762035321734,0.9970412169219489,-0.6774438852411577,-0.2678941091274693,1.7198965439060192,0.706833219697714,0.8457112842518558,0.425614589120953,1.4762093604887738,-0.5084467555406659,0.45774493220204304,1.276061650134015,1.4778646002820932,0.346808944062437,-0.039594696973332795,0.6942260287033303,0.7818660492215526,-0.09704360574352183,-0.40313533285190983,-0.3079192098887542,-1.0870176893478802,-1.4230941947914724,1.4873608115316441,0.45367332661392235,1.2806929902265727,0.7299483418142648,0.8453747810682767,0.22874782903798577,0.09706130982578182,1.0655381359822373,-0.4728019326610291,0.06074411969392115,1.6291176566718677,1.2019842760110888,-0.23407452273624657,0.6934983218568695,0.6801247526209236,0.9831105397594796,0.6594950175304114,-2.120860562056467,-1.308792642192246,-0.3608479254804576,-0.8614309832746896,-0.2634810163783852,-0.08006618092105477,0.01876852676574486,0.5521719952491408,-1.0932665440530167],\"yaxis\":\"y14\",\"type\":\"scatter\"},{\"line\":{\"color\":\"rgba(128, 128, 128, 1.0)\",\"dash\":\"solid\",\"shape\":\"linear\",\"width\":1.3},\"marker\":{\"size\":2,\"symbol\":\"circle\"},\"mode\":\"markers\",\"name\":\"D\",\"text\":\"\",\"x\":[1.0864046306308808,-2.117706929156139,-1.2657032246801565,2.5932805861413653,2.3441482450765103,0.6674682583798568,-0.1835273141853627,0.2583844424970538,-0.6483423820697635,0.7780014941223886,-0.7273056251298629,0.9481714505443428,-0.9642703058807677,-1.4920150058769135,0.02725130182667299,0.8917637879364976,-0.8262170965548993,-1.6690165954411205,0.18823231071314683,2.0825835518223434,0.25609372508776107,-0.5797066503326798,0.5313731546350134,-2.210742751298976,0.33738118000910555,0.034452221667001584,1.2099898876920567,-0.6570404629277719,0.29402043054374144,-0.5241920937423493,0.014854980846425616,-0.0731386366180003,0.9889571867068379,0.3604640259711464,-0.8535715053035,-0.6992512941022685,-0.6504137323602593,-1.3766659426179497,0.9971959727729144,-0.3727831661676519,0.5383185808078945,0.8631952314456995,0.051086002734756726,-0.1560917038308907,-0.9659560123338276,0.3524991124365591,0.9329956521976098,0.1818301711167429,-1.5766343201629727,-0.45241297679267883,0.5870064590218528,1.0654608493611661,-0.6821606520130433,-0.9412863076083865,1.1843527372507086,-1.8526316035548385,-0.019601827080674504,-0.5126217644897857,-0.5825695107624571,0.6957071648600781,0.46893509264191213,1.3725126676973547,1.5730227496089528,1.0412155230943265,0.18043340981159584,-0.5676000862195282,-0.027260664542144063,-2.0269003381063615,-0.6927569999618353,-0.11126050196888806,-0.4262357879099346,0.6554798803349987,0.025909432046648626,1.2949286553633488,0.04486138850675194,0.45730466244142837,0.5951019525594958,-1.3688868513192267,0.25538098232992745,1.2376000160840637,-0.09945363962576523,-0.8326934913241475,-0.5677424132882882,0.7891303619630893,0.3185725484702451,0.8167727575712042,-0.9399469880604976,0.41024895923266946,1.444813392250273,-0.07045540716588254,-0.9748583646965104,0.32545272467843805,0.1019678286423425,-0.2559831301171352,0.42683733071148106,-0.8375150189862056,-0.2429797619330411,0.12781625889002363,1.1039018819856634,0.2647893086331442],\"xaxis\":\"x15\",\"y\":[-1.6845488099545214,-1.483580830558176,-1.351768998320571,-0.01670157966836927,-0.6498272706298257,-0.39693622223683184,-0.015384532655009716,-1.271129237931862,0.10102497598995928,0.9121207251319526,0.05784086180539316,2.255054723154915,0.6212858268150763,-1.310394130386014,-0.07459700189764103,1.3967088263475662,1.9414688534400504,-0.9669469098322742,0.00361916509855848,-0.37158477845966215,-0.6242834233416957,-0.8890398056750107,-1.0704495466281345,0.9413483928126101,0.5235587640742109,1.1660326604493139,1.0078060116319765,0.06433268542995113,1.3315683014657924,0.00884593567451398,1.3921844033026607,0.8349470749507719,0.9353675499919318,0.6152327356021556,1.2579100589134553,-0.08129471439641622,0.475648611836743,0.8783130574365247,-1.7746903391982813,0.6912107389909029,0.5951721876769813,0.22237846218612714,0.03383104583304392,1.0070101867672185,1.4897134483290622,1.3561509968741807,-0.19133532983999577,-1.233246554456392,-1.055509293044572,-0.6060565386044152,2.908426841456705,0.33312373132415274,-0.39954762035321734,0.9970412169219489,-0.6774438852411577,-0.2678941091274693,1.7198965439060192,0.706833219697714,0.8457112842518558,0.425614589120953,1.4762093604887738,-0.5084467555406659,0.45774493220204304,1.276061650134015,1.4778646002820932,0.346808944062437,-0.039594696973332795,0.6942260287033303,0.7818660492215526,-0.09704360574352183,-0.40313533285190983,-0.3079192098887542,-1.0870176893478802,-1.4230941947914724,1.4873608115316441,0.45367332661392235,1.2806929902265727,0.7299483418142648,0.8453747810682767,0.22874782903798577,0.09706130982578182,1.0655381359822373,-0.4728019326610291,0.06074411969392115,1.6291176566718677,1.2019842760110888,-0.23407452273624657,0.6934983218568695,0.6801247526209236,0.9831105397594796,0.6594950175304114,-2.120860562056467,-1.308792642192246,-0.3608479254804576,-0.8614309832746896,-0.2634810163783852,-0.08006618092105477,0.01876852676574486,0.5521719952491408,-1.0932665440530167],\"yaxis\":\"y15\",\"type\":\"scatter\"},{\"histfunc\":\"count\",\"histnorm\":\"\",\"marker\":{\"color\":\"rgba(128, 0, 128, 1.0)\",\"line\":{\"color\":\"#4D5663\",\"width\":1.3}},\"name\":\"D\",\"nbinsx\":10,\"opacity\":0.8,\"orientation\":\"v\",\"x\":[-1.6845488099545214,-1.483580830558176,-1.351768998320571,-0.01670157966836927,-0.6498272706298257,-0.39693622223683184,-0.015384532655009716,-1.271129237931862,0.10102497598995928,0.9121207251319526,0.05784086180539316,2.255054723154915,0.6212858268150763,-1.310394130386014,-0.07459700189764103,1.3967088263475662,1.9414688534400504,-0.9669469098322742,0.00361916509855848,-0.37158477845966215,-0.6242834233416957,-0.8890398056750107,-1.0704495466281345,0.9413483928126101,0.5235587640742109,1.1660326604493139,1.0078060116319765,0.06433268542995113,1.3315683014657924,0.00884593567451398,1.3921844033026607,0.8349470749507719,0.9353675499919318,0.6152327356021556,1.2579100589134553,-0.08129471439641622,0.475648611836743,0.8783130574365247,-1.7746903391982813,0.6912107389909029,0.5951721876769813,0.22237846218612714,0.03383104583304392,1.0070101867672185,1.4897134483290622,1.3561509968741807,-0.19133532983999577,-1.233246554456392,-1.055509293044572,-0.6060565386044152,2.908426841456705,0.33312373132415274,-0.39954762035321734,0.9970412169219489,-0.6774438852411577,-0.2678941091274693,1.7198965439060192,0.706833219697714,0.8457112842518558,0.425614589120953,1.4762093604887738,-0.5084467555406659,0.45774493220204304,1.276061650134015,1.4778646002820932,0.346808944062437,-0.039594696973332795,0.6942260287033303,0.7818660492215526,-0.09704360574352183,-0.40313533285190983,-0.3079192098887542,-1.0870176893478802,-1.4230941947914724,1.4873608115316441,0.45367332661392235,1.2806929902265727,0.7299483418142648,0.8453747810682767,0.22874782903798577,0.09706130982578182,1.0655381359822373,-0.4728019326610291,0.06074411969392115,1.6291176566718677,1.2019842760110888,-0.23407452273624657,0.6934983218568695,0.6801247526209236,0.9831105397594796,0.6594950175304114,-2.120860562056467,-1.308792642192246,-0.3608479254804576,-0.8614309832746896,-0.2634810163783852,-0.08006618092105477,0.01876852676574486,0.5521719952491408,-1.0932665440530167],\"xaxis\":\"x16\",\"yaxis\":\"y16\",\"type\":\"histogram\"}],                        {\"bargap\":0.02,\"legend\":{\"bgcolor\":\"#F5F6F9\",\"font\":{\"color\":\"#4D5663\"}},\"paper_bgcolor\":\"#F5F6F9\",\"plot_bgcolor\":\"#F5F6F9\",\"showlegend\":false,\"template\":{\"data\":{\"barpolar\":[{\"marker\":{\"line\":{\"color\":\"#E5ECF6\",\"width\":0.5},\"pattern\":{\"fillmode\":\"overlay\",\"size\":10,\"solidity\":0.2}},\"type\":\"barpolar\"}],\"bar\":[{\"error_x\":{\"color\":\"#2a3f5f\"},\"error_y\":{\"color\":\"#2a3f5f\"},\"marker\":{\"line\":{\"color\":\"#E5ECF6\",\"width\":0.5},\"pattern\":{\"fillmode\":\"overlay\",\"size\":10,\"solidity\":0.2}},\"type\":\"bar\"}],\"carpet\":[{\"aaxis\":{\"endlinecolor\":\"#2a3f5f\",\"gridcolor\":\"white\",\"linecolor\":\"white\",\"minorgridcolor\":\"white\",\"startlinecolor\":\"#2a3f5f\"},\"baxis\":{\"endlinecolor\":\"#2a3f5f\",\"gridcolor\":\"white\",\"linecolor\":\"white\",\"minorgridcolor\":\"white\",\"startlinecolor\":\"#2a3f5f\"},\"type\":\"carpet\"}],\"choropleth\":[{\"colorbar\":{\"outlinewidth\":0,\"ticks\":\"\"},\"type\":\"choropleth\"}],\"contourcarpet\":[{\"colorbar\":{\"outlinewidth\":0,\"ticks\":\"\"},\"type\":\"contourcarpet\"}],\"contour\":[{\"colorbar\":{\"outlinewidth\":0,\"ticks\":\"\"},\"colorscale\":[[0.0,\"#0d0887\"],[0.1111111111111111,\"#46039f\"],[0.2222222222222222,\"#7201a8\"],[0.3333333333333333,\"#9c179e\"],[0.4444444444444444,\"#bd3786\"],[0.5555555555555556,\"#d8576b\"],[0.6666666666666666,\"#ed7953\"],[0.7777777777777778,\"#fb9f3a\"],[0.8888888888888888,\"#fdca26\"],[1.0,\"#f0f921\"]],\"type\":\"contour\"}],\"heatmapgl\":[{\"colorbar\":{\"outlinewidth\":0,\"ticks\":\"\"},\"colorscale\":[[0.0,\"#0d0887\"],[0.1111111111111111,\"#46039f\"],[0.2222222222222222,\"#7201a8\"],[0.3333333333333333,\"#9c179e\"],[0.4444444444444444,\"#bd3786\"],[0.5555555555555556,\"#d8576b\"],[0.6666666666666666,\"#ed7953\"],[0.7777777777777778,\"#fb9f3a\"],[0.8888888888888888,\"#fdca26\"],[1.0,\"#f0f921\"]],\"type\":\"heatmapgl\"}],\"heatmap\":[{\"colorbar\":{\"outlinewidth\":0,\"ticks\":\"\"},\"colorscale\":[[0.0,\"#0d0887\"],[0.1111111111111111,\"#46039f\"],[0.2222222222222222,\"#7201a8\"],[0.3333333333333333,\"#9c179e\"],[0.4444444444444444,\"#bd3786\"],[0.5555555555555556,\"#d8576b\"],[0.6666666666666666,\"#ed7953\"],[0.7777777777777778,\"#fb9f3a\"],[0.8888888888888888,\"#fdca26\"],[1.0,\"#f0f921\"]],\"type\":\"heatmap\"}],\"histogram2dcontour\":[{\"colorbar\":{\"outlinewidth\":0,\"ticks\":\"\"},\"colorscale\":[[0.0,\"#0d0887\"],[0.1111111111111111,\"#46039f\"],[0.2222222222222222,\"#7201a8\"],[0.3333333333333333,\"#9c179e\"],[0.4444444444444444,\"#bd3786\"],[0.5555555555555556,\"#d8576b\"],[0.6666666666666666,\"#ed7953\"],[0.7777777777777778,\"#fb9f3a\"],[0.8888888888888888,\"#fdca26\"],[1.0,\"#f0f921\"]],\"type\":\"histogram2dcontour\"}],\"histogram2d\":[{\"colorbar\":{\"outlinewidth\":0,\"ticks\":\"\"},\"colorscale\":[[0.0,\"#0d0887\"],[0.1111111111111111,\"#46039f\"],[0.2222222222222222,\"#7201a8\"],[0.3333333333333333,\"#9c179e\"],[0.4444444444444444,\"#bd3786\"],[0.5555555555555556,\"#d8576b\"],[0.6666666666666666,\"#ed7953\"],[0.7777777777777778,\"#fb9f3a\"],[0.8888888888888888,\"#fdca26\"],[1.0,\"#f0f921\"]],\"type\":\"histogram2d\"}],\"histogram\":[{\"marker\":{\"pattern\":{\"fillmode\":\"overlay\",\"size\":10,\"solidity\":0.2}},\"type\":\"histogram\"}],\"mesh3d\":[{\"colorbar\":{\"outlinewidth\":0,\"ticks\":\"\"},\"type\":\"mesh3d\"}],\"parcoords\":[{\"line\":{\"colorbar\":{\"outlinewidth\":0,\"ticks\":\"\"}},\"type\":\"parcoords\"}],\"pie\":[{\"automargin\":true,\"type\":\"pie\"}],\"scatter3d\":[{\"line\":{\"colorbar\":{\"outlinewidth\":0,\"ticks\":\"\"}},\"marker\":{\"colorbar\":{\"outlinewidth\":0,\"ticks\":\"\"}},\"type\":\"scatter3d\"}],\"scattercarpet\":[{\"marker\":{\"colorbar\":{\"outlinewidth\":0,\"ticks\":\"\"}},\"type\":\"scattercarpet\"}],\"scattergeo\":[{\"marker\":{\"colorbar\":{\"outlinewidth\":0,\"ticks\":\"\"}},\"type\":\"scattergeo\"}],\"scattergl\":[{\"marker\":{\"colorbar\":{\"outlinewidth\":0,\"ticks\":\"\"}},\"type\":\"scattergl\"}],\"scattermapbox\":[{\"marker\":{\"colorbar\":{\"outlinewidth\":0,\"ticks\":\"\"}},\"type\":\"scattermapbox\"}],\"scatterpolargl\":[{\"marker\":{\"colorbar\":{\"outlinewidth\":0,\"ticks\":\"\"}},\"type\":\"scatterpolargl\"}],\"scatterpolar\":[{\"marker\":{\"colorbar\":{\"outlinewidth\":0,\"ticks\":\"\"}},\"type\":\"scatterpolar\"}],\"scatter\":[{\"fillpattern\":{\"fillmode\":\"overlay\",\"size\":10,\"solidity\":0.2},\"type\":\"scatter\"}],\"scatterternary\":[{\"marker\":{\"colorbar\":{\"outlinewidth\":0,\"ticks\":\"\"}},\"type\":\"scatterternary\"}],\"surface\":[{\"colorbar\":{\"outlinewidth\":0,\"ticks\":\"\"},\"colorscale\":[[0.0,\"#0d0887\"],[0.1111111111111111,\"#46039f\"],[0.2222222222222222,\"#7201a8\"],[0.3333333333333333,\"#9c179e\"],[0.4444444444444444,\"#bd3786\"],[0.5555555555555556,\"#d8576b\"],[0.6666666666666666,\"#ed7953\"],[0.7777777777777778,\"#fb9f3a\"],[0.8888888888888888,\"#fdca26\"],[1.0,\"#f0f921\"]],\"type\":\"surface\"}],\"table\":[{\"cells\":{\"fill\":{\"color\":\"#EBF0F8\"},\"line\":{\"color\":\"white\"}},\"header\":{\"fill\":{\"color\":\"#C8D4E3\"},\"line\":{\"color\":\"white\"}},\"type\":\"table\"}]},\"layout\":{\"annotationdefaults\":{\"arrowcolor\":\"#2a3f5f\",\"arrowhead\":0,\"arrowwidth\":1},\"autotypenumbers\":\"strict\",\"coloraxis\":{\"colorbar\":{\"outlinewidth\":0,\"ticks\":\"\"}},\"colorscale\":{\"diverging\":[[0,\"#8e0152\"],[0.1,\"#c51b7d\"],[0.2,\"#de77ae\"],[0.3,\"#f1b6da\"],[0.4,\"#fde0ef\"],[0.5,\"#f7f7f7\"],[0.6,\"#e6f5d0\"],[0.7,\"#b8e186\"],[0.8,\"#7fbc41\"],[0.9,\"#4d9221\"],[1,\"#276419\"]],\"sequential\":[[0.0,\"#0d0887\"],[0.1111111111111111,\"#46039f\"],[0.2222222222222222,\"#7201a8\"],[0.3333333333333333,\"#9c179e\"],[0.4444444444444444,\"#bd3786\"],[0.5555555555555556,\"#d8576b\"],[0.6666666666666666,\"#ed7953\"],[0.7777777777777778,\"#fb9f3a\"],[0.8888888888888888,\"#fdca26\"],[1.0,\"#f0f921\"]],\"sequentialminus\":[[0.0,\"#0d0887\"],[0.1111111111111111,\"#46039f\"],[0.2222222222222222,\"#7201a8\"],[0.3333333333333333,\"#9c179e\"],[0.4444444444444444,\"#bd3786\"],[0.5555555555555556,\"#d8576b\"],[0.6666666666666666,\"#ed7953\"],[0.7777777777777778,\"#fb9f3a\"],[0.8888888888888888,\"#fdca26\"],[1.0,\"#f0f921\"]]},\"colorway\":[\"#636efa\",\"#EF553B\",\"#00cc96\",\"#ab63fa\",\"#FFA15A\",\"#19d3f3\",\"#FF6692\",\"#B6E880\",\"#FF97FF\",\"#FECB52\"],\"font\":{\"color\":\"#2a3f5f\"},\"geo\":{\"bgcolor\":\"white\",\"lakecolor\":\"white\",\"landcolor\":\"#E5ECF6\",\"showlakes\":true,\"showland\":true,\"subunitcolor\":\"white\"},\"hoverlabel\":{\"align\":\"left\"},\"hovermode\":\"closest\",\"mapbox\":{\"style\":\"light\"},\"paper_bgcolor\":\"white\",\"plot_bgcolor\":\"#E5ECF6\",\"polar\":{\"angularaxis\":{\"gridcolor\":\"white\",\"linecolor\":\"white\",\"ticks\":\"\"},\"bgcolor\":\"#E5ECF6\",\"radialaxis\":{\"gridcolor\":\"white\",\"linecolor\":\"white\",\"ticks\":\"\"}},\"scene\":{\"xaxis\":{\"backgroundcolor\":\"#E5ECF6\",\"gridcolor\":\"white\",\"gridwidth\":2,\"linecolor\":\"white\",\"showbackground\":true,\"ticks\":\"\",\"zerolinecolor\":\"white\"},\"yaxis\":{\"backgroundcolor\":\"#E5ECF6\",\"gridcolor\":\"white\",\"gridwidth\":2,\"linecolor\":\"white\",\"showbackground\":true,\"ticks\":\"\",\"zerolinecolor\":\"white\"},\"zaxis\":{\"backgroundcolor\":\"#E5ECF6\",\"gridcolor\":\"white\",\"gridwidth\":2,\"linecolor\":\"white\",\"showbackground\":true,\"ticks\":\"\",\"zerolinecolor\":\"white\"}},\"shapedefaults\":{\"line\":{\"color\":\"#2a3f5f\"}},\"ternary\":{\"aaxis\":{\"gridcolor\":\"white\",\"linecolor\":\"white\",\"ticks\":\"\"},\"baxis\":{\"gridcolor\":\"white\",\"linecolor\":\"white\",\"ticks\":\"\"},\"bgcolor\":\"#E5ECF6\",\"caxis\":{\"gridcolor\":\"white\",\"linecolor\":\"white\",\"ticks\":\"\"}},\"title\":{\"x\":0.05},\"xaxis\":{\"automargin\":true,\"gridcolor\":\"white\",\"linecolor\":\"white\",\"ticks\":\"\",\"title\":{\"standoff\":15},\"zerolinecolor\":\"white\",\"zerolinewidth\":2},\"yaxis\":{\"automargin\":true,\"gridcolor\":\"white\",\"linecolor\":\"white\",\"ticks\":\"\",\"title\":{\"standoff\":15},\"zerolinecolor\":\"white\",\"zerolinewidth\":2}}},\"title\":{\"font\":{\"color\":\"#4D5663\"}},\"xaxis\":{\"anchor\":\"y\",\"domain\":[0.0,0.2125],\"gridcolor\":\"#E1E5ED\",\"showgrid\":false,\"tickfont\":{\"color\":\"#4D5663\"},\"title\":{\"font\":{\"color\":\"#4D5663\"},\"text\":\"\"},\"zerolinecolor\":\"#E1E5ED\"},\"yaxis\":{\"anchor\":\"x\",\"domain\":[0.8025,1.0],\"gridcolor\":\"#E1E5ED\",\"showgrid\":false,\"tickfont\":{\"color\":\"#4D5663\"},\"title\":{\"font\":{\"color\":\"#4D5663\"},\"text\":\"\"},\"zerolinecolor\":\"#E1E5ED\"},\"xaxis2\":{\"anchor\":\"y2\",\"domain\":[0.2625,0.475],\"gridcolor\":\"#E1E5ED\",\"showgrid\":false,\"tickfont\":{\"color\":\"#4D5663\"},\"title\":{\"font\":{\"color\":\"#4D5663\"},\"text\":\"\"},\"zerolinecolor\":\"#E1E5ED\"},\"yaxis2\":{\"anchor\":\"x2\",\"domain\":[0.8025,1.0],\"gridcolor\":\"#E1E5ED\",\"showgrid\":false,\"tickfont\":{\"color\":\"#4D5663\"},\"title\":{\"font\":{\"color\":\"#4D5663\"},\"text\":\"\"},\"zerolinecolor\":\"#E1E5ED\"},\"xaxis3\":{\"anchor\":\"y3\",\"domain\":[0.525,0.7375],\"gridcolor\":\"#E1E5ED\",\"showgrid\":false,\"tickfont\":{\"color\":\"#4D5663\"},\"title\":{\"font\":{\"color\":\"#4D5663\"},\"text\":\"\"},\"zerolinecolor\":\"#E1E5ED\"},\"yaxis3\":{\"anchor\":\"x3\",\"domain\":[0.8025,1.0],\"gridcolor\":\"#E1E5ED\",\"showgrid\":false,\"tickfont\":{\"color\":\"#4D5663\"},\"title\":{\"font\":{\"color\":\"#4D5663\"},\"text\":\"\"},\"zerolinecolor\":\"#E1E5ED\"},\"xaxis4\":{\"anchor\":\"y4\",\"domain\":[0.7875,1.0],\"gridcolor\":\"#E1E5ED\",\"showgrid\":false,\"tickfont\":{\"color\":\"#4D5663\"},\"title\":{\"font\":{\"color\":\"#4D5663\"},\"text\":\"\"},\"zerolinecolor\":\"#E1E5ED\"},\"yaxis4\":{\"anchor\":\"x4\",\"domain\":[0.8025,1.0],\"gridcolor\":\"#E1E5ED\",\"showgrid\":false,\"tickfont\":{\"color\":\"#4D5663\"},\"title\":{\"font\":{\"color\":\"#4D5663\"},\"text\":\"\"},\"zerolinecolor\":\"#E1E5ED\"},\"xaxis5\":{\"anchor\":\"y5\",\"domain\":[0.0,0.2125],\"gridcolor\":\"#E1E5ED\",\"showgrid\":false,\"tickfont\":{\"color\":\"#4D5663\"},\"title\":{\"font\":{\"color\":\"#4D5663\"},\"text\":\"\"},\"zerolinecolor\":\"#E1E5ED\"},\"yaxis5\":{\"anchor\":\"x5\",\"domain\":[0.535,0.7325],\"gridcolor\":\"#E1E5ED\",\"showgrid\":false,\"tickfont\":{\"color\":\"#4D5663\"},\"title\":{\"font\":{\"color\":\"#4D5663\"},\"text\":\"\"},\"zerolinecolor\":\"#E1E5ED\"},\"xaxis6\":{\"anchor\":\"y6\",\"domain\":[0.2625,0.475],\"gridcolor\":\"#E1E5ED\",\"showgrid\":false,\"tickfont\":{\"color\":\"#4D5663\"},\"title\":{\"font\":{\"color\":\"#4D5663\"},\"text\":\"\"},\"zerolinecolor\":\"#E1E5ED\"},\"yaxis6\":{\"anchor\":\"x6\",\"domain\":[0.535,0.7325],\"gridcolor\":\"#E1E5ED\",\"showgrid\":false,\"tickfont\":{\"color\":\"#4D5663\"},\"title\":{\"font\":{\"color\":\"#4D5663\"},\"text\":\"\"},\"zerolinecolor\":\"#E1E5ED\"},\"xaxis7\":{\"anchor\":\"y7\",\"domain\":[0.525,0.7375],\"gridcolor\":\"#E1E5ED\",\"showgrid\":false,\"tickfont\":{\"color\":\"#4D5663\"},\"title\":{\"font\":{\"color\":\"#4D5663\"},\"text\":\"\"},\"zerolinecolor\":\"#E1E5ED\"},\"yaxis7\":{\"anchor\":\"x7\",\"domain\":[0.535,0.7325],\"gridcolor\":\"#E1E5ED\",\"showgrid\":false,\"tickfont\":{\"color\":\"#4D5663\"},\"title\":{\"font\":{\"color\":\"#4D5663\"},\"text\":\"\"},\"zerolinecolor\":\"#E1E5ED\"},\"xaxis8\":{\"anchor\":\"y8\",\"domain\":[0.7875,1.0],\"gridcolor\":\"#E1E5ED\",\"showgrid\":false,\"tickfont\":{\"color\":\"#4D5663\"},\"title\":{\"font\":{\"color\":\"#4D5663\"},\"text\":\"\"},\"zerolinecolor\":\"#E1E5ED\"},\"yaxis8\":{\"anchor\":\"x8\",\"domain\":[0.535,0.7325],\"gridcolor\":\"#E1E5ED\",\"showgrid\":false,\"tickfont\":{\"color\":\"#4D5663\"},\"title\":{\"font\":{\"color\":\"#4D5663\"},\"text\":\"\"},\"zerolinecolor\":\"#E1E5ED\"},\"xaxis9\":{\"anchor\":\"y9\",\"domain\":[0.0,0.2125],\"gridcolor\":\"#E1E5ED\",\"showgrid\":false,\"tickfont\":{\"color\":\"#4D5663\"},\"title\":{\"font\":{\"color\":\"#4D5663\"},\"text\":\"\"},\"zerolinecolor\":\"#E1E5ED\"},\"yaxis9\":{\"anchor\":\"x9\",\"domain\":[0.2675,0.465],\"gridcolor\":\"#E1E5ED\",\"showgrid\":false,\"tickfont\":{\"color\":\"#4D5663\"},\"title\":{\"font\":{\"color\":\"#4D5663\"},\"text\":\"\"},\"zerolinecolor\":\"#E1E5ED\"},\"xaxis10\":{\"anchor\":\"y10\",\"domain\":[0.2625,0.475],\"gridcolor\":\"#E1E5ED\",\"showgrid\":false,\"tickfont\":{\"color\":\"#4D5663\"},\"title\":{\"font\":{\"color\":\"#4D5663\"},\"text\":\"\"},\"zerolinecolor\":\"#E1E5ED\"},\"yaxis10\":{\"anchor\":\"x10\",\"domain\":[0.2675,0.465],\"gridcolor\":\"#E1E5ED\",\"showgrid\":false,\"tickfont\":{\"color\":\"#4D5663\"},\"title\":{\"font\":{\"color\":\"#4D5663\"},\"text\":\"\"},\"zerolinecolor\":\"#E1E5ED\"},\"xaxis11\":{\"anchor\":\"y11\",\"domain\":[0.525,0.7375],\"gridcolor\":\"#E1E5ED\",\"showgrid\":false,\"tickfont\":{\"color\":\"#4D5663\"},\"title\":{\"font\":{\"color\":\"#4D5663\"},\"text\":\"\"},\"zerolinecolor\":\"#E1E5ED\"},\"yaxis11\":{\"anchor\":\"x11\",\"domain\":[0.2675,0.465],\"gridcolor\":\"#E1E5ED\",\"showgrid\":false,\"tickfont\":{\"color\":\"#4D5663\"},\"title\":{\"font\":{\"color\":\"#4D5663\"},\"text\":\"\"},\"zerolinecolor\":\"#E1E5ED\"},\"xaxis12\":{\"anchor\":\"y12\",\"domain\":[0.7875,1.0],\"gridcolor\":\"#E1E5ED\",\"showgrid\":false,\"tickfont\":{\"color\":\"#4D5663\"},\"title\":{\"font\":{\"color\":\"#4D5663\"},\"text\":\"\"},\"zerolinecolor\":\"#E1E5ED\"},\"yaxis12\":{\"anchor\":\"x12\",\"domain\":[0.2675,0.465],\"gridcolor\":\"#E1E5ED\",\"showgrid\":false,\"tickfont\":{\"color\":\"#4D5663\"},\"title\":{\"font\":{\"color\":\"#4D5663\"},\"text\":\"\"},\"zerolinecolor\":\"#E1E5ED\"},\"xaxis13\":{\"anchor\":\"y13\",\"domain\":[0.0,0.2125],\"gridcolor\":\"#E1E5ED\",\"showgrid\":false,\"tickfont\":{\"color\":\"#4D5663\"},\"title\":{\"font\":{\"color\":\"#4D5663\"},\"text\":\"\"},\"zerolinecolor\":\"#E1E5ED\"},\"yaxis13\":{\"anchor\":\"x13\",\"domain\":[0.0,0.1975],\"gridcolor\":\"#E1E5ED\",\"showgrid\":false,\"tickfont\":{\"color\":\"#4D5663\"},\"title\":{\"font\":{\"color\":\"#4D5663\"},\"text\":\"\"},\"zerolinecolor\":\"#E1E5ED\"},\"xaxis14\":{\"anchor\":\"y14\",\"domain\":[0.2625,0.475],\"gridcolor\":\"#E1E5ED\",\"showgrid\":false,\"tickfont\":{\"color\":\"#4D5663\"},\"title\":{\"font\":{\"color\":\"#4D5663\"},\"text\":\"\"},\"zerolinecolor\":\"#E1E5ED\"},\"yaxis14\":{\"anchor\":\"x14\",\"domain\":[0.0,0.1975],\"gridcolor\":\"#E1E5ED\",\"showgrid\":false,\"tickfont\":{\"color\":\"#4D5663\"},\"title\":{\"font\":{\"color\":\"#4D5663\"},\"text\":\"\"},\"zerolinecolor\":\"#E1E5ED\"},\"xaxis15\":{\"anchor\":\"y15\",\"domain\":[0.525,0.7375],\"gridcolor\":\"#E1E5ED\",\"showgrid\":false,\"tickfont\":{\"color\":\"#4D5663\"},\"title\":{\"font\":{\"color\":\"#4D5663\"},\"text\":\"\"},\"zerolinecolor\":\"#E1E5ED\"},\"yaxis15\":{\"anchor\":\"x15\",\"domain\":[0.0,0.1975],\"gridcolor\":\"#E1E5ED\",\"showgrid\":false,\"tickfont\":{\"color\":\"#4D5663\"},\"title\":{\"font\":{\"color\":\"#4D5663\"},\"text\":\"\"},\"zerolinecolor\":\"#E1E5ED\"},\"xaxis16\":{\"anchor\":\"y16\",\"domain\":[0.7875,1.0],\"gridcolor\":\"#E1E5ED\",\"showgrid\":false,\"tickfont\":{\"color\":\"#4D5663\"},\"title\":{\"font\":{\"color\":\"#4D5663\"},\"text\":\"\"},\"zerolinecolor\":\"#E1E5ED\"},\"yaxis16\":{\"anchor\":\"x16\",\"domain\":[0.0,0.1975],\"gridcolor\":\"#E1E5ED\",\"showgrid\":false,\"tickfont\":{\"color\":\"#4D5663\"},\"title\":{\"font\":{\"color\":\"#4D5663\"},\"text\":\"\"},\"zerolinecolor\":\"#E1E5ED\"}},                        {\"showLink\": true, \"linkText\": \"Export to plot.ly\", \"plotlyServerURL\": \"https://plot.ly\", \"responsive\": true}                    ).then(function(){\n",
       "                            \n",
       "var gd = document.getElementById('5c1391cb-d1b0-410f-8393-62a8020b03dd');\n",
       "var x = new MutationObserver(function (mutations, observer) {{\n",
       "        var display = window.getComputedStyle(gd).display;\n",
       "        if (!display || display === 'none') {{\n",
       "            console.log([gd, 'removed!']);\n",
       "            Plotly.purge(gd);\n",
       "            observer.disconnect();\n",
       "        }}\n",
       "}});\n",
       "\n",
       "// Listen for the removal of the full notebook cells\n",
       "var notebookContainer = gd.closest('#notebook-container');\n",
       "if (notebookContainer) {{\n",
       "    x.observe(notebookContainer, {childList: true});\n",
       "}}\n",
       "\n",
       "// Listen for the clearing of the current output cell\n",
       "var outputEl = gd.closest('.output');\n",
       "if (outputEl) {{\n",
       "    x.observe(outputEl, {childList: true});\n",
       "}}\n",
       "\n",
       "                        })                };                });            </script>        </div>"
      ]
     },
     "metadata": {},
     "output_type": "display_data"
    }
   ],
   "source": [
    "df.scatter_matrix()"
   ]
  },
  {
   "cell_type": "code",
   "execution_count": null,
   "metadata": {},
   "outputs": [],
   "source": []
  },
  {
   "cell_type": "code",
   "execution_count": null,
   "metadata": {},
   "outputs": [],
   "source": []
  }
 ],
 "metadata": {
  "kernelspec": {
   "display_name": "Python 3 (ipykernel)",
   "language": "python",
   "name": "python3"
  },
  "language_info": {
   "codemirror_mode": {
    "name": "ipython",
    "version": 3
   },
   "file_extension": ".py",
   "mimetype": "text/x-python",
   "name": "python",
   "nbconvert_exporter": "python",
   "pygments_lexer": "ipython3",
   "version": "3.12.3"
  }
 },
 "nbformat": 4,
 "nbformat_minor": 1
}
