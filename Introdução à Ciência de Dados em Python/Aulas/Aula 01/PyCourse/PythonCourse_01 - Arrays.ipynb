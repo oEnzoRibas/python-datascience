{
 "cells": [
  {
   "cell_type": "markdown",
   "id": "e117c33e-7d56-40f9-86ee-4d5b924ca40d",
   "metadata": {},
   "source": [
    "## From a Python List"
   ]
  },
  {
   "cell_type": "markdown",
   "id": "4fafcb89-79be-4c68-82f1-b5da163b3949",
   "metadata": {},
   "source": [
    "#### We can create an array by directly converting a list or list of lists"
   ]
  },
  {
   "cell_type": "code",
   "execution_count": 12,
   "id": "392b0fba-73e8-45be-8f8e-3b9f439d7c67",
   "metadata": {},
   "outputs": [
    {
     "name": "stdout",
     "output_type": "stream",
     "text": [
      "[1, 2, 3]\n"
     ]
    }
   ],
   "source": [
    "my_list = [1,2,3]\n",
    "print (my_list)"
   ]
  },
  {
   "cell_type": "code",
   "execution_count": 6,
   "id": "25293461-545d-4eb2-802c-5b5b95eab152",
   "metadata": {},
   "outputs": [],
   "source": [
    "import numpy as np"
   ]
  },
  {
   "cell_type": "code",
   "execution_count": 7,
   "id": "a0c12f92-608a-417c-97e6-179ffc20453a",
   "metadata": {},
   "outputs": [
    {
     "data": {
      "text/plain": [
       "[[1, 2, 3], [4, 5, 6], [7, 8, 9]]"
      ]
     },
     "execution_count": 7,
     "metadata": {},
     "output_type": "execute_result"
    }
   ],
   "source": [
    "my_matrix = [[1,2,3],[4,5,6],[7,8,9]]\n",
    "my_matrix"
   ]
  },
  {
   "cell_type": "code",
   "execution_count": 8,
   "id": "21457229-eae6-4127-b611-2a6f9ffde293",
   "metadata": {},
   "outputs": [
    {
     "data": {
      "text/plain": [
       "array([[1, 2, 3],\n",
       "       [4, 5, 6],\n",
       "       [7, 8, 9]])"
      ]
     },
     "execution_count": 8,
     "metadata": {},
     "output_type": "execute_result"
    }
   ],
   "source": [
    "np.array(my_matrix)"
   ]
  },
  {
   "cell_type": "code",
   "execution_count": 35,
   "id": "e8b752ab-2735-4225-bf9b-f3a53c59f933",
   "metadata": {},
   "outputs": [
    {
     "name": "stderr",
     "output_type": "stream",
     "text": [
      "<>:1: SyntaxWarning: list indices must be integers or slices, not tuple; perhaps you missed a comma?\n",
      "<>:1: SyntaxWarning: list indices must be integers or slices, not tuple; perhaps you missed a comma?\n",
      "C:\\Users\\d24642\\AppData\\Local\\Temp\\ipykernel_15060\\4181440156.py:1: SyntaxWarning: list indices must be integers or slices, not tuple; perhaps you missed a comma?\n",
      "  my_matrix = [[1,2,3],[4,5,6],[7,8,9]\n",
      "C:\\Users\\d24642\\AppData\\Local\\Temp\\ipykernel_15060\\4181440156.py:1: SyntaxWarning: list indices must be integers or slices, not tuple; perhaps you missed a comma?\n",
      "  my_matrix = [[1,2,3],[4,5,6],[7,8,9]\n",
      "C:\\Users\\d24642\\AppData\\Local\\Temp\\ipykernel_15060\\4181440156.py:1: SyntaxWarning: list indices must be integers or slices, not tuple; perhaps you missed a comma?\n",
      "  my_matrix = [[1,2,3],[4,5,6],[7,8,9]\n",
      "C:\\Users\\d24642\\AppData\\Local\\Temp\\ipykernel_15060\\4181440156.py:1: SyntaxWarning: list indices must be integers or slices, not tuple; perhaps you missed a comma?\n",
      "  my_matrix = [[1,2,3],[4,5,6],[7,8,9]\n",
      "C:\\Users\\d24642\\AppData\\Local\\Temp\\ipykernel_15060\\4181440156.py:1: SyntaxWarning: list indices must be integers or slices, not tuple; perhaps you missed a comma?\n",
      "  my_matrix = [[1,2,3],[4,5,6],[7,8,9]\n"
     ]
    },
    {
     "ename": "TypeError",
     "evalue": "list indices must be integers or slices, not tuple",
     "output_type": "error",
     "traceback": [
      "\u001b[1;31m---------------------------------------------------------------------------\u001b[0m",
      "\u001b[1;31mTypeError\u001b[0m                                 Traceback (most recent call last)",
      "Cell \u001b[1;32mIn[35], line 1\u001b[0m\n\u001b[1;32m----> 1\u001b[0m my_matrix \u001b[38;5;241m=\u001b[39m [[\u001b[38;5;241m1\u001b[39m,\u001b[38;5;241m2\u001b[39m,\u001b[38;5;241m3\u001b[39m],[\u001b[38;5;241m4\u001b[39m,\u001b[38;5;241m5\u001b[39m,\u001b[38;5;241m6\u001b[39m],[\u001b[38;5;241m7\u001b[39m,\u001b[38;5;241m8\u001b[39m,\u001b[38;5;241m9\u001b[39m]\n\u001b[0;32m      2\u001b[0m              [\u001b[38;5;241m10\u001b[39m,\u001b[38;5;28;01mNone\u001b[39;00m,\u001b[38;5;28;01mNone\u001b[39;00m]]\n",
      "\u001b[1;31mTypeError\u001b[0m: list indices must be integers or slices, not tuple"
     ]
    }
   ],
   "source": [
    "my_matrix = [[1,2,3],[4,5,6],[7,8,9][10,None,None]]"
   ]
  },
  {
   "cell_type": "markdown",
   "id": "b290b578-85c6-47eb-8fea-788c0b17184e",
   "metadata": {},
   "source": [
    "##2.2 Built-in Methodsval"
   ]
  },
  {
   "cell_type": "markdown",
   "id": "e418b8f0-bb56-4181-99ad-814da605763a",
   "metadata": {},
   "source": [
    "#### There are lots of built-in ways to generate Arrays\n"
   ]
  },
  {
   "cell_type": "code",
   "execution_count": 25,
   "id": "af7efed0-3ee0-40e8-8746-79cd390b5951",
   "metadata": {},
   "outputs": [
    {
     "data": {
      "text/plain": [
       "array([-50, -49, -48, -47, -46, -45, -44, -43, -42, -41, -40, -39, -38,\n",
       "       -37, -36, -35, -34, -33, -32, -31, -30, -29, -28, -27, -26, -25,\n",
       "       -24, -23, -22, -21, -20, -19, -18, -17, -16, -15, -14, -13, -12,\n",
       "       -11, -10,  -9,  -8,  -7,  -6,  -5,  -4,  -3,  -2,  -1,   0,   1,\n",
       "         2,   3,   4,   5,   6,   7,   8,   9,  10,  11,  12,  13,  14,\n",
       "        15,  16,  17,  18,  19,  20,  21,  22,  23,  24,  25,  26,  27,\n",
       "        28,  29,  30,  31,  32,  33,  34,  35,  36,  37,  38,  39,  40,\n",
       "        41,  42,  43,  44,  45,  46,  47,  48,  49,  50,  51,  52,  53,\n",
       "        54,  55,  56,  57,  58,  59,  60,  61,  62,  63,  64,  65,  66,\n",
       "        67,  68,  69,  70,  71,  72,  73,  74,  75,  76,  77,  78,  79,\n",
       "        80,  81,  82,  83,  84,  85,  86,  87,  88,  89,  90,  91,  92,\n",
       "        93,  94,  95,  96,  97,  98,  99, 100])"
      ]
     },
     "execution_count": 25,
     "metadata": {},
     "output_type": "execute_result"
    }
   ],
   "source": [
    "np.arange(-50,101)"
   ]
  },
  {
   "cell_type": "code",
   "execution_count": 27,
   "id": "1273e91a-e595-4cb9-8d79-89914eab7f59",
   "metadata": {},
   "outputs": [
    {
     "data": {
      "text/plain": [
       "array([  1. ,   1.5,   2. ,   2.5,   3. ,   3.5,   4. ,   4.5,   5. ,\n",
       "         5.5,   6. ,   6.5,   7. ,   7.5,   8. ,   8.5,   9. ,   9.5,\n",
       "        10. ,  10.5,  11. ,  11.5,  12. ,  12.5,  13. ,  13.5,  14. ,\n",
       "        14.5,  15. ,  15.5,  16. ,  16.5,  17. ,  17.5,  18. ,  18.5,\n",
       "        19. ,  19.5,  20. ,  20.5,  21. ,  21.5,  22. ,  22.5,  23. ,\n",
       "        23.5,  24. ,  24.5,  25. ,  25.5,  26. ,  26.5,  27. ,  27.5,\n",
       "        28. ,  28.5,  29. ,  29.5,  30. ,  30.5,  31. ,  31.5,  32. ,\n",
       "        32.5,  33. ,  33.5,  34. ,  34.5,  35. ,  35.5,  36. ,  36.5,\n",
       "        37. ,  37.5,  38. ,  38.5,  39. ,  39.5,  40. ,  40.5,  41. ,\n",
       "        41.5,  42. ,  42.5,  43. ,  43.5,  44. ,  44.5,  45. ,  45.5,\n",
       "        46. ,  46.5,  47. ,  47.5,  48. ,  48.5,  49. ,  49.5,  50. ,\n",
       "        50.5,  51. ,  51.5,  52. ,  52.5,  53. ,  53.5,  54. ,  54.5,\n",
       "        55. ,  55.5,  56. ,  56.5,  57. ,  57.5,  58. ,  58.5,  59. ,\n",
       "        59.5,  60. ,  60.5,  61. ,  61.5,  62. ,  62.5,  63. ,  63.5,\n",
       "        64. ,  64.5,  65. ,  65.5,  66. ,  66.5,  67. ,  67.5,  68. ,\n",
       "        68.5,  69. ,  69.5,  70. ,  70.5,  71. ,  71.5,  72. ,  72.5,\n",
       "        73. ,  73.5,  74. ,  74.5,  75. ,  75.5,  76. ,  76.5,  77. ,\n",
       "        77.5,  78. ,  78.5,  79. ,  79.5,  80. ,  80.5,  81. ,  81.5,\n",
       "        82. ,  82.5,  83. ,  83.5,  84. ,  84.5,  85. ,  85.5,  86. ,\n",
       "        86.5,  87. ,  87.5,  88. ,  88.5,  89. ,  89.5,  90. ,  90.5,\n",
       "        91. ,  91.5,  92. ,  92.5,  93. ,  93.5,  94. ,  94.5,  95. ,\n",
       "        95.5,  96. ,  96.5,  97. ,  97.5,  98. ,  98.5,  99. ,  99.5,\n",
       "       100. , 100.5])"
      ]
     },
     "execution_count": 27,
     "metadata": {},
     "output_type": "execute_result"
    }
   ],
   "source": [
    "np.arange(1,101,0.5)"
   ]
  },
  {
   "cell_type": "code",
   "execution_count": 30,
   "id": "9ccda4a2-af15-4db1-a460-591804a93edf",
   "metadata": {},
   "outputs": [
    {
     "data": {
      "text/plain": [
       "array([0., 0., 0., 0., 0., 0., 0., 0., 0., 0.])"
      ]
     },
     "execution_count": 30,
     "metadata": {},
     "output_type": "execute_result"
    }
   ],
   "source": [
    "np.zeros(10)"
   ]
  },
  {
   "cell_type": "code",
   "execution_count": 32,
   "id": "0b338d49-eee4-425d-91c2-df467042f868",
   "metadata": {},
   "outputs": [
    {
     "data": {
      "text/plain": [
       "array([[0., 0., 0., 0., 0., 0., 0., 0., 0., 0.],\n",
       "       [0., 0., 0., 0., 0., 0., 0., 0., 0., 0.],\n",
       "       [0., 0., 0., 0., 0., 0., 0., 0., 0., 0.],\n",
       "       [0., 0., 0., 0., 0., 0., 0., 0., 0., 0.],\n",
       "       [0., 0., 0., 0., 0., 0., 0., 0., 0., 0.]])"
      ]
     },
     "execution_count": 32,
     "metadata": {},
     "output_type": "execute_result"
    }
   ],
   "source": [
    "np.zeros((5,10))"
   ]
  },
  {
   "cell_type": "code",
   "execution_count": 33,
   "id": "3db27359-79f4-4c24-996a-191d102bd926",
   "metadata": {},
   "outputs": [
    {
     "data": {
      "text/plain": [
       "array([  1.        ,   6.21052632,  11.42105263,  16.63157895,\n",
       "        21.84210526,  27.05263158,  32.26315789,  37.47368421,\n",
       "        42.68421053,  47.89473684,  53.10526316,  58.31578947,\n",
       "        63.52631579,  68.73684211,  73.94736842,  79.15789474,\n",
       "        84.36842105,  89.57894737,  94.78947368, 100.        ])"
      ]
     },
     "execution_count": 33,
     "metadata": {},
     "output_type": "execute_result"
    }
   ],
   "source": [
    "np.linspace(1,100,20)"
   ]
  },
  {
   "cell_type": "code",
   "execution_count": 38,
   "id": "a97d1eca-2893-4a07-af26-fe0b25fc01fb",
   "metadata": {},
   "outputs": [
    {
     "data": {
      "text/plain": [
       "array([-50.        , -40.52631579, -31.05263158, -21.57894737,\n",
       "       -12.10526316,  -2.63157895,   6.84210526,  16.31578947,\n",
       "        25.78947368,  35.26315789,  44.73684211,  54.21052632,\n",
       "        63.68421053,  73.15789474,  82.63157895,  92.10526316,\n",
       "       101.57894737, 111.05263158, 120.52631579, 130.        ])"
      ]
     },
     "execution_count": 38,
     "metadata": {},
     "output_type": "execute_result"
    }
   ],
   "source": [
    "np.linspace(-50,130,20)"
   ]
  },
  {
   "cell_type": "markdown",
   "id": "15300bc7-a335-414f-a15d-1deff564a27d",
   "metadata": {},
   "source": [
    "### Matrix Identidade"
   ]
  },
  {
   "cell_type": "code",
   "execution_count": 39,
   "id": "bc98843c-144c-4abd-8d19-e967ea6b758b",
   "metadata": {},
   "outputs": [
    {
     "data": {
      "text/plain": [
       "array([[1., 0., 0., 0., 0., 0., 0., 0., 0., 0.],\n",
       "       [0., 1., 0., 0., 0., 0., 0., 0., 0., 0.],\n",
       "       [0., 0., 1., 0., 0., 0., 0., 0., 0., 0.],\n",
       "       [0., 0., 0., 1., 0., 0., 0., 0., 0., 0.],\n",
       "       [0., 0., 0., 0., 1., 0., 0., 0., 0., 0.],\n",
       "       [0., 0., 0., 0., 0., 1., 0., 0., 0., 0.],\n",
       "       [0., 0., 0., 0., 0., 0., 1., 0., 0., 0.],\n",
       "       [0., 0., 0., 0., 0., 0., 0., 1., 0., 0.],\n",
       "       [0., 0., 0., 0., 0., 0., 0., 0., 1., 0.],\n",
       "       [0., 0., 0., 0., 0., 0., 0., 0., 0., 1.]])"
      ]
     },
     "execution_count": 39,
     "metadata": {},
     "output_type": "execute_result"
    }
   ],
   "source": [
    "np.eye(10)"
   ]
  },
  {
   "cell_type": "markdown",
   "id": "7a175ac6-4c53-4049-a1df-baedf5b7edce",
   "metadata": {},
   "source": [
    "### Random"
   ]
  },
  {
   "cell_type": "markdown",
   "id": "1bb36ab8-fcbb-4f1b-b142-f04c38954eed",
   "metadata": {},
   "source": [
    "##### Numpy also has lots of ways to create random number arrays"
   ]
  },
  {
   "cell_type": "markdown",
   "id": "1d90649c-e129-4997-b9f6-b80b8144c4ba",
   "metadata": {},
   "source": [
    "### Rand"
   ]
  },
  {
   "cell_type": "markdown",
   "id": "d4284ec6-404d-429c-baa2-55134cc6ae5e",
   "metadata": {},
   "source": [
    "##### Creates an array of the give nshape and populate it with random samples from a uniform distribution over"
   ]
  },
  {
   "cell_type": "code",
   "execution_count": 41,
   "id": "396d0a74-c990-446b-adad-ba6b24ccbd71",
   "metadata": {},
   "outputs": [
    {
     "data": {
      "text/plain": [
       "array([0.67961155, 0.13606859])"
      ]
     },
     "execution_count": 41,
     "metadata": {},
     "output_type": "execute_result"
    }
   ],
   "source": [
    "np.random.rand(2)"
   ]
  },
  {
   "cell_type": "code",
   "execution_count": 47,
   "id": "c9363529-6d23-4901-ac8d-fa94f36c043e",
   "metadata": {},
   "outputs": [
    {
     "data": {
      "text/plain": [
       "array([[0.27554874, 0.79740741, 0.31476852, 0.21422442, 0.50577329],\n",
       "       [0.98482948, 0.89053018, 0.3203989 , 0.44434828, 0.91138864],\n",
       "       [0.37450896, 0.7800136 , 0.17124012, 0.70981396, 0.92589696],\n",
       "       [0.62121539, 0.31900905, 0.65077933, 0.1947824 , 0.65653911],\n",
       "       [0.4900548 , 0.4129565 , 0.86440312, 0.26594765, 0.0736595 ]])"
      ]
     },
     "execution_count": 47,
     "metadata": {},
     "output_type": "execute_result"
    }
   ],
   "source": [
    "np.random.rand(5,5)"
   ]
  },
  {
   "cell_type": "markdown",
   "id": "9409c51e-b4b5-4799-9f39-4fc9b61b5e8d",
   "metadata": {},
   "source": [
    "### Randn - Normal Distribution"
   ]
  },
  {
   "cell_type": "markdown",
   "id": "1a7f2fe8-2abd-490e-a159-40fb63b47d6d",
   "metadata": {},
   "source": [
    "##### Returns a sample from the \"stander normal\" distribution. Unlinks rand which is uniform:"
   ]
  },
  {
   "cell_type": "code",
   "execution_count": 48,
   "id": "f9f42300-75d0-4c86-a878-0cc28bf46f78",
   "metadata": {},
   "outputs": [
    {
     "data": {
      "text/plain": [
       "array([-0.84531098,  0.84909914,  0.58978958,  0.54610387, -0.22510703,\n",
       "        0.14437365, -0.30269089, -0.49879669, -1.6939239 ,  1.65336613])"
      ]
     },
     "execution_count": 48,
     "metadata": {},
     "output_type": "execute_result"
    }
   ],
   "source": [
    "np.random.randn(10)"
   ]
  },
  {
   "cell_type": "markdown",
   "id": "4933d97b-ea75-4686-b4e3-3e0aa7aaa4e6",
   "metadata": {},
   "source": [
    "### radint"
   ]
  },
  {
   "cell_type": "markdown",
   "id": "c490276f-3eaf-4613-905e-c4a1bc77e039",
   "metadata": {},
   "source": [
    "#### Return random integers from low (inclusive) to high (exclusive)"
   ]
  },
  {
   "cell_type": "code",
   "execution_count": 61,
   "id": "8c6cc1d7-7ee1-4ee9-bef0-d379d0ce6e0f",
   "metadata": {},
   "outputs": [
    {
     "data": {
      "text/plain": [
       "13"
      ]
     },
     "execution_count": 61,
     "metadata": {},
     "output_type": "execute_result"
    }
   ],
   "source": [
    "np.random.randint(1,51)"
   ]
  },
  {
   "cell_type": "code",
   "execution_count": 51,
   "id": "e73e3e53-ed10-40b5-995d-bb9897ac2c56",
   "metadata": {},
   "outputs": [
    {
     "data": {
      "text/plain": [
       "array([45, 22,  9])"
      ]
     },
     "execution_count": 51,
     "metadata": {},
     "output_type": "execute_result"
    }
   ],
   "source": [
    "np.random.randint(1,100,3)"
   ]
  },
  {
   "cell_type": "markdown",
   "id": "deebb632-070c-4e07-890e-b25ed3c72703",
   "metadata": {},
   "source": [
    "## Array attributes and Methods"
   ]
  },
  {
   "cell_type": "code",
   "execution_count": 63,
   "id": "83feef18-4eed-4fad-934a-0c8c9da72ca2",
   "metadata": {},
   "outputs": [],
   "source": [
    "ar = np.arange(25)\n",
    "ranar = np.random.randint(0,50,10)"
   ]
  },
  {
   "cell_type": "code",
   "execution_count": 64,
   "id": "b862b8bf-18bf-4a38-85c6-2cf2bbea1636",
   "metadata": {},
   "outputs": [
    {
     "data": {
      "text/plain": [
       "array([ 0,  1,  2,  3,  4,  5,  6,  7,  8,  9, 10, 11, 12, 13, 14, 15, 16,\n",
       "       17, 18, 19, 20, 21, 22, 23, 24])"
      ]
     },
     "execution_count": 64,
     "metadata": {},
     "output_type": "execute_result"
    }
   ],
   "source": [
    "ar"
   ]
  },
  {
   "cell_type": "code",
   "execution_count": 65,
   "id": "5e10842d-670d-470c-afa4-1972125fa086",
   "metadata": {},
   "outputs": [
    {
     "data": {
      "text/plain": [
       "array([ 4,  7, 41, 48, 38, 49, 14,  5, 35, 41])"
      ]
     },
     "execution_count": 65,
     "metadata": {},
     "output_type": "execute_result"
    }
   ],
   "source": [
    "ranar"
   ]
  },
  {
   "cell_type": "markdown",
   "id": "99e9922c-111b-40e6-9ac6-bbfcd2e0b6cb",
   "metadata": {},
   "source": [
    "## Reshape"
   ]
  },
  {
   "cell_type": "code",
   "execution_count": 66,
   "id": "63f69699-fd86-4a53-bd9c-4ecb139927a4",
   "metadata": {},
   "outputs": [
    {
     "data": {
      "text/plain": [
       "array([ 0,  1,  2,  3,  4,  5,  6,  7,  8,  9, 10, 11, 12, 13, 14, 15, 16,\n",
       "       17, 18, 19, 20, 21, 22, 23, 24])"
      ]
     },
     "execution_count": 66,
     "metadata": {},
     "output_type": "execute_result"
    }
   ],
   "source": [
    "ar"
   ]
  },
  {
   "cell_type": "code",
   "execution_count": 69,
   "id": "829aeb95-dd64-4783-b028-113c2ed5d137",
   "metadata": {},
   "outputs": [
    {
     "data": {
      "text/plain": [
       "array([[ 0,  1,  2,  3,  4],\n",
       "       [ 5,  6,  7,  8,  9],\n",
       "       [10, 11, 12, 13, 14],\n",
       "       [15, 16, 17, 18, 19],\n",
       "       [20, 21, 22, 23, 24]])"
      ]
     },
     "execution_count": 69,
     "metadata": {},
     "output_type": "execute_result"
    }
   ],
   "source": [
    "ar.reshape(5,5)"
   ]
  },
  {
   "cell_type": "code",
   "execution_count": 72,
   "id": "cdea24c1-0f85-42dd-a4dd-a6d321dee2c1",
   "metadata": {},
   "outputs": [
    {
     "data": {
      "text/plain": [
       "array([[ 4,  7],\n",
       "       [41, 48],\n",
       "       [38, 49],\n",
       "       [14,  5],\n",
       "       [35, 41]])"
      ]
     },
     "execution_count": 72,
     "metadata": {},
     "output_type": "execute_result"
    }
   ],
   "source": [
    "ranar.reshape(5,2)"
   ]
  },
  {
   "cell_type": "markdown",
   "id": "29065151-a00a-4552-a396-370c75587093",
   "metadata": {},
   "source": [
    "### max,min,argmax,argmin"
   ]
  },
  {
   "cell_type": "code",
   "execution_count": 73,
   "id": "ece2f976-905c-492e-9660-e9bb13c321a2",
   "metadata": {},
   "outputs": [
    {
     "data": {
      "text/plain": [
       "array([ 4,  7, 41, 48, 38, 49, 14,  5, 35, 41])"
      ]
     },
     "execution_count": 73,
     "metadata": {},
     "output_type": "execute_result"
    }
   ],
   "source": [
    "ranar"
   ]
  },
  {
   "cell_type": "code",
   "execution_count": 74,
   "id": "0b6225b4-142d-4dd3-bc9c-64e288a2e64c",
   "metadata": {},
   "outputs": [
    {
     "data": {
      "text/plain": [
       "49"
      ]
     },
     "execution_count": 74,
     "metadata": {},
     "output_type": "execute_result"
    }
   ],
   "source": [
    "ranar.max()"
   ]
  },
  {
   "cell_type": "code",
   "execution_count": 75,
   "id": "9fbb8ccf-5f1e-4e05-b121-bd7c426b526d",
   "metadata": {},
   "outputs": [
    {
     "data": {
      "text/plain": [
       "5"
      ]
     },
     "execution_count": 75,
     "metadata": {},
     "output_type": "execute_result"
    }
   ],
   "source": [
    "ranar.argmax()"
   ]
  },
  {
   "cell_type": "code",
   "execution_count": 77,
   "id": "6dea493a-2a4a-4eef-9736-62bcd3e71af7",
   "metadata": {},
   "outputs": [
    {
     "data": {
      "text/plain": [
       "4"
      ]
     },
     "execution_count": 77,
     "metadata": {},
     "output_type": "execute_result"
    }
   ],
   "source": [
    "ranar.min()"
   ]
  },
  {
   "cell_type": "code",
   "execution_count": 79,
   "id": "7d08133c-9659-4678-9972-8e5f0f8cd99f",
   "metadata": {},
   "outputs": [
    {
     "data": {
      "text/plain": [
       "0"
      ]
     },
     "execution_count": 79,
     "metadata": {},
     "output_type": "execute_result"
    }
   ],
   "source": [
    "ranar.argmin()"
   ]
  },
  {
   "cell_type": "markdown",
   "id": "25eca5f4-08ce-4311-b287-1f8cdfa6e720",
   "metadata": {},
   "source": [
    "## Shape"
   ]
  },
  {
   "cell_type": "markdown",
   "id": "9993ed1a-51f3-4182-8aa3-02cd2a47ff16",
   "metadata": {},
   "source": [
    "#### Shape is an attribute that arrays have (not a method):"
   ]
  },
  {
   "cell_type": "code",
   "execution_count": 81,
   "id": "6f72cce3-1649-4607-8078-7cf08684cbaa",
   "metadata": {},
   "outputs": [
    {
     "data": {
      "text/plain": [
       "array([ 0,  1,  2,  3,  4,  5,  6,  7,  8,  9, 10, 11, 12, 13, 14, 15, 16,\n",
       "       17, 18, 19, 20, 21, 22, 23, 24])"
      ]
     },
     "execution_count": 81,
     "metadata": {},
     "output_type": "execute_result"
    }
   ],
   "source": [
    "ar"
   ]
  },
  {
   "cell_type": "code",
   "execution_count": 83,
   "id": "f848e0ff-8c57-492f-b923-48f5d170c24a",
   "metadata": {},
   "outputs": [
    {
     "data": {
      "text/plain": [
       "(25,)"
      ]
     },
     "execution_count": 83,
     "metadata": {},
     "output_type": "execute_result"
    }
   ],
   "source": [
    "#vector\n",
    "ar.shape"
   ]
  },
  {
   "cell_type": "code",
   "execution_count": 87,
   "id": "ab678b27-c1fc-4b5b-b5f8-42f514cb9c12",
   "metadata": {},
   "outputs": [
    {
     "data": {
      "text/plain": [
       "array([[ 0,  1,  2,  3,  4,  5,  6,  7,  8,  9, 10, 11, 12, 13, 14, 15,\n",
       "        16, 17, 18, 19, 20, 21, 22, 23, 24]])"
      ]
     },
     "execution_count": 87,
     "metadata": {},
     "output_type": "execute_result"
    }
   ],
   "source": [
    "# Notice the two sets of brackets\n",
    "ar.reshape(1,25)"
   ]
  },
  {
   "cell_type": "code",
   "execution_count": 88,
   "id": "f5cc3227-ce0a-495f-9ba9-a6276f78bdf2",
   "metadata": {},
   "outputs": [
    {
     "data": {
      "text/plain": [
       "(1, 25)"
      ]
     },
     "execution_count": 88,
     "metadata": {},
     "output_type": "execute_result"
    }
   ],
   "source": [
    "ar.reshape(1,25).shape"
   ]
  },
  {
   "cell_type": "code",
   "execution_count": 90,
   "id": "9ac794b1-d24f-4bce-8614-e56951a4d0b3",
   "metadata": {},
   "outputs": [
    {
     "data": {
      "text/plain": [
       "array([[ 0],\n",
       "       [ 1],\n",
       "       [ 2],\n",
       "       [ 3],\n",
       "       [ 4],\n",
       "       [ 5],\n",
       "       [ 6],\n",
       "       [ 7],\n",
       "       [ 8],\n",
       "       [ 9],\n",
       "       [10],\n",
       "       [11],\n",
       "       [12],\n",
       "       [13],\n",
       "       [14],\n",
       "       [15],\n",
       "       [16],\n",
       "       [17],\n",
       "       [18],\n",
       "       [19],\n",
       "       [20],\n",
       "       [21],\n",
       "       [22],\n",
       "       [23],\n",
       "       [24]])"
      ]
     },
     "execution_count": 90,
     "metadata": {},
     "output_type": "execute_result"
    }
   ],
   "source": [
    "ar.reshape(25,1)"
   ]
  },
  {
   "cell_type": "code",
   "execution_count": 91,
   "id": "24db9a6c-4fca-40be-a728-e80ad80ca3eb",
   "metadata": {},
   "outputs": [
    {
     "data": {
      "text/plain": [
       "array([[ 0,  1,  2,  3,  4],\n",
       "       [ 5,  6,  7,  8,  9],\n",
       "       [10, 11, 12, 13, 14],\n",
       "       [15, 16, 17, 18, 19],\n",
       "       [20, 21, 22, 23, 24]])"
      ]
     },
     "execution_count": 91,
     "metadata": {},
     "output_type": "execute_result"
    }
   ],
   "source": [
    "matrix = ar.reshape(5,5)\n",
    "matrix"
   ]
  },
  {
   "cell_type": "code",
   "execution_count": 92,
   "id": "5d52040c-460f-41d2-938f-9858f154c1c4",
   "metadata": {},
   "outputs": [
    {
     "data": {
      "text/plain": [
       "(5, 5)"
      ]
     },
     "execution_count": 92,
     "metadata": {},
     "output_type": "execute_result"
    }
   ],
   "source": [
    "matrix.shape"
   ]
  },
  {
   "cell_type": "markdown",
   "id": "efb90249-1f71-4d88-9cbc-9b6f137b449e",
   "metadata": {},
   "source": [
    "### dtype"
   ]
  },
  {
   "cell_type": "markdown",
   "id": "2ad8519c-c537-4167-82ac-b24e8aec2732",
   "metadata": {},
   "source": [
    "#### You can also grab the data type of the object in the array"
   ]
  },
  {
   "cell_type": "code",
   "execution_count": 98,
   "id": "85332df0-8f38-4686-a3c1-8cf3a6283936",
   "metadata": {},
   "outputs": [
    {
     "data": {
      "text/plain": [
       "dtype('int32')"
      ]
     },
     "execution_count": 98,
     "metadata": {},
     "output_type": "execute_result"
    }
   ],
   "source": [
    "matrix.dtype"
   ]
  },
  {
   "cell_type": "code",
   "execution_count": 95,
   "id": "2c86352d-34b5-4e66-8fb0-5c6501b1050b",
   "metadata": {},
   "outputs": [],
   "source": [
    "tipagem = np.linspace (1,100,20)"
   ]
  },
  {
   "cell_type": "code",
   "execution_count": 96,
   "id": "da2b915c-c9da-4d06-9e4a-1c165db34933",
   "metadata": {},
   "outputs": [
    {
     "data": {
      "text/plain": [
       "array([  1.        ,   6.21052632,  11.42105263,  16.63157895,\n",
       "        21.84210526,  27.05263158,  32.26315789,  37.47368421,\n",
       "        42.68421053,  47.89473684,  53.10526316,  58.31578947,\n",
       "        63.52631579,  68.73684211,  73.94736842,  79.15789474,\n",
       "        84.36842105,  89.57894737,  94.78947368, 100.        ])"
      ]
     },
     "execution_count": 96,
     "metadata": {},
     "output_type": "execute_result"
    }
   ],
   "source": [
    "tipagem"
   ]
  },
  {
   "cell_type": "code",
   "execution_count": 99,
   "id": "34153466-bc4f-43df-ac6d-ab6e5241e0c1",
   "metadata": {},
   "outputs": [
    {
     "data": {
      "text/plain": [
       "dtype('float64')"
      ]
     },
     "execution_count": 99,
     "metadata": {},
     "output_type": "execute_result"
    }
   ],
   "source": [
    "tipagem.dtype"
   ]
  },
  {
   "cell_type": "code",
   "execution_count": null,
   "id": "9031cad9-cbad-45c6-9465-bcf5f8b3d8c0",
   "metadata": {},
   "outputs": [],
   "source": []
  }
 ],
 "metadata": {
  "kernelspec": {
   "display_name": "Python 3 (ipykernel)",
   "language": "python",
   "name": "python3"
  },
  "language_info": {
   "codemirror_mode": {
    "name": "ipython",
    "version": 3
   },
   "file_extension": ".py",
   "mimetype": "text/x-python",
   "name": "python",
   "nbconvert_exporter": "python",
   "pygments_lexer": "ipython3",
   "version": "3.11.7"
  }
 },
 "nbformat": 4,
 "nbformat_minor": 5
}
