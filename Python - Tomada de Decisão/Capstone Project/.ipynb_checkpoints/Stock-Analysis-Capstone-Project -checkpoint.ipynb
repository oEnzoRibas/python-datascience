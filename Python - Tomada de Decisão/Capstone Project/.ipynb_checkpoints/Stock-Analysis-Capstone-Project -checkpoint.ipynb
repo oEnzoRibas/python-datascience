{
 "cells": [
  {
   "cell_type": "markdown",
   "id": "9ce20826",
   "metadata": {},
   "source": [
    "# Stock Analysis Capstone Project  \n",
    "\n",
    "-----\n",
    "\n",
    "**Complete the tasks in bold below**\n",
    "\n",
    "**TASK: Run the cells below to import the relevant libraries and load the related .csv files.**\n",
    "\n",
    "** Download from yahoo finance website your own stocks and build your portfolio up.** \n",
    "\n",
    "** By doing this, work with the stocks that you are going to get them from yahoo finance.**\n"
   ]
  },
  {
   "cell_type": "code",
   "execution_count": null,
   "id": "ff8a008c",
   "metadata": {},
   "outputs": [],
   "source": [
    "pip install yfinance==0.2.40"
   ]
  },
  {
   "cell_type": "code",
   "execution_count": null,
   "id": "33390b26",
   "metadata": {},
   "outputs": [],
   "source": [
    "pip install cufflinks"
   ]
  },
  {
   "cell_type": "code",
   "execution_count": null,
   "id": "69fc9967",
   "metadata": {},
   "outputs": [],
   "source": [
    "pip install plotly"
   ]
  },
  {
   "cell_type": "code",
   "execution_count": null,
   "id": "e59d84de",
   "metadata": {},
   "outputs": [],
   "source": [
    "import os\n",
    "import yfinance as yf\n",
    "import pandas_datareader.data as web\n",
    "from pandas_datareader import data, wb\n",
    "import pandas as pd\n",
    "import numpy as np\n",
    "import plotly.express as px\n",
    "import datetime\n",
    "import plotly.graph_objects as go\n",
    "import seaborn as sns\n",
    "yf.pdr_override()\n",
    "%matplotlib inline"
   ]
  },
  {
   "cell_type": "markdown",
   "id": "3a8047e4",
   "metadata": {},
   "source": [
    "## Data."
   ]
  },
  {
   "cell_type": "markdown",
   "id": "45919d02",
   "metadata": {},
   "source": [
    "#### Importing the stocks from Yahoo Finance Plataform"
   ]
  },
  {
   "cell_type": "markdown",
   "id": "23eedbd4",
   "metadata": {},
   "source": [
    "#### Setting an start and end date"
   ]
  },
  {
   "cell_type": "code",
   "execution_count": null,
   "id": "df45bd66",
   "metadata": {},
   "outputs": [],
   "source": [
    "#Defining the start and end date\n",
    "startDate = datetime.datetime(2018, 1, 1)\n",
    "finalDate = datetime.datetime.now()"
   ]
  },
  {
   "cell_type": "markdown",
   "id": "f64e2950",
   "metadata": {},
   "source": [
    "**Portfolio of Tech Stocks**"
   ]
  },
  {
   "cell_type": "markdown",
   "id": "cd3cc046",
   "metadata": {},
   "source": [
    "### I am choosing these tech companies stocks to analyse"
   ]
  },
  {
   "cell_type": "code",
   "execution_count": null,
   "id": "cba2a602",
   "metadata": {},
   "outputs": [],
   "source": [
    "NVDA = yf.download(\"NVDA\", start=startDate,  end=finalDate)"
   ]
  },
  {
   "cell_type": "code",
   "execution_count": null,
   "id": "fb04fe3a",
   "metadata": {},
   "outputs": [],
   "source": [
    "# APPLE\n",
    "AAPL = yf.download(\"AAPL\", start=startDate, end=finalDate)\n",
    "\n",
    "# NVIDIA\n",
    "NVDA = yf.download(\"NVDA\", start=startDate,  end=finalDate)\n",
    "\n",
    "# MICROSOFT\n",
    "MSFT = yf.download(\"MSFT\", start=startDate,  end=finalDate)\n",
    "\n",
    "# AMAZON\n",
    "AMZN = yf.download(\"AMZN\", start=startDate,  end=finalDate)\n",
    "\n",
    "# GOOGLE\n",
    "GOOG = yf.download(\"GOOG\", start=startDate,  end=finalDate)\n",
    "\n",
    "# META\n",
    "META = yf.download(\"META\", start=startDate,  end=finalDate)\n",
    "\n",
    "# TESLA\n",
    "TSLA = yf.download(\"TSLA\", start=startDate,  end=finalDate)"
   ]
  },
  {
   "cell_type": "markdown",
   "id": "597b8196",
   "metadata": {},
   "source": [
    "#### List and Dictionary for Convenience"
   ]
  },
  {
   "cell_type": "code",
   "execution_count": null,
   "id": "502db760",
   "metadata": {},
   "outputs": [],
   "source": [
    "tickers = ['AAPL', 'NVDA', 'MSFT', 'AMZN', 'GOOG', 'META', 'TSLA']"
   ]
  },
  {
   "cell_type": "code",
   "execution_count": null,
   "id": "bcb0e2e8",
   "metadata": {},
   "outputs": [],
   "source": [
    "portfolio_list = [AAPL, NVDA, MSFT, AMZN, GOOG, META, TSLA]"
   ]
  },
  {
   "cell_type": "code",
   "execution_count": null,
   "id": "856f8cd0",
   "metadata": {},
   "outputs": [],
   "source": [
    "portfolio_dict = {ticker: data for ticker, data in zip(tickers, portfolio_list)}"
   ]
  },
  {
   "cell_type": "markdown",
   "id": "a8aa1df6",
   "metadata": {},
   "source": [
    "#### Assuring that all the dataframes have the same size"
   ]
  },
  {
   "cell_type": "code",
   "execution_count": null,
   "id": "40d67755",
   "metadata": {},
   "outputs": [],
   "source": [
    "for ticker, stock in zip(tickers, portfolio_list):\n",
    "    print(f\"{ticker}: {stock.shape}\")"
   ]
  },
  {
   "cell_type": "markdown",
   "id": "42bf69f4",
   "metadata": {},
   "source": [
    "-----------------------\n",
    "\n",
    "### Part One: Returns Analysis\n",
    "-----------"
   ]
  },
  {
   "cell_type": "markdown",
   "id": "3fab9afb",
   "metadata": {},
   "source": [
    "**TASK: What is the start date and what is the end date for the price history of these stocks? (Note: They all share the same timespan, you just need to figure it out for one stock holding.)**"
   ]
  },
  {
   "cell_type": "code",
   "execution_count": null,
   "id": "e65e3d3e",
   "metadata": {},
   "outputs": [],
   "source": [
    "# START DATE\n",
    "startDate"
   ]
  },
  {
   "cell_type": "code",
   "execution_count": null,
   "id": "5157b3bb",
   "metadata": {},
   "outputs": [],
   "source": [
    "# END DATE (CURRENT DATE)\n",
    "finalDate"
   ]
  },
  {
   "cell_type": "markdown",
   "id": "dbb60df9",
   "metadata": {},
   "source": [
    "**TASK: Create a line plot showing the Adj. Close prices over the last 5 years for all the stocks in the portfolio (together on the same plot). Make sure the plot has a legend. [Hint to get them all on the same figure (but there are many ways to do this)](https://stackoverflow.com/questions/13872533/plot-different-dataframes-in-the-same-figure)**"
   ]
  },
  {
   "cell_type": "code",
   "execution_count": null,
   "id": "2e5a2dd3",
   "metadata": {},
   "outputs": [],
   "source": [
    "fig = px.line()\n",
    "\n",
    "for stock, ticker in zip(portfolio_list, tickers):\n",
    "    fig.add_scatter(x=stock.index, y=stock['Adj Close'], mode='lines', name=ticker)\n",
    "\n",
    "fig.update_layout(\n",
    "    title='Stock Prices Over Time',\n",
    "    xaxis_title='Date',\n",
    "    yaxis_title='Adj Close Price',\n",
    "    legend_title='Ticker',\n",
    "    autosize=True,\n",
    "    template='plotly_dark'\n",
    ")\n",
    "\n",
    "fiveYearsBehind = datetime.datetime(finalDate.year - 5, finalDate.month, finalDate.day)\n",
    "\n",
    "# Set specific date range\n",
    "fig.update_xaxes(range=[fiveYearsBehind, finalDate])\n",
    "\n",
    "fig.show()"
   ]
  },
  {
   "cell_type": "markdown",
   "id": "9a1d82af",
   "metadata": {},
   "source": [
    "**TASK: Create a function that takes in the Adj. Close price series, and then can calculate the stocks percent rise or decline from any set of given dates. For example, you should be able to pass in perc_calc(BAC,'2016-09-06','2021-09-03') and get back \"Percent Change: 187.7%\".**\n",
    "\n",
    "You can actually do this in one line, but don't feel like you *have* to. You should also note, that you don't need to worry about checking someone's date, you can assume the dates provided are in the dataset (e.g. user won't pass in 2020-12-25). Feel free to add in a datetime check if you want."
   ]
  },
  {
   "cell_type": "code",
   "execution_count": null,
   "id": "b184ee4e",
   "metadata": {},
   "outputs": [],
   "source": [
    "def perc_calc(ticker,start_date,end_date):\n",
    "    initial_price = portfolio_dict[ticker].loc[start_date][\"Adj Close\"]\n",
    "    final_price = portfolio_dict[ticker].loc[end_date][\"Adj Close\"]\n",
    "    percent_change = ((final_price - initial_price) / initial_price) * 100\n",
    "    return f\"Percent Change: {percent_change:.10f}%\""
   ]
  },
  {
   "cell_type": "code",
   "execution_count": null,
   "id": "2e6a9cee",
   "metadata": {},
   "outputs": [],
   "source": [
    "perc_calc(\"AAPL\", '2019-04-12', '2019-04-15')"
   ]
  },
  {
   "cell_type": "markdown",
   "id": "d0b3115f",
   "metadata": {},
   "source": [
    "**TASK: Create a histogram of the daily returns for each stock in the portfolio:**"
   ]
  },
  {
   "cell_type": "code",
   "execution_count": null,
   "id": "9bcbb9c8",
   "metadata": {},
   "outputs": [],
   "source": [
    "returns = pd.DataFrame()\n",
    "for ticker, stock in zip(tickers, portfolio_list):\n",
    "    returns[ticker + ' Return'] = stock['Adj Close'].pct_change()\n",
    "returns.columns.names = ['Returns']"
   ]
  },
  {
   "cell_type": "code",
   "execution_count": null,
   "id": "054c0d4c",
   "metadata": {},
   "outputs": [],
   "source": [
    "if 'returns' not in globals():\n",
    "    returns = pd.DataFrame()\n",
    "    for ticker, stock in zip(tickers, portfolio_list):\n",
    "        returns[ticker + ' Return'] = stock['Adj Close'].pct_change()\n",
    "    returns.columns.names = ['Returns']\n",
    "\n",
    "fig = go.Figure()\n",
    "\n",
    "for ticker in tickers:\n",
    "    fig.add_trace(go.Histogram(\n",
    "        x=returns[f'{ticker} Return'].dropna(),\n",
    "        nbinsx=150,\n",
    "        histnorm='probability density',\n",
    "        name=f'{ticker} Return',\n",
    "        opacity=0.6\n",
    "    ))\n",
    "\n",
    "fig.update_layout(\n",
    "    title='Distribution of Daily Stock Returns',\n",
    "    xaxis_title='Daily Returns',\n",
    "    yaxis_title='Density',\n",
    "    template='plotly_dark',\n",
    "    barmode='overlay'\n",
    ")\n",
    "\n",
    "fig.show()"
   ]
  },
  {
   "cell_type": "markdown",
   "id": "37725cda",
   "metadata": {},
   "source": [
    "**TASK: Create a plot that shows the value of \\\\$10,000 AAPL at the start of the time series and what value it would have in dollars throughout the rest of the time period.**\n",
    "\n",
    "*Note: There are many ways to calculate this!*"
   ]
  },
  {
   "cell_type": "code",
   "execution_count": null,
   "id": "8543ab74",
   "metadata": {},
   "outputs": [],
   "source": [
    "fig = px.line()\n",
    "\n",
    "for ticker, stock in zip(tickers, portfolio_list):\n",
    "    # Calculate the daily returns of the Stock\n",
    "    stock['Daily Return'] = stock['Adj Close'].pct_change()\n",
    "\n",
    "    # Calculate the cumulative returns\n",
    "    stock['Cumulative Return'] = (1 + stock['Daily Return']).cumprod()\n",
    "\n",
    "    # Calculate the value of the investment over time\n",
    "    initial_investment = 10000\n",
    "    stock['Investment Value'] = initial_investment * stock['Cumulative Return']\n",
    "\n",
    "    fig.add_scatter(x=stock.index, y=stock['Investment Value'], mode='lines', name=ticker)\n",
    "\n",
    "# Plot the investment value over time\n",
    "fig.update_layout(\n",
    "    title='Stocks Investment Value over Time',\n",
    "    xaxis_title='Date',\n",
    "    yaxis_title='Investment Value ($)',\n",
    "    template='plotly_dark')\n",
    "fig.show()"
   ]
  },
  {
   "cell_type": "markdown",
   "id": "06c247a5",
   "metadata": {},
   "source": [
    "**TASK: Find the Annualized Sharpe Ratios for each stock in the portfolio.**"
   ]
  },
  {
   "cell_type": "code",
   "execution_count": null,
   "id": "0b2f24fb",
   "metadata": {},
   "outputs": [],
   "source": [
    "print(\"ANNUALIZED SHAPE RATIO\")\n",
    "for stock, ticker in zip(portfolio_list, tickers):\n",
    "    \n",
    "    # Calculate the mean and standard deviation of daily returns\n",
    "    mean_daily_returns = stock[\"Daily Return\"].mean()\n",
    "    std_daily_returns = stock[\"Daily Return\"].std()\n",
    "\n",
    "    # Assume a risk-free rate of 2% per year\n",
    "    risk_free_rate = 0.02\n",
    "\n",
    "    # Calculate the annualized mean and standard deviation of returns\n",
    "    trading_days = 252\n",
    "    annualized_mean_returns = mean_daily_returns * trading_days\n",
    "    annualized_std_returns = std_daily_returns * np.sqrt(trading_days)\n",
    "\n",
    "    # Calculate the annualized Sharpe Ratios\n",
    "    sharpe_ratios = (annualized_mean_returns - risk_free_rate) / annualized_std_returns\n",
    "    print(f\"{ticker}: {sharpe_ratios:.15f}\")"
   ]
  },
  {
   "cell_type": "markdown",
   "id": "901ca32c",
   "metadata": {},
   "source": [
    "------------------\n",
    "### Part Two:  Volume Analysis \n",
    "-------------"
   ]
  },
  {
   "cell_type": "markdown",
   "id": "9dab0e2a",
   "metadata": {},
   "source": [
    "**TASK: Create a plot showing the daily volume of stock traded over the time period of 5 years.**"
   ]
  },
  {
   "cell_type": "code",
   "execution_count": null,
   "id": "325accbb",
   "metadata": {},
   "outputs": [],
   "source": [
    "fig = px.line()\n",
    "\n",
    "for stock, ticker in zip(portfolio_list, tickers):\n",
    "    fig.add_scatter(x=stock.index, y=stock['Volume'], mode='lines', name=ticker)\n",
    "\n",
    "fig.update_layout(\n",
    "    title='Stock Volumes Over Time',\n",
    "    xaxis_title='Date',\n",
    "    yaxis_title='Adj Close Price',\n",
    "    legend_title='Ticker',\n",
    "    autosize=True,\n",
    "    template='plotly_dark'\n",
    ")\n",
    "\n",
    "fiveYearsBehind = datetime.datetime(finalDate.year - 5, finalDate.month, finalDate.day)\n",
    "\n",
    "fig.update_xaxes(range=[fiveYearsBehind, finalDate])\n",
    "\n",
    "fig.show()"
   ]
  },
  {
   "cell_type": "markdown",
   "id": "762944d0",
   "metadata": {},
   "source": [
    "**TASK: Now create a similar plot as the previous one, but it should reflect the total dollar amount, meaning you will need to take into account the price on each day the volume was traded. Feel free to use Adj Close price as the consensus price for a given day.**"
   ]
  },
  {
   "cell_type": "code",
   "execution_count": null,
   "id": "c35bf8a3",
   "metadata": {},
   "outputs": [],
   "source": [
    "fig = px.line()\n",
    "\n",
    "for stock, ticker in zip(portfolio_list, tickers):\n",
    "    fig.add_scatter(x=stock.index, y=stock['Volume']*stock['Adj Close'], mode='lines', name=ticker)\n",
    "\n",
    "fig.update_layout(\n",
    "    title='Stock Prices Over Time',\n",
    "    xaxis_title='Date',\n",
    "    yaxis_title='Adj Close Price',\n",
    "    legend_title='Ticker',\n",
    "    autosize=True,\n",
    "    template='plotly_dark'\n",
    ")\n",
    "\n",
    "fiveYearsBehind = datetime.datetime(finalDate.year - 5, finalDate.month, finalDate.day)\n",
    "\n",
    "fig.update_xaxes(range=[fiveYearsBehind, finalDate])\n",
    "\n",
    "fig.show()"
   ]
  },
  {
   "cell_type": "markdown",
   "id": "47d030b7",
   "metadata": {},
   "source": [
    "**TASK: Based on your plot above, which stock had the highest dollar value amount traded of their stock on a single day and what date was this? Did anything significant happen aroudn this time period for that company?**"
   ]
  },
  {
   "cell_type": "markdown",
   "id": "628af11c",
   "metadata": {},
   "source": [
    "**Tesla had the Highest Dollar Value of the Portfolio at 18th of December of 2020, with an Adj Value of USD 231.6666717529297 and an Volume of 666378600**"
   ]
  },
  {
   "cell_type": "code",
   "execution_count": null,
   "id": "ad28583f",
   "metadata": {},
   "outputs": [],
   "source": [
    "print(f\"\"\"\n",
    "_TESLA_\n",
    "Adj Close Price on 2020-12-18 --------> {TSLA['Adj Close']['2020-12-18']}\n",
    "Volume on 2020-12-18 --------> {TSLA['Volume']['2020-12-18']}\n",
    "Dollar Value Traded on 2020-12-18 --------> {TSLA['Adj Close']['2020-12-18'] * TSLA['Volume']['2020-12-18']}\"\"\")\n"
   ]
  },
  {
   "cell_type": "markdown",
   "id": "631e5ced",
   "metadata": {},
   "source": [
    "--------\n",
    "### Part Three: Technical Analysis\n",
    "----"
   ]
  },
  {
   "cell_type": "markdown",
   "id": "96d112bc",
   "metadata": {},
   "source": [
    "**TASK: Using only one stock, create a plot showing the Adj. Close Price along with the 60 day moving average of the price on the same plot.**"
   ]
  },
  {
   "cell_type": "markdown",
   "id": "a9f2f959",
   "metadata": {},
   "source": [
    "**For APPLE**"
   ]
  },
  {
   "cell_type": "code",
   "execution_count": null,
   "id": "ac2898af",
   "metadata": {},
   "outputs": [],
   "source": [
    "AAPL_60_Day_MA = AAPL['Adj Close'].rolling(window=60).mean()\n",
    "\n",
    "fig = px.line()\n",
    "\n",
    "fig.add_scatter(x=AAPL.index, y=AAPL['Adj Close'], mode='lines', name='Adj Close')\n",
    "fig.add_scatter(x=AAPL.index, y=AAPL_60_Day_MA, mode='lines', name='60 Day MA')\n",
    "\n",
    "fig.update_layout(\n",
    "    title='AAPL Adj. Close Price and 60 Day Moving Average',\n",
    "    xaxis_title='Date',\n",
    "    yaxis_title='Price',\n",
    "    template='plotly_dark'\n",
    ")\n",
    "\n",
    "fig.show()"
   ]
  },
  {
   "cell_type": "markdown",
   "id": "f3a72a26",
   "metadata": {},
   "source": [
    "**For Every Stock, feel free to choose your own combinations**"
   ]
  },
  {
   "cell_type": "code",
   "execution_count": null,
   "id": "9ffb7079",
   "metadata": {},
   "outputs": [],
   "source": [
    "\n",
    "fig = px.line()\n",
    "for stock, ticker in zip(portfolio_list, tickers):\n",
    "    stock_60_Day_MA = stock['Adj Close'].rolling(window=60).mean()\n",
    "\n",
    "    fig.add_scatter(x=stock.index, y=stock['Adj Close'], mode='lines', name=f'{ticker} Adj Close')\n",
    "    fig.add_scatter(x=stock.index, y=stock_60_Day_MA, mode='lines', name=f'{ticker} 60 Day MA')\n",
    "\n",
    "    fig.update_layout(\n",
    "        title='Stock Adj. Close Price and 60 Day Moving Average',\n",
    "        xaxis_title='Date',\n",
    "        yaxis_title='Price',\n",
    "        template='plotly_dark'\n",
    "    )\n",
    "\n",
    "fig.show()"
   ]
  },
  {
   "cell_type": "markdown",
   "id": "545d35e4",
   "metadata": {},
   "source": [
    "**BONUS TASK : Creating Bollinger Bands.**\n",
    "\n",
    "Bollinger Bands are a type of statistical chart characterizing the prices and volatility over time of a financial instrument or commodity, using a formulaic method propounded by John Bollinger in the 1980s.\n",
    "\n",
    " Bollinger Bands consist of an N-period moving average (MA), an upper band at K times an N-period standard deviation above the moving average (MA + Kσ), and a lower band at K times an N-period standard deviation below the moving average (MA − Kσ). The chart thus expresses arbitrary choices or assumptions of the user, and is not strictly about the price data alone.\n",
    "\n",
    "Typical values for N and K are 20 days and 2, respectively.\n",
    "\n",
    "Source: [https://en.wikipedia.org/wiki/Bollinger_Bands](https://en.wikipedia.org/wiki/Bollinger_Bands)\n",
    "\n",
    "**TASK: Create a plot which has the Adj. Close price and the upper and lower bollinger bands. Use the formula above, with N=20 days for the rolling rate of the moving average and K=2 for the multiplication of the standard deviation.**"
   ]
  },
  {
   "cell_type": "markdown",
   "id": "f4c7c871",
   "metadata": {},
   "source": [
    "**For APPLE**"
   ]
  },
  {
   "cell_type": "code",
   "execution_count": null,
   "id": "06abb8be",
   "metadata": {},
   "outputs": [],
   "source": [
    "# 20-Day Moving Average\n",
    "NVDA_20_Day_MA = NVDA['Adj Close'].rolling(window=20).mean()\n",
    "\n",
    "# 20-Day Standard Deviation\n",
    "NVDA_20_Day_STD = NVDA['Adj Close'].rolling(window=20).std()\n",
    "\n",
    "NVDA_UpperBand = NVDA_20_Day_MA + (NVDA_20_Day_STD * 2)\n",
    "NVDA_LowerBand = NVDA_20_Day_MA - (NVDA_20_Day_STD * 2)\n",
    "\n",
    "fig = px.line()\n",
    "\n",
    "fig.add_scatter(x=AAPL.index, y=NVDA['Adj Close'], mode='lines', name='Adj Close')\n",
    "fig.add_scatter(x=AAPL.index, y=NVDA_UpperBand, mode='lines', name=' Upper Band')\n",
    "fig.add_scatter(x=AAPL.index, y=NVDA_LowerBand, mode='lines', name=' Lower Band')\n",
    "\n",
    "fig.update_layout(\n",
    "    title='AAPL Adj. Close Price and 60 Day Moving Average',\n",
    "    xaxis_title='Date',\n",
    "    yaxis_title='Price',\n",
    "    template='plotly_dark'\n",
    ")\n",
    "\n",
    "fig.show()"
   ]
  },
  {
   "cell_type": "markdown",
   "id": "f561fdd8",
   "metadata": {},
   "source": [
    "**For Every Stock, feel free to choose your own combinations**"
   ]
  },
  {
   "cell_type": "code",
   "execution_count": null,
   "id": "f4ff52fa",
   "metadata": {},
   "outputs": [],
   "source": [
    "fig = px.line()\n",
    "\n",
    "for stock, ticker in zip(portfolio_list, tickers):\n",
    "\n",
    "    # 20-Day Moving Average\n",
    "    stock_20_Day_MA = stock['Adj Close'].rolling(window=20).mean()\n",
    "\n",
    "    # 20-Day Standard Deviation\n",
    "    stock_20_Day_STD = stock['Adj Close'].rolling(window=20).std()\n",
    "\n",
    "    stock_UpperBand = stock_20_Day_MA + (NVDA_20_Day_STD * 2)\n",
    "    stock_LowerBand = stock_20_Day_MA - (NVDA_20_Day_STD * 2)\n",
    "\n",
    "\n",
    "    fig.add_scatter(x=AAPL.index, y=stock['Adj Close'], mode='lines', name=f'{ticker} Adj Close')\n",
    "    fig.add_scatter(x=AAPL.index, y=stock_UpperBand, mode='lines', name=f'{ticker} Upper Band')\n",
    "    fig.add_scatter(x=AAPL.index, y=stock_LowerBand, mode='lines', name=f'{ticker} Lower Band')\n",
    "\n",
    "    fig.update_layout(\n",
    "        title='stock Adj. Close Price and 60 Day Moving Average',\n",
    "        xaxis_title='Date',\n",
    "        yaxis_title='Price',\n",
    "        template='plotly_dark'\n",
    "    )\n",
    "\n",
    "fig.show()"
   ]
  },
  {
   "cell_type": "markdown",
   "id": "54d3fcd4",
   "metadata": {},
   "source": [
    "# PART II"
   ]
  },
  {
   "cell_type": "markdown",
   "id": "942096f1",
   "metadata": {},
   "source": [
    "\n",
    "---\n",
    "\n",
    "### **1. Weighted and Cumulative Returns**  \n",
    "**Scenario**: You are analyzing the portfolio performance of YOURS stocks: You have daily return data for each stock and their respective weights in the portfolio:  \n",
    "(Example: \\(AAPL\\): 40%, \\(GOOGL\\): 35%, \\(AMZN\\): 25%).  \n",
    "\n",
    "**Task**: Write a Python function that:  \n",
    "1. Calculates the **weighted daily returns** of the portfolio.  \n",
    "2. Computes the **cumulative returns** over time.  \n",
    "3. Visualizes both the daily and cumulative returns on a single graph.  \n",
    "\n"
   ]
  },
  {
   "cell_type": "code",
   "execution_count": null,
   "id": "007cb4f5",
   "metadata": {},
   "outputs": [],
   "source": [
    "def portfolio_performance(weights, returns):\n",
    "    # Calculate weighted daily returns\n",
    "    weighted_returns = returns.mul(weights, axis=1).sum(axis=1)\n",
    "    \n",
    "    # Compute cumulative returns\n",
    "    cumulative_returns = (1 + weighted_returns).cumprod()\n",
    "    \n",
    "    # Plotting\n",
    "    fig = px.line()\n",
    "    \n",
    "    fig.add_scatter(x=weighted_returns.index, y=weighted_returns, mode='lines', name='Daily Returns')\n",
    "    fig.add_scatter(x=cumulative_returns.index, y=cumulative_returns, mode='lines', name='Cumulative Returns')\n",
    "    \n",
    "    fig.update_layout(\n",
    "        title='Portfolio Performance',\n",
    "        xaxis_title='Date',\n",
    "        yaxis_title='Returns',\n",
    "        template='plotly_dark'\n",
    "    )\n",
    "    \n",
    "    fig.show()\n",
    "\n",
    "# Example usage\n",
    "weights = [0.4, 0.2, 0.05, 0.05, 0.05, 0.05, 0.2]  # Example weights for each stock in the portfolio [AAPL, NVDA, MSFT, AMZN, GOOG, META, TSLA]\n",
    "portfolio_performance(weights, returns)"
   ]
  },
  {
   "cell_type": "markdown",
   "id": "063b5bca",
   "metadata": {},
   "source": [
    "\n",
    "### **2. Sortino Ratio for Performance Measurement**  \n",
    "**Scenario**: Your portfolio manager asks for an evaluation of the portfolio's risk-adjusted performance using the Sortino ratio. The portfolio consists of daily returns for a year, and the minimum acceptable return (MAR) is \\(0.02\\).  \n",
    "\n",
    "**Task**:  \n",
    "1. Write a Python script that calculates the **Sortino ratio** for the portfolio.  \n",
    "   - Use the formula:  \n",
    "     \\[\n",
    "     \\text{Sortino Ratio} = \\frac{\\text{Average Portfolio Return} - \\text{MAR}}{\\text{Downside Deviation}}\n",
    "     \\]\n",
    "2. Identify and display days with negative returns contributing to the downside deviation.\n",
    "\n",
    "\n"
   ]
  },
  {
   "cell_type": "code",
   "execution_count": null,
   "id": "51cf4158",
   "metadata": {},
   "outputs": [],
   "source": [
    "def sortino_ratio(returns, weights, mar=0.02):\n",
    "    # Calculate the weighted average portfolio return\n",
    "    weighted_returns = returns.mul(weights, axis=1).sum(axis=1)\n",
    "    avg_return = weighted_returns.mean()\n",
    "\n",
    "    # Calculate the downside deviation\n",
    "    downside_returns = weighted_returns[weighted_returns < mar]\n",
    "    downside_deviation = np.sqrt((downside_returns ** 2).mean())\n",
    "\n",
    "    # Calculate the Sortino ratio\n",
    "    sortino_ratio = (avg_return - mar) / downside_deviation\n",
    "\n",
    "    return sortino_ratio, downside_returns\n",
    "\n",
    "# Calculate the Sortino ratio for the portfolio\n",
    "sortino, downside_returns = sortino_ratio(returns, weights)\n",
    "\n",
    "print(f\"Sortino Ratio: {sortino:.10f}\")\n",
    "print(\"Days with negative returns contributing to the downside deviation:\")\n",
    "downside_returns\n"
   ]
  },
  {
   "cell_type": "code",
   "execution_count": null,
   "id": "0c8b72a1",
   "metadata": {},
   "outputs": [],
   "source": [
    "fig = px.line(downside_returns)\n",
    "\n",
    "fig.update_layout(\n",
    "        title='Downside Returns Over Time',\n",
    "        xaxis_title='Date',\n",
    "        yaxis_title='downside_returns',\n",
    "        template='plotly_dark'\n",
    "    )\n",
    "\n",
    "fig.show()"
   ]
  },
  {
   "cell_type": "markdown",
   "id": "df6dab80",
   "metadata": {},
   "source": [
    "### **3. Optimal Weighting Through Minimization Search: Efficient Frontier**  \n",
    "**Scenario**: You have historical data for 5 stocks and want to construct an optimal portfolio along the efficient frontier.  \n",
    "\n",
    "**Task**: Write a Python script to:  \n",
    "1. Calculate the expected returns and covariance matrix of the stocks.  \n",
    "2. Use **minimization** techniques (e.g., `scipy.optimize`) to find the **optimal weights** that minimize portfolio volatility for a given target return.  \n",
    "3. Plot the efficient frontier, showing risk (volatility) vs. return.  \n"
   ]
  },
  {
   "cell_type": "code",
   "execution_count": null,
   "id": "2d7d0510",
   "metadata": {},
   "outputs": [],
   "source": [
    "from scipy.optimize import minimize\n",
    "import plotly.express as px\n",
    "\n",
    "daily_returns = returns.dropna()\n",
    "\n",
    "# Calculate mean returns and covariance matrix\n",
    "mean_returns = daily_returns.mean()\n",
    "cov_matrix = daily_returns.cov()\n",
    "\n",
    "# Function to calculate portfolio performance\n",
    "def portfolio_performance(weights, mean_returns, cov_matrix):\n",
    "    returns = np.dot(weights, mean_returns)  # Portfolio return\n",
    "    volatility = np.sqrt(np.dot(weights.T, np.dot(cov_matrix, weights)))  # Portfolio volatility\n",
    "    return returns, volatility\n",
    "\n",
    "# Function to minimize volatility for a given return\n",
    "def minimize_volatility(weights, mean_returns, cov_matrix, target_return):\n",
    "    p_return, p_volatility = portfolio_performance(weights, mean_returns, cov_matrix)\n",
    "    return abs(p_return - target_return)\n",
    "\n",
    "# Constraints and bounds\n",
    "num_assets = len(tickers)\n",
    "constraints = ({'type': 'eq', 'fun': lambda x: np.sum(x) - 1})  # Weights sum to 1\n",
    "bounds = tuple((0, 1) for _ in range(num_assets))  # Weights between 0 and 1\n",
    "\n",
    "# Efficient Frontier\n",
    "target_returns = np.linspace(mean_returns.min(), mean_returns.max(), 50)\n",
    "efficient_portfolios = []\n",
    "\n",
    "for target in target_returns:\n",
    "    result = minimize(minimize_volatility, \n",
    "                      num_assets * [1. / num_assets], \n",
    "                      args=(mean_returns, cov_matrix, target),\n",
    "                      method='SLSQP', \n",
    "                      bounds=bounds, \n",
    "                      constraints=constraints)\n",
    "    efficient_portfolios.append(result.fun)\n",
    "\n",
    "# Plot Efficient Frontier\n",
    "volatilities = [portfolio_performance(minimize(minimize_volatility, num_assets * [1. / num_assets], \n",
    "                                               args=(mean_returns, cov_matrix, r), method='SLSQP', \n",
    "                                               bounds=bounds, constraints=constraints).x, mean_returns, \n",
    "                                               cov_matrix)[1] for r in target_returns]\n",
    "\n",
    "fig = px.scatter(x=volatilities, y=target_returns, labels={'x': 'Volatility (Standard Deviation)', 'y': 'Expected Return'})\n",
    "\n",
    "fig.update_layout(\n",
    "    title='Efficient Frontier',\n",
    "    xaxis_title='Volatility (Standard Deviation)',\n",
    "    yaxis_title='Expected Return',\n",
    "    template='plotly_dark'\n",
    ")\n",
    "\n",
    "fig.show()\n"
   ]
  },
  {
   "cell_type": "markdown",
   "id": "37eaa40f",
   "metadata": {},
   "source": [
    "\n",
    "\n",
    "### **4. Volatility Analysis: Daily Return Performance Comparison**  \n",
    "**Scenario**: You are tasked with comparing the daily return performance and volatility of your portfolio against the S&P 500 index.  \n",
    "\n",
    "**Task**:  \n",
    "1. Calculate the **daily returns** for both the portfolio and S&P 500.  \n",
    "2. Compute and compare their respective **volatilities** (standard deviation of daily returns).  \n",
    "3. Visualize the daily returns of the portfolio and S&P 500 on a single plot, highlighting volatility differences.  \n",
    "\n"
   ]
  },
  {
   "cell_type": "code",
   "execution_count": null,
   "id": "17f846f0",
   "metadata": {},
   "outputs": [],
   "source": [
    "# S&P 500\n",
    "sp500 = yf.download(\"^GSPC\", start=startDate, end=finalDate)"
   ]
  },
  {
   "cell_type": "code",
   "execution_count": null,
   "id": "d10f9db8",
   "metadata": {},
   "outputs": [],
   "source": [
    "# Calculate daily returns for S&P 500\n",
    "sp500['Daily Return'] = sp500['Adj Close'].pct_change()\n",
    "\n",
    "# Calculate daily returns for the portfolio\n",
    "portfolio_returns = returns.mean(axis=1)\n",
    "\n",
    "# Compute volatilities\n",
    "portfolio_volatility = portfolio_returns.std()\n",
    "sp500_volatility = sp500['Daily Return'].std()\n",
    "\n",
    "print(f\"Portfolio Volatility: {portfolio_volatility:.10f}\")\n",
    "print(f\"S&P 500 Volatility: {sp500_volatility:.10f}\")\n",
    "\n",
    "fig = px.line()\n",
    "\n",
    "fig.add_scatter(x=portfolio_returns.index, y=portfolio_returns, mode='lines', name='Portfolio Daily Returns')\n",
    "fig.add_scatter(x=sp500.index, y=sp500['Daily Return'], mode='lines', name='S&P 500 Daily Returns')\n",
    "\n",
    "fig.update_layout(\n",
    "    title='Daily Returns: Portfolio vs S&P 500',\n",
    "    xaxis_title='Date',\n",
    "    yaxis_title='Daily Returns',\n",
    "    template='plotly_dark'\n",
    ")\n",
    "\n",
    "fig.show()"
   ]
  },
  {
   "cell_type": "markdown",
   "id": "272aa810",
   "metadata": {},
   "source": [
    "\n",
    "\n",
    "### **5. Capital Asset Pricing Model (CAPM)**  \n",
    "**Scenario**: You are tasked with analyzing an investment using the Capital Asset Pricing Model (CAPM). The following inputs are provided:  \n",
    "- Risk-free rate (\\(R_f\\)) = 1.5%  \n",
    "- Beta of the investment (\\(\\beta\\)) = 1.2  \n",
    "- Expected return of the market (\\(E[R_m]\\)) = 10%  \n",
    "\n",
    "**Task**:  \n",
    "1. Write a Python function to calculate the expected return of the investment (\\(E[R_i]\\)) using CAPM:  \n",
    "   \\[\n",
    "   E[R_i] = R_f + \\beta \\cdot (E[R_m] - R_f)\n",
    "   \\]\n",
    "2. Generate a visualization showing the CAPM line (Security Market Line, SML) with the investment plotted relative to the market and other hypothetical assets.  \n",
    "\n",
    "---\n"
   ]
  },
  {
   "cell_type": "code",
   "execution_count": null,
   "id": "48efe727",
   "metadata": {},
   "outputs": [],
   "source": [
    "def capm_expected_return(risk_free_rate, beta, market_return):\n",
    "    return risk_free_rate + beta * (market_return - risk_free_rate)\n",
    "\n",
    "risk_free_rate = 0.015\n",
    "beta = 1.2\n",
    "market_return = 0.1\n",
    "\n",
    "expected_return = capm_expected_return(risk_free_rate, beta, market_return)\n",
    "print(f\"Expected Return: {expected_return:.4f}\")\n",
    "\n",
    "betas = np.linspace(0, 2, 100)\n",
    "sml_returns = capm_expected_return(risk_free_rate, betas, market_return)\n",
    "\n",
    "fig = px.line(x=betas, y=sml_returns, labels={'x': 'Beta (β)', 'y': 'Expected Return (E[R])'})\n",
    "fig.add_scatter(x=[beta], y=[expected_return], mode='markers', marker=dict(color='red', size=10), name='Investment')\n",
    "\n",
    "fig.update_layout(template='plotly_dark',\n",
    "                   title='Capital Asset Pricing Model (CAPM)')\n",
    "\n",
    "fig.show()\n"
   ]
  },
  {
   "cell_type": "code",
   "execution_count": null,
   "id": "308593e8",
   "metadata": {},
   "outputs": [],
   "source": [
    "from scipy.stats import linregress"
   ]
  },
  {
   "cell_type": "code",
   "execution_count": null,
   "id": "e432e994",
   "metadata": {},
   "outputs": [],
   "source": [
    "beta_apple, alpha_apple, _, _, _ = linregress(sp500[\"Daily Return\"].dropna(), AAPL[\"Daily Return\"].dropna())\n",
    "beta_nvda, alpha_nvda, _, _, _ = linregress(sp500[\"Daily Return\"].dropna(), NVDA[\"Daily Return\"].dropna())\n",
    "beta_msft, alpha_msft, _, _, _ = linregress(sp500[\"Daily Return\"].dropna(), MSFT[\"Daily Return\"].dropna())\n",
    "beta_amzn, alpha_amzn, _, _, _ = linregress(sp500[\"Daily Return\"].dropna(), AMZN[\"Daily Return\"].dropna())\n",
    "beta_goog, alpha_goog, _, _, _ = linregress(sp500[\"Daily Return\"].dropna(), GOOG[\"Daily Return\"].dropna())\n",
    "beta_meta, alpha_meta, _, _, _ = linregress(sp500[\"Daily Return\"].dropna(), META[\"Daily Return\"].dropna())\n",
    "beta_tsla, alpha_tsla, _, _, _ = linregress(sp500[\"Daily Return\"].dropna(), TSLA[\"Daily Return\"].dropna())\n",
    "beta_sp500, alpha_sp500, _, _, _ = linregress(sp500[\"Daily Return\"].dropna(), sp500[\"Daily Return\"].dropna())\n",
    "\n",
    "betas_dict = {\n",
    "    'AAPL': beta_apple,\n",
    "    'NVDA': beta_nvda,\n",
    "    'MSFT': beta_msft,\n",
    "    'AMZN': beta_amzn,\n",
    "    'GOOG': beta_goog,\n",
    "    'META': beta_meta,\n",
    "    'TSLA': beta_tsla\n",
    "}\n",
    "\n",
    "alphas_dict = {\n",
    "    'AAPL': alpha_apple,\n",
    "    'NVDA': alpha_nvda,\n",
    "    'MSFT': alpha_msft,\n",
    "    'AMZN': alpha_amzn,\n",
    "    'GOOG': alpha_goog,\n",
    "    'META': alpha_meta,\n",
    "    'TSLA': alpha_tsla\n",
    "}"
   ]
  },
  {
   "cell_type": "code",
   "execution_count": null,
   "id": "d3b4063c",
   "metadata": {},
   "outputs": [],
   "source": [
    "print(f\"Beta of SP500: {beta_sp500}, Alpha: {alpha_sp500}\")"
   ]
  },
  {
   "cell_type": "code",
   "execution_count": null,
   "id": "0663ec6f",
   "metadata": {},
   "outputs": [],
   "source": [
    "for key, value in betas_dict.items():\n",
    "    print(f\"{key} Beta: {value:.10f}\")"
   ]
  },
  {
   "cell_type": "code",
   "execution_count": null,
   "id": "df7832f8",
   "metadata": {},
   "outputs": [],
   "source": [
    "for key, value in alphas_dict.items():\n",
    "    print(f\"{key} Alpha: {value:.10f}\")"
   ]
  },
  {
   "cell_type": "code",
   "execution_count": null,
   "id": "a74c7fb3",
   "metadata": {},
   "outputs": [],
   "source": [
    "betas_df = pd.DataFrame(list(betas_dict.items()), columns=['Ticker', 'Beta'])\n",
    "\n",
    "fig = px.bar(betas_df, x='Ticker', y='Beta', labels={'Ticker': 'Stock Ticker', 'Beta': 'Beta (β)'}, template='plotly_dark')\n",
    "\n",
    "fig.show()"
   ]
  },
  {
   "cell_type": "code",
   "execution_count": null,
   "id": "3bcafe93",
   "metadata": {},
   "outputs": [],
   "source": [
    "alphas_df = pd.DataFrame(list(alphas_dict.items()), columns=['Ticker', 'Alpha'])\n",
    "\n",
    "fig = px.bar(alphas_df, x='Ticker', y='Alpha', title='Alphas of Different Stocks', template='plotly_dark')\n",
    "\n",
    "fig.show()"
   ]
  },
  {
   "cell_type": "markdown",
   "id": "5fa7c41a",
   "metadata": {},
   "source": [
    "# Efficient Frontier\n",
    "target_returns = np.linspace(mean_returns.min(), mean_returns.max(), 50)\n",
    "efficient_portfolios = []\n",
    "\n",
    "for target in target_returns:\n",
    "    result = minimize(minimize_volatility, \n",
    "                      num_assets * [1. / num_assets], \n",
    "                      args=(mean_returns, cov_matrix, target),\n",
    "                      method='SLSQP', \n",
    "                      bounds=bounds, \n",
    "                      constraints=constraints)\n",
    "    efficient_portfolios.append(result.fun)\n",
    "\n",
    "# Plot Efficient Frontier\n",
    "plt.figure(figsize=(10, 7))\n",
    "plt.scatter([portfolio_performance(minimize_volatility(weights, mean_returns, cov_matrix, r).x, mean_returns, cov_matrix)[1] for r in target_returns],\n",
    "            target_returns, \n",
    "            c='blue', label='Efficient Frontier')\n",
    "plt.xlabel('Volatility (Standard Deviation)')\n",
    "plt.ylabel('Expected Return')\n",
    "plt.title('Efficient Frontier')\n",
    "plt.legend()\n",
    "plt.grid()\n",
    "plt.show()\n"
   ]
  },
  {
   "cell_type": "code",
   "execution_count": null,
   "id": "db10cb54",
   "metadata": {},
   "outputs": [],
   "source": [
    "target_returns = np.linspace(mean_returns.min(), mean_returns.max(), 240)\n",
    "efficient_portfolios = []\n",
    "\n",
    "for target in target_returns:\n",
    "    result = minimize(minimize_volatility, \n",
    "                      num_assets * [1. / num_assets], \n",
    "                      args=(mean_returns, cov_matrix, target),\n",
    "                      method='SLSQP', \n",
    "                      bounds=bounds, \n",
    "                      constraints=constraints)\n",
    "    efficient_portfolios.append(result.fun)\n",
    "\n",
    "volatilities = [portfolio_performance(minimize(minimize_volatility, num_assets * [1. / num_assets], \n",
    "                                               args=(mean_returns, cov_matrix, r), method='SLSQP', \n",
    "                                               bounds=bounds, constraints=constraints).x, mean_returns, \n",
    "                                               cov_matrix)[1] for r in target_returns]\n",
    "\n",
    "sharpe_ratios = [(r - risk_free_rate) / v for r, v in zip(target_returns, volatilities)]\n",
    "\n",
    "fig = px.scatter_3d(x=volatilities, y=target_returns, z=sharpe_ratios, labels={'x': 'Volatility (Standard Deviation)', 'y': 'Expected Return', 'z': 'Sharpe Ratio'})\n",
    "\n",
    "fig.update_layout(\n",
    "    title='Efficient Frontier',\n",
    "    scene=dict(\n",
    "        xaxis_title='Volatility (Standard Deviation)',\n",
    "        yaxis_title='Expected Return',\n",
    "        zaxis_title='Sharpe Ratio'\n",
    "    ),\n",
    "    template='plotly_dark'\n",
    ")\n",
    "\n",
    "fig.show()\n",
    "import plotly.graph_objects as go\n",
    "\n",
    "fig = go.Figure(data=go.Heatmap(\n",
    "                   z=sharpe_ratios,\n",
    "                   x=volatilities,\n",
    "                   y=target_returns,\n",
    "                   colorscale='Viridis'))\n",
    "\n",
    "fig.update_layout(\n",
    "    title='Efficient Frontier Heatmap',\n",
    "    xaxis_title='Volatility (Standard Deviation)',\n",
    "    yaxis_title='Expected Return',\n",
    "    template='plotly_dark'\n",
    ")\n",
    "\n",
    "fig.show()"
   ]
  },
  {
   "cell_type": "code",
   "execution_count": null,
   "id": "d4a39f7e",
   "metadata": {},
   "outputs": [],
   "source": [
    "# Define the stock tickers (example: 5 NASDAQ stocks)\n",
    "tickers = ['AAPL', 'NVDA', 'MSFT', 'AMZN', 'TSLA']\n",
    "\n",
    "# Fetch historical data (5 years of daily data)\n",
    "new_portfolio_list = [yf.download(ticker, start=startDate, end=finalDate) for ticker in tickers]\n",
    "\n",
    "# Calculate daily returns\n",
    "returns = pd.DataFrame()\n",
    "for ticker, stock in zip(tickers, new_portfolio_list):\n",
    "    returns[ticker + ' Return'] = stock['Adj Close'].pct_change()\n",
    "returns.columns.names = ['Returns']\n",
    "\n",
    "# Define weights\n",
    "weights = [0.3, 0.3, 0.2, 0.1, 0.1]\n",
    "\n",
    "# Normalize weights\n",
    "weights = np.array(weights) / np.sum(weights)\n",
    "\n",
    "# Calculate weighted mean returns and covariance matrix\n",
    "mean_returns = returns.mean()\n",
    "cov_matrix = returns.cov()\n",
    "\n",
    "# Risk-free rate (example: 2%)\n",
    "risk_free_rate = 0.02\n",
    "\n",
    "# Function to calculate portfolio performance\n",
    "def portfolio_performance(weights, mean_returns, cov_matrix):\n",
    "    returns = np.dot(weights, mean_returns)  \n",
    "    volatility = np.sqrt(np.dot(weights.T, np.dot(cov_matrix, weights)))  # Portfolio volatility\n",
    "    return returns, volatility\n",
    "\n",
    "# Function to calculate the Sharpe Ratio (objective to maximize)\n",
    "def neg_sharpe_ratio(weights, mean_returns, cov_matrix, risk_free_rate):\n",
    "    p_return, p_volatility = portfolio_performance(weights, mean_returns, cov_matrix)\n",
    "    return -(p_return - risk_free_rate) / p_volatility\n",
    "\n",
    "# Function to minimize volatility for a given return\n",
    "def minimize_volatility(weights, mean_returns, cov_matrix, target_return):\n",
    "    p_return, p_volatility = portfolio_performance(weights, mean_returns, cov_matrix)\n",
    "    return abs(p_return - target_return)\n",
    "\n",
    "# Constraints and bounds\n",
    "num_assets = len(tickers)\n",
    "constraints = ({'type': 'eq', 'fun': lambda x: np.sum(x) - 1})  # Weights sum to 1\n",
    "bounds = tuple((0, 1) for _ in range(num_assets))  # Weights between 0 and 1\n",
    "\n",
    "# Efficient Frontier\n",
    "target_returns = np.linspace(mean_returns.min(), mean_returns.max(), 50)\n",
    "efficient_portfolios = []\n",
    "\n",
    "for target in target_returns:\n",
    "    result = minimize(minimize_volatility, \n",
    "                      num_assets * [1. / num_assets], \n",
    "                      args=(mean_returns, cov_matrix, target),\n",
    "                      method='SLSQP', \n",
    "                      bounds=bounds, \n",
    "                      constraints=constraints)\n",
    "    efficient_portfolios.append(result.fun)\n",
    "\n",
    "# Plot Efficient Frontier using Plotly\n",
    "volatilities = [portfolio_performance(minimize(minimize_volatility, num_assets * [1. / num_assets], \n",
    "                                                args=(mean_returns, cov_matrix, r), method='SLSQP', \n",
    "                                                bounds=bounds, constraints=constraints).x, mean_returns, \n",
    "                                                cov_matrix)[1] for r in target_returns]\n",
    "\n",
    "fig = px.scatter(x=volatilities, y=target_returns, color=sharpe_ratios, \n",
    "                 labels={'x': 'Volatility (Standard Deviation)', 'y': 'Expected Return', 'color': 'Sharpe Ratio'},\n",
    "                 title='Efficient Frontier 2D Scatter Plot with Sharpe Ratio')\n",
    "\n",
    "fig.update_layout(template='plotly_dark')\n",
    "\n",
    "fig.show()\n"
   ]
  },
  {
   "cell_type": "markdown",
   "id": "3097dbc0",
   "metadata": {},
   "source": [
    "# EXPLAIN THE RESULTS PROVIDED FROM EFFICIENT FRONTIER PLOT "
   ]
  },
  {
   "cell_type": "markdown",
   "id": "3fb71d6d",
   "metadata": {
    "vscode": {
     "languageId": "markdown"
    }
   },
   "source": [
    "\n",
    "## Axes:\n",
    "\n",
    "##### The x-axis represents Volatility (Standard Deviation), which measures the risk or variability in returns.\n",
    "##### The y-axis represents the Expected Return, indicating the potential return of a portfolio.\n",
    "\n",
    "## Efficient Frontier:\n",
    "\n",
    "##### The curve itself is the Efficient Frontier, which shows the set of portfolios that provide the maximum expected return for a given level of risk or, equivalently, the minimum risk for a given expected return.\n",
    "##### Points below the curve represent portfolios that are inefficient, as they offer lower returns for a similar or higher level of risk.\n",
    "##### Insights from the Curve:\n",
    "\n",
    "##### The leftmost point on the curve is often associated with the Minimum Variance Portfolio, which minimizes risk.\n",
    "##### As you move to the right along the curve, the portfolios take on higher risk to achieve higher returns.\n",
    "##### Investors select a portfolio along this curve based on their risk tolerance and return expectations.\n",
    "##### Risk-averse investors might prefer points on the lower-left section of the curve, where risk (volatility) is minimized, even if it means accepting lower returns.\n",
    "##### Risk-tolerant investors might choose points on the upper-right section, where returns are higher at the expense of increased volatility.\n",
    "##### The expected returns are quite low overall, ranging from around 0.1% to 0.24% Daily"
   ]
  },
  {
   "cell_type": "code",
   "execution_count": null,
   "id": "ffef9435",
   "metadata": {},
   "outputs": [],
   "source": []
  }
 ],
 "metadata": {
  "kernelspec": {
   "display_name": "Python 3 (ipykernel)",
   "language": "python",
   "name": "python3"
  },
  "language_info": {
   "codemirror_mode": {
    "name": "ipython",
    "version": 3
   },
   "file_extension": ".py",
   "mimetype": "text/x-python",
   "name": "python",
   "nbconvert_exporter": "python",
   "pygments_lexer": "ipython3",
   "version": "3.11.7"
  }
 },
 "nbformat": 4,
 "nbformat_minor": 5
}
